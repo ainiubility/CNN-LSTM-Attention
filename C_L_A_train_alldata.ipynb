{
  "cells": [
    {
      "cell_type": "code",
      "execution_count": 1,
      "metadata": {
        "id": "ee2f9bed4b6c"
      },
      "outputs": [],
      "source": [
        "#借助 Intel(R) Extension for Scikit-learn，您可以加速您的 Scikit-learn 应用程序，并且仍然完全符合所有 Scikit-Learn API 和算法。这是一款免费软件 AI 加速器，可为各种应用带来超过10-100 倍的加速。而且您甚至不需要更改现有代码！\n",
        "# !python -m pip install pandas matplotlib scikit-learn-intelex scikit-learn openpyxl tensorboard seaborn ipykernel ipywidgets keras plotly plotly_express\n",
        "# !python -m pip install  tensorflow==2.15.*\n",
        "# !python -m pip install  tensorflow[and-cuda]==2.15.*\n",
        "#\n"
      ]
    },
    {
      "cell_type": "code",
      "execution_count": 2,
      "metadata": {
        "id": "eb5fa4ce7567"
      },
      "outputs": [
        {
          "name": "stderr",
          "output_type": "stream",
          "text": [
            "2024-04-16 00:45:41.082825: I tensorflow/core/util/port.cc:113] oneDNN custom operations are on. You may see slightly different numerical results due to floating-point round-off errors from different computation orders. To turn them off, set the environment variable `TF_ENABLE_ONEDNN_OPTS=0`.\n",
            "2024-04-16 00:45:41.101881: E external/local_xla/xla/stream_executor/cuda/cuda_dnn.cc:9261] Unable to register cuDNN factory: Attempting to register factory for plugin cuDNN when one has already been registered\n",
            "2024-04-16 00:45:41.101968: E external/local_xla/xla/stream_executor/cuda/cuda_fft.cc:607] Unable to register cuFFT factory: Attempting to register factory for plugin cuFFT when one has already been registered\n",
            "2024-04-16 00:45:41.102541: E external/local_xla/xla/stream_executor/cuda/cuda_blas.cc:1515] Unable to register cuBLAS factory: Attempting to register factory for plugin cuBLAS when one has already been registered\n",
            "2024-04-16 00:45:41.105845: I tensorflow/core/platform/cpu_feature_guard.cc:182] This TensorFlow binary is optimized to use available CPU instructions in performance-critical operations.\n",
            "To enable the following instructions: AVX2 AVX_VNNI FMA, in other operations, rebuild TensorFlow with the appropriate compiler flags.\n",
            "2024-04-16 00:45:41.681104: W tensorflow/compiler/tf2tensorrt/utils/py_utils.cc:38] TF-TRT Warning: Could not find TensorRT\n",
            "Intel(R) Extension for Scikit-learn* enabled (https://github.com/intel/scikit-learn-intelex)\n"
          ]
        }
      ],
      "source": [
        "# 本导入顺序可以看到类型\n",
        "import tensorflow as tf\n",
        "import keras\n",
        "# import tensorflow_datasets as tfds\n",
        "import datetime\n",
        "import os\n",
        "import pandas as pd\n",
        "import numpy as np\n",
        "from sklearnex import patch_sklearn\n",
        "from sklearn import preprocessing as skl\n",
        "from sklearn.model_selection import train_test_split\n",
        "\n",
        "# from tensorflow import keras\n",
        "\n",
        "from keras import layers\n",
        "from keras import models\n",
        "\n",
        "\n",
        "\n",
        "patch_sklearn()\n",
        "# from attention_utils import get_activations\n",
        "\n",
        "#更好地兼容 Python 3 的行为和特性，使得代码可以在 Python 2 和 Python 3 下运行得更加一致\n",
        "# from __future__ import absolute_import,division,print_function,unicode_literals\n",
        "from matplotlib import pyplot as plt\n",
        "from matplotlib import ticker as mt\n",
        "# 或者直接指定字体文件路径\n",
        "plt.rcParams['font.sans-serif'] = ['SimHei', 'DejaVu Sans Mono']  # 系统自带的黑体\n",
        "plt.rcParams['font.serif'] = ['SimHei']  # 系统自带的宋体\n",
        "plt.rcParams['font.family'] = [\n",
        "    'SimHei',\n",
        "    'DejaVu Sans Mono',  # 显示负号的字体\n",
        "    # 'Liberation Mono',\n",
        "    'Consolas',\n",
        "    'Courier New',\n",
        "    'monospace',\n",
        "    'sans-serif',\n",
        "    'serif',\n",
        "    'sans',\n",
        "    'serif',\n",
        "    'sans-serif',\n",
        "    'sans',\n",
        "    'serif',\n",
        "    'sans-serif',\n",
        "    'sans',\n",
        "    'serif',\n",
        "    'sans-serif',\n",
        "    'sans',\n",
        "    'serif',\n",
        "    'sans-serif',\n",
        "    'sans',\n",
        "    'serif',\n",
        "    'sans-serif',\n",
        "    'sans',\n",
        "    'serif',\n",
        "]\n",
        "plt.rcParams['axes.unicode_minus'] = False  # 设置matplotlib显示正常的负号而非减号样式"
      ]
    },
    {
      "cell_type": "code",
      "execution_count": 3,
      "metadata": {
        "id": "4644b11cec9d"
      },
      "outputs": [
        {
          "name": "stderr",
          "output_type": "stream",
          "text": [
            "2024-04-16 00:45:43.200527: I external/local_xla/xla/stream_executor/cuda/cuda_executor.cc:887] could not open file to read NUMA node: /sys/bus/pci/devices/0000:01:00.0/numa_node\n",
            "Your kernel may have been built without NUMA support.\n",
            "2024-04-16 00:45:43.219939: I external/local_xla/xla/stream_executor/cuda/cuda_executor.cc:887] could not open file to read NUMA node: /sys/bus/pci/devices/0000:01:00.0/numa_node\n",
            "Your kernel may have been built without NUMA support.\n",
            "2024-04-16 00:45:43.219976: I external/local_xla/xla/stream_executor/cuda/cuda_executor.cc:887] could not open file to read NUMA node: /sys/bus/pci/devices/0000:01:00.0/numa_node\n",
            "Your kernel may have been built without NUMA support.\n"
          ]
        },
        {
          "name": "stdout",
          "output_type": "stream",
          "text": [
            " \n",
            "2024-04-16 00:45:43.086062 tensorflow版本: 2.15.1\n",
            " \n",
            "gpus： \n",
            "[PhysicalDevice(name='/physical_device:GPU:0', device_type='GPU')]\n",
            " \n",
            "gpus\n",
            "Available GPU devices: [PhysicalDevice(name='/physical_device:GPU:0', device_type='GPU')]\n"
          ]
        }
      ],
      "source": [
        "print(' ')\n",
        "print(f'{datetime.datetime.now()} tensorflow版本:', tf.__version__)\n",
        "gpus = tf.config.experimental.list_physical_devices(\"GPU\")\n",
        "print(' ')\n",
        "print('gpus： ')\n",
        "print(gpus)\n",
        "print(' ')\n",
        "print('gpus')\n",
        "# 查看系统中可见的GPU设备\n",
        "print(\"Available GPU devices:\", tf.config.list_physical_devices(\"GPU\"))\n"
      ]
    },
    {
      "cell_type": "code",
      "execution_count": 4,
      "metadata": {},
      "outputs": [
        {
          "name": "stdout",
          "output_type": "stream",
          "text": [
            "data_17\n",
            "data_21\n",
            "data_22\n",
            "data_23\n",
            "data_24\n"
          ]
        }
      ],
      "source": [
        "# # 读取数据\n",
        "\n",
        "from load_data import load_fixed_data, categories\n",
        "\n",
        "R_CREATE = False\n",
        "R_CREATE = True\n",
        "\n",
        "\n",
        "def create_dynamic_globals(dyn_name, value, global_vars, read_cache: bool = True):\n",
        "    \"\"\"\n",
        "    :param dyn_name: 动态变量名\n",
        "    :param value: 动态变量值\n",
        "    :param global_vars: 全局变量字典\n",
        "    :return:\n",
        "    \"\"\"\n",
        "    # print(dyn_name, global_vars[dyn_name])\n",
        "    if read_cache and (R_CREATE or dyn_name not in global_vars or global_vars[dyn_name] == None):\n",
        "        # 如果确实需要在全局作用域创建真正的全局变量，可以使用exec，但这不是推荐做法\n",
        "        if callable(value):\n",
        "\n",
        "            v = value(dyn_name)\n",
        "            s = f'global {dyn_name}; {dyn_name} = v'\n",
        "            # print(s)\n",
        "            exec(s)\n",
        "        else:\n",
        "            exec(f'global {dyn_name}; {dyn_name} = {value}')\n",
        "\n",
        "    return globals()[dyn_name]\n",
        "\n",
        "\n",
        "def create_global_vars(global_vars, varprefix: str = 'data_', read_cache: bool = True):\n",
        "\n",
        "    for gvar in global_vars:\n",
        "        #\n",
        "        if gvar.startswith('_'):\n",
        "            continue\n",
        "        if gvar.startswith(varprefix):\n",
        "            print(gvar, )\n",
        "            create_dynamic_globals(gvar, lambda f: load_fixed_data(f'./data/{f}.xlsx'), global_vars)\n",
        "\n",
        "\n",
        "data_17 = pd.DataFrame()\n",
        "data_21 = data_17\n",
        "data_22 = data_17\n",
        "data_23 = data_17\n",
        "data_24 = data_17\n",
        "\n",
        "create_global_vars(globals(), varprefix='data_')\n",
        "\n",
        "# data_17.dtypes"
      ]
    },
    {
      "cell_type": "code",
      "execution_count": 5,
      "metadata": {},
      "outputs": [],
      "source": [
        "from libs.config import *"
      ]
    },
    {
      "cell_type": "code",
      "execution_count": 6,
      "metadata": {
        "id": "1d4da807abc1",
        "notebookRunGroups": {
          "groupValue": "1"
        }
      },
      "outputs": [
        {
          "name": "stdout",
          "output_type": "stream",
          "text": [
            "(107420, 25) Index(['原始重量', '稳定重量', '轴重', 'su_ad', 'wpu_x', 'wpu_y', 'wpu_z', 'su_x',\n",
            "       'su_y', 'su_z', '原始重量_diff', '稳定重量_diff', '轴重_diff', 'su_ad_diff',\n",
            "       'wpu_x_diff', 'wpu_y_diff', 'wpu_z_diff', 'su_x_diff', 'su_y_diff',\n",
            "       'su_z_diff', '速度', '估计重量', 'label', '时间', '轨迹时间'],\n",
            "      dtype='object') 原始重量                   int64\n",
            "稳定重量                   int64\n",
            "轴重                     int64\n",
            "su_ad                  int64\n",
            "wpu_x                  int64\n",
            "wpu_y                  int64\n",
            "wpu_z                  int64\n",
            "su_x                   int64\n",
            "su_y                   int64\n",
            "su_z                   int64\n",
            "原始重量_diff              int64\n",
            "稳定重量_diff              int64\n",
            "轴重_diff                int64\n",
            "su_ad_diff             int64\n",
            "wpu_x_diff             int64\n",
            "wpu_y_diff             int64\n",
            "wpu_z_diff             int64\n",
            "su_x_diff              int64\n",
            "su_y_diff              int64\n",
            "su_z_diff              int64\n",
            "速度                   float64\n",
            "估计重量                 float64\n",
            "label                  int64\n",
            "时间            datetime64[ns]\n",
            "轨迹时间                  object\n",
            "dtype: object\n"
          ]
        }
      ],
      "source": [
        "#组合数据集\n",
        "from load_data import categories\n",
        "\n",
        "numeric_col_names = [\n",
        "    '原始重量', '稳定重量', '轴重', 'su_ad', 'wpu_x', 'wpu_y', 'wpu_z', 'su_x', 'su_y', 'su_z', '原始重量_diff', '稳定重量_diff', '轴重_diff', 'su_ad_diff', 'wpu_x_diff', 'wpu_y_diff', 'wpu_z_diff', 'su_x_diff', 'su_y_diff', 'su_z_diff', '速度', '估计重量'\n",
        "]\n",
        "# delete some\n",
        "# ['Unnamed: 0' ,\n",
        "# 'label'      , '时间'         , '轨迹时间'       , '速度',, '估计重量'\n",
        "# '原始重量'       , '稳定重量'       , '轴重'         , 'su_ad',\n",
        "# '原始重量_diff'  , '稳定重量_diff'  , '轴重_diff'    , 'su_ad_diff',\n",
        "# 'wpu_x'      , 'wpu_y'      , 'wpu_z'      ,\n",
        "# 'wpu_x_diff' , 'wpu_y_diff' , 'wpu_z_diff',\n",
        "# 'su_x'       , 'su_y'       , 'su_z'       ,\n",
        "# 'su_x_diff'  , 'su_y_diff'  , 'su_z_diff'\n",
        "# ]\n",
        "label_col_names = [\"label\"]\n",
        "time_col_names = [\"时间\", \"轨迹时间\"]\n",
        "feature_col_names = numeric_col_names  # 暂时去掉 时间\n",
        "feature_col_num = len(feature_col_names)\n",
        "\n",
        "class_num = len(categories)\n",
        "\n",
        "\n",
        "all_col_names = numeric_col_names + label_col_names + time_col_names\n",
        "df17, df21, df22, df23, df24 = data_17[all_col_names], data_21[all_col_names], data_22[all_col_names], data_23[all_col_names], data_24[all_col_names]\n",
        "origindata = pd.concat([df17, df21, df22, df23, df24], axis=0, ignore_index=True)\n",
        "\n",
        "# print(origindata.columns)\n",
        "\n",
        "print(origindata.shape, origindata.columns, origindata.dtypes)"
      ]
    },
    {
      "cell_type": "code",
      "execution_count": 7,
      "metadata": {},
      "outputs": [
        {
          "name": "stdout",
          "output_type": "stream",
          "text": [
            "(107420, 25) (107420, 25)\n"
          ]
        }
      ],
      "source": [
        "# check 数据集有缺失值\n",
        "shapea= origindata.shape\n",
        "df = origindata.dropna()\n",
        "shapeb =df.shape\n",
        "print(shapea, shapeb)\n",
        "if shapea != shapeb:\n",
        "    print(shapea,shapeb)\n",
        "    ValueError(\"数据集有缺失值\")\n",
        "\n",
        "# missing_values"
      ]
    },
    {
      "cell_type": "code",
      "execution_count": 8,
      "metadata": {},
      "outputs": [
        {
          "name": "stdout",
          "output_type": "stream",
          "text": [
            "时间\n",
            "2023-12-17 09:39:23               NaT\n",
            "2023-12-17 09:39:26   0 days 00:00:03\n",
            "2023-12-17 09:39:30   0 days 00:00:04\n",
            "2023-12-17 09:39:32   0 days 00:00:02\n",
            "2023-12-17 09:39:35   0 days 00:00:03\n",
            "                            ...      \n",
            "2023-12-24 08:27:37   0 days 00:00:03\n",
            "2023-12-24 08:27:40   0 days 00:00:03\n",
            "2023-12-24 08:27:43   0 days 00:00:03\n",
            "2023-12-24 08:27:46   0 days 00:00:03\n",
            "2023-12-24 08:27:49   0 days 00:00:03\n",
            "Name: timespan, Length: 107420, dtype: timedelta64[ns]\n",
            "DatetimeIndex(['2023-12-17 09:40:23', '2023-12-17 09:41:38',\n",
            "               '2023-12-17 09:44:20', '2023-12-17 09:55:29',\n",
            "               '2023-12-17 10:34:53', '2023-12-17 10:36:20',\n",
            "               '2023-12-17 10:40:27', '2023-12-17 10:47:24',\n",
            "               '2023-12-17 10:53:02', '2023-12-17 10:53:24',\n",
            "               ...\n",
            "               '2023-12-23 17:13:36', '2023-12-23 17:14:55',\n",
            "               '2023-12-23 17:16:18', '2023-12-23 17:17:34',\n",
            "               '2023-12-23 17:18:42', '2023-12-23 17:20:13',\n",
            "               '2023-12-23 23:07:09', '2023-12-24 08:05:07',\n",
            "               '2023-12-24 08:06:28', '2023-12-24 08:24:16'],\n",
            "              dtype='datetime64[ns]', name='时间', length=642, freq=None)\n",
            "间隔超过3秒的开始时间点： DatetimeIndex(['2023-12-17 09:40:23', '2023-12-17 09:41:38',\n",
            "               '2023-12-17 09:44:20', '2023-12-17 09:55:29',\n",
            "               '2023-12-17 10:34:53', '2023-12-17 10:36:20',\n",
            "               '2023-12-17 10:40:27', '2023-12-17 10:47:24',\n",
            "               '2023-12-17 10:53:02', '2023-12-17 10:53:24',\n",
            "               ...\n",
            "               '2023-12-23 17:12:18', '2023-12-23 17:13:36',\n",
            "               '2023-12-23 17:14:55', '2023-12-23 17:16:18',\n",
            "               '2023-12-23 17:17:34', '2023-12-23 17:18:42',\n",
            "               '2023-12-23 17:20:13', '2023-12-23 23:07:09',\n",
            "               '2023-12-24 08:05:07', '2023-12-24 08:06:28'],\n",
            "              dtype='datetime64[ns]', name='时间', length=641, freq=None)\n"
          ]
        },
        {
          "data": {
            "text/plain": [
              "时间\n",
              "2023-12-17 09:39:23               NaT\n",
              "2023-12-17 09:39:26   0 days 00:00:03\n",
              "2023-12-17 09:39:30   0 days 00:00:04\n",
              "2023-12-17 09:39:32   0 days 00:00:02\n",
              "2023-12-17 09:39:35   0 days 00:00:03\n",
              "                            ...      \n",
              "2023-12-24 08:27:37   0 days 00:00:03\n",
              "2023-12-24 08:27:40   0 days 00:00:03\n",
              "2023-12-24 08:27:43   0 days 00:00:03\n",
              "2023-12-24 08:27:46   0 days 00:00:03\n",
              "2023-12-24 08:27:49   0 days 00:00:03\n",
              "Name: timespan, Length: 107420, dtype: timedelta64[ns]"
            ]
          },
          "execution_count": 8,
          "metadata": {},
          "output_type": "execute_result"
        }
      ],
      "source": [
        "import pandas as pd\n",
        "\n",
        "# 假设df是一个时间序列DataFrame，其中索引是时间戳\n",
        "if not '时间' in df.index.names or not isinstance(df.index, pd.DatetimeIndex):\n",
        "    df.sort_values('时间', axis=0, ascending=True)\n",
        "    df.set_index('时间', inplace=True)  # 如果还没有将时间戳设为索引\n",
        "    df = df.sort_index(axis=0, ascending=True)\n",
        "# df.interpolate(method='linear', inplace=True)\n",
        "# 确保索引已经是datetime类型\n",
        "# df.index = pd.to_datetime(df.index)\n",
        "\n",
        "# 计算相邻时间点之间的差值\n",
        "time_diffs = df.index.to_series(name='timespan').diff()\n",
        "print(time_diffs)\n",
        "# 找出那些间隔超过3秒的索引\n",
        "large_gaps = time_diffs[time_diffs > pd.Timedelta(seconds=6)].index\n",
        "print(large_gaps)\n",
        "# 若要查看每段连续的间隔超过3秒的区间\n",
        "gaps_df = pd.DataFrame({'start': large_gaps[:-1], 'end': large_gaps[1:]})\n",
        "# 若只需要每个间隔的开始时间\n",
        "gap_starts = large_gaps[:-1]\n",
        "\n",
        "print(\"间隔超过3秒的开始时间点：\", gap_starts)\n",
        "time_diffs"
      ]
    },
    {
      "cell_type": "code",
      "execution_count": 9,
      "metadata": {},
      "outputs": [
        {
          "name": "stdout",
          "output_type": "stream",
          "text": [
            "------ 8295.0\n",
            "------ 0.0\n",
            "------ 8295.0\n",
            "------ 745.0\n",
            "------ 1635.0\n",
            "------ 814.25\n",
            "------ 1674.0\n",
            "------ 1148.0\n",
            "------ 796.0\n",
            "------ 1006.0\n",
            "------ 312.0\n",
            "------ 0.0\n",
            "------ 312.0\n",
            "------ 28.0\n",
            "------ 23.0\n",
            "------ 26.0\n",
            "------ 23.0\n",
            "------ 10.0\n",
            "------ 10.0\n",
            "------ 10.0\n",
            "------ 0.0\n",
            "------ 0.0\n"
          ]
        }
      ],
      "source": [
        "from turtle import up\n",
        "import scipy\n",
        "from scipy.stats import iqr\n",
        "\n",
        "p = 1.5\n",
        "\n",
        "\n",
        "def replace_iqr_outliers(df: pd.DataFrame, colums: list[str]):\n",
        "    q = 0.25\n",
        "    _df = df.copy()\n",
        "    for column in colums:\n",
        "        _df[column] = _df[column].astype(float)\n",
        "        q1 = _df[column].quantile(q)  #.quantile(0.25)\n",
        "        q3 = _df[column].quantile(1 - q)  #.quantile(0.75)\n",
        "        iqr_value = iqr(_df[column], rng=(q * 100, (1 - q) * 100))\n",
        "        print('------', iqr_value)\n",
        "\n",
        "        lower_bound = q1 - p * iqr_value\n",
        "        upper_bound = q3 + p * iqr_value\n",
        "        _df.loc[_df[column] < lower_bound, column] = lower_bound\n",
        "        _df.loc[_df[column] > upper_bound, column] = upper_bound\n",
        "\n",
        "    return _df\n",
        "\n",
        "\n",
        "df_iqr = replace_iqr_outliers(origindata, numeric_col_names)\n",
        "\n",
        "# df_iqr\n"
      ]
    },
    {
      "cell_type": "code",
      "execution_count": 10,
      "metadata": {
        "id": "af1ac0413f37"
      },
      "outputs": [],
      "source": [
        "from libs.expandrows import dataframe_filter\n",
        "\n",
        "df_filter_important = df_iqr  #全部数据\n",
        "\n",
        "# df_filter_important = dataframe_filter(df_iqr, 30)  # 过滤为0的数据\n",
        "\n",
        "# df_filter_important"
      ]
    },
    {
      "cell_type": "code",
      "execution_count": 11,
      "metadata": {
        "id": "7842983d4a4f"
      },
      "outputs": [],
      "source": [
        "# 使用Savitzky-Golay 滤波器后得到平滑图线\n",
        "from numpy import ndarray\n",
        "from scipy import signal as sg\n",
        "\n",
        "# df_expanded = df_expanded  #.dropna()\n",
        "for col in df_filter_important[numeric_col_names].columns:\n",
        "    a = 1\n",
        "    # df_selected.insert(0,co)\n",
        "    # df_selected[col] = sg.savgol_filter(df_selected[col].astype(float), window_length=21, delta=0.5, polyorder=1, mode='constant')\n",
        "    # df_selected[col] = np.convolve(df_selected[col].astype(float), np.ones((5, )), mode='same')\n",
        "    # df_selected[col] = abs(df_selected[col].astype(float))\n",
        "    # df_selected[col] = np.convolve(df_selected[col].astype(float), np.ones((5, )), mode='same')\n",
        "\n",
        "# df_selected.sort_index(axis=1)\n",
        "\n",
        "# df_selected = df_selected.apply(lambda x: savgol_filter(x, 5, 3, mode= 'nearest'))\n",
        "#[feature_col_names + label_col_names]\n",
        "\n",
        "df_smooth = df_filter_important[feature_col_names + label_col_names + time_col_names]\n"
      ]
    },
    {
      "cell_type": "code",
      "execution_count": 12,
      "metadata": {},
      "outputs": [],
      "source": [
        "# !python -m pip install plotly plotly_express chart-studio cufflinks pyarrow\n",
        "import plotly_express as px  # import plotly.express as px\n",
        "import plotly.graph_objects as go\n",
        "import chart_studio.plotly as py\n",
        "from plotly.subplots import make_subplots\n",
        "# Cufflinks wrapper on plotly\n",
        "import cufflinks as cf\n",
        "\n",
        "\n",
        "# print(df['时间'].shape, df[feature_col_names].shape)\n",
        "# fig = px.line(df, x='时间', y=feature_col_names + label_col_names,range_x=['2023-12-24 00:00:00', '2023-12-24 09:00:00'])\n",
        "# fig.show()"
      ]
    },
    {
      "cell_type": "code",
      "execution_count": 13,
      "metadata": {
        "notebookRunGroups": {
          "groupValue": "2"
        }
      },
      "outputs": [],
      "source": [
        "# 假设你有多个列需要比较\n",
        "columns_to_plot = feature_col_names + label_col_names\n",
        "# df_smooth.reset_index()\n",
        "df_to_plot = df_smooth[columns_to_plot]\n",
        "# dfview.reset_index(drop=True, inplace=True)\n",
        "# df_to_plot"
      ]
    },
    {
      "cell_type": "code",
      "execution_count": 14,
      "metadata": {
        "id": "51a1b3bf8319"
      },
      "outputs": [],
      "source": [
        "# 归一化函数\n",
        "def normalize(inpudf: pd.DataFrame, numeric_col_names: list[str]) -> np.ndarray:\n",
        "    # 使用 StandardScaler 或者 MinMaxScaler 进行标准化处理。\n",
        "    # 创建标准化器对象\n",
        "    scaler = skl.MinMaxScaler()\n",
        "    return scaler.fit_transform(inpudf)\n",
        "    # for col in numeric_col_names :\n",
        "    #     result[col]=scaler.fit_transform(np.asarray(inpudf[col] ))\n",
        "\n",
        "\n",
        "# def normalizeY(y: pd.DataFrame):\n",
        "#     \"\"\"对df中的数值列进行反标准化处理\"\"\"\n",
        "#     # 定义一个字典，将标签映射到整数值\n",
        "#     custom_label_dict = {    '-': 0, '卸': 1, '装': 2, }\n",
        "#     le = OneHotEncoder(categories='auto', sparse=False)\n",
        "#     print('mapping ---->',custom_label_dict)\n",
        "#     # 现在我们可以将ydata转换为数值\n",
        "#     ydata_numeric = y.apply(lambda x: custom_label_dict[x['label']],axis=1)\n",
        "#     return ydata_numeric\n",
        "def normalizeY(y: pd.DataFrame):\n",
        "    \"\"\"对df中的数值列进行反标准化处理\"\"\"\n",
        "    # 定义一个字典，将标签映射到整数值\n",
        "    ydata = np.asarray(y[label_col_names])\n",
        "    le = skl.OneHotEncoder()\n",
        "    le.fit(ydata)\n",
        "\n",
        "    return le.transform(ydata), le\n"
      ]
    },
    {
      "cell_type": "code",
      "execution_count": 15,
      "metadata": {},
      "outputs": [],
      "source": [
        "# 准备数据\n",
        "\n",
        "\n",
        "def windowed_dataset(dataset: tf.data.Dataset, window_size=5, shift=1, stride=1):\n",
        "    windows = dataset.window(window_size, shift=shift, stride=stride, drop_remainder=True)\n",
        "\n",
        "    def sub_to_batch(t1, t2=None):\n",
        "        t1_batches = t1.batch(window_size, drop_remainder=True)\n",
        "\n",
        "        if t2 is not None:\n",
        "            t2_batches = t2.batch(window_size, drop_remainder=True)\n",
        "            return tf.data.Dataset.zip(t1_batches, t2_batches)\n",
        "        else:\n",
        "            return t1_batches\n",
        "\n",
        "    windows = windows.flat_map(sub_to_batch)\n",
        "    return windows\n"
      ]
    },
    {
      "cell_type": "code",
      "execution_count": 16,
      "metadata": {},
      "outputs": [
        {
          "name": "stderr",
          "output_type": "stream",
          "text": [
            "2024-04-16 00:45:43.902494: I external/local_xla/xla/stream_executor/cuda/cuda_executor.cc:887] could not open file to read NUMA node: /sys/bus/pci/devices/0000:01:00.0/numa_node\n",
            "Your kernel may have been built without NUMA support.\n",
            "2024-04-16 00:45:43.902546: I external/local_xla/xla/stream_executor/cuda/cuda_executor.cc:887] could not open file to read NUMA node: /sys/bus/pci/devices/0000:01:00.0/numa_node\n",
            "Your kernel may have been built without NUMA support.\n",
            "2024-04-16 00:45:43.902564: I external/local_xla/xla/stream_executor/cuda/cuda_executor.cc:887] could not open file to read NUMA node: /sys/bus/pci/devices/0000:01:00.0/numa_node\n",
            "Your kernel may have been built without NUMA support.\n",
            "2024-04-16 00:45:44.003906: I external/local_xla/xla/stream_executor/cuda/cuda_executor.cc:887] could not open file to read NUMA node: /sys/bus/pci/devices/0000:01:00.0/numa_node\n",
            "Your kernel may have been built without NUMA support.\n",
            "2024-04-16 00:45:44.003949: I external/local_xla/xla/stream_executor/cuda/cuda_executor.cc:887] could not open file to read NUMA node: /sys/bus/pci/devices/0000:01:00.0/numa_node\n",
            "Your kernel may have been built without NUMA support.\n",
            "2024-04-16 00:45:44.003953: I tensorflow/core/common_runtime/gpu/gpu_device.cc:2022] Could not identify NUMA node of platform GPU id 0, defaulting to 0.  Your kernel may not have been built with NUMA support.\n",
            "2024-04-16 00:45:44.003975: I external/local_xla/xla/stream_executor/cuda/cuda_executor.cc:887] could not open file to read NUMA node: /sys/bus/pci/devices/0000:01:00.0/numa_node\n",
            "Your kernel may have been built without NUMA support.\n",
            "2024-04-16 00:45:44.003986: I tensorflow/core/common_runtime/gpu/gpu_device.cc:1929] Created device /job:localhost/replica:0/task:0/device:GPU:0 with 9502 MB memory:  -> device: 0, name: NVIDIA GeForce RTX 4070 Ti, pci bus id: 0000:01:00.0, compute capability: 8.9\n"
          ]
        }
      ],
      "source": [
        "from libs.class_weight import generate_class_weights\n",
        "\n",
        "\n",
        "def one_hot_encoding(label):\n",
        "    return tf.squeeze(tf.one_hot(label, depth=class_num))\n",
        "    # print(label)\n",
        "    # return label * 100\n",
        "\n",
        "\n",
        "y = tf.data.Dataset.from_tensor_slices(df_filter_important[label_col_names].astype(int)).map(one_hot_encoding)\n",
        "\n",
        "# test_weight = generate_class_weights(list(y), multi_class=True, one_hot_encoded=True)\n",
        "\n",
        "test_weight = {0: 0.3434428692922046, 1: 32.374924653405664, 2: 17.415693904020753}\n",
        "\n",
        "\n",
        "# y1 = df_filter_important[label_col_names].iloc[:, 0].tolist()\n",
        "# test_weight1 = generate_class_weights(y1, multi_class=True, one_hot_encoded=False)\n",
        "# print(test_weight1)\n",
        "# y1"
      ]
    },
    {
      "cell_type": "code",
      "execution_count": 17,
      "metadata": {},
      "outputs": [],
      "source": [
        "\n",
        "from joblib import dump, load\n",
        "\n",
        "# 使用map函数对不同特征列进行相应的归一化\n",
        "# normalized_dataset = dataset.map(\n",
        "#     lambda feats: {\n",
        "#         'feature1': normalize_feature1(feats['feature1']),\n",
        "#         'feature2': normalize_feature2(feats['feature2']),\n",
        "#     })\n",
        "# for col in feature_col_names:\n",
        "#     df_selected[col] =scaler.fit_transform(df_selected[col])\n",
        "\n",
        "scaler = skl.StandardScaler()\n",
        "\n",
        "normalized = scaler.fit_transform(df_filter_important[feature_col_names])\n",
        "\n",
        "# save scaler\n",
        "dump(scaler, 'scaler.joblib')\n",
        "\n",
        "# load scaler\n",
        "loaded_scaler = load('scaler.joblib')\n",
        "\n",
        "\n"
      ]
    },
    {
      "cell_type": "code",
      "execution_count": 18,
      "metadata": {
        "notebookRunGroups": {
          "groupValue": "1"
        }
      },
      "outputs": [
        {
          "name": "stdout",
          "output_type": "stream",
          "text": [
            "test_weight=======================\n",
            "{0: 0.3434428692922046, 1: 32.374924653405664, 2: 17.415693904020753}\n",
            "a =======================\n",
            "(200, 3, 22)\n",
            "[[[ 0.11858524  0.          0.08030263 ... -0.02519509  0.\n",
            "    0.        ]\n",
            "  [ 0.10487709  0.          0.08164869 ... -0.02519509  0.\n",
            "    0.        ]\n",
            "  [ 0.05591942  0.          0.06671966 ...  0.46726393  0.\n",
            "    0.        ]]\n",
            "\n",
            " [[ 0.10487709  0.          0.08164869 ... -0.02519509  0.\n",
            "    0.        ]\n",
            "  [ 0.05591942  0.          0.06671966 ...  0.46726393  0.\n",
            "    0.        ]\n",
            "  [ 0.08590599  0.          0.07761051 ...  0.56575573  0.\n",
            "    0.        ]]\n",
            "\n",
            " [[ 0.05591942  0.          0.06671966 ...  0.46726393  0.\n",
            "    0.        ]\n",
            "  [ 0.08590599  0.          0.07761051 ...  0.56575573  0.\n",
            "    0.        ]\n",
            "  [ 0.07219785  0.          0.06806572 ... -1.10860492  0.\n",
            "    0.        ]]\n",
            "\n",
            " ...\n",
            "\n",
            " [[ 0.04502634  0.          0.01348911 ... -0.02519509  0.\n",
            "    0.        ]\n",
            "  [-0.00540006  0.          0.05436039 ... -0.02519509  0.\n",
            "    0.        ]\n",
            "  [ 0.02311778  0.          0.01079699 ... -0.02519509  0.\n",
            "    0.        ]]\n",
            "\n",
            " [[-0.00540006  0.          0.05436039 ... -0.02519509  0.\n",
            "    0.        ]\n",
            "  [ 0.02311778  0.          0.01079699 ... -0.02519509  0.\n",
            "    0.        ]\n",
            "  [ 0.02458651  0.          0.02854051 ... -1.10860492  0.\n",
            "    0.        ]]\n",
            "\n",
            " [[ 0.02311778  0.          0.01079699 ... -0.02519509  0.\n",
            "    0.        ]\n",
            "  [ 0.02458651  0.          0.02854051 ... -1.10860492  0.\n",
            "    0.        ]\n",
            "  [ 0.0395186   0.          0.08850136 ...  1.05821474  0.\n",
            "    0.        ]]]\n",
            "b---------------------\n",
            "(200, 3)\n",
            "[[1. 0. 0.]\n",
            " [1. 0. 0.]\n",
            " [1. 0. 0.]\n",
            " [1. 0. 0.]\n",
            " [1. 0. 0.]\n",
            " [1. 0. 0.]\n",
            " [1. 0. 0.]\n",
            " [1. 0. 0.]\n",
            " [1. 0. 0.]\n",
            " [1. 0. 0.]\n",
            " [1. 0. 0.]\n",
            " [1. 0. 0.]\n",
            " [1. 0. 0.]\n",
            " [1. 0. 0.]\n",
            " [1. 0. 0.]\n",
            " [1. 0. 0.]\n",
            " [1. 0. 0.]\n",
            " [1. 0. 0.]\n",
            " [1. 0. 0.]\n",
            " [1. 0. 0.]\n",
            " [1. 0. 0.]\n",
            " [1. 0. 0.]\n",
            " [1. 0. 0.]\n",
            " [1. 0. 0.]\n",
            " [1. 0. 0.]\n",
            " [1. 0. 0.]\n",
            " [1. 0. 0.]\n",
            " [1. 0. 0.]\n",
            " [1. 0. 0.]\n",
            " [1. 0. 0.]\n",
            " [1. 0. 0.]\n",
            " [1. 0. 0.]\n",
            " [1. 0. 0.]\n",
            " [1. 0. 0.]\n",
            " [1. 0. 0.]\n",
            " [1. 0. 0.]\n",
            " [1. 0. 0.]\n",
            " [1. 0. 0.]\n",
            " [1. 0. 0.]\n",
            " [1. 0. 0.]\n",
            " [1. 0. 0.]\n",
            " [1. 0. 0.]\n",
            " [1. 0. 0.]\n",
            " [1. 0. 0.]\n",
            " [1. 0. 0.]\n",
            " [1. 0. 0.]\n",
            " [1. 0. 0.]\n",
            " [1. 0. 0.]\n",
            " [1. 0. 0.]\n",
            " [1. 0. 0.]\n",
            " [1. 0. 0.]\n",
            " [1. 0. 0.]\n",
            " [1. 0. 0.]\n",
            " [1. 0. 0.]\n",
            " [1. 0. 0.]\n",
            " [1. 0. 0.]\n",
            " [1. 0. 0.]\n",
            " [1. 0. 0.]\n",
            " [1. 0. 0.]\n",
            " [1. 0. 0.]\n",
            " [1. 0. 0.]\n",
            " [1. 0. 0.]\n",
            " [1. 0. 0.]\n",
            " [1. 0. 0.]\n",
            " [1. 0. 0.]\n",
            " [1. 0. 0.]\n",
            " [1. 0. 0.]\n",
            " [1. 0. 0.]\n",
            " [1. 0. 0.]\n",
            " [1. 0. 0.]\n",
            " [1. 0. 0.]\n",
            " [1. 0. 0.]\n",
            " [1. 0. 0.]\n",
            " [1. 0. 0.]\n",
            " [1. 0. 0.]\n",
            " [1. 0. 0.]\n",
            " [1. 0. 0.]\n",
            " [1. 0. 0.]\n",
            " [1. 0. 0.]\n",
            " [1. 0. 0.]\n",
            " [1. 0. 0.]\n",
            " [1. 0. 0.]\n",
            " [1. 0. 0.]\n",
            " [1. 0. 0.]\n",
            " [1. 0. 0.]\n",
            " [1. 0. 0.]\n",
            " [1. 0. 0.]\n",
            " [1. 0. 0.]\n",
            " [1. 0. 0.]\n",
            " [1. 0. 0.]\n",
            " [1. 0. 0.]\n",
            " [1. 0. 0.]\n",
            " [1. 0. 0.]\n",
            " [1. 0. 0.]\n",
            " [1. 0. 0.]\n",
            " [1. 0. 0.]\n",
            " [1. 0. 0.]\n",
            " [1. 0. 0.]\n",
            " [1. 0. 0.]\n",
            " [1. 0. 0.]\n",
            " [1. 0. 0.]\n",
            " [1. 0. 0.]\n",
            " [1. 0. 0.]\n",
            " [1. 0. 0.]\n",
            " [1. 0. 0.]\n",
            " [1. 0. 0.]\n",
            " [1. 0. 0.]\n",
            " [1. 0. 0.]\n",
            " [1. 0. 0.]\n",
            " [1. 0. 0.]\n",
            " [1. 0. 0.]\n",
            " [1. 0. 0.]\n",
            " [1. 0. 0.]\n",
            " [1. 0. 0.]\n",
            " [1. 0. 0.]\n",
            " [1. 0. 0.]\n",
            " [1. 0. 0.]\n",
            " [1. 0. 0.]\n",
            " [1. 0. 0.]\n",
            " [1. 0. 0.]\n",
            " [1. 0. 0.]\n",
            " [1. 0. 0.]\n",
            " [1. 0. 0.]\n",
            " [1. 0. 0.]\n",
            " [1. 0. 0.]\n",
            " [1. 0. 0.]\n",
            " [1. 0. 0.]\n",
            " [1. 0. 0.]\n",
            " [1. 0. 0.]\n",
            " [1. 0. 0.]\n",
            " [1. 0. 0.]\n",
            " [1. 0. 0.]\n",
            " [1. 0. 0.]\n",
            " [1. 0. 0.]\n",
            " [1. 0. 0.]\n",
            " [1. 0. 0.]\n",
            " [1. 0. 0.]\n",
            " [1. 0. 0.]\n",
            " [1. 0. 0.]\n",
            " [1. 0. 0.]\n",
            " [1. 0. 0.]\n",
            " [1. 0. 0.]\n",
            " [1. 0. 0.]\n",
            " [1. 0. 0.]\n",
            " [1. 0. 0.]\n",
            " [1. 0. 0.]\n",
            " [1. 0. 0.]\n",
            " [1. 0. 0.]\n",
            " [1. 0. 0.]\n",
            " [1. 0. 0.]\n",
            " [1. 0. 0.]\n",
            " [1. 0. 0.]\n",
            " [1. 0. 0.]\n",
            " [1. 0. 0.]\n",
            " [1. 0. 0.]\n",
            " [1. 0. 0.]\n",
            " [1. 0. 0.]\n",
            " [1. 0. 0.]\n",
            " [1. 0. 0.]\n",
            " [1. 0. 0.]\n",
            " [1. 0. 0.]\n",
            " [1. 0. 0.]\n",
            " [1. 0. 0.]\n",
            " [1. 0. 0.]\n",
            " [1. 0. 0.]\n",
            " [1. 0. 0.]\n",
            " [1. 0. 0.]\n",
            " [1. 0. 0.]\n",
            " [1. 0. 0.]\n",
            " [1. 0. 0.]\n",
            " [1. 0. 0.]\n",
            " [1. 0. 0.]\n",
            " [1. 0. 0.]\n",
            " [1. 0. 0.]\n",
            " [1. 0. 0.]\n",
            " [1. 0. 0.]\n",
            " [1. 0. 0.]\n",
            " [1. 0. 0.]\n",
            " [1. 0. 0.]\n",
            " [1. 0. 0.]\n",
            " [1. 0. 0.]\n",
            " [1. 0. 0.]\n",
            " [1. 0. 0.]\n",
            " [1. 0. 0.]\n",
            " [1. 0. 0.]\n",
            " [1. 0. 0.]\n",
            " [1. 0. 0.]\n",
            " [1. 0. 0.]\n",
            " [1. 0. 0.]\n",
            " [1. 0. 0.]\n",
            " [1. 0. 0.]\n",
            " [1. 0. 0.]\n",
            " [1. 0. 0.]\n",
            " [1. 0. 0.]\n",
            " [1. 0. 0.]\n",
            " [1. 0. 0.]\n",
            " [1. 0. 0.]\n",
            " [1. 0. 0.]\n",
            " [1. 0. 0.]\n",
            " [1. 0. 0.]]\n"
          ]
        }
      ],
      "source": [
        "x = tf.data.Dataset.from_tensor_slices(normalized)\n",
        "\n",
        "featureTarget = x\n",
        "featureTarget = windowed_dataset(x, time_steps)\n",
        "\n",
        "target = tf.data.Dataset.zip(featureTarget, y).batch(batch_size)\n",
        "\n",
        "total_examples = len(x)  # 获取数据集总样本数\n",
        "train_ratio = 0.5  # 训练集占比\n",
        "num_train_examples = int(total_examples * train_ratio)\n",
        "num_val_examples = total_examples - num_train_examples\n",
        "train_dataset = target.take(num_train_examples)\n",
        "val_dataset = target.skip(num_train_examples).take(num_val_examples)\n",
        "\n",
        "trainWindow = train_dataset#.batch(batch_size=batch_size, drop_remainder=True)\n",
        "valWindow = val_dataset#.batch(batch_size=batch_size, drop_remainder=True)\n",
        "\n",
        "print('test_weight=======================')\n",
        "print(test_weight)\n",
        "\n",
        "# for a, b in trainWindow.take(1):\n",
        "#     print('x=======================')\n",
        "#     print(a.numpy())\n",
        "#     print('y---------------------')\n",
        "#     print(b.numpy())\n",
        "for a, b in trainWindow.take(1):\n",
        "    print('a =======================')\n",
        "    print(a.shape)\n",
        "    print(a.numpy())\n",
        "    print('b---------------------')\n",
        "    print(b.shape)\n",
        "    print(b.numpy())\n",
        "# yview=np.array(list(y))\n",
        "# yview = list(y)\n",
        "# normalized\n",
        "# print(yview)"
      ]
    },
    {
      "cell_type": "code",
      "execution_count": 19,
      "metadata": {
        "notebookRunGroups": {
          "groupValue": "1"
        }
      },
      "outputs": [
        {
          "name": "stdout",
          "output_type": "stream",
          "text": [
            "tensorboard --logdir=\"/mnt/g/code-ai/CNN-LSTM-Attention/model_output/logs_20240416-004543\" --host=127.0.0.1\n"
          ]
        },
        {
          "name": "stderr",
          "output_type": "stream",
          "text": [
            "2024-04-16 00:45:44.706673: I external/local_tsl/tsl/profiler/lib/profiler_session.cc:104] Profiler session initializing.\n",
            "2024-04-16 00:45:44.706704: I external/local_tsl/tsl/profiler/lib/profiler_session.cc:119] Profiler session started.\n",
            "2024-04-16 00:45:44.706719: I external/local_xla/xla/backends/profiler/gpu/cupti_tracer.cc:1883] Profiler found 1 GPUs\n",
            "2024-04-16 00:45:44.706943: E external/local_xla/xla/backends/profiler/gpu/cupti_error_manager.cc:137] cuptiGetTimestamp: error 999: \n",
            "2024-04-16 00:45:44.706959: E external/local_xla/xla/backends/profiler/gpu/cupti_error_manager.cc:186] cuptiSubscribe: ignored due to a previous error.\n",
            "2024-04-16 00:45:44.706962: E external/local_xla/xla/backends/profiler/gpu/cupti_error_manager.cc:459] cuptiGetResultString: ignored due to a previous error.\n",
            "2024-04-16 00:45:44.706964: E external/local_xla/xla/backends/profiler/gpu/cupti_tracer.cc:1935] function cupti_interface_->Subscribe( &subscriber_, (CUpti_CallbackFunc)ApiCallback, this)failed with error \n",
            "2024-04-16 00:45:44.707007: I external/local_tsl/tsl/profiler/lib/profiler_session.cc:131] Profiler session tear down.\n",
            "2024-04-16 00:45:44.707013: E external/local_xla/xla/backends/profiler/gpu/cupti_error_manager.cc:142] cuptiFinalize: ignored due to a previous error.\n",
            "2024-04-16 00:45:44.707014: E external/local_xla/xla/backends/profiler/gpu/cupti_error_manager.cc:459] cuptiGetResultString: ignored due to a previous error.\n",
            "2024-04-16 00:45:44.707016: E external/local_xla/xla/backends/profiler/gpu/cupti_tracer.cc:2026] function cupti_interface_->Finalize()failed with error \n"
          ]
        }
      ],
      "source": [
        "# 编译模型\n",
        "# %reload_ext autoreload\n",
        "# %autoreload 2\n",
        "from libs.callbacks import get_callbacks\n",
        "from libs.compile_model import compile_model\n",
        "\n",
        "model = compile_model(time_steps, feature_col_num, class_num, total_examples, batch_size)\n",
        "initial_learning_rate = 0.01\n",
        "callbacks = get_callbacks(initial_learning_rate)"
      ]
    },
    {
      "cell_type": "code",
      "execution_count": 20,
      "metadata": {
        "notebookRunGroups": {
          "groupValue": "1"
        }
      },
      "outputs": [
        {
          "name": "stdout",
          "output_type": "stream",
          "text": [
            "\n",
            "Epoch 1: LearningRateScheduler setting learning rate to 0.01.\n",
            "Epoch 1/205\n"
          ]
        },
        {
          "name": "stderr",
          "output_type": "stream",
          "text": [
            "2024-04-16 00:45:46.731973: I external/local_xla/xla/stream_executor/cuda/cuda_dnn.cc:454] Loaded cuDNN version 8904\n",
            "2024-04-16 00:45:47.548918: I external/local_xla/xla/service/service.cc:168] XLA service 0x7fed085c7540 initialized for platform CUDA (this does not guarantee that XLA will be used). Devices:\n",
            "2024-04-16 00:45:47.548941: I external/local_xla/xla/service/service.cc:176]   StreamExecutor device (0): NVIDIA GeForce RTX 4070 Ti, Compute Capability 8.9\n",
            "2024-04-16 00:45:47.551742: I tensorflow/compiler/mlir/tensorflow/utils/dump_mlir_util.cc:269] disabling MLIR crash reproducer, set env var `MLIR_CRASH_REPRODUCER_DIRECTORY` to enable.\n",
            "WARNING: All log messages before absl::InitializeLog() is called are written to STDERR\n",
            "I0000 00:00:1713199547.594064   13145 device_compiler.h:186] Compiled cluster using XLA!  This line is logged at most once for the lifetime of the process.\n"
          ]
        },
        {
          "name": "stdout",
          "output_type": "stream",
          "text": [
            "     15/Unknown - 4s 13ms/step - loss: 1308.6494 - accuracy: 0.8153 - mse: 0.0804 - mae: 0.1380"
          ]
        },
        {
          "name": "stderr",
          "output_type": "stream",
          "text": [
            "2024-04-16 00:45:48.383309: I external/local_tsl/tsl/profiler/lib/profiler_session.cc:104] Profiler session initializing.\n",
            "2024-04-16 00:45:48.383346: I external/local_tsl/tsl/profiler/lib/profiler_session.cc:119] Profiler session started.\n",
            "2024-04-16 00:45:48.383357: E external/local_xla/xla/backends/profiler/gpu/cupti_error_manager.cc:135] cuptiGetTimestamp: ignored due to a previous error.\n",
            "2024-04-16 00:45:48.383360: E external/local_xla/xla/backends/profiler/gpu/cupti_error_manager.cc:186] cuptiSubscribe: ignored due to a previous error.\n",
            "2024-04-16 00:45:48.383361: E external/local_xla/xla/backends/profiler/gpu/cupti_error_manager.cc:459] cuptiGetResultString: ignored due to a previous error.\n",
            "2024-04-16 00:45:48.383364: E external/local_xla/xla/backends/profiler/gpu/cupti_tracer.cc:1935] function cupti_interface_->Subscribe( &subscriber_, (CUpti_CallbackFunc)ApiCallback, this)failed with error \n",
            "2024-04-16 00:45:48.395715: I external/local_tsl/tsl/profiler/lib/profiler_session.cc:70] Profiler session collecting data.\n",
            "2024-04-16 00:45:48.397546: E external/local_xla/xla/backends/profiler/gpu/cupti_error_manager.cc:142] cuptiFinalize: ignored due to a previous error.\n",
            "2024-04-16 00:45:48.397576: E external/local_xla/xla/backends/profiler/gpu/cupti_error_manager.cc:459] cuptiGetResultString: ignored due to a previous error.\n",
            "2024-04-16 00:45:48.397579: E external/local_xla/xla/backends/profiler/gpu/cupti_tracer.cc:2026] function cupti_interface_->Finalize()failed with error \n",
            "2024-04-16 00:45:48.400804: E external/local_xla/xla/backends/profiler/gpu/cupti_error_manager.cc:135] cuptiGetTimestamp: ignored due to a previous error.\n",
            "2024-04-16 00:45:48.400844: E external/local_xla/xla/backends/profiler/gpu/cupti_error_manager.cc:135] cuptiGetTimestamp: ignored due to a previous error.\n",
            "2024-04-16 00:45:48.400849: I external/local_xla/xla/backends/profiler/gpu/cupti_collector.cc:541]  GpuTracer has collected 0 callback api events and 0 activity events. \n",
            "2024-04-16 00:45:48.401562: I external/local_tsl/tsl/profiler/lib/profiler_session.cc:131] Profiler session tear down.\n",
            "2024-04-16 00:45:48.404375: I external/local_tsl/tsl/profiler/rpc/client/save_profile.cc:144] Collecting XSpace to repository: ./model_output/logs_20240416-004543/plugins/profile/2024_04_16_00_45_48/PC15K.xplane.pb\n"
          ]
        },
        {
          "name": "stdout",
          "output_type": "stream",
          "text": [
            "    538/Unknown - 11s 14ms/step - loss: 40.0064 - accuracy: 0.3852 - mse: 0.1933 - mae: 0.3386"
          ]
        },
        {
          "name": "stderr",
          "output_type": "stream",
          "text": [
            "2024-04-16 00:46:02.990288: I tensorflow/core/framework/local_rendezvous.cc:421] Local rendezvous recv item cancelled. Key hash: 14672481773477375181\n",
            "2024-04-16 00:46:02.990326: I tensorflow/core/framework/local_rendezvous.cc:421] Local rendezvous recv item cancelled. Key hash: 8049883135711200735\n",
            "2024-04-16 00:46:02.990349: I tensorflow/core/framework/local_rendezvous.cc:421] Local rendezvous recv item cancelled. Key hash: 7803533911644728923\n"
          ]
        },
        {
          "name": "stdout",
          "output_type": "stream",
          "text": [
            "WARNING:tensorflow:Learning rate reduction is conditioned on metric `val_loss` which is not available. Available metrics are: loss,accuracy,mse,mae,lr\n",
            "538/538 [==============================] - 19s 29ms/step - loss: 40.0064 - accuracy: 0.3852 - mse: 0.1933 - mae: 0.3386 - lr: 0.0100\n",
            "\n",
            "Epoch 2: LearningRateScheduler setting learning rate to 0.0096.\n",
            "Epoch 2/205\n",
            "537/538 [============================>.] - ETA: 0s - loss: 3.1246 - accuracy: 0.1051 - mse: 0.2398 - mae: 0.4430WARNING:tensorflow:Learning rate reduction is conditioned on metric `val_loss` which is not available. Available metrics are: loss,accuracy,mse,mae,lr\n",
            "538/538 [==============================] - 8s 15ms/step - loss: 3.1244 - accuracy: 0.1051 - mse: 0.2398 - mae: 0.4430 - lr: 0.0096\n",
            "\n",
            "Epoch 3: LearningRateScheduler setting learning rate to 0.009216.\n",
            "Epoch 3/205\n",
            "536/538 [============================>.] - ETA: 0s - loss: 1.9330 - accuracy: 0.4489 - mse: 0.2311 - mae: 0.4508WARNING:tensorflow:Learning rate reduction is conditioned on metric `val_loss` which is not available. Available metrics are: loss,accuracy,mse,mae,lr\n",
            "538/538 [==============================] - 8s 15ms/step - loss: 1.9312 - accuracy: 0.4500 - mse: 0.2310 - mae: 0.4507 - lr: 0.0092\n",
            "\n",
            "Epoch 4: LearningRateScheduler setting learning rate to 0.008847359999999999.\n",
            "Epoch 4/205\n",
            "537/538 [============================>.] - ETA: 0s - loss: 1.7892 - accuracy: 0.7492 - mse: 0.1974 - mae: 0.3968WARNING:tensorflow:Learning rate reduction is conditioned on metric `val_loss` which is not available. Available metrics are: loss,accuracy,mse,mae,lr\n",
            "538/538 [==============================] - 8s 15ms/step - loss: 1.7891 - accuracy: 0.7492 - mse: 0.1974 - mae: 0.3968 - lr: 0.0088\n",
            "\n",
            "Epoch 5: LearningRateScheduler setting learning rate to 0.008493465599999998.\n",
            "Epoch 5/205\n",
            "536/538 [============================>.] - ETA: 0s - loss: 1.5726 - accuracy: 0.7334 - mse: 0.2010 - mae: 0.4214WARNING:tensorflow:Learning rate reduction is conditioned on metric `val_loss` which is not available. Available metrics are: loss,accuracy,mse,mae,lr\n",
            "538/538 [==============================] - 8s 15ms/step - loss: 1.5710 - accuracy: 0.7319 - mse: 0.2011 - mae: 0.4215 - lr: 0.0085\n",
            "\n",
            "Epoch 6: LearningRateScheduler setting learning rate to 0.008153726976.\n",
            "Epoch 6/205\n",
            "537/538 [============================>.] - ETA: 0s - loss: 1.4336 - accuracy: 0.4683 - mse: 0.2219 - mae: 0.4434WARNING:tensorflow:Learning rate reduction is conditioned on metric `val_loss` which is not available. Available metrics are: loss,accuracy,mse,mae,lr\n",
            "538/538 [==============================] - 8s 15ms/step - loss: 1.4335 - accuracy: 0.4682 - mse: 0.2219 - mae: 0.4434 - lr: 0.0082\n",
            "\n",
            "Epoch 7: LearningRateScheduler setting learning rate to 0.007827577896959998.\n",
            "Epoch 7/205\n",
            "534/538 [============================>.] - ETA: 0s - loss: 1.9412 - accuracy: 0.5045 - mse: 0.2031 - mae: 0.3930WARNING:tensorflow:Learning rate reduction is conditioned on metric `val_loss` which is not available. Available metrics are: loss,accuracy,mse,mae,lr\n",
            "538/538 [==============================] - 8s 14ms/step - loss: 1.9336 - accuracy: 0.5074 - mse: 0.2019 - mae: 0.3908 - lr: 0.0078\n",
            "\n",
            "Epoch 8: LearningRateScheduler setting learning rate to 0.007514474781081598.\n",
            "Epoch 8/205\n",
            "538/538 [==============================] - ETA: 0s - loss: 1.8904 - accuracy: 0.1556 - mse: 0.2265 - mae: 0.4171WARNING:tensorflow:Learning rate reduction is conditioned on metric `val_loss` which is not available. Available metrics are: loss,accuracy,mse,mae,lr\n",
            "538/538 [==============================] - 8s 14ms/step - loss: 1.8904 - accuracy: 0.1556 - mse: 0.2265 - mae: 0.4171 - lr: 0.0075\n",
            "\n",
            "Epoch 9: LearningRateScheduler setting learning rate to 0.007213895789838334.\n",
            "Epoch 9/205\n",
            "537/538 [============================>.] - ETA: 0s - loss: 1.3655 - accuracy: 0.2381 - mse: 0.2335 - mae: 0.4551WARNING:tensorflow:Learning rate reduction is conditioned on metric `val_loss` which is not available. Available metrics are: loss,accuracy,mse,mae,lr\n",
            "538/538 [==============================] - 8s 15ms/step - loss: 1.3654 - accuracy: 0.2381 - mse: 0.2335 - mae: 0.4551 - lr: 0.0072\n",
            "\n",
            "Epoch 10: LearningRateScheduler setting learning rate to 0.0069253399582448.\n",
            "Epoch 10/205\n",
            "537/538 [============================>.] - ETA: 0s - loss: 1.2750 - accuracy: 0.3442 - mse: 0.2273 - mae: 0.4489WARNING:tensorflow:Learning rate reduction is conditioned on metric `val_loss` which is not available. Available metrics are: loss,accuracy,mse,mae,lr\n",
            "538/538 [==============================] - 8s 14ms/step - loss: 1.2749 - accuracy: 0.3442 - mse: 0.2273 - mae: 0.4489 - lr: 0.0069\n",
            "\n",
            "Epoch 11: LearningRateScheduler setting learning rate to 0.006648326359915008.\n",
            "Epoch 11/205\n",
            "537/538 [============================>.] - ETA: 0s - loss: 1.2253 - accuracy: 0.3727 - mse: 0.2260 - mae: 0.4477WARNING:tensorflow:Learning rate reduction is conditioned on metric `val_loss` which is not available. Available metrics are: loss,accuracy,mse,mae,lr\n",
            "538/538 [==============================] - 8s 14ms/step - loss: 1.2251 - accuracy: 0.3726 - mse: 0.2260 - mae: 0.4477 - lr: 0.0066\n",
            "\n",
            "Epoch 12: LearningRateScheduler setting learning rate to 0.006382393305518408.\n",
            "Epoch 12/205\n",
            "535/538 [============================>.] - ETA: 0s - loss: 1.2710 - accuracy: 0.3297 - mse: 0.2329 - mae: 0.4532WARNING:tensorflow:Learning rate reduction is conditioned on metric `val_loss` which is not available. Available metrics are: loss,accuracy,mse,mae,lr\n",
            "538/538 [==============================] - 8s 15ms/step - loss: 1.2680 - accuracy: 0.3285 - mse: 0.2329 - mae: 0.4532 - lr: 0.0064\n",
            "\n",
            "Epoch 13: LearningRateScheduler setting learning rate to 0.006127097573297671.\n",
            "Epoch 13/205\n",
            "536/538 [============================>.] - ETA: 0s - loss: 1.4072 - accuracy: 0.1954 - mse: 0.2225 - mae: 0.4298WARNING:tensorflow:Learning rate reduction is conditioned on metric `val_loss` which is not available. Available metrics are: loss,accuracy,mse,mae,lr\n",
            "538/538 [==============================] - 8s 15ms/step - loss: 1.4054 - accuracy: 0.1951 - mse: 0.2226 - mae: 0.4299 - lr: 0.0061\n",
            "\n",
            "Epoch 14: LearningRateScheduler setting learning rate to 0.005882013670365765.\n",
            "Epoch 14/205\n",
            "537/538 [============================>.] - ETA: 0s - loss: 1.2030 - accuracy: 0.2951 - mse: 0.2295 - mae: 0.4513Restoring model weights from the end of the best epoch: 4.\n",
            "WARNING:tensorflow:Learning rate reduction is conditioned on metric `val_loss` which is not available. Available metrics are: loss,accuracy,mse,mae,lr\n",
            "538/538 [==============================] - 8s 16ms/step - loss: 1.2029 - accuracy: 0.2951 - mse: 0.2295 - mae: 0.4513 - lr: 0.0059\n",
            "Epoch 14: early stopping\n"
          ]
        }
      ],
      "source": [
        "\n",
        "history = model.fit(\n",
        "    trainWindow,\n",
        "    epochs=epochs,\n",
        "    verbose='auto',\n",
        "    batch_size=batch_size,\n",
        "\n",
        "    validation_data=valWindow,\n",
        "    # validation_split=0.2,\n",
        "    # shuffle=False,\n",
        "    callbacks=callbacks,\n",
        "    class_weight=test_weight,\n",
        "    workers=10\n",
        ")"
      ]
    },
    {
      "cell_type": "code",
      "execution_count": 21,
      "metadata": {
        "id": "e735d350cea5"
      },
      "outputs": [],
      "source": [
        "# %load_ext tensorboard\n",
        "# %tensorboard --logdir \"./logs\"\n",
        "# cmd 当前环境，当前目录 运行   tensorboard --logdir=logs --host=127.0.0.1\n",
        "# 网页中可以查看模型训练过程"
      ]
    },
    {
      "cell_type": "code",
      "execution_count": 22,
      "metadata": {},
      "outputs": [
        {
          "name": "stdout",
          "output_type": "stream",
          "text": [
            "<keras.src.callbacks.History object at 0x7fee44109750>\n"
          ]
        }
      ],
      "source": [
        "print(history)"
      ]
    },
    {
      "cell_type": "code",
      "execution_count": 23,
      "metadata": {
        "id": "ff7fe6ec6f7f"
      },
      "outputs": [
        {
          "name": "stdout",
          "output_type": "stream",
          "text": [
            "[40.00638961791992, 3.124366283416748, 1.9311935901641846, 1.7890950441360474, 1.5709787607192993, 1.433475375175476, 1.9336018562316895, 1.8903695344924927, 1.3653992414474487, 1.2749104499816895, 1.2251474857330322, 1.2680222988128662, 1.4054161310195923, 1.2029035091400146] loss\n",
            "[0.38521477580070496, 0.10511273890733719, 0.45001769065856934, 0.749241292476654, 0.7319350838661194, 0.468180388212204, 0.5073730945587158, 0.15564431250095367, 0.23806996643543243, 0.3441694974899292, 0.37260979413986206, 0.3284645080566406, 0.19505110383033752, 0.2950901985168457] accuracy\n",
            "[0.19334451854228973, 0.23978890478610992, 0.23098261654376984, 0.1973789930343628, 0.20105625689029694, 0.22191210091114044, 0.20190824568271637, 0.22652390599250793, 0.23353101313114166, 0.22728881239891052, 0.22600004076957703, 0.23293815553188324, 0.2226008176803589, 0.2295486479997635] mse\n",
            "[0.3386140763759613, 0.44300389289855957, 0.4507226347923279, 0.39683523774147034, 0.42149651050567627, 0.4434411823749542, 0.390778124332428, 0.41705819964408875, 0.45505380630493164, 0.44892096519470215, 0.4476693570613861, 0.45318999886512756, 0.4298546016216278, 0.45126205682754517] mae\n",
            "[0.01, 0.0096, 0.009216, 0.00884736, 0.008493465, 0.008153727, 0.007827578, 0.007514475, 0.0072138957, 0.00692534, 0.0066483263, 0.006382393, 0.0061270976, 0.0058820136] lr\n"
          ]
        },
        {
          "data": {
            "image/png": "[encoded data removed]",
            "text/plain": [
              "<Figure size 640x480 with 1 Axes>"
            ]
          },
          "metadata": {},
          "output_type": "display_data"
        },
        {
          "data": {
            "image/png": "[encoded data removed]",
            "text/plain": [
              "<Figure size 640x480 with 1 Axes>"
            ]
          },
          "metadata": {},
          "output_type": "display_data"
        },
        {
          "data": {
            "image/png": "[encoded data removed]",
            "text/plain": [
              "<Figure size 640x480 with 1 Axes>"
            ]
          },
          "metadata": {},
          "output_type": "display_data"
        },
        {
          "data": {
            "image/png": "[encoded data removed]",
            "text/plain": [
              "<Figure size 640x480 with 1 Axes>"
            ]
          },
          "metadata": {},
          "output_type": "display_data"
        },
        {
          "data": {
            "image/png": "[encoded data removed]",
            "text/plain": [
              "<Figure size 640x480 with 1 Axes>"
            ]
          },
          "metadata": {},
          "output_type": "display_data"
        }
      ],
      "source": [
        "H = history\n",
        "\n",
        "\n",
        "#画学习率变化曲线并保存到log中\n",
        "def plot(lrs, title=\"Learning Rate Schedule\"):\n",
        "    #计算学习率随epoch的变化值\n",
        "    epochs = np.arange(len(lrs))\n",
        "    plt.figure()\n",
        "    plt.plot(epochs, lrs)\n",
        "    plt.xticks(epochs)\n",
        "    plt.scatter(epochs, lrs)\n",
        "    plt.title(title)\n",
        "    plt.xlabel(\"Epoch #\")\n",
        "    plt.ylabel(\"Learning Rate\")\n",
        "\n",
        "\n",
        "for k, v in H.history.items():\n",
        "    print(v, k)\n",
        "    plot(v,k)\n",
        "plt.savefig(os.path.join(log_dir, 'learning_rate.png'))"
      ]
    },
    {
      "cell_type": "code",
      "execution_count": 24,
      "metadata": {},
      "outputs": [],
      "source": [
        "# 保存模型结构及配置参数\n",
        "model_json = model.to_json()\n",
        "with open(os.path.join(log_dir,'model_json.json'),'w') as json_file:\n",
        "    json_file.write(model_json)\n"
      ]
    },
    {
      "cell_type": "code",
      "execution_count": 25,
      "metadata": {},
      "outputs": [
        {
          "name": "stderr",
          "output_type": "stream",
          "text": [
            "2024-04-16 00:47:57.931361: I tensorflow/core/framework/local_rendezvous.cc:421] Local rendezvous recv item cancelled. Key hash: 14672481773477375181\n",
            "2024-04-16 00:47:57.931393: I tensorflow/core/framework/local_rendezvous.cc:421] Local rendezvous recv item cancelled. Key hash: 8049883135711200735\n",
            "2024-04-16 00:47:57.931418: I tensorflow/core/framework/local_rendezvous.cc:421] Local rendezvous recv item cancelled. Key hash: 7803533911644728923\n",
            "/home/cnjimbo/anaconda3/envs/p3.11tf2.16.1/lib/python3.11/site-packages/keras/src/utils/generic_utils.py:238: RuntimeWarning:\n",
            "\n",
            "divide by zero encountered in log10\n",
            "\n"
          ]
        },
        {
          "ename": "OverflowError",
          "evalue": "cannot convert float infinity to integer",
          "output_type": "error",
          "traceback": [
            "\u001b[0;31m---------------------------------------------------------------------------\u001b[0m",
            "\u001b[0;31mOverflowError\u001b[0m                             Traceback (most recent call last)",
            "Cell \u001b[0;32mIn[25], line 2\u001b[0m\n\u001b[1;32m      1\u001b[0m \u001b[38;5;66;03m#对模型在测试集上进行评估\u001b[39;00m\n\u001b[0;32m----> 2\u001b[0m metrics \u001b[38;5;241m=\u001b[39m \u001b[43mmodel\u001b[49m\u001b[38;5;241;43m.\u001b[39;49m\u001b[43mevaluate\u001b[49m\u001b[43m(\u001b[49m\u001b[43mvalWindow\u001b[49m\u001b[43m,\u001b[49m\u001b[43m \u001b[49m\u001b[43mverbose\u001b[49m\u001b[38;5;241;43m=\u001b[39;49m\u001b[38;5;241;43m1\u001b[39;49m\u001b[43m)\u001b[49m\n\u001b[1;32m      3\u001b[0m \u001b[38;5;28mprint\u001b[39m(\u001b[38;5;124m\"\u001b[39m\u001b[38;5;124mval_loss:\u001b[39m\u001b[38;5;124m\"\u001b[39m, metrics[\u001b[38;5;241m0\u001b[39m], \u001b[38;5;124m\"\u001b[39m\u001b[38;5;124mval_accuracy:\u001b[39m\u001b[38;5;124m\"\u001b[39m, metrics[\u001b[38;5;241m1\u001b[39m])\n",
            "File \u001b[0;32m~/anaconda3/envs/p3.11tf2.16.1/lib/python3.11/site-packages/keras/src/utils/traceback_utils.py:70\u001b[0m, in \u001b[0;36mfilter_traceback.<locals>.error_handler\u001b[0;34m(*args, **kwargs)\u001b[0m\n\u001b[1;32m     67\u001b[0m     filtered_tb \u001b[38;5;241m=\u001b[39m _process_traceback_frames(e\u001b[38;5;241m.\u001b[39m__traceback__)\n\u001b[1;32m     68\u001b[0m     \u001b[38;5;66;03m# To get the full stack trace, call:\u001b[39;00m\n\u001b[1;32m     69\u001b[0m     \u001b[38;5;66;03m# `tf.debugging.disable_traceback_filtering()`\u001b[39;00m\n\u001b[0;32m---> 70\u001b[0m     \u001b[38;5;28;01mraise\u001b[39;00m e\u001b[38;5;241m.\u001b[39mwith_traceback(filtered_tb) \u001b[38;5;28;01mfrom\u001b[39;00m \u001b[38;5;28;01mNone\u001b[39;00m\n\u001b[1;32m     71\u001b[0m \u001b[38;5;28;01mfinally\u001b[39;00m:\n\u001b[1;32m     72\u001b[0m     \u001b[38;5;28;01mdel\u001b[39;00m filtered_tb\n",
            "File \u001b[0;32m~/anaconda3/envs/p3.11tf2.16.1/lib/python3.11/site-packages/keras/src/utils/generic_utils.py:238\u001b[0m, in \u001b[0;36mProgbar.update\u001b[0;34m(self, current, values, finalize)\u001b[0m\n\u001b[1;32m    235\u001b[0m     message \u001b[38;5;241m+\u001b[39m\u001b[38;5;241m=\u001b[39m \u001b[38;5;124m\"\u001b[39m\u001b[38;5;130;01m\\n\u001b[39;00m\u001b[38;5;124m\"\u001b[39m\n\u001b[1;32m    237\u001b[0m \u001b[38;5;28;01mif\u001b[39;00m \u001b[38;5;28mself\u001b[39m\u001b[38;5;241m.\u001b[39mtarget \u001b[38;5;129;01mis\u001b[39;00m \u001b[38;5;129;01mnot\u001b[39;00m \u001b[38;5;28;01mNone\u001b[39;00m:\n\u001b[0;32m--> 238\u001b[0m     numdigits \u001b[38;5;241m=\u001b[39m \u001b[38;5;28;43mint\u001b[39;49m\u001b[43m(\u001b[49m\u001b[43mnp\u001b[49m\u001b[38;5;241;43m.\u001b[39;49m\u001b[43mlog10\u001b[49m\u001b[43m(\u001b[49m\u001b[38;5;28;43mself\u001b[39;49m\u001b[38;5;241;43m.\u001b[39;49m\u001b[43mtarget\u001b[49m\u001b[43m)\u001b[49m\u001b[43m)\u001b[49m \u001b[38;5;241m+\u001b[39m \u001b[38;5;241m1\u001b[39m\n\u001b[1;32m    239\u001b[0m     bar \u001b[38;5;241m=\u001b[39m (\u001b[38;5;124m\"\u001b[39m\u001b[38;5;124m%\u001b[39m\u001b[38;5;124m\"\u001b[39m \u001b[38;5;241m+\u001b[39m \u001b[38;5;28mstr\u001b[39m(numdigits) \u001b[38;5;241m+\u001b[39m \u001b[38;5;124m\"\u001b[39m\u001b[38;5;124md/\u001b[39m\u001b[38;5;132;01m%d\u001b[39;00m\u001b[38;5;124m [\u001b[39m\u001b[38;5;124m\"\u001b[39m) \u001b[38;5;241m%\u001b[39m (current, \u001b[38;5;28mself\u001b[39m\u001b[38;5;241m.\u001b[39mtarget)\n\u001b[1;32m    240\u001b[0m     prog \u001b[38;5;241m=\u001b[39m \u001b[38;5;28mfloat\u001b[39m(current) \u001b[38;5;241m/\u001b[39m \u001b[38;5;28mself\u001b[39m\u001b[38;5;241m.\u001b[39mtarget\n",
            "\u001b[0;31mOverflowError\u001b[0m: cannot convert float infinity to integer"
          ]
        }
      ],
      "source": [
        "#对模型在测试集上进行评估\n",
        "metrics = model.evaluate(valWindow, verbose=1)\n",
        "print(\"val_loss:\", metrics[0], \"val_accuracy:\", metrics[1])\n"
      ]
    },
    {
      "cell_type": "code",
      "execution_count": null,
      "metadata": {},
      "outputs": [
        {
          "name": "stdout",
          "output_type": "stream",
          "text": [
            "\u001b[1m21483/21483\u001b[0m \u001b[32m━━━━━━━━━━━━━━━━━━━━\u001b[0m\u001b[37m\u001b[0m \u001b[1m80s\u001b[0m 3ms/step\n"
          ]
        },
        {
          "name": "stdout",
          "output_type": "stream",
          "text": [
            "\u001b[1;31mType:\u001b[0m        ndarray\n",
            "\u001b[1;31mString form:\u001b[0m\n",
            "[[9.9955338e-01 4.5943594e-08 4.4656577e-04]\n",
            "           [9.9955338e-01 4.5943416e-08 4.4656533e-04]\n",
            "           [9.995 <...> 5e-04]\n",
            "           [9.9955338e-01 4.5942890e-08 4.4656236e-04]\n",
            "           [9.9955338e-01 4.5943068e-08 4.4656277e-04]]\n",
            "\u001b[1;31mLength:\u001b[0m      42966\n",
            "\u001b[1;31mFile:\u001b[0m        c:\\appdata\\.devhome\\conda\\envs\\py311tf2.16\\lib\\site-packages\\numpy\\__init__.py\n",
            "\u001b[1;31mDocstring:\u001b[0m  \n",
            "ndarray(shape, dtype=float, buffer=None, offset=0,\n",
            "        strides=None, order=None)\n",
            "\n",
            "An array object represents a multidimensional, homogeneous array\n",
            "of fixed-size items.  An associated data-type object describes the\n",
            "format of each element in the array (its byte-order, how many bytes it\n",
            "occupies in memory, whether it is an integer, a floating point number,\n",
            "or something else, etc.)\n",
            "\n",
            "Arrays should be constructed using `array`, `zeros` or `empty` (refer\n",
            "to the See Also section below).  The parameters given here refer to\n",
            "a low-level method (`ndarray(...)`) for instantiating an array.\n",
            "\n",
            "For more information, refer to the `numpy` module and examine the\n",
            "methods and attributes of an array.\n",
            "\n",
            "Parameters\n",
            "----------\n",
            "(for the __new__ method; see Notes below)\n",
            "\n",
            "shape : tuple of ints\n",
            "    Shape of created array.\n",
            "dtype : data-type, optional\n",
            "    Any object that can be interpreted as a numpy data type.\n",
            "buffer : object exposing buffer interface, optional\n",
            "    Used to fill the array with data.\n",
            "offset : int, optional\n",
            "    Offset of array data in buffer.\n",
            "strides : tuple of ints, optional\n",
            "    Strides of data in memory.\n",
            "order : {'C', 'F'}, optional\n",
            "    Row-major (C-style) or column-major (Fortran-style) order.\n",
            "\n",
            "Attributes\n",
            "----------\n",
            "T : ndarray\n",
            "    Transpose of the array.\n",
            "data : buffer\n",
            "    The array's elements, in memory.\n",
            "dtype : dtype object\n",
            "    Describes the format of the elements in the array.\n",
            "flags : dict\n",
            "    Dictionary containing information related to memory use, e.g.,\n",
            "    'C_CONTIGUOUS', 'OWNDATA', 'WRITEABLE', etc.\n",
            "flat : numpy.flatiter object\n",
            "    Flattened version of the array as an iterator.  The iterator\n",
            "    allows assignments, e.g., ``x.flat = 3`` (See `ndarray.flat` for\n",
            "    assignment examples; TODO).\n",
            "imag : ndarray\n",
            "    Imaginary part of the array.\n",
            "real : ndarray\n",
            "    Real part of the array.\n",
            "size : int\n",
            "    Number of elements in the array.\n",
            "itemsize : int\n",
            "    The memory use of each array element in bytes.\n",
            "nbytes : int\n",
            "    The total number of bytes required to store the array data,\n",
            "    i.e., ``itemsize * size``.\n",
            "ndim : int\n",
            "    The array's number of dimensions.\n",
            "shape : tuple of ints\n",
            "    Shape of the array.\n",
            "strides : tuple of ints\n",
            "    The step-size required to move from one element to the next in\n",
            "    memory. For example, a contiguous ``(3, 4)`` array of type\n",
            "    ``int16`` in C-order has strides ``(8, 2)``.  This implies that\n",
            "    to move from element to element in memory requires jumps of 2 bytes.\n",
            "    To move from row-to-row, one needs to jump 8 bytes at a time\n",
            "    (``2 * 4``).\n",
            "ctypes : ctypes object\n",
            "    Class containing properties of the array needed for interaction\n",
            "    with ctypes.\n",
            "base : ndarray\n",
            "    If the array is a view into another array, that array is its `base`\n",
            "    (unless that array is also a view).  The `base` array is where the\n",
            "    array data is actually stored.\n",
            "\n",
            "See Also\n",
            "--------\n",
            "array : Construct an array.\n",
            "zeros : Create an array, each element of which is zero.\n",
            "empty : Create an array, but leave its allocated memory unchanged (i.e.,\n",
            "        it contains \"garbage\").\n",
            "dtype : Create a data-type.\n",
            "numpy.typing.NDArray : An ndarray alias :term:`generic <generic type>`\n",
            "                       w.r.t. its `dtype.type <numpy.dtype.type>`.\n",
            "\n",
            "Notes\n",
            "-----\n",
            "There are two modes of creating an array using ``__new__``:\n",
            "\n",
            "1. If `buffer` is None, then only `shape`, `dtype`, and `order`\n",
            "   are used.\n",
            "2. If `buffer` is an object exposing the buffer interface, then\n",
            "   all keywords are interpreted.\n",
            "\n",
            "No ``__init__`` method is needed because the array is fully initialized\n",
            "after the ``__new__`` method.\n",
            "\n",
            "Examples\n",
            "--------\n",
            "These examples illustrate the low-level `ndarray` constructor.  Refer\n",
            "to the `See Also` section above for easier ways of constructing an\n",
            "ndarray.\n",
            "\n",
            "First mode, `buffer` is None:\n",
            "\n",
            ">>> np.ndarray(shape=(2,2), dtype=float, order='F')\n",
            "array([[0.0e+000, 0.0e+000], # random\n",
            "       [     nan, 2.5e-323]])\n",
            "\n",
            "Second mode:\n",
            "\n",
            ">>> np.ndarray((2,), buffer=np.array([1,2,3]),\n",
            "...            offset=np.int_().itemsize,\n",
            "...            dtype=int) # offset = 1*itemsize, i.e. skip first element\n",
            "array([2, 3])"
          ]
        }
      ],
      "source": [
        "predictions=model.predict(valWindow,verbose=1)\n",
        "predictions?"
      ]
    },
    {
      "cell_type": "code",
      "execution_count": null,
      "metadata": {},
      "outputs": [
        {
          "name": "stdout",
          "output_type": "stream",
          "text": [
            "(<tf.Tensor: shape=(), dtype=float32, numpy=0.01>, <tf.Tensor: shape=(), dtype=float32, numpy=0.0096>, <tf.Tensor: shape=(), dtype=float32, numpy=0.009216>, <tf.Tensor: shape=(), dtype=float32, numpy=0.00884736>, <tf.Tensor: shape=(), dtype=float32, numpy=0.008493465>)\n",
            "(<tf.Tensor: shape=(), dtype=float32, numpy=0.01>, <tf.Tensor: shape=(), dtype=float32, numpy=0.0096>, <tf.Tensor: shape=(), dtype=float32, numpy=0.009216>, <tf.Tensor: shape=(), dtype=float32, numpy=0.00884736>, <tf.Tensor: shape=(), dtype=float32, numpy=0.008493465>)\n",
            "(<tf.Tensor: shape=(), dtype=float32, numpy=0.01>, <tf.Tensor: shape=(), dtype=float32, numpy=0.0096>, <tf.Tensor: shape=(), dtype=float32, numpy=0.009216>, <tf.Tensor: shape=(), dtype=float32, numpy=0.00884736>, <tf.Tensor: shape=(), dtype=float32, numpy=0.008493465>)\n",
            "(<tf.Tensor: shape=(), dtype=float32, numpy=0.01>, <tf.Tensor: shape=(), dtype=float32, numpy=0.0096>, <tf.Tensor: shape=(), dtype=float32, numpy=0.009216>, <tf.Tensor: shape=(), dtype=float32, numpy=0.00884736>, <tf.Tensor: shape=(), dtype=float32, numpy=0.008493465>)\n"
          ]
        },
        {
          "data": {
            "text/plain": [
              "<tf.Tensor: shape=(3,), dtype=int64, numpy=array([ 0, 18, 18], dtype=int64)>"
            ]
          },
          "execution_count": 26,
          "metadata": {},
          "output_type": "execute_result"
        }
      ],
      "source": [
        "# 如果是多分类问题并且想比较类别概率分布\n",
        "# 假设y_true和y_pred都是one-hot编码形式\n",
        "# 可以选择几个样本画柱状图对比\n",
        "\n",
        "\n",
        "y_true = valWindow.map(lambda x, y: v)\n",
        "for i, v in enumerate(y_true):\n",
        "    if i > 3:\n",
        "        break\n",
        "    \n",
        "    print(v)\n",
        "# print(predictions)\n",
        "y_pred = tf.argmax(predictions)\n",
        "# for i in y_pred:\n",
        "#     # print(i)\n",
        "#     # print(i)\n",
        "#     e=1\n",
        "# num_samples_to_plot = len(y_pred)\n",
        "# nrows = 2\n",
        "# plt.figure(figsize=(30, 6))\n",
        "# plt.subplot(nrows, 1, 1)\n",
        "# plt.plot(y_true, label='Actual values', linewidth=1.0)\n",
        "# plt.subplot(nrows, 1, 2)\n",
        "# plt.plot(y_pred, label='Predicted values', linewidth=1.0)\n",
        "# plt.legend(fontsize=14)\n",
        "# plt.xlabel('Sample Index')\n",
        "# ax = plt.gca()\n",
        "# ax.set_xlim(left=0, right=num_samples_to_plot)\n",
        "# plt.ylabel('Value')\n",
        "# plt.title('Actual vs Predicted Values Comparison')\n",
        "# plt.grid(True)\n",
        "# plt.show()\n",
        "y_pred"
      ]
    },
    {
      "cell_type": "code",
      "execution_count": null,
      "metadata": {},
      "outputs": [],
      "source": []
    },
    {
      "cell_type": "code",
      "execution_count": null,
      "metadata": {
        "id": "332c1750c3e9"
      },
      "outputs": [],
      "source": [
        "# # data.plot(legend=True, subplots=True, figsize=(30,30),  xlabel=\"steps\")\n",
        "# # ax = plt.gca()\n",
        "# # ax.set_xlim(left=0, right=19000)\n",
        "\n",
        "\n",
        "# # plt.show()\n",
        "# times = df22[time_col_names].index.to_numpy()\n",
        "# display(times)\n",
        "# plt.plot(times, y, label=\"Actual\", marker=\"o\")\n",
        "# plt.plot(times, predictions, label=\"Predicted\", linestyle=\"--\", marker=\"x\")\n",
        "\n",
        "# ax = plt.gca()\n",
        "# ax.set_xlim(left=12000, right=18000)\n",
        "# # 添加标题和标签\n",
        "# plt.title(\"Actual vs. Predicted Values\")\n",
        "# plt.xlabel(\"Sample Index\")\n",
        "# plt.ylabel(\"Value\")\n",
        "\n",
        "# # 添加图例\n",
        "# plt.legend()\n",
        "\n",
        "# # 显示图形\n",
        "# plt.show()"
      ]
    },
    {
      "cell_type": "code",
      "execution_count": null,
      "metadata": {
        "id": "3777035567f2"
      },
      "outputs": [
        {
          "data": {
            "image/png": "[encoded data removed]",
            "text/plain": [
              "<Figure size 640x480 with 1 Axes>"
            ]
          },
          "metadata": {},
          "output_type": "display_data"
        },
        {
          "data": {
            "image/png": "[encoded data removed]",
            "text/plain": [
              "<Figure size 640x480 with 1 Axes>"
            ]
          },
          "metadata": {},
          "output_type": "display_data"
        }
      ],
      "source": [
        "# display(history.history)\n",
        "plt.plot(history.history[\"loss\"])\n",
        "plt.plot(history.history[\"val_loss\"])\n",
        "plt.plot(history.history[\"val_accuracy\"])\n",
        "plt.title(\"model train vs validation loss\")\n",
        "plt.ylabel(\"loss\")\n",
        "plt.xlabel(\"epoch\")\n",
        "plt.legend([\"loss\", \"epoch\", \"accuracy\"], loc=\"upper right\")\n",
        "plt.show()\n",
        "plt.plot(history.history[\"accuracy\"])\n",
        "plt.plot(history.history[\"val_accuracy\"])\n",
        "plt.title(\"model train vs validation accuracy\")\n",
        "plt.ylabel(\"accuracy\")\n",
        "plt.xlabel(\"epoch\")\n",
        "plt.legend([\"accuracy\", \"val_accuracy\"], loc=\"upper left\")\n",
        "plt.show()"
      ]
    },
    {
      "cell_type": "code",
      "execution_count": null,
      "metadata": {
        "id": "a9ca4cfdba43"
      },
      "outputs": [
        {
          "data": {
            "text/plain": [
              "Index(['原始重量', '稳定重量', '轴重', 'su_ad', 'wpu_x', 'wpu_y', 'wpu_z', 'su_x',\n",
              "       'su_y', 'su_z', '原始重量_diff', '稳定重量_diff', '轴重_diff', 'su_ad_diff',\n",
              "       'wpu_x_diff', 'wpu_y_diff', 'wpu_z_diff', 'su_x_diff', 'su_y_diff',\n",
              "       'su_z_diff', '速度', '估计重量', 'label', '时间', '轨迹时间'],\n",
              "      dtype='object')"
            ]
          },
          "metadata": {},
          "output_type": "display_data"
        }
      ],
      "source": [
        "display(df22.columns)"
      ]
    },
    {
      "cell_type": "code",
      "execution_count": null,
      "metadata": {
        "id": "4072f6e1f1a6"
      },
      "outputs": [],
      "source": [
        "# data22, scaler22 = normalize(df22, numeric_col_names)\n",
        "# X22 = data22[feature_col_names]\n",
        "# y_test22 =normalizeY( df22[label_col_names])\n",
        "# x_train22  = np.asarray(X22) .reshape(-1, feature_col_num)\n",
        "# predY22 = model.predict(x_train22, batch_size=batch_size)\n",
        "\n",
        "\n",
        "# data23, scaler23 = normalize(df23, numeric_col_names)\n",
        "# X23 = data23[feature_col_names]\n",
        "# y_test23 =normalizeY( df23[label_col_names])\n",
        "# x_train23  = np.asarray(X23) .reshape(-1, feature_col_num)\n",
        "# predY23 = model.predict(x_train23, batch_size=batch_size)\n",
        "\n",
        "\n",
        "\n",
        "\n",
        "\n",
        "\n",
        "# display(predY22,predY23)"
      ]
    },
    {
      "cell_type": "code",
      "execution_count": null,
      "metadata": {
        "id": "1e692ce96c13"
      },
      "outputs": [],
      "source": [
        "# fig_acc = plt.figure(figsize=(9, 9))\n",
        "# plt.plot(predY23[0:27000])\n",
        "# plt.plot(y_test23[0:27000])\n",
        "# plt.title(\"real vs pred\")\n",
        "# plt.ylabel(\"value\")\n",
        "# plt.xlabel(\"epoch\")\n",
        "# plt.xlim((19000, 23000))\n",
        "# plt.legend([\"pred\", \"real\"], loc=\"upper left\")\n",
        "# plt.show()"
      ]
    }
  ],
  "metadata": {
    "colab": {
      "name": "C_L_A_train_test.ipynb",
      "toc_visible": true
    },
    "kernelspec": {
      "display_name": "Python 3",
      "name": "python3"
    },
    "language_info": {
      "codemirror_mode": {
        "name": "ipython",
        "version": 3
      },
      "file_extension": ".py",
      "mimetype": "text/x-python",
      "name": "python",
      "nbconvert_exporter": "python",
      "pygments_lexer": "ipython3",
      "version": "3.11.8"
    }
  },
  "nbformat": 4,
  "nbformat_minor": 0
}
