{
  "cells": [
    {
      "cell_type": "code",
      "execution_count": 18,
      "metadata": {
        "id": "ee2f9bed4b6c"
      },
      "outputs": [],
      "source": [
        "#借助 Intel(R) Extension for Scikit-learn，您可以加速您的 Scikit-learn 应用程序，并且仍然完全符合所有 Scikit-Learn API 和算法。这是一款免费软件 AI 加速器，可为各种应用带来超过10-100 倍的加速。而且您甚至不需要更改现有代码！\n",
        "# !python -m pip install pandas matplotlib scikit-learn-intelex scikit-learn openpyxl tensorboard seaborn ipykernel ipywidgets keras plotly plotly_express\n",
        "# !python -m pip install  tensorflow==2.15.*\n",
        "# !python -m pip install  tensorflow[and-cuda]==2.15.*\n",
        "#\n"
      ]
    },
    {
      "cell_type": "code",
      "execution_count": 19,
      "metadata": {
        "id": "eb5fa4ce7567"
      },
      "outputs": [
        {
          "name": "stderr",
          "output_type": "stream",
          "text": [
            "Intel(R) Extension for Scikit-learn* enabled (https://github.com/intel/scikit-learn-intelex)\n"
          ]
        }
      ],
      "source": [
        "# 本导入顺序可以看到类型\n",
        "import tensorflow as tf\n",
        "import keras\n",
        "# import tensorflow_datasets as tfds\n",
        "import datetime\n",
        "import os\n",
        "import pandas as pd\n",
        "import numpy as np\n",
        "from sklearnex import patch_sklearn\n",
        "from sklearn import preprocessing as skl\n",
        "from sklearn.model_selection import train_test_split\n",
        "\n",
        "# from tensorflow import keras\n",
        "\n",
        "from keras import layers\n",
        "from keras import models\n",
        "\n",
        "\n",
        "\n",
        "patch_sklearn()\n",
        "# from attention_utils import get_activations\n",
        "\n",
        "#更好地兼容 Python 3 的行为和特性，使得代码可以在 Python 2 和 Python 3 下运行得更加一致\n",
        "# from __future__ import absolute_import,division,print_function,unicode_literals\n",
        "from matplotlib import pyplot as plt\n",
        "from matplotlib import ticker as mt\n",
        "# 或者直接指定字体文件路径\n",
        "plt.rcParams['font.sans-serif'] = ['SimHei', 'DejaVu Sans Mono']  # 系统自带的黑体\n",
        "plt.rcParams['font.serif'] = ['SimHei']  # 系统自带的宋体\n",
        "plt.rcParams['font.family'] = [\n",
        "    'SimHei',\n",
        "    'DejaVu Sans Mono',  # 显示负号的字体\n",
        "    # 'Liberation Mono',\n",
        "    'Consolas',\n",
        "    'Courier New',\n",
        "    'monospace',\n",
        "    'sans-serif',\n",
        "    'serif',\n",
        "    'sans',\n",
        "    'serif',\n",
        "    'sans-serif',\n",
        "    'sans',\n",
        "    'serif',\n",
        "    'sans-serif',\n",
        "    'sans',\n",
        "    'serif',\n",
        "    'sans-serif',\n",
        "    'sans',\n",
        "    'serif',\n",
        "    'sans-serif',\n",
        "    'sans',\n",
        "    'serif',\n",
        "    'sans-serif',\n",
        "    'sans',\n",
        "    'serif',\n",
        "]\n",
        "plt.rcParams['axes.unicode_minus'] = False  # 设置matplotlib显示正常的负号而非减号样式"
      ]
    },
    {
      "cell_type": "code",
      "execution_count": 20,
      "metadata": {
        "id": "4644b11cec9d"
      },
      "outputs": [
        {
          "name": "stdout",
          "output_type": "stream",
          "text": [
            " \n",
            "2024-04-30 10:49:43.893919 tensorflow版本: 2.16.1\n",
            " \n",
            "gpus： \n",
            "[]\n",
            " \n",
            "gpus\n",
            "Available GPU devices: []\n"
          ]
        }
      ],
      "source": [
        "print(' ')\n",
        "print(f'{datetime.datetime.now()} tensorflow版本:', tf.__version__)\n",
        "gpus = tf.config.experimental.list_physical_devices(\"GPU\")\n",
        "print(' ')\n",
        "print('gpus： ')\n",
        "print(gpus)\n",
        "print(' ')\n",
        "print('gpus')\n",
        "# 查看系统中可见的GPU设备\n",
        "print(\"Available GPU devices:\", tf.config.list_physical_devices(\"GPU\"))\n"
      ]
    },
    {
      "cell_type": "code",
      "execution_count": 21,
      "metadata": {},
      "outputs": [
        {
          "name": "stdout",
          "output_type": "stream",
          "text": [
            "data_17\n",
            "data_21\n",
            "data_22\n",
            "data_23\n",
            "data_24\n"
          ]
        }
      ],
      "source": [
        "# # 读取数据\n",
        "\n",
        "from load_data import load_fixed_data, categories\n",
        "\n",
        "R_CREATE = False\n",
        "R_CREATE = True\n",
        "\n",
        "\n",
        "def create_dynamic_globals(dyn_name, value, global_vars, read_cache: bool = True):\n",
        "    \"\"\"\n",
        "    :param dyn_name: 动态变量名\n",
        "    :param value: 动态变量值\n",
        "    :param global_vars: 全局变量字典\n",
        "    :return:\n",
        "    \"\"\"\n",
        "    # print(dyn_name, global_vars[dyn_name])\n",
        "    if read_cache and (R_CREATE or dyn_name not in global_vars or global_vars[dyn_name] == None):\n",
        "        # 如果确实需要在全局作用域创建真正的全局变量，可以使用exec，但这不是推荐做法\n",
        "        if callable(value):\n",
        "\n",
        "            v = value(dyn_name)\n",
        "            s = f'global {dyn_name}; {dyn_name} = v'\n",
        "            # print(s)\n",
        "            exec(s)\n",
        "        else:\n",
        "            exec(f'global {dyn_name}; {dyn_name} = {value}')\n",
        "\n",
        "    return globals()[dyn_name]\n",
        "\n",
        "\n",
        "def create_global_vars(global_vars, varprefix: str = 'data_', read_cache: bool = True):\n",
        "\n",
        "    for gvar in global_vars:\n",
        "        #\n",
        "        if gvar.startswith('_'):\n",
        "            continue\n",
        "        if gvar.startswith(varprefix):\n",
        "            print(gvar, )\n",
        "            create_dynamic_globals(gvar, lambda f: load_fixed_data(f'./data/{f}.xlsx'), global_vars)\n",
        "\n",
        "\n",
        "data_17 = pd.DataFrame()\n",
        "data_21 = data_17\n",
        "data_22 = data_17\n",
        "data_23 = data_17\n",
        "data_24 = data_17\n",
        "\n",
        "create_global_vars(globals(), varprefix='data_')\n",
        "\n",
        "# data_17.dtypes"
      ]
    },
    {
      "cell_type": "code",
      "execution_count": 22,
      "metadata": {},
      "outputs": [],
      "source": [
        "from libs.config import *"
      ]
    },
    {
      "cell_type": "code",
      "execution_count": 23,
      "metadata": {
        "id": "1d4da807abc1",
        "notebookRunGroups": {
          "groupValue": "1"
        }
      },
      "outputs": [
        {
          "name": "stdout",
          "output_type": "stream",
          "text": [
            "(107420, 20) Index(['原始重量', '轴重', 'su_ad', '原始重量_diff', '轴重_diff', 'su_ad_diff', 'wpu_x',\n",
            "       'wpu_y', 'wpu_z', 'su_x', 'su_y', 'su_z', 'su_y_diff', 'su_z_diff',\n",
            "       'wpu_x_diff', 'wpu_y_diff', 'wpu_z_diff', 'label', '时间', '轨迹时间'],\n",
            "      dtype='object') 原始重量                   int64\n",
            "轴重                     int64\n",
            "su_ad                  int64\n",
            "原始重量_diff              int64\n",
            "轴重_diff                int64\n",
            "su_ad_diff             int64\n",
            "wpu_x                  int64\n",
            "wpu_y                  int64\n",
            "wpu_z                  int64\n",
            "su_x                   int64\n",
            "su_y                   int64\n",
            "su_z                   int64\n",
            "su_y_diff              int64\n",
            "su_z_diff              int64\n",
            "wpu_x_diff             int64\n",
            "wpu_y_diff             int64\n",
            "wpu_z_diff             int64\n",
            "label                  int64\n",
            "时间            datetime64[ns]\n",
            "轨迹时间                  object\n",
            "dtype: object\n"
          ]
        }
      ],
      "source": [
        "#组合数据集\n",
        "from load_data import categories\n",
        "\n",
        "numeric_col_names = [\n",
        "    '原始重量',\n",
        "    # '稳定重量',\n",
        "    '轴重',\n",
        "    'su_ad',\n",
        "    '原始重量_diff',\n",
        "    # '稳定重量_diff',\n",
        "    '轴重_diff',\n",
        "    'su_ad_diff',\n",
        "    'wpu_x',\n",
        "    'wpu_y',\n",
        "    'wpu_z',\n",
        "    'su_x',\n",
        "    'su_y',\n",
        "    'su_z',\n",
        "    # 'su_x_diff',\n",
        "    'su_y_diff',\n",
        "    'su_z_diff',\n",
        "    'wpu_x_diff',\n",
        "    'wpu_y_diff',\n",
        "    'wpu_z_diff',\n",
        "    # '速度',\n",
        "    # '估计重量',\n",
        "]\n",
        "# numeric_col_names = [\n",
        "#     'wpu_x_diff',\n",
        "#     'wpu_y_diff',\n",
        "#     'wpu_z_diff',\n",
        "# ]\n",
        "# delete some\n",
        "# ['Unnamed: 0' ,\n",
        "# 'label'      , '时间'         , '轨迹时间'       , '速度',, '估计重量'\n",
        "# '原始重量'       , '稳定重量'       , '轴重'         , 'su_ad',\n",
        "# '原始重量_diff'  , '稳定重量_diff'  , '轴重_diff'    , 'su_ad_diff',\n",
        "# 'wpu_x'      , 'wpu_y'      , 'wpu_z'      ,\n",
        "# 'wpu_x_diff' , 'wpu_y_diff' , 'wpu_z_diff',\n",
        "# 'su_x'       , 'su_y'       , 'su_z'       ,\n",
        "# 'su_x_diff'  , 'su_y_diff'  , 'su_z_diff'\n",
        "# ]\n",
        "label_col_names = [\"label\"]\n",
        "time_col_names = [\"时间\", \"轨迹时间\"]\n",
        "\n",
        "all_col_names = numeric_col_names + label_col_names + time_col_names\n",
        "df17, df21, df22, df23, df24 = data_17[all_col_names], data_21[all_col_names], data_22[all_col_names], data_23[all_col_names], data_24[all_col_names]\n",
        "\n",
        "numeric_abs_col_names = [str(col + '_abs') for col in numeric_col_names]\n",
        "numeric_smooth_col_names = [str(col + '_smooth') for col in numeric_col_names]\n",
        "numeric_iqr_col_names = [str(col + '_iqr') for col in numeric_col_names]\n",
        "feature_col_names = numeric_col_names# 暂时去掉 时间\n",
        "feature_col_num = len(feature_col_names)\n",
        "\n",
        "class_num = len(categories)\n",
        "\n",
        "origindata = pd.concat([df17, df21, df22, df23, df24], axis=0, ignore_index=True)\n",
        "\n",
        "# print(origindata.columns)\n",
        "\n",
        "print(origindata.shape, origindata.columns, origindata.dtypes)"
      ]
    },
    {
      "cell_type": "code",
      "execution_count": 24,
      "metadata": {},
      "outputs": [
        {
          "name": "stdout",
          "output_type": "stream",
          "text": [
            "(107420, 20) (107420, 20)\n"
          ]
        }
      ],
      "source": [
        "# check 数据集有缺失值\n",
        "shapea= origindata.shape\n",
        "df = origindata.dropna()\n",
        "shapeb =df.shape\n",
        "print(shapea, shapeb)\n",
        "if shapea != shapeb:\n",
        "    print(shapea,shapeb)\n",
        "    ValueError(\"数据集有缺失值\")\n",
        "\n",
        "# missing_values"
      ]
    },
    {
      "cell_type": "code",
      "execution_count": 25,
      "metadata": {},
      "outputs": [],
      "source": [
        "import tensorflow as tf\n",
        "import tensorflow as tf\n",
        "import numpy as np\n",
        "\n",
        "from turtle import up\n",
        "import pandas as pd\n",
        "import scipy\n",
        "from scipy.stats import iqr\n",
        "\n",
        "\n",
        "def windowed_dataset(dataset: tf.data.Dataset, window_size=5, shift=1, stride=1):\n",
        "    if window_size == None or window_size <= 0:\n",
        "        return dataset\n",
        "\n",
        "    def sub_to_batch(t1, t2=None):\n",
        "        t1_batches = t1.batch(window_size, drop_remainder=True)\n",
        "\n",
        "        if t2 is not None:\n",
        "            t2_batches = t2.batch(window_size, drop_remainder=True)\n",
        "            return tf.data.Dataset.zip(t1_batches, t2_batches)\n",
        "        else:\n",
        "            return t1_batches\n",
        "\n",
        "    def pick_batch(t1, t2: tf.Tensor | None):\n",
        "        return (t1, t2)\n",
        "        if t2 is None:\n",
        "            return t1\n",
        "        else:\n",
        "            print(t2)\n",
        "            t2_batches = t2[0, 0]\n",
        "            return (t1, t2_batches)\n",
        "\n",
        "    return dataset.window(window_size, shift=shift, stride=stride, drop_remainder=True).flat_map(sub_to_batch).batch(window_size, drop_remainder=True).map(pick_batch)\n",
        "    return windows  #.batch(window_size, drop_remainder=drop_remainder)\n",
        "\n",
        "\n",
        "def window_batch_dataset(df: pd.DataFrame, window_size=4, batch_size=None):\n",
        "\n",
        "    if not batch_size == None and batch_size > 0:\n",
        "        dataset = windowed_dataset(tf.data.Dataset.from_tensor_slices(df.values), window_size).batch(batch_size=batch_size, drop_remainder=True)\n",
        "    else:\n",
        "        dataset = windowed_dataset(tf.data.Dataset.from_tensor_slices(df.values), window_size)\n",
        "    return dataset\n",
        "\n",
        "\n",
        "def convert_to_numpy(ds: tf.data.Dataset):\n",
        "    # 将 dataset 转换为 NumPy 数组\n",
        "    numpy_array = None\n",
        "    for data in ds.as_numpy_iterator():\n",
        "        # 确保数据是 NumPy 数组\n",
        "        data_np = np.array(data)\n",
        "\n",
        "        # 如果 numpy_array 还没有初始化，初始化它\n",
        "        if numpy_array is None:\n",
        "            numpy_array = data_np\n",
        "        else:\n",
        "            # # 确保数据的形状与 numpy_array 相同\n",
        "            # if data_np.shape[1:] != numpy_array.shape[1:]:\n",
        "            #     raise ValueError(\"All data items must have the same shape except for the first dimension.\")\n",
        "\n",
        "            # 垂直堆叠数据\n",
        "            numpy_array = np.vstack((numpy_array, data_np))\n",
        "\n",
        "    return numpy_array\n",
        "\n",
        "\n",
        "def get_shape(*args):\n",
        "    shapes = []\n",
        "    for arg in args:\n",
        "        shapes.append(arg.shape if arg is not None else None)\n",
        "    return shapes"
      ]
    },
    {
      "cell_type": "code",
      "execution_count": 26,
      "metadata": {},
      "outputs": [],
      "source": [
        "from turtle import up\n",
        "import scipy\n",
        "from scipy.stats import iqr\n",
        "\n",
        "p = 1.5\n",
        "\n",
        "\n",
        "def replace_iqr_outliers(df: pd.DataFrame, numberic_col_names: list[str], with_new_col=True):\n",
        "    q = 0.25\n",
        "    _df = df.copy()\n",
        "    tuple_cols = zip(numberic_col_names, numeric_iqr_col_names)\n",
        "    for column, new_col in tuple_cols:\n",
        "        _df[column] = _df[column].astype(float)\n",
        "        q1 = _df[column].quantile(q)  #.quantile(0.25)\n",
        "        q3 = _df[column].quantile(1 - q)  #.quantile(0.75)\n",
        "        iqr_value = iqr(_df[column], rng=(q * 100, (1 - q) * 100))\n",
        "        # print('------', iqr_value)\n",
        "\n",
        "        lower_bound = q1 - p * iqr_value\n",
        "        upper_bound = q3 + p * iqr_value\n",
        "        if with_new_col:\n",
        "            _df[new_col] = _df[column]\n",
        "            _df.loc[_df[column] < lower_bound, new_col] = lower_bound\n",
        "            _df.loc[_df[column] > upper_bound, new_col] = upper_bound\n",
        "\n",
        "        else:\n",
        "            _df.loc[_df[column] < lower_bound, column] = lower_bound\n",
        "            _df.loc[_df[column] > upper_bound, column] = upper_bound\n",
        "\n",
        "    return _df, list(dict.fromkeys(feature_col_names + numeric_iqr_col_names))"
      ]
    },
    {
      "cell_type": "code",
      "execution_count": 27,
      "metadata": {
        "notebookRunGroups": {
          "groupValue": "1"
        }
      },
      "outputs": [],
      "source": [
        "# 准备数据\n",
        "# 使用Savitzky-Golay 滤波器后得到平滑图线\n",
        "from numpy import ndarray\n",
        "from scipy import signal as sg\n",
        "from libs.expandrows import dataframe_filter\n",
        "from joblib import dump, load\n",
        "\n",
        "\n",
        "def proccess_data_df(df_inp: pd.DataFrame):\n",
        "\n",
        "    df = df_inp.copy()\n",
        "\n",
        "    # 假设df是一个时间序列DataFrame，其中索引是时间戳\n",
        "    # if not '时间' in df.index.names or not isinstance(df.index, pd.DatetimeIndex):\n",
        "    #     df.sort_values('时间', axis=0, ascending=True)\n",
        "    #     df.set_index('时间', inplace=True)  # 如果还没有将时间戳设为索引\n",
        "    #     df = df.sort_index(axis=0, ascending=True)\n",
        "    # df.interpolate(method='linear', inplace=True)\n",
        "    # 确保索引已经是datetime类型\n",
        "    # df.index = pd.to_datetime(df.index)\n",
        "\n",
        "    # # 计算相邻时间点之间的差值\n",
        "    # time_diffs = df.index.to_series(name='timespan').diff()\n",
        "    # print(time_diffs)\n",
        "    # # 找出那些间隔超过3秒的索引\n",
        "    # large_gaps = time_diffs[time_diffs > pd.Timedelta(seconds=6)].index\n",
        "    # print(large_gaps)\n",
        "    # # 若要查看每段连续的间隔超过3秒的区间\n",
        "    # gaps_df = pd.DataFrame({'start': large_gaps[:-1], 'end': large_gaps[1:]})\n",
        "    # # 若只需要每个间隔的开始时间\n",
        "    # gap_starts = large_gaps[:-1]\n",
        "\n",
        "    # print(\"间隔超过3秒的开始时间点：\", gap_starts)\n",
        "\n",
        "    df, feature_col_names = replace_iqr_outliers(df, numeric_col_names)\n",
        "\n",
        "    for origin_col, abs_col, smooth_col, iqr_col in zip(numeric_col_names, numeric_abs_col_names, numeric_smooth_col_names, numeric_iqr_col_names):\n",
        "        df[smooth_col] = np.convolve(df[origin_col].astype(float), np.ones((5, )), mode='same')\n",
        "        df[abs_col] = abs(df[smooth_col])\n",
        "        # df[smooth_col] = df[origin_col]\n",
        "    feature_col_names = list(dict.fromkeys(feature_col_names + numeric_col_names + numeric_abs_col_names + numeric_smooth_col_names))\n",
        "\n",
        "    # df_filter_important = dataframe_filter(df_iqr, 30)  # 过滤为0的数据\n",
        "\n",
        "    # df_filter_important\n",
        "\n",
        "    # df_expanded = df_expanded  #.dropna()\n",
        "\n",
        "    # df_selected.insert(0,co)\n",
        "    # df_selected[col] = sg.savgol_filter(df_selected[col].astype(float), window_length=21, delta=0.5, polyorder=1, mode='constant')\n",
        "    # df_selected[col] = np.convolve(df_selected[col].astype(float), np.ones((5, )), mode='same')\n",
        "    # df_selected[col] = abs(df_selected[col].astype(float))\n",
        "    # df_selected[col] = np.convolve(df_selected[col].astype(float), np.ones((5, )), mode='same')\n",
        "\n",
        "    df = df[feature_col_names + label_col_names + time_col_names]\n",
        "    # 假设你有多个列需要比较\n",
        "    columns_to_plot = feature_col_names + label_col_names\n",
        "    # df_smooth.reset_index()\n",
        "    df = df[columns_to_plot]\n",
        "\n",
        "    # dfview.reset_index(drop=True, inplace=True)\n",
        "    # df_to_plot\n",
        "\n",
        "    # if os.path.exists('scaler.joblib'):\n",
        "    #     scaler = load('scaler.joblib')\n",
        "    #     normalized = scaler.fit_transform(df_to_plot[feature_col_names])\n",
        "    #     print('exsited scaler.joblib')\n",
        "    # else:\n",
        "    #     scaler = skl.StandardScaler()\n",
        "    #     normalized = scaler.fit_transform(df_to_plot[feature_col_names])\n",
        "    #     dump(scaler, 'scaler.joblib')\n",
        "    #     print('New scaler.joblib')\n",
        "    # scaler = skl.StandardScaler()\n",
        "    # normalized = scaler.fit_transform(df_to_plot[feature_col_names])\n",
        "    normalized = df[feature_col_names].values\n",
        "    df = pd.DataFrame(normalized, columns=feature_col_names)\n",
        "    df[label_col_names] = df_inp[label_col_names]\n",
        "    return df\n",
        "\n",
        "\n",
        "def proccess_data_dataset(df_input: pd.DataFrame, epochs: int, batch_size: int):\n",
        "    import math\n",
        "    df_to_plot = proccess_data_df(df_input)\n",
        "\n",
        "    num_examples = len(df_to_plot)\n",
        "    steps_per_epoch = math.ceil(num_examples / batch_size)\n",
        "\n",
        "    x = tf.data.Dataset.from_tensor_slices((df_to_plot[feature_col_names]))\n",
        "    print('--------------------------- = ')\n",
        "    print('num_examples = ', num_examples)\n",
        "    print('batch_size = ', batch_size)\n",
        "    print('steps_per_epoch = ', steps_per_epoch)\n",
        "    print('colums = ', len(feature_col_names))\n",
        "\n",
        "    def one_hot_encoding(label):\n",
        "        return tf.squeeze(tf.one_hot(label, depth=class_num))\n",
        "\n",
        "    y = tf.data.Dataset.from_tensor_slices((df_to_plot[label_col_names].astype(int))).map(one_hot_encoding)\n",
        "\n",
        "    featureTarget = x\n",
        "    # featureTarget = windowed_dataset(x, time_steps)\n",
        "\n",
        "    feature, label = windowed_dataset(featureTarget,\n",
        "                                      time_steps), y  #.batch(        batch_size, drop_remainder=True)  #.shuffle(num_examples, reshuffle_each_iteration=True).batch(batch_size, drop_remainder=True).repeat(epochs).prefetch(tf.data.AUTOTUNE)\n",
        "\n",
        "    # total_examples = len(normalized)  # 获取数据集总样本数\n",
        "    # train_ratio = 0.7  # 训练集占比\n",
        "    # num_train_examples = int(total_examples * train_ratio)\n",
        "    # num_val_examples = total_examples - num_train_examples\n",
        "    # print('total_examples = ', total_examples)\n",
        "    # print('num_train_examples =', num_train_examples)\n",
        "    # print('num_val_examples =', num_val_examples)\n",
        "    # train_dataset = target.take(num_train_examples)\n",
        "    # val_dataset = target.skip(num_train_examples)\n",
        "\n",
        "    # trainWindow = train_dataset.prefetch(tf.data.AUTOTUNE)  #.batch(batch_size=batch_size, drop_remainder=True)\n",
        "    # valWindow = val_dataset.prefetch(tf.data.AUTOTUNE)  #.batch(batch_size=batch_size, drop_remainder=True)\n",
        "\n",
        "    # # for a, b in trainWindow.take(1):\n",
        "    # #     print('x=======================')\n",
        "    # #     print(a.numpy())\n",
        "    # #     print('y---------------------')\n",
        "    # #     print(b.numpy())\n",
        "    # for a, b in valWindow.take(1):\n",
        "    #     print('a =======================')\n",
        "    #     print(a.shape)\n",
        "    #     print(a.numpy())\n",
        "    #     print('b---------------------')\n",
        "    #     print(b.shape)\n",
        "    #     print(b.numpy())\n",
        "    # # yview=np.array(list(y))\n",
        "    # # yview = list(y)\n",
        "    # # normalized\n",
        "    # # print(yview)\n",
        "    return convert_to_numpy(feature), convert_to_numpy(label), steps_per_epoch\n"
      ]
    },
    {
      "cell_type": "code",
      "execution_count": 28,
      "metadata": {},
      "outputs": [],
      "source": [
        "# !python -m pip install plotly plotly_express chart-studio cufflinks pyarrow\n",
        "import plotly_express as px  # import plotly.express as px\n",
        "import plotly.graph_objects as go\n",
        "import chart_studio.plotly as py\n",
        "from plotly.subplots import make_subplots\n",
        "# Cufflinks wrapper on plotly\n",
        "import cufflinks as cf\n",
        "\n",
        "\n",
        "# print(df['时间'].shape, df[feature_col_names].shape)\n",
        "# fig = px.line(df, x='时间', y=feature_col_names + label_col_names,range_x=['2023-12-24 00:00:00', '2023-12-24 09:00:00'])\n",
        "# fig.show()"
      ]
    },
    {
      "cell_type": "code",
      "execution_count": 29,
      "metadata": {},
      "outputs": [
        {
          "name": "stdout",
          "output_type": "stream",
          "text": [
            "test_weight=======================\n",
            "{0: 0.3434428692922046, 1: 32.374924653405664, 2: 17.415693904020753}\n"
          ]
        }
      ],
      "source": [
        "from libs.class_weight import generate_class_weights\n",
        "\n",
        "\n",
        "\n",
        "# test_weight = generate_class_weights(list(y), multi_class=True, one_hot_encoded=True)\n",
        "\n",
        "test_weight = {0: 0.3434428692922046, 1: 32.374924653405664, 2: 17.415693904020753}\n",
        "\n",
        "\n",
        "# y1 = df_filter_important[label_col_names].iloc[:, 0].tolist()\n",
        "# test_weight1 = generate_class_weights(y1, multi_class=True, one_hot_encoded=False)\n",
        "# print(test_weight1)\n",
        "# y1\n",
        "\n",
        "print('test_weight=======================')\n",
        "print(test_weight)"
      ]
    },
    {
      "cell_type": "code",
      "execution_count": 30,
      "metadata": {
        "id": "e735d350cea5"
      },
      "outputs": [],
      "source": [
        "# %load_ext tensorboard\n",
        "# %tensorboard --logdir \"./logs\"\n",
        "# cmd 当前环境，当前目录 运行   tensorboard --logdir=logs --host=127.0.0.1\n",
        "# 网页中可以查看模型训练过程trainWindow, valWindow = proccess_data(df)\n"
      ]
    },
    {
      "cell_type": "code",
      "execution_count": 31,
      "metadata": {
        "notebookRunGroups": {
          "groupValue": "1"
        }
      },
      "outputs": [],
      "source": [
        "df = proccess_data_df(pd.concat([df21, df22, df23], axis=0, ignore_index=True))\n",
        "import matplotlib.pyplot as plt\n",
        "\n"
      ]
    },
    {
      "cell_type": "code",
      "execution_count": 32,
      "metadata": {
        "notebookRunGroups": {
          "groupValue": "1"
        }
      },
      "outputs": [
        {
          "name": "stdout",
          "output_type": "stream",
          "text": [
            "--------------------------- = \n",
            "num_examples =  80819\n",
            "batch_size =  512\n",
            "steps_per_epoch =  158\n",
            "colums =  17\n",
            "--------------------------- = \n",
            "num_examples =  10071\n",
            "batch_size =  512\n",
            "steps_per_epoch =  20\n",
            "colums =  17\n"
          ]
        }
      ],
      "source": [
        "import math\n",
        "#pd.concat([df17, df21, df22, df23, df24], axis=0, ignore_index=True)\n",
        "train_x, train_y, steps_per_epoch = proccess_data_dataset(pd.concat([df21, df22, df23], axis=0, ignore_index=True), epochs, batch_size=batch_size)\n",
        "test_feature, test_label, test_steps_per_epoch = proccess_data_dataset(df24, epochs, batch_size=batch_size)\n",
        "\n",
        " \n",
        "# features_ndarray = None\n",
        "# labels_ndarray = None\n",
        "\n",
        "# for x, y in train_x, train_y:\n",
        "#     # 注意：实际应用中，特别是大数据集，直接转换整个数据集到ndarray可能会消耗大量内存\n",
        "#     features_ndarray = x.numpy()\n",
        "#     labels_ndarray = x.numpy()\n",
        "#     break  # 仅取一个batch作为示例，避免无限循环\n",
        "\n",
        "# print(\"Features NumPy Array Shape:\", features_ndarray.shape)\n",
        "# print(\"Labels NumPy Array Shape:\", labels_ndarray.shape)\n",
        "# print(steps_per_epoch)"
      ]
    },
    {
      "cell_type": "code",
      "execution_count": 33,
      "metadata": {
        "notebookRunGroups": {
          "groupValue": "2"
        }
      },
      "outputs": [
        {
          "name": "stdout",
          "output_type": "stream",
          "text": [
            "17\n"
          ]
        },
        {
          "data": {
            "text/html": [
              "<pre style=\"white-space:pre;overflow-x:auto;line-height:normal;font-family:Menlo,'DejaVu Sans Mono',consolas,'Courier New',monospace\"><span style=\"font-weight: bold\">Model: \"sequential_1\"</span>\n",
              "</pre>\n"
            ],
            "text/plain": [
              "\u001b[1mModel: \"sequential_1\"\u001b[0m\n"
            ]
          },
          "metadata": {},
          "output_type": "display_data"
        },
        {
          "data": {
            "text/html": [
              "<pre style=\"white-space:pre;overflow-x:auto;line-height:normal;font-family:Menlo,'DejaVu Sans Mono',consolas,'Courier New',monospace\">┏━━━━━━━━━━━━━━━━━━━━━━━━━━━━━━━━━┳━━━━━━━━━━━━━━━━━━━━━━━━┳━━━━━━━━━━━━━━━┓\n",
              "┃<span style=\"font-weight: bold\"> Layer (type)                    </span>┃<span style=\"font-weight: bold\"> Output Shape           </span>┃<span style=\"font-weight: bold\">       Param # </span>┃\n",
              "┡━━━━━━━━━━━━━━━━━━━━━━━━━━━━━━━━━╇━━━━━━━━━━━━━━━━━━━━━━━━╇━━━━━━━━━━━━━━━┩\n",
              "│ conv1d_2 (<span style=\"color: #0087ff; text-decoration-color: #0087ff\">Conv1D</span>)               │ (<span style=\"color: #00d7ff; text-decoration-color: #00d7ff\">None</span>, <span style=\"color: #00af00; text-decoration-color: #00af00\">10</span>, <span style=\"color: #00af00; text-decoration-color: #00af00\">512</span>)        │        <span style=\"color: #00af00; text-decoration-color: #00af00\">61,440</span> │\n",
              "├─────────────────────────────────┼────────────────────────┼───────────────┤\n",
              "│ dropout_2 (<span style=\"color: #0087ff; text-decoration-color: #0087ff\">Dropout</span>)             │ (<span style=\"color: #00d7ff; text-decoration-color: #00d7ff\">None</span>, <span style=\"color: #00af00; text-decoration-color: #00af00\">10</span>, <span style=\"color: #00af00; text-decoration-color: #00af00\">512</span>)        │             <span style=\"color: #00af00; text-decoration-color: #00af00\">0</span> │\n",
              "├─────────────────────────────────┼────────────────────────┼───────────────┤\n",
              "│ conv1d_3 (<span style=\"color: #0087ff; text-decoration-color: #0087ff\">Conv1D</span>)               │ (<span style=\"color: #00d7ff; text-decoration-color: #00d7ff\">None</span>, <span style=\"color: #00af00; text-decoration-color: #00af00\">5</span>, <span style=\"color: #00af00; text-decoration-color: #00af00\">512</span>)         │     <span style=\"color: #00af00; text-decoration-color: #00af00\">1,835,520</span> │\n",
              "├─────────────────────────────────┼────────────────────────┼───────────────┤\n",
              "│ conv1d_transpose_3              │ (<span style=\"color: #00d7ff; text-decoration-color: #00d7ff\">None</span>, <span style=\"color: #00af00; text-decoration-color: #00af00\">10</span>, <span style=\"color: #00af00; text-decoration-color: #00af00\">512</span>)        │     <span style=\"color: #00af00; text-decoration-color: #00af00\">1,835,520</span> │\n",
              "│ (<span style=\"color: #0087ff; text-decoration-color: #0087ff\">Conv1DTranspose</span>)               │                        │               │\n",
              "├─────────────────────────────────┼────────────────────────┼───────────────┤\n",
              "│ dropout_3 (<span style=\"color: #0087ff; text-decoration-color: #0087ff\">Dropout</span>)             │ (<span style=\"color: #00d7ff; text-decoration-color: #00d7ff\">None</span>, <span style=\"color: #00af00; text-decoration-color: #00af00\">10</span>, <span style=\"color: #00af00; text-decoration-color: #00af00\">512</span>)        │             <span style=\"color: #00af00; text-decoration-color: #00af00\">0</span> │\n",
              "├─────────────────────────────────┼────────────────────────┼───────────────┤\n",
              "│ conv1d_transpose_4              │ (<span style=\"color: #00d7ff; text-decoration-color: #00d7ff\">None</span>, <span style=\"color: #00af00; text-decoration-color: #00af00\">20</span>, <span style=\"color: #00af00; text-decoration-color: #00af00\">512</span>)        │     <span style=\"color: #00af00; text-decoration-color: #00af00\">1,835,520</span> │\n",
              "│ (<span style=\"color: #0087ff; text-decoration-color: #0087ff\">Conv1DTranspose</span>)               │                        │               │\n",
              "├─────────────────────────────────┼────────────────────────┼───────────────┤\n",
              "│ conv1d_transpose_5              │ (<span style=\"color: #00d7ff; text-decoration-color: #00d7ff\">None</span>, <span style=\"color: #00af00; text-decoration-color: #00af00\">20</span>, <span style=\"color: #00af00; text-decoration-color: #00af00\">32</span>)         │       <span style=\"color: #00af00; text-decoration-color: #00af00\">114,720</span> │\n",
              "│ (<span style=\"color: #0087ff; text-decoration-color: #0087ff\">Conv1DTranspose</span>)               │                        │               │\n",
              "├─────────────────────────────────┼────────────────────────┼───────────────┤\n",
              "│ dense_1 (<span style=\"color: #0087ff; text-decoration-color: #0087ff\">Dense</span>)                 │ (<span style=\"color: #00d7ff; text-decoration-color: #00d7ff\">None</span>, <span style=\"color: #00af00; text-decoration-color: #00af00\">20</span>, <span style=\"color: #00af00; text-decoration-color: #00af00\">3</span>)          │            <span style=\"color: #00af00; text-decoration-color: #00af00\">99</span> │\n",
              "└─────────────────────────────────┴────────────────────────┴───────────────┘\n",
              "</pre>\n"
            ],
            "text/plain": [
              "┏━━━━━━━━━━━━━━━━━━━━━━━━━━━━━━━━━┳━━━━━━━━━━━━━━━━━━━━━━━━┳━━━━━━━━━━━━━━━┓\n",
              "┃\u001b[1m \u001b[0m\u001b[1mLayer (type)                   \u001b[0m\u001b[1m \u001b[0m┃\u001b[1m \u001b[0m\u001b[1mOutput Shape          \u001b[0m\u001b[1m \u001b[0m┃\u001b[1m \u001b[0m\u001b[1m      Param #\u001b[0m\u001b[1m \u001b[0m┃\n",
              "┡━━━━━━━━━━━━━━━━━━━━━━━━━━━━━━━━━╇━━━━━━━━━━━━━━━━━━━━━━━━╇━━━━━━━━━━━━━━━┩\n",
              "│ conv1d_2 (\u001b[38;5;33mConv1D\u001b[0m)               │ (\u001b[38;5;45mNone\u001b[0m, \u001b[38;5;34m10\u001b[0m, \u001b[38;5;34m512\u001b[0m)        │        \u001b[38;5;34m61,440\u001b[0m │\n",
              "├─────────────────────────────────┼────────────────────────┼───────────────┤\n",
              "│ dropout_2 (\u001b[38;5;33mDropout\u001b[0m)             │ (\u001b[38;5;45mNone\u001b[0m, \u001b[38;5;34m10\u001b[0m, \u001b[38;5;34m512\u001b[0m)        │             \u001b[38;5;34m0\u001b[0m │\n",
              "├─────────────────────────────────┼────────────────────────┼───────────────┤\n",
              "│ conv1d_3 (\u001b[38;5;33mConv1D\u001b[0m)               │ (\u001b[38;5;45mNone\u001b[0m, \u001b[38;5;34m5\u001b[0m, \u001b[38;5;34m512\u001b[0m)         │     \u001b[38;5;34m1,835,520\u001b[0m │\n",
              "├─────────────────────────────────┼────────────────────────┼───────────────┤\n",
              "│ conv1d_transpose_3              │ (\u001b[38;5;45mNone\u001b[0m, \u001b[38;5;34m10\u001b[0m, \u001b[38;5;34m512\u001b[0m)        │     \u001b[38;5;34m1,835,520\u001b[0m │\n",
              "│ (\u001b[38;5;33mConv1DTranspose\u001b[0m)               │                        │               │\n",
              "├─────────────────────────────────┼────────────────────────┼───────────────┤\n",
              "│ dropout_3 (\u001b[38;5;33mDropout\u001b[0m)             │ (\u001b[38;5;45mNone\u001b[0m, \u001b[38;5;34m10\u001b[0m, \u001b[38;5;34m512\u001b[0m)        │             \u001b[38;5;34m0\u001b[0m │\n",
              "├─────────────────────────────────┼────────────────────────┼───────────────┤\n",
              "│ conv1d_transpose_4              │ (\u001b[38;5;45mNone\u001b[0m, \u001b[38;5;34m20\u001b[0m, \u001b[38;5;34m512\u001b[0m)        │     \u001b[38;5;34m1,835,520\u001b[0m │\n",
              "│ (\u001b[38;5;33mConv1DTranspose\u001b[0m)               │                        │               │\n",
              "├─────────────────────────────────┼────────────────────────┼───────────────┤\n",
              "│ conv1d_transpose_5              │ (\u001b[38;5;45mNone\u001b[0m, \u001b[38;5;34m20\u001b[0m, \u001b[38;5;34m32\u001b[0m)         │       \u001b[38;5;34m114,720\u001b[0m │\n",
              "│ (\u001b[38;5;33mConv1DTranspose\u001b[0m)               │                        │               │\n",
              "├─────────────────────────────────┼────────────────────────┼───────────────┤\n",
              "│ dense_1 (\u001b[38;5;33mDense\u001b[0m)                 │ (\u001b[38;5;45mNone\u001b[0m, \u001b[38;5;34m20\u001b[0m, \u001b[38;5;34m3\u001b[0m)          │            \u001b[38;5;34m99\u001b[0m │\n",
              "└─────────────────────────────────┴────────────────────────┴───────────────┘\n"
            ]
          },
          "metadata": {},
          "output_type": "display_data"
        },
        {
          "data": {
            "text/html": [
              "<pre style=\"white-space:pre;overflow-x:auto;line-height:normal;font-family:Menlo,'DejaVu Sans Mono',consolas,'Courier New',monospace\"><span style=\"font-weight: bold\"> Total params: </span><span style=\"color: #00af00; text-decoration-color: #00af00\">5,682,819</span> (21.68 MB)\n",
              "</pre>\n"
            ],
            "text/plain": [
              "\u001b[1m Total params: \u001b[0m\u001b[38;5;34m5,682,819\u001b[0m (21.68 MB)\n"
            ]
          },
          "metadata": {},
          "output_type": "display_data"
        },
        {
          "data": {
            "text/html": [
              "<pre style=\"white-space:pre;overflow-x:auto;line-height:normal;font-family:Menlo,'DejaVu Sans Mono',consolas,'Courier New',monospace\"><span style=\"font-weight: bold\"> Trainable params: </span><span style=\"color: #00af00; text-decoration-color: #00af00\">5,682,819</span> (21.68 MB)\n",
              "</pre>\n"
            ],
            "text/plain": [
              "\u001b[1m Trainable params: \u001b[0m\u001b[38;5;34m5,682,819\u001b[0m (21.68 MB)\n"
            ]
          },
          "metadata": {},
          "output_type": "display_data"
        },
        {
          "data": {
            "text/html": [
              "<pre style=\"white-space:pre;overflow-x:auto;line-height:normal;font-family:Menlo,'DejaVu Sans Mono',consolas,'Courier New',monospace\"><span style=\"font-weight: bold\"> Non-trainable params: </span><span style=\"color: #00af00; text-decoration-color: #00af00\">0</span> (0.00 B)\n",
              "</pre>\n"
            ],
            "text/plain": [
              "\u001b[1m Non-trainable params: \u001b[0m\u001b[38;5;34m0\u001b[0m (0.00 B)\n"
            ]
          },
          "metadata": {},
          "output_type": "display_data"
        },
        {
          "name": "stdout",
          "output_type": "stream",
          "text": [
            "tensorboard --logdir=\"c:\\AppData\\code-ai\\CNN-LSTM-Attention\\model_output\\logs_20240430-095932\" --host=127.0.0.1\n"
          ]
        }
      ],
      "source": [
        "# 编译模型\n",
        "# %reload_ext autoreload\n",
        "# %autoreload 2\n",
        "# import keras.src\n",
        "from libs.callbacks import get_callbacks\n",
        "from libs.model1 import compile_model\n",
        "\n",
        "print(feature_col_num)\n",
        "model: keras.Model = compile_model(time_steps, feature_col_num, class_num, class_num)\n",
        "initial_learning_rate = 0.01\n",
        "callbacks = get_callbacks(initial_learning_rate)"
      ]
    },
    {
      "cell_type": "code",
      "execution_count": 34,
      "metadata": {
        "notebookRunGroups": {
          "groupValue": "2"
        }
      },
      "outputs": [
        {
          "ename": "ValueError",
          "evalue": "Data cardinality is ambiguous. Make sure all arrays contain the same number of samples.'x' sizes: 1616000\n'y' sizes: 80819\n'sample_weight' sizes: 80819\n",
          "output_type": "error",
          "traceback": [
            "\u001b[1;31m---------------------------------------------------------------------------\u001b[0m",
            "\u001b[1;31mValueError\u001b[0m                                Traceback (most recent call last)",
            "Cell \u001b[1;32mIn[34], line 3\u001b[0m\n\u001b[0;32m      1\u001b[0m \u001b[38;5;66;03m# tf.config.run_functions_eagerly(True)\u001b[39;00m\n\u001b[0;32m      2\u001b[0m repeat_count \u001b[38;5;241m=\u001b[39m steps_per_epoch \u001b[38;5;241m*\u001b[39m epochs\n\u001b[1;32m----> 3\u001b[0m history \u001b[38;5;241m=\u001b[39m \u001b[43mmodel\u001b[49m\u001b[38;5;241;43m.\u001b[39;49m\u001b[43mfit\u001b[49m\u001b[43m(\u001b[49m\n\u001b[0;32m      4\u001b[0m \u001b[43m    \u001b[49m\u001b[43mtrain_x\u001b[49m\u001b[43m,\u001b[49m\n\u001b[0;32m      5\u001b[0m \u001b[43m    \u001b[49m\u001b[43mtrain_y\u001b[49m\u001b[43m,\u001b[49m\n\u001b[0;32m      6\u001b[0m \u001b[43m    \u001b[49m\u001b[43mepochs\u001b[49m\u001b[38;5;241;43m=\u001b[39;49m\u001b[43mepochs\u001b[49m\u001b[43m,\u001b[49m\n\u001b[0;32m      7\u001b[0m \u001b[43m    \u001b[49m\u001b[43mverbose\u001b[49m\u001b[38;5;241;43m=\u001b[39;49m\u001b[38;5;124;43m'\u001b[39;49m\u001b[38;5;124;43mauto\u001b[39;49m\u001b[38;5;124;43m'\u001b[39;49m\u001b[43m,\u001b[49m\n\u001b[0;32m      8\u001b[0m \u001b[43m    \u001b[49m\u001b[43mbatch_size\u001b[49m\u001b[38;5;241;43m=\u001b[39;49m\u001b[43mbatch_size\u001b[49m\u001b[43m,\u001b[49m\n\u001b[0;32m      9\u001b[0m \u001b[43m    \u001b[49m\u001b[38;5;66;43;03m# batch_size=batch_size,#batch_size: Integer or None. Number of samples per gradient update.\u001b[39;49;00m\n\u001b[0;32m     10\u001b[0m \u001b[43m    \u001b[49m\u001b[38;5;66;43;03m# If unspecified, batch_size will default to 32.\u001b[39;49;00m\n\u001b[0;32m     11\u001b[0m \u001b[43m    \u001b[49m\u001b[38;5;66;43;03m# Do not specify the batch_size if your data is in the form of datasets, generators, or keras.utils.Sequence instances (since they generate batches).\u001b[39;49;00m\n\u001b[0;32m     12\u001b[0m \u001b[43m    \u001b[49m\u001b[43mvalidation_data\u001b[49m\u001b[38;5;241;43m=\u001b[39;49m\u001b[43m(\u001b[49m\u001b[43mtest_feature\u001b[49m\u001b[43m,\u001b[49m\u001b[43m \u001b[49m\u001b[43mtest_label\u001b[49m\u001b[43m)\u001b[49m\u001b[43m,\u001b[49m\n\u001b[0;32m     13\u001b[0m \u001b[43m    \u001b[49m\u001b[38;5;66;43;03m# validation_split=0.2,\u001b[39;49;00m\n\u001b[0;32m     14\u001b[0m \u001b[43m    \u001b[49m\u001b[38;5;66;43;03m# shuffle=False,\u001b[39;49;00m\n\u001b[0;32m     15\u001b[0m \u001b[43m    \u001b[49m\u001b[38;5;66;43;03m# steps_per_epoch=steps_per_epoch,\u001b[39;49;00m\n\u001b[0;32m     16\u001b[0m \u001b[43m    \u001b[49m\u001b[43mcallbacks\u001b[49m\u001b[38;5;241;43m=\u001b[39;49m\u001b[43mcallbacks\u001b[49m\u001b[43m,\u001b[49m\n\u001b[0;32m     17\u001b[0m \u001b[43m    \u001b[49m\u001b[43mclass_weight\u001b[49m\u001b[38;5;241;43m=\u001b[39;49m\u001b[43mtest_weight\u001b[49m\u001b[43m,\u001b[49m\n\u001b[0;32m     18\u001b[0m \u001b[43m    \u001b[49m\u001b[38;5;66;43;03m# workers=10\u001b[39;49;00m\n\u001b[0;32m     19\u001b[0m \u001b[43m)\u001b[49m\n",
            "File \u001b[1;32mc:\\AppData\\.devhome\\conda\\envs\\py311tf216\\Lib\\site-packages\\keras\\src\\utils\\traceback_utils.py:122\u001b[0m, in \u001b[0;36mfilter_traceback.<locals>.error_handler\u001b[1;34m(*args, **kwargs)\u001b[0m\n\u001b[0;32m    119\u001b[0m     filtered_tb \u001b[38;5;241m=\u001b[39m _process_traceback_frames(e\u001b[38;5;241m.\u001b[39m__traceback__)\n\u001b[0;32m    120\u001b[0m     \u001b[38;5;66;03m# To get the full stack trace, call:\u001b[39;00m\n\u001b[0;32m    121\u001b[0m     \u001b[38;5;66;03m# `keras.config.disable_traceback_filtering()`\u001b[39;00m\n\u001b[1;32m--> 122\u001b[0m     \u001b[38;5;28;01mraise\u001b[39;00m e\u001b[38;5;241m.\u001b[39mwith_traceback(filtered_tb) \u001b[38;5;28;01mfrom\u001b[39;00m \u001b[38;5;28;01mNone\u001b[39;00m\n\u001b[0;32m    123\u001b[0m \u001b[38;5;28;01mfinally\u001b[39;00m:\n\u001b[0;32m    124\u001b[0m     \u001b[38;5;28;01mdel\u001b[39;00m filtered_tb\n",
            "File \u001b[1;32mc:\\AppData\\.devhome\\conda\\envs\\py311tf216\\Lib\\site-packages\\keras\\src\\trainers\\data_adapters\\data_adapter_utils.py:114\u001b[0m, in \u001b[0;36mcheck_data_cardinality\u001b[1;34m(data)\u001b[0m\n\u001b[0;32m    110\u001b[0m     sizes \u001b[38;5;241m=\u001b[39m \u001b[38;5;124m\"\u001b[39m\u001b[38;5;124m, \u001b[39m\u001b[38;5;124m\"\u001b[39m\u001b[38;5;241m.\u001b[39mjoin(\n\u001b[0;32m    111\u001b[0m         \u001b[38;5;28mstr\u001b[39m(i\u001b[38;5;241m.\u001b[39mshape[\u001b[38;5;241m0\u001b[39m]) \u001b[38;5;28;01mfor\u001b[39;00m i \u001b[38;5;129;01min\u001b[39;00m tree\u001b[38;5;241m.\u001b[39mflatten(single_data)\n\u001b[0;32m    112\u001b[0m     )\n\u001b[0;32m    113\u001b[0m     msg \u001b[38;5;241m+\u001b[39m\u001b[38;5;241m=\u001b[39m \u001b[38;5;124mf\u001b[39m\u001b[38;5;124m\"\u001b[39m\u001b[38;5;124m'\u001b[39m\u001b[38;5;132;01m{\u001b[39;00mlabel\u001b[38;5;132;01m}\u001b[39;00m\u001b[38;5;124m'\u001b[39m\u001b[38;5;124m sizes: \u001b[39m\u001b[38;5;132;01m{\u001b[39;00msizes\u001b[38;5;132;01m}\u001b[39;00m\u001b[38;5;130;01m\\n\u001b[39;00m\u001b[38;5;124m\"\u001b[39m\n\u001b[1;32m--> 114\u001b[0m \u001b[38;5;28;01mraise\u001b[39;00m \u001b[38;5;167;01mValueError\u001b[39;00m(msg)\n",
            "\u001b[1;31mValueError\u001b[0m: Data cardinality is ambiguous. Make sure all arrays contain the same number of samples.'x' sizes: 1616000\n'y' sizes: 80819\n'sample_weight' sizes: 80819\n"
          ]
        }
      ],
      "source": [
        "# tf.config.run_functions_eagerly(True)\n",
        "repeat_count = steps_per_epoch * epochs\n",
        "history = model.fit(\n",
        "    x=train_x,\n",
        "    y=train_y,\n",
        "    epochs=epochs,\n",
        "    verbose='auto',\n",
        "    batch_size=batch_size,\n",
        "    # batch_size=batch_size,#batch_size: Integer or None. Number of samples per gradient update.\n",
        "    # If unspecified, batch_size will default to 32.\n",
        "    # Do not specify the batch_size if your data is in the form of datasets, generators, or keras.utils.Sequence instances (since they generate batches).\n",
        "    validation_data=(test_feature, test_label),\n",
        "    # validation_split=0.2,\n",
        "    # shuffle=False,\n",
        "    # steps_per_epoch=steps_per_epoch,\n",
        "    callbacks=callbacks,\n",
        "    class_weight=test_weight,\n",
        "    # workers=10\n",
        ")"
      ]
    },
    {
      "cell_type": "code",
      "execution_count": null,
      "metadata": {},
      "outputs": [
        {
          "data": {
            "image/png": "[encoded data removed]",
            "text/plain": [
              "<Figure size 1500x1000 with 6 Axes>"
            ]
          },
          "metadata": {},
          "output_type": "display_data"
        },
        {
          "data": {
            "text/plain": [
              "<Figure size 640x480 with 0 Axes>"
            ]
          },
          "metadata": {},
          "output_type": "display_data"
        }
      ],
      "source": [
        "def plot_history_metrics(history: keras.callbacks.History):\n",
        "    total_plots = len(history.history)\n",
        "    cols = total_plots // 2\n",
        "\n",
        "    rows = total_plots // cols\n",
        "\n",
        "    if total_plots % cols != 0:\n",
        "        rows += 1\n",
        "\n",
        "    pos = range(1, total_plots + 1)\n",
        "    plt.figure(figsize=(15, 10))\n",
        "    for i, (key, value) in enumerate(history.history.items()):\n",
        "        plt.subplot(rows, cols, pos[i])\n",
        "        plt.plot(range(len(value)), value)\n",
        "        plt.title(str(key))\n",
        "    plt.show()\n",
        "    plt.savefig(os.path.join(log_dir, 'learning_rate.png'))\n",
        "\n",
        "plot_history_metrics(history)\n",
        "\n"
      ]
    },
    {
      "cell_type": "code",
      "execution_count": null,
      "metadata": {},
      "outputs": [],
      "source": [
        "# 保存模型结构及配置参数\n",
        "model_json = model.to_json()\n",
        "with open(os.path.join(log_dir,'model_json.json'),'w') as json_file:\n",
        "    json_file.write(model_json)\n"
      ]
    },
    {
      "cell_type": "code",
      "execution_count": null,
      "metadata": {},
      "outputs": [
        {
          "name": "stdout",
          "output_type": "stream",
          "text": [
            "tf.Tensor(\n",
            "[[[-1.0276e+04 -1.0142e+04  3.3679e+04 ...  1.0000e+00  1.5000e+01\n",
            "   -1.0000e+00]\n",
            "  [-1.0287e+04 -1.0409e+04  3.3703e+04 ...  0.0000e+00 -2.3000e+01\n",
            "   -1.0000e+00]\n",
            "  [-1.0031e+04 -1.0031e+04  3.3669e+04 ...  1.4000e+01  3.4000e+01\n",
            "   -1.2000e+01]\n",
            "  ...\n",
            "  [-1.0265e+04 -1.0220e+04  3.3686e+04 ... -2.0000e+01  3.0000e+00\n",
            "    2.1000e+01]\n",
            "  [-1.0365e+04 -1.0309e+04  3.3694e+04 ...  1.6000e+01 -8.0000e+00\n",
            "   -1.7000e+01]\n",
            "  [-1.0209e+04 -9.9860e+03  3.3665e+04 ... -8.0000e+00  2.8000e+01\n",
            "    1.0000e+01]]\n",
            "\n",
            " [[-1.0276e+04 -1.0421e+04  3.3704e+04 ... -2.1000e+01 -1.1000e+01\n",
            "    2.1000e+01]\n",
            "  [-1.0565e+04 -1.0588e+04  3.3719e+04 ...  8.0000e+00 -1.5000e+01\n",
            "   -9.0000e+00]\n",
            "  [-1.0588e+04 -1.0409e+04  3.3703e+04 ...  3.0000e+00  2.1000e+01\n",
            "   -2.0000e+00]\n",
            "  ...\n",
            "  [-1.0588e+04 -1.0498e+04  3.3711e+04 ...  2.4000e+01  4.0000e+00\n",
            "   -2.4000e+01]\n",
            "  [-1.0465e+04 -1.0387e+04  3.3701e+04 ... -2.3000e+01 -8.0000e+00\n",
            "    2.2000e+01]\n",
            "  [-1.0532e+04 -1.0465e+04  3.3708e+04 ...  9.0000e+00 -7.0000e+00\n",
            "   -1.0000e+01]]\n",
            "\n",
            " [[-1.0298e+04 -1.0376e+04  3.3700e+04 ... -2.0000e+00 -1.3000e+01\n",
            "    1.0000e+00]\n",
            "  [-1.0398e+04 -1.0309e+04  3.3694e+04 ...  2.0000e+00  6.0000e+00\n",
            "   -2.0000e+00]\n",
            "  [-1.0131e+04 -1.0187e+04  3.3683e+04 ...  5.0000e+00  1.1000e+01\n",
            "   -5.0000e+00]\n",
            "  ...\n",
            "  [-1.0432e+04 -1.0309e+04  3.3694e+04 ... -1.0000e+00 -1.0000e+00\n",
            "    0.0000e+00]\n",
            "  [-1.0476e+04 -1.0599e+04  3.3720e+04 ...  7.0000e+00 -9.0000e+00\n",
            "   -7.0000e+00]\n",
            "  [-1.0565e+04 -1.0610e+04  3.3721e+04 ...  5.0000e+00 -1.2000e+01\n",
            "   -5.0000e+00]]\n",
            "\n",
            " ...\n",
            "\n",
            " [[-1.0588e+04 -1.0643e+04  3.3724e+04 ... -1.7000e+01 -2.2000e+01\n",
            "    1.5000e+01]\n",
            "  [-1.0679e+04 -1.0565e+04  3.3717e+04 ...  3.3000e+01  2.3000e+01\n",
            "   -3.2000e+01]\n",
            "  [-1.0877e+04 -1.0777e+04  3.3736e+04 ... -1.5000e+01 -1.8000e+01\n",
            "    1.5000e+01]\n",
            "  ...\n",
            "  [-1.0387e+04 -1.0498e+04  3.3711e+04 ... -4.0000e+00  1.0000e+01\n",
            "    4.0000e+00]\n",
            "  [-1.0443e+04 -1.0554e+04  3.3716e+04 ... -5.0000e+00 -1.1000e+01\n",
            "    4.0000e+00]\n",
            "  [-1.0454e+04 -1.0343e+04  3.3697e+04 ...  1.9000e+01  2.0000e+01\n",
            "   -1.7000e+01]]\n",
            "\n",
            " [[-1.0343e+04 -1.0376e+04  3.3700e+04 ... -1.0000e+00  7.0000e+00\n",
            "    1.0000e+00]\n",
            "  [-1.0376e+04 -1.0254e+04  3.3689e+04 ...  3.0000e+00  1.0000e+01\n",
            "   -3.0000e+00]\n",
            "  [-1.0343e+04 -1.0343e+04  3.3697e+04 ...  2.0000e+00 -7.0000e+00\n",
            "   -1.0000e+00]\n",
            "  ...\n",
            "  [-1.0474e+04 -1.0543e+04  3.3715e+04 ... -9.0000e+00 -1.1000e+01\n",
            "    9.0000e+00]\n",
            "  [-1.0376e+04 -1.0153e+04  3.3680e+04 ...  2.0000e+01  3.4000e+01\n",
            "   -1.9000e+01]\n",
            "  [-1.0220e+04 -1.0220e+04  3.3686e+04 ... -3.3000e+01 -5.0000e+00\n",
            "    3.3000e+01]]\n",
            "\n",
            " [[-1.0621e+04 -1.0599e+04  3.3720e+04 ... -6.0000e+00 -1.2000e+01\n",
            "    7.0000e+00]\n",
            "  [-1.0421e+04 -1.0331e+04  3.3696e+04 ...  3.0000e+00  1.8000e+01\n",
            "   -2.0000e+00]\n",
            "  [-1.0265e+04 -1.0354e+04  3.3698e+04 ... -9.0000e+00  4.0000e+00\n",
            "    8.0000e+00]\n",
            "  ...\n",
            "  [-1.0565e+04 -1.0565e+04  3.3717e+04 ...  2.0000e+00 -2.3000e+01\n",
            "   -4.0000e+00]\n",
            "  [-1.0254e+04 -1.0354e+04  3.3698e+04 ... -1.0000e+00  1.5000e+01\n",
            "    2.0000e+00]\n",
            "  [-1.0331e+04 -1.0409e+04  3.3703e+04 ... -3.0000e+00  0.0000e+00\n",
            "    4.0000e+00]]], shape=(512, 20, 68), dtype=float64) tf.Tensor(\n",
            "[[[1. 0. 0.]\n",
            "  [1. 0. 0.]\n",
            "  [1. 0. 0.]\n",
            "  ...\n",
            "  [1. 0. 0.]\n",
            "  [1. 0. 0.]\n",
            "  [1. 0. 0.]]\n",
            "\n",
            " [[1. 0. 0.]\n",
            "  [1. 0. 0.]\n",
            "  [1. 0. 0.]\n",
            "  ...\n",
            "  [1. 0. 0.]\n",
            "  [1. 0. 0.]\n",
            "  [1. 0. 0.]]\n",
            "\n",
            " [[1. 0. 0.]\n",
            "  [1. 0. 0.]\n",
            "  [1. 0. 0.]\n",
            "  ...\n",
            "  [1. 0. 0.]\n",
            "  [1. 0. 0.]\n",
            "  [1. 0. 0.]]\n",
            "\n",
            " ...\n",
            "\n",
            " [[1. 0. 0.]\n",
            "  [1. 0. 0.]\n",
            "  [1. 0. 0.]\n",
            "  ...\n",
            "  [1. 0. 0.]\n",
            "  [1. 0. 0.]\n",
            "  [1. 0. 0.]]\n",
            "\n",
            " [[1. 0. 0.]\n",
            "  [1. 0. 0.]\n",
            "  [1. 0. 0.]\n",
            "  ...\n",
            "  [1. 0. 0.]\n",
            "  [1. 0. 0.]\n",
            "  [1. 0. 0.]]\n",
            "\n",
            " [[1. 0. 0.]\n",
            "  [1. 0. 0.]\n",
            "  [1. 0. 0.]\n",
            "  ...\n",
            "  [1. 0. 0.]\n",
            "  [1. 0. 0.]\n",
            "  [1. 0. 0.]]], shape=(512, 20, 3), dtype=float32)\n"
          ]
        }
      ],
      "source": [
        "\n",
        "# print(len(valWindow.repeat(1)))\n",
        "for train_x,y in test_feature.repeat(1).take(1):\n",
        "    print(train_x,y)"
      ]
    },
    {
      "cell_type": "code",
      "execution_count": null,
      "metadata": {},
      "outputs": [
        {
          "name": "stdout",
          "output_type": "stream",
          "text": [
            "\u001b[1m190/190\u001b[0m \u001b[32m━━━━━━━━━━━━━━━━━━━━\u001b[0m\u001b[37m\u001b[0m \u001b[1m45s\u001b[0m 231ms/step - accuracy: 0.0000e+00 - categorical_accuracy: 0.0000e+00 - loss: 1.1577\n",
            "loss :  1.1516879796981812\n",
            "compile_metrics :  0.0\n"
          ]
        }
      ],
      "source": [
        "#对模型在测试集上进行评估\n",
        "metrics = model.evaluate(test_feature.repeat(1))\n",
        "for name, value in zip(model.metrics_names, metrics):\n",
        "    print(name, ': ', value)\n",
        "# print(\"accuracy:\", metrics[0], \"accuracy:\", metrics[1])\n"
      ]
    },
    {
      "cell_type": "code",
      "execution_count": null,
      "metadata": {},
      "outputs": [
        {
          "name": "stdout",
          "output_type": "stream",
          "text": [
            "\u001b[1m190/190\u001b[0m \u001b[32m━━━━━━━━━━━━━━━━━━━━\u001b[0m\u001b[37m\u001b[0m \u001b[1m44s\u001b[0m 226ms/step\n"
          ]
        }
      ],
      "source": [
        "predictions=model.predict(test_feature.repeat(1),verbose=\"auto\")\n",
        "# predictions?"
      ]
    },
    {
      "cell_type": "code",
      "execution_count": null,
      "metadata": {},
      "outputs": [
        {
          "name": "stdout",
          "output_type": "stream",
          "text": [
            "tf.Tensor(\n",
            "[[[1. 0. 0.]\n",
            "  [1. 0. 0.]\n",
            "  [1. 0. 0.]\n",
            "  ...\n",
            "  [1. 0. 0.]\n",
            "  [1. 0. 0.]\n",
            "  [1. 0. 0.]]\n",
            "\n",
            " [[1. 0. 0.]\n",
            "  [1. 0. 0.]\n",
            "  [1. 0. 0.]\n",
            "  ...\n",
            "  [1. 0. 0.]\n",
            "  [1. 0. 0.]\n",
            "  [1. 0. 0.]]\n",
            "\n",
            " [[1. 0. 0.]\n",
            "  [1. 0. 0.]\n",
            "  [1. 0. 0.]\n",
            "  ...\n",
            "  [1. 0. 0.]\n",
            "  [1. 0. 0.]\n",
            "  [1. 0. 0.]]\n",
            "\n",
            " ...\n",
            "\n",
            " [[1. 0. 0.]\n",
            "  [1. 0. 0.]\n",
            "  [1. 0. 0.]\n",
            "  ...\n",
            "  [1. 0. 0.]\n",
            "  [1. 0. 0.]\n",
            "  [1. 0. 0.]]\n",
            "\n",
            " [[1. 0. 0.]\n",
            "  [1. 0. 0.]\n",
            "  [1. 0. 0.]\n",
            "  ...\n",
            "  [1. 0. 0.]\n",
            "  [1. 0. 0.]\n",
            "  [1. 0. 0.]]\n",
            "\n",
            " [[1. 0. 0.]\n",
            "  [1. 0. 0.]\n",
            "  [1. 0. 0.]\n",
            "  ...\n",
            "  [1. 0. 0.]\n",
            "  [1. 0. 0.]\n",
            "  [1. 0. 0.]]], shape=(512, 20, 3), dtype=float32)\n",
            "tf.Tensor(\n",
            "[[[1. 0. 0.]\n",
            "  [1. 0. 0.]\n",
            "  [1. 0. 0.]\n",
            "  ...\n",
            "  [1. 0. 0.]\n",
            "  [1. 0. 0.]\n",
            "  [1. 0. 0.]]\n",
            "\n",
            " [[1. 0. 0.]\n",
            "  [1. 0. 0.]\n",
            "  [1. 0. 0.]\n",
            "  ...\n",
            "  [1. 0. 0.]\n",
            "  [1. 0. 0.]\n",
            "  [1. 0. 0.]]\n",
            "\n",
            " [[1. 0. 0.]\n",
            "  [1. 0. 0.]\n",
            "  [1. 0. 0.]\n",
            "  ...\n",
            "  [1. 0. 0.]\n",
            "  [1. 0. 0.]\n",
            "  [1. 0. 0.]]\n",
            "\n",
            " ...\n",
            "\n",
            " [[1. 0. 0.]\n",
            "  [1. 0. 0.]\n",
            "  [1. 0. 0.]\n",
            "  ...\n",
            "  [1. 0. 0.]\n",
            "  [1. 0. 0.]\n",
            "  [1. 0. 0.]]\n",
            "\n",
            " [[1. 0. 0.]\n",
            "  [1. 0. 0.]\n",
            "  [1. 0. 0.]\n",
            "  ...\n",
            "  [1. 0. 0.]\n",
            "  [1. 0. 0.]\n",
            "  [1. 0. 0.]]\n",
            "\n",
            " [[1. 0. 0.]\n",
            "  [1. 0. 0.]\n",
            "  [1. 0. 0.]\n",
            "  ...\n",
            "  [1. 0. 0.]\n",
            "  [1. 0. 0.]\n",
            "  [1. 0. 0.]]], shape=(512, 20, 3), dtype=float32)\n",
            "tf.Tensor(\n",
            "[[[1. 0. 0.]\n",
            "  [1. 0. 0.]\n",
            "  [1. 0. 0.]\n",
            "  ...\n",
            "  [1. 0. 0.]\n",
            "  [1. 0. 0.]\n",
            "  [1. 0. 0.]]\n",
            "\n",
            " [[1. 0. 0.]\n",
            "  [1. 0. 0.]\n",
            "  [1. 0. 0.]\n",
            "  ...\n",
            "  [1. 0. 0.]\n",
            "  [1. 0. 0.]\n",
            "  [1. 0. 0.]]\n",
            "\n",
            " [[1. 0. 0.]\n",
            "  [1. 0. 0.]\n",
            "  [1. 0. 0.]\n",
            "  ...\n",
            "  [1. 0. 0.]\n",
            "  [1. 0. 0.]\n",
            "  [1. 0. 0.]]\n",
            "\n",
            " ...\n",
            "\n",
            " [[1. 0. 0.]\n",
            "  [1. 0. 0.]\n",
            "  [1. 0. 0.]\n",
            "  ...\n",
            "  [1. 0. 0.]\n",
            "  [1. 0. 0.]\n",
            "  [1. 0. 0.]]\n",
            "\n",
            " [[1. 0. 0.]\n",
            "  [1. 0. 0.]\n",
            "  [1. 0. 0.]\n",
            "  ...\n",
            "  [1. 0. 0.]\n",
            "  [1. 0. 0.]\n",
            "  [1. 0. 0.]]\n",
            "\n",
            " [[1. 0. 0.]\n",
            "  [1. 0. 0.]\n",
            "  [1. 0. 0.]\n",
            "  ...\n",
            "  [1. 0. 0.]\n",
            "  [1. 0. 0.]\n",
            "  [1. 0. 0.]]], shape=(512, 20, 3), dtype=float32)\n",
            "tf.Tensor(\n",
            "[[[1. 0. 0.]\n",
            "  [1. 0. 0.]\n",
            "  [1. 0. 0.]\n",
            "  ...\n",
            "  [1. 0. 0.]\n",
            "  [1. 0. 0.]\n",
            "  [1. 0. 0.]]\n",
            "\n",
            " [[1. 0. 0.]\n",
            "  [1. 0. 0.]\n",
            "  [1. 0. 0.]\n",
            "  ...\n",
            "  [1. 0. 0.]\n",
            "  [1. 0. 0.]\n",
            "  [1. 0. 0.]]\n",
            "\n",
            " [[1. 0. 0.]\n",
            "  [1. 0. 0.]\n",
            "  [1. 0. 0.]\n",
            "  ...\n",
            "  [1. 0. 0.]\n",
            "  [1. 0. 0.]\n",
            "  [1. 0. 0.]]\n",
            "\n",
            " ...\n",
            "\n",
            " [[1. 0. 0.]\n",
            "  [1. 0. 0.]\n",
            "  [1. 0. 0.]\n",
            "  ...\n",
            "  [1. 0. 0.]\n",
            "  [1. 0. 0.]\n",
            "  [1. 0. 0.]]\n",
            "\n",
            " [[1. 0. 0.]\n",
            "  [1. 0. 0.]\n",
            "  [1. 0. 0.]\n",
            "  ...\n",
            "  [1. 0. 0.]\n",
            "  [1. 0. 0.]\n",
            "  [1. 0. 0.]]\n",
            "\n",
            " [[1. 0. 0.]\n",
            "  [1. 0. 0.]\n",
            "  [1. 0. 0.]\n",
            "  ...\n",
            "  [1. 0. 0.]\n",
            "  [1. 0. 0.]\n",
            "  [1. 0. 0.]]], shape=(512, 20, 3), dtype=float32)\n"
          ]
        },
        {
          "data": {
            "text/plain": [
              "<tf.Tensor: shape=(20, 3), dtype=int64, numpy=\n",
              "array([[0, 0, 0],\n",
              "       [0, 0, 0],\n",
              "       [0, 0, 0],\n",
              "       [0, 0, 0],\n",
              "       [0, 0, 0],\n",
              "       [0, 0, 0],\n",
              "       [0, 0, 0],\n",
              "       [0, 0, 0],\n",
              "       [0, 0, 0],\n",
              "       [0, 0, 0],\n",
              "       [0, 0, 0],\n",
              "       [0, 0, 0],\n",
              "       [0, 0, 0],\n",
              "       [0, 0, 0],\n",
              "       [0, 0, 0],\n",
              "       [0, 0, 0],\n",
              "       [0, 0, 0],\n",
              "       [0, 0, 0],\n",
              "       [0, 0, 0],\n",
              "       [0, 0, 0]], dtype=int64)>"
            ]
          },
          "execution_count": 109,
          "metadata": {},
          "output_type": "execute_result"
        }
      ],
      "source": [
        "# 如果是多分类问题并且想比较类别概率分布\n",
        "# 假设y_true和y_pred都是one-hot编码形式\n",
        "# 可以选择几个样本画柱状图对比\n",
        "\n",
        "\n",
        "y_true = test_feature.map(lambda x, y: y)\n",
        "for i, v in enumerate(y_true):\n",
        "    if i > 3:\n",
        "        break\n",
        "    \n",
        "    print(v)\n",
        "# print(predictions)\n",
        "y_pred = tf.argmax(predictions)\n",
        "# for i in y_pred:\n",
        "#     # print(i)\n",
        "#     # print(i)\n",
        "#     e=1\n",
        "# num_samples_to_plot = len(y_pred)\n",
        "# nrows = 2\n",
        "# plt.figure(figsize=(30, 6))\n",
        "# plt.subplot(nrows, 1, 1)\n",
        "# plt.plot(y_true, label='Actual values', linewidth=1.0)\n",
        "# plt.subplot(nrows, 1, 2)\n",
        "# plt.plot(y_pred, label='Predicted values', linewidth=1.0)\n",
        "# plt.legend(fontsize=14)\n",
        "# plt.xlabel('Sample Index')\n",
        "# ax = plt.gca()\n",
        "# ax.set_xlim(left=0, right=num_samples_to_plot)\n",
        "# plt.ylabel('Value')\n",
        "# plt.title('Actual vs Predicted Values Comparison')\n",
        "# plt.grid(True)\n",
        "# plt.show()\n",
        "y_pred"
      ]
    },
    {
      "cell_type": "code",
      "execution_count": null,
      "metadata": {
        "id": "332c1750c3e9"
      },
      "outputs": [],
      "source": [
        "# # data.plot(legend=True, subplots=True, figsize=(30,30),  xlabel=\"steps\")\n",
        "# # ax = plt.gca()\n",
        "# # ax.set_xlim(left=0, right=19000)\n",
        "\n",
        "\n",
        "# # plt.show()\n",
        "# times = df22[time_col_names].index.to_numpy()\n",
        "# display(times)\n",
        "# plt.plot(times, y, label=\"Actual\", marker=\"o\")\n",
        "# plt.plot(times, predictions, label=\"Predicted\", linestyle=\"--\", marker=\"x\")\n",
        "\n",
        "# ax = plt.gca()\n",
        "# ax.set_xlim(left=12000, right=18000)\n",
        "# # 添加标题和标签\n",
        "# plt.title(\"Actual vs. Predicted Values\")\n",
        "# plt.xlabel(\"Sample Index\")\n",
        "# plt.ylabel(\"Value\")\n",
        "\n",
        "# # 添加图例\n",
        "# plt.legend()\n",
        "\n",
        "# # 显示图形\n",
        "# plt.show()"
      ]
    },
    {
      "cell_type": "code",
      "execution_count": null,
      "metadata": {
        "id": "3777035567f2"
      },
      "outputs": [
        {
          "data": {
            "image/png": "[encoded data removed]",
            "text/plain": [
              "<Figure size 640x480 with 1 Axes>"
            ]
          },
          "metadata": {},
          "output_type": "display_data"
        },
        {
          "data": {
            "image/png": "[encoded data removed]",
            "text/plain": [
              "<Figure size 640x480 with 1 Axes>"
            ]
          },
          "metadata": {},
          "output_type": "display_data"
        }
      ],
      "source": [
        "# display(history.history)\n",
        "plt.plot(history.history[\"loss\"])\n",
        "plt.plot(history.history[\"val_loss\"])\n",
        "plt.plot(history.history[\"val_accuracy\"])\n",
        "plt.title(\"model train vs validation loss\")\n",
        "plt.ylabel(\"loss\")\n",
        "plt.xlabel(\"epoch\")\n",
        "plt.legend([\"loss\", \"epoch\", \"accuracy\"], loc=\"upper right\")\n",
        "plt.show()\n",
        "plt.plot(history.history[\"accuracy\"])\n",
        "plt.plot(history.history[\"val_accuracy\"])\n",
        "plt.title(\"model train vs validation accuracy\")\n",
        "plt.ylabel(\"accuracy\")\n",
        "plt.xlabel(\"epoch\")\n",
        "plt.legend([\"accuracy\", \"val_accuracy\"], loc=\"upper left\")\n",
        "plt.show()"
      ]
    },
    {
      "cell_type": "code",
      "execution_count": null,
      "metadata": {
        "id": "a9ca4cfdba43"
      },
      "outputs": [
        {
          "data": {
            "text/plain": [
              "Index(['原始重量', '轴重', 'su_ad', '原始重量_diff', '轴重_diff', 'su_ad_diff', 'wpu_x',\n",
              "       'wpu_y', 'wpu_z', 'su_x', 'su_y', 'su_z', 'su_y_diff', 'su_z_diff',\n",
              "       'wpu_x_diff', 'wpu_y_diff', 'wpu_z_diff', 'label', '时间', '轨迹时间'],\n",
              "      dtype='object')"
            ]
          },
          "metadata": {},
          "output_type": "display_data"
        }
      ],
      "source": [
        "display(df22.columns)"
      ]
    },
    {
      "cell_type": "code",
      "execution_count": null,
      "metadata": {
        "id": "4072f6e1f1a6"
      },
      "outputs": [],
      "source": [
        "# data22, scaler22 = normalize(df22, numeric_col_names)\n",
        "# X22 = data22[feature_col_names]\n",
        "# y_test22 =normalizeY( df22[label_col_names])\n",
        "# x_train22  = np.asarray(X22) .reshape(-1, feature_col_num)\n",
        "# predY22 = model.predict(x_train22, batch_size=batch_size)\n",
        "\n",
        "\n",
        "# data23, scaler23 = normalize(df23, numeric_col_names)\n",
        "# X23 = data23[feature_col_names]\n",
        "# y_test23 =normalizeY( df23[label_col_names])\n",
        "# x_train23  = np.asarray(X23) .reshape(-1, feature_col_num)\n",
        "# predY23 = model.predict(x_train23, batch_size=batch_size)\n",
        "\n",
        "\n",
        "\n",
        "\n",
        "\n",
        "\n",
        "# display(predY22,predY23)"
      ]
    },
    {
      "cell_type": "code",
      "execution_count": null,
      "metadata": {
        "id": "1e692ce96c13"
      },
      "outputs": [],
      "source": [
        "# fig_acc = plt.figure(figsize=(9, 9))\n",
        "# plt.plot(predY23[0:27000])\n",
        "# plt.plot(y_test23[0:27000])\n",
        "# plt.title(\"real vs pred\")\n",
        "# plt.ylabel(\"value\")\n",
        "# plt.xlabel(\"epoch\")\n",
        "# plt.xlim((19000, 23000))\n",
        "# plt.legend([\"pred\", \"real\"], loc=\"upper left\")\n",
        "# plt.show()\n"
      ]
    }
  ],
  "metadata": {
    "colab": {
      "name": "C_L_A_train_test.ipynb",
      "toc_visible": true
    },
    "kernelspec": {
      "display_name": "Python 3",
      "name": "python3"
    },
    "language_info": {
      "codemirror_mode": {
        "name": "ipython",
        "version": 3
      },
      "file_extension": ".py",
      "mimetype": "text/x-python",
      "name": "python",
      "nbconvert_exporter": "python",
      "pygments_lexer": "ipython3",
      "version": "3.11.8"
    }
  },
  "nbformat": 4,
  "nbformat_minor": 0
}
