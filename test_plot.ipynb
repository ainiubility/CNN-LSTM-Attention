{
 "cells": [
  {
   "cell_type": "code",
   "execution_count": 2,
   "metadata": {},
   "outputs": [
    {
     "ename": "ModuleNotFoundError",
     "evalue": "No module named 'seaborn'",
     "output_type": "error",
     "traceback": [
      "\u001b[1;31m---------------------------------------------------------------------------\u001b[0m",
      "\u001b[1;31mModuleNotFoundError\u001b[0m                       Traceback (most recent call last)",
      "Cell \u001b[1;32mIn[2], line 3\u001b[0m\n\u001b[0;32m      1\u001b[0m \u001b[38;5;28;01mimport\u001b[39;00m \u001b[38;5;21;01mmatplotlib\u001b[39;00m\u001b[38;5;21;01m.\u001b[39;00m\u001b[38;5;21;01mpyplot\u001b[39;00m \u001b[38;5;28;01mas\u001b[39;00m \u001b[38;5;21;01mplt\u001b[39;00m\n\u001b[0;32m      2\u001b[0m \u001b[38;5;28;01mimport\u001b[39;00m \u001b[38;5;21;01mnumpy\u001b[39;00m \u001b[38;5;28;01mas\u001b[39;00m \u001b[38;5;21;01mnp\u001b[39;00m\n\u001b[1;32m----> 3\u001b[0m \u001b[38;5;28;01mimport\u001b[39;00m \u001b[38;5;21;01mseaborn\u001b[39;00m \u001b[38;5;28;01mas\u001b[39;00m \u001b[38;5;21;01msns\u001b[39;00m\n\u001b[0;32m      4\u001b[0m get_ipython()\u001b[38;5;241m.\u001b[39mrun_line_magic(\u001b[38;5;124m'\u001b[39m\u001b[38;5;124mmatplotlib\u001b[39m\u001b[38;5;124m'\u001b[39m, \u001b[38;5;124m'\u001b[39m\u001b[38;5;124minline\u001b[39m\u001b[38;5;124m'\u001b[39m)\n\u001b[0;32m      5\u001b[0m sns\u001b[38;5;241m.\u001b[39mset_theme(style\u001b[38;5;241m=\u001b[39m\u001b[38;5;124m\"\u001b[39m\u001b[38;5;124mdarkgrid\u001b[39m\u001b[38;5;124m\"\u001b[39m) \n",
      "\u001b[1;31mModuleNotFoundError\u001b[0m: No module named 'seaborn'"
     ]
    }
   ],
   "source": [
    "import matplotlib.pyplot as plt\n",
    "import numpy as np\n",
    "import seaborn as sns\n",
    "%matplotlib inline\n",
    "sns.set_theme(style=\"darkgrid\") \n",
    "\n",
    "fig = plt.figure(figsize=(12,6))\n",
    "\n",
    "plt.xlim([-10, 10])\n",
    "plt.ylim([-1, 1.6])\n",
    "\n",
    "# 定义数值\n",
    "x = np.sort(np.linspace(-10,10,1000))\n",
    "\n",
    "# ReLu 函数\n",
    "relu= [max(item,0) for item in x]\n",
    "\n",
    "# LeakReLu函数\n",
    "alpha = 0.1\n",
    "leakRelu = [item if item>0 else item*alpha for item in x]\n",
    "\n",
    "# PReLu函数\n",
    "alpha = 0.1 # 可以学习的参数\n",
    "leakRelu = [item if item>0 else item*alpha for item in x]\n",
    "\n",
    "# ELU函数\n",
    "alpha = 0.2\n",
    "elu = [item if item>0 else (np.exp(item)-1)*alpha for item in x]\n",
    "\n",
    "# SELU函数\n",
    "alpha = 1\n",
    "r = 0.5\n",
    "selu = [item if item>0 else (np.exp(item)-1)*alpha for item in x]\n",
    "selu = list(map(lambda x:x*r,selu))\n",
    "\n",
    "# 绘图\n",
    "plt.plot(x,relu,color=\"#ff0000\", label = r\"ReLu\", marker='*')\n",
    "plt.plot(x,leakRelu,color=\"#0000ff\", label = r\"LeakReLu\")\n",
    "plt.plot(x,elu,color=\"#00ff00\", label = r\"ELU\")\n",
    "plt.plot(x,selu,color=\"#00ffee\", label = r\"SELU\")\n",
    "\n",
    "plt.legend(prop={'family' : 'Times New Roman', 'size'   : 16})\n",
    "plt.show()\n"
   ]
  }
 ],
 "metadata": {
  "kernelspec": {
   "display_name": "py36_tf19",
   "language": "python",
   "name": "python3"
  },
  "language_info": {
   "codemirror_mode": {
    "name": "ipython",
    "version": 3
   },
   "file_extension": ".py",
   "mimetype": "text/x-python",
   "name": "python",
   "nbconvert_exporter": "python",
   "pygments_lexer": "ipython3",
   "version": "3.11.8"
  }
 },
 "nbformat": 4,
 "nbformat_minor": 2
}
