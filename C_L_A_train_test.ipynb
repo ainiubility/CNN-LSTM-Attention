{
 "cells": [
  {
   "cell_type": "markdown",
   "metadata": {},
   "source": [
    "借助 Intel(R) Extension for Scikit-learn，您可以加速您的 Scikit-learn 应用程序，并且仍然完全符合所有 Scikit-Learn API 和算法。这是一款免费软件 AI 加速器，可为各种应用带来超过10-100 倍的加速。而且您甚至不需要更改现有代码！"
   ]
  },
  {
   "cell_type": "code",
   "execution_count": 1581,
   "metadata": {},
   "outputs": [],
   "source": [
    "if '__install_flat' not in locals() or (hasattr(locals()['__install_flat'], 'empty') and locals()['__install_flat'].empty):\n",
    "    !python -m pip install pandas matplotlib scikit-learn-intelex scikit-learn openpyxl tensorboard seaborn ipykernel ipywidgets tensorflow mypy keras\n",
    " #tensorflow[and-cuda]\n",
    "    __install_flat = True\n",
    "    "
   ]
  },
  {
   "cell_type": "code",
   "execution_count": 1582,
   "metadata": {
    "ExecuteTime": {
     "end_time": "2024-03-09T12:44:00.369346Z",
     "start_time": "2024-03-09T12:43:58.843582Z"
    },
    "notebookRunGroups": {
     "groupValue": "1"
    }
   },
   "outputs": [
    {
     "name": "stderr",
     "output_type": "stream",
     "text": [
      "Intel(R) Extension for Scikit-learn* enabled (https://github.com/intel/scikit-learn-intelex)\n"
     ]
    }
   ],
   "source": [
    "# 本导入顺序可以看到类型\n",
    "import tensorflow as tf\n",
    "import datetime\n",
    "import os\n",
    "import pandas as pd\n",
    "import numpy as np\n",
    "from sklearnex import patch_sklearn\n",
    "from matplotlib import pyplot as plt\n",
    "from sklearn.preprocessing import StandardScaler, LabelEncoder, MinMaxScaler\n",
    "from sklearn.model_selection import train_test_split\n",
    "from sklearn.ensemble import RandomForestRegressor\n",
    "from sklearn.metrics import mean_squared_error\n",
    "from sklearn.metrics import median_absolute_error\n",
    "from sklearn.metrics import mean_squared_log_error\n",
    "from sklearn.metrics import mean_absolute_percentage_error\n",
    "from sklearn.metrics import explained_variance_score\n",
    "from sklearn.metrics import r2_score\n",
    "from typing import Tuple\n",
    "\n",
    "# from tensorflow import keras\n",
    "import keras \n",
    " \n",
    "from keras import layers\n",
    "from keras import models\n",
    "from keras.layers import MaxPooling1D, Dropout, Flatten, Dense, Input,Lambda,RepeatVector,Permute,Multiply,LSTM,Conv1D,Bidirectional,Activation,BatchNormalization\n",
    "from keras.models import Model\n",
    "\n",
    "K = keras.ops\n",
    "\n",
    "# K =keras.backend\n",
    "\n",
    "patch_sklearn() \n",
    "# from attention_utils import get_activations\n",
    "\n",
    "#更好地兼容 Python 3 的行为和特性，使得代码可以在 Python 2 和 Python 3 下运行得更加一致\n",
    "# from __future__ import absolute_import,division,print_function,unicode_literals\n"
   ]
  },
  {
   "cell_type": "code",
   "execution_count": 1583,
   "metadata": {
    "ExecuteTime": {
     "end_time": "2024-03-09T12:44:00.551655Z",
     "start_time": "2024-03-09T12:44:00.370299Z"
    }
   },
   "outputs": [
    {
     "name": "stdout",
     "output_type": "stream",
     "text": [
      "21275.29s - pydevd: Sending message related to process being replaced timed-out after 5 seconds\n",
      "python: can't open file '/mnt/g/code-ai/CNN-LSTM-Attention/echo': [Errno 2] No such file or directory\n",
      "2024-03-13 04:31:00.532656 tensorflow版本: 2.16.1\n",
      "gpus\n",
      "gpus\n",
      "[]\n",
      "gpus\n",
      "gpus\n",
      "Available GPU devices: []\n"
     ]
    }
   ],
   "source": [
    "!python echo '$CONDA_PREFIX'\n",
    "\n",
    "import tensorflow as tf\n",
    "import datetime\n",
    "print(f'{datetime.datetime.now()} tensorflow版本:',tf.__version__)\n",
    "gpus = tf.config.experimental.list_physical_devices(\"GPU\")\n",
    "print('gpus')\n",
    "print('gpus')\n",
    "print(gpus)\n",
    "print('gpus')\n",
    "print('gpus')\n",
    "# 查看系统中可见的GPU设备\n",
    "print(\"Available GPU devices:\", tf.config.list_physical_devices(\"GPU\"))"
   ]
  },
  {
   "cell_type": "code",
   "execution_count": 1584,
   "metadata": {
    "ExecuteTime": {
     "end_time": "2024-03-09T12:44:00.566181Z",
     "start_time": "2024-03-09T12:44:00.552428Z"
    }
   },
   "outputs": [],
   "source": [
    "def get_activations(model, inputs, print_shape_only=False, layer_name=None):\n",
    "    # Documentation is available online on Github at the address below.\n",
    "    # From: https://github.com/philipperemy/keras-visualize-activations\n",
    "    print(\"----- activations -----\")\n",
    "    activations = []\n",
    "    inp = model.input\n",
    "    if layer_name is None:\n",
    "        outputs = [layer.output for layer in model.layers]\n",
    "    else:\n",
    "        outputs = [\n",
    "            layer.output for layer in model.layers if layer.name == layer_name\n",
    "        ]  # all layer outputs\n",
    "    funcs = [\n",
    "        #K.function([inp] + [K.learning_phase()], [out]) for out in outputs\n",
    "    ]  # evaluation functions\n",
    "    layer_outputs = [func([inputs, 1.0])[0] for func in funcs]\n",
    "    for layer_activations in layer_outputs:\n",
    "        activations.append(layer_activations)\n",
    "        if print_shape_only:\n",
    "            print(layer_activations.shape)\n",
    "        else:\n",
    "            print(\"shape为\", layer_activations.shape)\n",
    "            print(layer_activations)\n",
    "    return activations\n",
    "def get_data(n, input_dim, attention_column=1):\n",
    "    \"\"\"\n",
    "    Data generation. x is purely random except that it's first value equals the target y.\n",
    "    In practice, the network should learn that the target = x[attention_column].\n",
    "    Therefore, most of its attention should be focused on the value addressed by attention_column.\n",
    "    :param n: the number of samples to retrieve.\n",
    "    :param input_dim: the number of dimensions of each element in the series.\n",
    "    :param attention_column: the column linked to the target. Everything else is purely random.\n",
    "    :return: x: model inputs, y: model targets\n",
    "    \"\"\"\n",
    "    x = np.random.standard_normal(size=(n, input_dim))\n",
    "    y = np.random.randint(low=0, high=2, size=(n, 1))\n",
    "    x[:, attention_column] = y[:, 0]\n",
    "    return x, y\n",
    "def get_data_recurrent(n, time_steps, input_dim, attention_column=10):\n",
    "    \"\"\"\n",
    "    Data generation. x is purely random except that it's first value equals the target y.\n",
    "    In practice, the network    should learn that the target = x[attention_column].\n",
    "    Therefore, most of its attention should be focused on the value addressed by attention_column.\n",
    "    :param n: the number of samples to retrieve.\n",
    "    :param time_steps: the number of time steps of your series.\n",
    "    :param input_dim: the number of dimensions of each element in the series.\n",
    "    :param attention_column: the column linked to the target. Everything else is purely random.\n",
    "    :return: x: model inputs, y: model targets\n",
    "    \"\"\"\n",
    "    x = np.random.standard_normal(size=(n, time_steps, input_dim))\n",
    "    y = np.random.randint(low=0, high=2, size=(n, 1))\n",
    "    x[:, attention_column, :] = np.tile(y[:], (1, input_dim))\n",
    "    return x, y\n",
    "def get_data_recurrent2(n, time_steps, input_dim, attention_dim=5):\n",
    "    \"\"\"\n",
    "    Suppose input_dim = 10  time_steps = 6\n",
    "    formed one  x 6 x 10 The data of each step 6 dimension is the same as y\n",
    "    \"\"\"\n",
    "    x = np.random.standard_normal(size=(n, time_steps, input_dim))\n",
    "    y = np.random.randint(low=0, high=2, size=(n, 1))\n",
    "    x[:, :, attention_dim] = np.tile(y[:], (1, time_steps))\n",
    "    return x, y"
   ]
  },
  {
   "cell_type": "code",
   "execution_count": 1585,
   "metadata": {
    "ExecuteTime": {
     "end_time": "2024-03-09T12:44:00.596896Z",
     "start_time": "2024-03-09T12:44:00.567024Z"
    }
   },
   "outputs": [],
   "source": [
    "refeshdata=False\n",
    "if refeshdata or 'dfstate' not in locals() or (hasattr(locals()['dfstate'], 'empty') and locals()['dfstate'].empty):\n",
    "    dfstate = pd.read_csv(\"./data/states.txt\")\n",
    "    dfstate[\"start\"] = dfstate.apply(\n",
    "        lambda row: row[\"date\"] + \" \" + row[\"start_time\"], axis=1\n",
    "    )\n",
    "    dfstate[\"end\"] = dfstate.apply(lambda row: row[\"date\"] + \" \" + row[\"end_time\"], axis=1)\n",
    "    dfstate[\"label\"] = dfstate.pop(\"state\").str.strip()\n",
    "    # 转为时间类型\n",
    "    dfstate[[\"start\", \"end\"]] = dfstate[[\"start\", \"end\"]].apply(pd.to_datetime)\n",
    "    # dfstate[\"statev\"] = dfstate.apply(label_to_number, axis=1)\n",
    "    # dfstate['label'] = dfstate.apply(number_to_label,axis=1)\n",
    "    dfstate.to_csv(\"./data/states.csv\")\n",
    "    print(dfstate.head(), dfstate.shape)\n"
   ]
  },
  {
   "cell_type": "code",
   "execution_count": 1586,
   "metadata": {},
   "outputs": [
    {
     "data": {
      "text/html": [
       "<div>\n",
       "<style scoped>\n",
       "    .dataframe tbody tr th:only-of-type {\n",
       "        vertical-align: middle;\n",
       "    }\n",
       "\n",
       "    .dataframe tbody tr th {\n",
       "        vertical-align: top;\n",
       "    }\n",
       "\n",
       "    .dataframe thead th {\n",
       "        text-align: right;\n",
       "    }\n",
       "</style>\n",
       "<table border=\"1\" class=\"dataframe\">\n",
       "  <thead>\n",
       "    <tr style=\"text-align: right;\">\n",
       "      <th></th>\n",
       "      <th>date</th>\n",
       "      <th>start_time</th>\n",
       "      <th>end_time</th>\n",
       "      <th>start</th>\n",
       "      <th>end</th>\n",
       "      <th>label</th>\n",
       "    </tr>\n",
       "  </thead>\n",
       "  <tbody>\n",
       "    <tr>\n",
       "      <th>0</th>\n",
       "      <td>2023-12-17</td>\n",
       "      <td>10:44:49</td>\n",
       "      <td>10:48:59</td>\n",
       "      <td>2023-12-17 10:44:49</td>\n",
       "      <td>2023-12-17 10:48:59</td>\n",
       "      <td>装</td>\n",
       "    </tr>\n",
       "    <tr>\n",
       "      <th>1</th>\n",
       "      <td>2023-12-17</td>\n",
       "      <td>11:29:45</td>\n",
       "      <td>11:31:55</td>\n",
       "      <td>2023-12-17 11:29:45</td>\n",
       "      <td>2023-12-17 11:31:55</td>\n",
       "      <td>卸</td>\n",
       "    </tr>\n",
       "    <tr>\n",
       "      <th>2</th>\n",
       "      <td>2023-12-17</td>\n",
       "      <td>12:23:56</td>\n",
       "      <td>12:29:44</td>\n",
       "      <td>2023-12-17 12:23:56</td>\n",
       "      <td>2023-12-17 12:29:44</td>\n",
       "      <td>装</td>\n",
       "    </tr>\n",
       "    <tr>\n",
       "      <th>3</th>\n",
       "      <td>2023-12-17</td>\n",
       "      <td>12:55:08</td>\n",
       "      <td>12:56:28</td>\n",
       "      <td>2023-12-17 12:55:08</td>\n",
       "      <td>2023-12-17 12:56:28</td>\n",
       "      <td>卸</td>\n",
       "    </tr>\n",
       "    <tr>\n",
       "      <th>4</th>\n",
       "      <td>2023-12-17</td>\n",
       "      <td>13:45:02</td>\n",
       "      <td>13:45:42</td>\n",
       "      <td>2023-12-17 13:45:02</td>\n",
       "      <td>2023-12-17 13:45:42</td>\n",
       "      <td>装</td>\n",
       "    </tr>\n",
       "  </tbody>\n",
       "</table>\n",
       "</div>"
      ],
      "text/plain": [
       "         date start_time  end_time               start                 end  \\\n",
       "0  2023-12-17   10:44:49  10:48:59 2023-12-17 10:44:49 2023-12-17 10:48:59   \n",
       "1  2023-12-17   11:29:45  11:31:55 2023-12-17 11:29:45 2023-12-17 11:31:55   \n",
       "2  2023-12-17   12:23:56  12:29:44 2023-12-17 12:23:56 2023-12-17 12:29:44   \n",
       "3  2023-12-17   12:55:08  12:56:28 2023-12-17 12:55:08 2023-12-17 12:56:28   \n",
       "4  2023-12-17   13:45:02  13:45:42 2023-12-17 13:45:02 2023-12-17 13:45:42   \n",
       "\n",
       "  label  \n",
       "0     装  \n",
       "1     卸  \n",
       "2     装  \n",
       "3     卸  \n",
       "4     装  "
      ]
     },
     "execution_count": 1586,
     "metadata": {},
     "output_type": "execute_result"
    }
   ],
   "source": [
    "dfstate.head()"
   ]
  },
  {
   "cell_type": "code",
   "execution_count": 1587,
   "metadata": {
    "ExecuteTime": {
     "end_time": "2024-03-09T12:44:31.854209Z",
     "start_time": "2024-03-09T12:44:00.598672Z"
    }
   },
   "outputs": [],
   "source": [
    "# 定义读取数据函数\n",
    "def fix_data(inputDF: pd.DataFrame) -> pd.DataFrame:\n",
    "    # 创建一个新的空列用于存储结果\n",
    "    inputDF.insert(0, \"before\", False)\n",
    "    inputDF.insert(0, \"after\", False)\n",
    "    inputDF.insert(0, \"label\", \"-\")\n",
    "    # 对df1中的每一行遍历，并查找df2中符合条件的记录\n",
    "    for index, row in inputDF.iterrows():\n",
    "        \n",
    "        \n",
    "        condition = (dfstate[\"start\"] <= row[\"时间\"]) & (row[\"时间\"] <= dfstate[\"end\"])\n",
    "        match = dfstate[condition]\n",
    "        if not match.empty:\n",
    "            # 如果找到了匹配项，则将df2的'state'赋值给df1的新列\n",
    "            inputDF.at[index, \"label\"] = match[\"label\"].values[0]\n",
    "        else:\n",
    "            # 如果没有找到匹配项，则保持原样（这里已经初始化为-）\n",
    "            pass\n",
    "        \n",
    "    # inputDF.insert(1,'state',0)\n",
    "    # inputDF[\"state\"] = inputDF[\"label\"].astype(\"category\").cat.codes\n",
    "    return inputDF\n",
    "def read_data(file_path: str) -> pd.DataFrame:\n",
    "    return fix_data(\n",
    "        pd.read_excel(file_path, engine=\"openpyxl\", parse_dates=[\"时间\", \"轨迹时间\"])\n",
    "    )\n",
    "\n",
    "\n",
    "# 读取数据\n",
    "if refeshdata or 'odf17' not in locals() or (hasattr(locals()['odf17'], 'empty') and locals()['odf17'].empty):\n",
    "    # 如果df未定义或为空DataFrame\n",
    "    odf17 = read_data(\"./data/data_17.xlsx\")\n",
    "    odf21 = read_data(\"./data/data_21.xlsx\")\n",
    "    odf22 = read_data(\"./data/data_22.xlsx\")\n",
    "    odf23 = read_data(\"./data/data_23.xlsx\")\n",
    "\n"
   ]
  },
  {
   "cell_type": "code",
   "execution_count": 1588,
   "metadata": {
    "notebookRunGroups": {
     "groupValue": "1"
    }
   },
   "outputs": [
    {
     "name": "stdout",
     "output_type": "stream",
     "text": [
      "Index(['原始重量', 'label', '时间'], dtype='object')\n",
      "(69407, 3)\n"
     ]
    },
    {
     "data": {
      "text/plain": [
       "(16530, 3)"
      ]
     },
     "metadata": {},
     "output_type": "display_data"
    },
    {
     "data": {
      "text/plain": [
       "(27913, 3)"
      ]
     },
     "metadata": {},
     "output_type": "display_data"
    },
    {
     "data": {
      "text/plain": [
       "(27942, 3)"
      ]
     },
     "metadata": {},
     "output_type": "display_data"
    },
    {
     "data": {
      "text/plain": [
       "(27942, 3)"
      ]
     },
     "metadata": {},
     "output_type": "display_data"
    },
    {
     "data": {
      "text/html": [
       "<div>\n",
       "<style scoped>\n",
       "    .dataframe tbody tr th:only-of-type {\n",
       "        vertical-align: middle;\n",
       "    }\n",
       "\n",
       "    .dataframe tbody tr th {\n",
       "        vertical-align: top;\n",
       "    }\n",
       "\n",
       "    .dataframe thead th {\n",
       "        text-align: right;\n",
       "    }\n",
       "</style>\n",
       "<table border=\"1\" class=\"dataframe\">\n",
       "  <thead>\n",
       "    <tr style=\"text-align: right;\">\n",
       "      <th></th>\n",
       "      <th>原始重量</th>\n",
       "      <th>label</th>\n",
       "      <th>时间</th>\n",
       "    </tr>\n",
       "  </thead>\n",
       "  <tbody>\n",
       "    <tr>\n",
       "      <th>0</th>\n",
       "      <td>-4063</td>\n",
       "      <td>-</td>\n",
       "      <td>2023-12-17 09:39:23</td>\n",
       "    </tr>\n",
       "    <tr>\n",
       "      <th>1</th>\n",
       "      <td>-4175</td>\n",
       "      <td>-</td>\n",
       "      <td>2023-12-17 09:39:26</td>\n",
       "    </tr>\n",
       "    <tr>\n",
       "      <th>2</th>\n",
       "      <td>-4575</td>\n",
       "      <td>-</td>\n",
       "      <td>2023-12-17 09:39:30</td>\n",
       "    </tr>\n",
       "    <tr>\n",
       "      <th>3</th>\n",
       "      <td>-4330</td>\n",
       "      <td>-</td>\n",
       "      <td>2023-12-17 09:39:32</td>\n",
       "    </tr>\n",
       "    <tr>\n",
       "      <th>4</th>\n",
       "      <td>-4442</td>\n",
       "      <td>-</td>\n",
       "      <td>2023-12-17 09:39:35</td>\n",
       "    </tr>\n",
       "  </tbody>\n",
       "</table>\n",
       "</div>"
      ],
      "text/plain": [
       "   原始重量 label                  时间\n",
       "0 -4063     - 2023-12-17 09:39:23\n",
       "1 -4175     - 2023-12-17 09:39:26\n",
       "2 -4575     - 2023-12-17 09:39:30\n",
       "3 -4330     - 2023-12-17 09:39:32\n",
       "4 -4442     - 2023-12-17 09:39:35"
      ]
     },
     "execution_count": 1588,
     "metadata": {},
     "output_type": "execute_result"
    }
   ],
   "source": [
    "\n",
    "numeric_col_names = [\"原始重量\"]\n",
    "# delete some\n",
    "#  \"轨迹时间\",'原始重量_diff', '稳定重量_diff', '轴重_diff','su_ad_diff', 'wpu_x_diff', 'wpu_y_diff', 'wpu_z_diff','估计重量',    'su_x_diff','su_y_diff', 'su_z_diff',  ,\n",
    "# ['原始重量', '稳定重量', '轴重', 'su_ad',\n",
    "#                 'wpu_x', 'wpu_y', 'wpu_z',\n",
    "#                 'su_x', 'su_y', 'su_z',\n",
    "#                 '原始重量_diff', '稳定重量_diff', '轴重_diff',\n",
    "#                 'su_ad_diff', 'wpu_x_diff', 'wpu_y_diff', 'wpu_z_diff',\n",
    "#                 'su_x_diff', 'su_y_diff', 'su_z_diff',\n",
    "#                 '速度', '估计重量', '原始重量加速度', '稳定重量加速度', '原始重量加速度_二阶', '稳定重量加速度_二阶']\n",
    "label_col_names = [\"label\"]\n",
    "time_col_names = [\"时间\"]\n",
    "\n",
    "all_col_names=numeric_col_names + label_col_names + time_col_names\n",
    "df17, df21, df22 ,df23 =odf17[all_col_names], odf21[all_col_names], odf22[all_col_names], odf23[all_col_names]\n",
    "_origindata = pd.concat([df17, df21,df22], axis=0, ignore_index=True)\n",
    "\n",
    "print(_origindata.columns)\n",
    "print(_origindata.shape)\n",
    "display(df17.shape,df22.shape,df23.shape,df23.shape)\n",
    "\n",
    "_origindata.head()"
   ]
  },
  {
   "cell_type": "code",
   "execution_count": 1589,
   "metadata": {
    "ExecuteTime": {
     "end_time": "2024-03-09T12:44:31.858140Z",
     "start_time": "2024-03-09T12:44:31.855204Z"
    },
    "notebookRunGroups": {
     "groupValue": "1"
    }
   },
   "outputs": [],
   "source": [
    "# 假设你有一个Pandas DataFrame\n",
    "# df = pd.DataFrame({\n",
    "#     'feature1': [...],  # 假设是一列数值列表\n",
    "#     'feature2': [...],  # 另一列数值列表\n",
    "#     'label': [...]      # 假设是一列标签\n",
    "# })\n",
    "\n",
    "def _bytes_feature(value):\n",
    "    return tf.train.Feature(bytes_list=tf.train.BytesList(value=[value.encode('utf-8')]))\n",
    "\n",
    "def _float_feature(value):\n",
    "    return tf.train.Feature(float_list=tf.train.FloatList(value=value))\n",
    "\n",
    "def dataframe_to_tfrecord(df, filename):\n",
    "    writer = tf.io.TFRecordWriter(filename)\n",
    "\n",
    "    for _, row in df.iterrows():\n",
    "        feature = {\n",
    "            'feature1': _float_feature(row['feature1']),\n",
    "            'feature2': _float_feature(row['feature2']),\n",
    "            'label': _float_feature(row['label'])\n",
    "            # 更改此部分以适应你的数据类型和列名\n",
    "        }\n",
    "\n",
    "        example = tf.train.Example(features=tf.train.Features(feature=feature))\n",
    "        serialized_example = example.SerializeToString()\n",
    "\n",
    "        writer.write(serialized_example)\n",
    "\n",
    "    writer.close()\n",
    "\n",
    "# 调用函数将DataFrame写入TFRecords文件\n",
    "# dataframe_to_tfrecord(df, 'my_data.tfrecords') \n",
    "\n"
   ]
  },
  {
   "cell_type": "code",
   "execution_count": 1590,
   "metadata": {},
   "outputs": [
    {
     "data": {
      "text/html": [
       "<div>\n",
       "<style scoped>\n",
       "    .dataframe tbody tr th:only-of-type {\n",
       "        vertical-align: middle;\n",
       "    }\n",
       "\n",
       "    .dataframe tbody tr th {\n",
       "        vertical-align: top;\n",
       "    }\n",
       "\n",
       "    .dataframe thead th {\n",
       "        text-align: right;\n",
       "    }\n",
       "</style>\n",
       "<table border=\"1\" class=\"dataframe\">\n",
       "  <thead>\n",
       "    <tr style=\"text-align: right;\">\n",
       "      <th></th>\n",
       "      <th>原始重量</th>\n",
       "      <th>label</th>\n",
       "      <th>时间</th>\n",
       "    </tr>\n",
       "  </thead>\n",
       "  <tbody>\n",
       "    <tr>\n",
       "      <th>1231</th>\n",
       "      <td>-9307</td>\n",
       "      <td>-</td>\n",
       "      <td>2023-12-17 10:43:45</td>\n",
       "    </tr>\n",
       "    <tr>\n",
       "      <th>1232</th>\n",
       "      <td>-10766</td>\n",
       "      <td>-</td>\n",
       "      <td>2023-12-17 10:43:47</td>\n",
       "    </tr>\n",
       "    <tr>\n",
       "      <th>1233</th>\n",
       "      <td>-10654</td>\n",
       "      <td>-</td>\n",
       "      <td>2023-12-17 10:43:51</td>\n",
       "    </tr>\n",
       "    <tr>\n",
       "      <th>1234</th>\n",
       "      <td>-10632</td>\n",
       "      <td>-</td>\n",
       "      <td>2023-12-17 10:43:54</td>\n",
       "    </tr>\n",
       "    <tr>\n",
       "      <th>1235</th>\n",
       "      <td>-16595</td>\n",
       "      <td>-</td>\n",
       "      <td>2023-12-17 10:43:57</td>\n",
       "    </tr>\n",
       "  </tbody>\n",
       "</table>\n",
       "</div>"
      ],
      "text/plain": [
       "       原始重量 label                  时间\n",
       "1231  -9307     - 2023-12-17 10:43:45\n",
       "1232 -10766     - 2023-12-17 10:43:47\n",
       "1233 -10654     - 2023-12-17 10:43:51\n",
       "1234 -10632     - 2023-12-17 10:43:54\n",
       "1235 -16595     - 2023-12-17 10:43:57"
      ]
     },
     "execution_count": 1590,
     "metadata": {},
     "output_type": "execute_result"
    }
   ],
   "source": [
    "def expandRows(idx_list_list, windowsize=20)->np.ndarray:\n",
    "    my_array = np.arange(-windowsize, windowsize+1)\n",
    "    new_array=idx_list_list.copy()\n",
    "    for item in my_array:\n",
    "        new_array += [element + item for element in indices_list]\n",
    "    ret =np.sort(list(dict.fromkeys(new_array)))\n",
    "\n",
    "    return ret\n",
    "\n",
    "indices_list =_origindata.index[_origindata['label'] == '装'].tolist() + _origindata.index[_origindata['label'] == '卸'].tolist()\n",
    "indices_list=expandRows(indices_list)\n",
    "\n",
    "# 或者使用.iloc基于位置索引（如果是整数索引）\n",
    "df_selected = _origindata.iloc[indices_list]\n",
    "\n",
    "df_selected.head()"
   ]
  },
  {
   "cell_type": "code",
   "execution_count": 1591,
   "metadata": {
    "ExecuteTime": {
     "end_time": "2024-03-09T12:44:31.877747Z",
     "start_time": "2024-03-09T12:44:31.859038Z"
    }
   },
   "outputs": [
    {
     "name": "stderr",
     "output_type": "stream",
     "text": [
      "/home/ubuntu/anaconda3/envs/tf216/lib/python3.11/site-packages/IPython/core/pylabtools.py:152: UserWarning: Glyph 21407 (\\N{CJK UNIFIED IDEOGRAPH-539F}) missing from current font.\n",
      "  fig.canvas.print_figure(bytes_io, **kw)\n",
      "/home/ubuntu/anaconda3/envs/tf216/lib/python3.11/site-packages/IPython/core/pylabtools.py:152: UserWarning: Glyph 22987 (\\N{CJK UNIFIED IDEOGRAPH-59CB}) missing from current font.\n",
      "  fig.canvas.print_figure(bytes_io, **kw)\n",
      "/home/ubuntu/anaconda3/envs/tf216/lib/python3.11/site-packages/IPython/core/pylabtools.py:152: UserWarning: Glyph 37325 (\\N{CJK UNIFIED IDEOGRAPH-91CD}) missing from current font.\n",
      "  fig.canvas.print_figure(bytes_io, **kw)\n",
      "/home/ubuntu/anaconda3/envs/tf216/lib/python3.11/site-packages/IPython/core/pylabtools.py:152: UserWarning: Glyph 37327 (\\N{CJK UNIFIED IDEOGRAPH-91CF}) missing from current font.\n",
      "  fig.canvas.print_figure(bytes_io, **kw)\n",
      "/home/ubuntu/anaconda3/envs/tf216/lib/python3.11/site-packages/IPython/core/pylabtools.py:152: UserWarning: Glyph 26102 (\\N{CJK UNIFIED IDEOGRAPH-65F6}) missing from current font.\n",
      "  fig.canvas.print_figure(bytes_io, **kw)\n",
      "/home/ubuntu/anaconda3/envs/tf216/lib/python3.11/site-packages/IPython/core/pylabtools.py:152: UserWarning: Glyph 38388 (\\N{CJK UNIFIED IDEOGRAPH-95F4}) missing from current font.\n",
      "  fig.canvas.print_figure(bytes_io, **kw)\n"
     ]
    },
    {
     "data": {
      "image/png": "[encoded data removed]",
      "text/plain": [
       "<Figure size 3000x3000 with 2 Axes>"
      ]
     },
     "metadata": {},
     "output_type": "display_data"
    }
   ],
   "source": [
    "df_selected.plot(legend=True, subplots=True, figsize=(30,30),  xlabel=\"steps\")\n",
    "ax = plt.gca()\n",
    "# ax.set_xlim(left=0, right=7600)\n",
    "# 或者直接指定字体文件路径\n",
    "# plt.rcParams['font.sans-serif'] = ['DejaVu Sans']  # 系统自带的黑体\n",
    "# plt.rcParams['font.serif'] = ['DejaVu Sans']  # 系统自带的宋体\n",
    "# plt.rcParams['font.family'] = ['DejaVu Sans']\n",
    "plt.show()\n",
    "\n"
   ]
  },
  {
   "attachments": {},
   "cell_type": "markdown",
   "metadata": {},
   "source": [
    "### 改各自层数！"
   ]
  },
  {
   "cell_type": "code",
   "execution_count": 1592,
   "metadata": {
    "ExecuteTime": {
     "end_time": "2024-03-09T12:44:31.888194Z",
     "start_time": "2024-03-09T12:44:31.878865Z"
    },
    "notebookRunGroups": {
     "groupValue": "1"
    }
   },
   "outputs": [],
   "source": [
    "# from sklearn.preprocessing import OneHotEncoder\n",
    "\n",
    "\n",
    "# def normalize(\n",
    "#     inpudf: pd.DataFrame,\n",
    "#     numeric_col_names: list[str],\n",
    "#     label_col_names: list[str],\n",
    "#     time_col_names: list[str],\n",
    "# ) -> Tuple[pd.DataFrame, MinMaxScaler, OneHotEncoder]:\n",
    "#     inpudf = inpudf.copy()\n",
    "#     # 使用 StandardScaler 或者 MinMaxScaler 进行标准化处理。\n",
    "#     # 创建标准化器对象\n",
    "\n",
    "#     inpudf[numeric_col_names] =inpudf[numeric_col_names].apply(pd.to_numeric)\n",
    "#     scaler = MinMaxScaler(feature_range=(-10, 10))\n",
    "#     scaler.fit(inpudf[numeric_col_names])\n",
    "#     # （label）标准化\n",
    "#     le = OneHotEncoder()\n",
    "#     # [\"装\", \"卸\",'-']\n",
    "#     le.fit(inpudf[label_col_names])\n",
    "#     # newdata=np.array(inpudf)\n",
    "#     # 数值型数据标准化： 使用StandardScaler或者MinMaxScaler进行标准化处理。\n",
    "#     for col in numeric_col_names:\n",
    "#         inpudf[col] = le.fit_transform(inpudf[col])\n",
    "    \n",
    "#     # 将所有时间列转换为Unix时间戳（单位为秒）\n",
    "#     for col in time_col_names:\n",
    "#         inpudf[col] = (\n",
    "#             inpudf[col].astype(np.int64) / 1e9\n",
    "#         )  # 默认pandas的datetime64[ns]转换为Unix时间戳（秒）\n",
    "        \n",
    "#     # 类别数据（label）标准化： 类别数据通常不做标准化，而是进行编码，比如One-Hot编码或者Label Encoding。\n",
    "#     for col in label_col_names:\n",
    "#         inpudf[col] = le.fit_transform(inpudf[col])\n",
    "#     # 时间数据标准化： 时间数据通常不进行标准化，而是转换成可以比较的形式，如Unix时间戳或时间段差。\n",
    "#     return inpudf, scaler, le\n",
    "# # 反标准化\n",
    "# def denormalize(\n",
    "#     inpudf: pd.DataFrame,\n",
    "#     scaler: MinMaxScaler,\n",
    "#     le: OneHotEncoder,\n",
    "#     numeric_col_names: list[str],\n",
    "#     label_col_names: list[str],\n",
    "#     time_col_names: list[str],\n",
    "# ) -> pd.DataFrame:\n",
    "#     \"\"\"对df中的数值列进行反标准化处理\"\"\"\n",
    "#     # 数值型数据标准化-\n",
    "#     inpudf[numeric_col_names] = scaler.inverse_transform(inpudf[numeric_col_names])\n",
    "#     # 类别数据（label）标准化-\n",
    "#     for col in label_col_names:\n",
    "#         inpudf[col] = le.inverse_transform(inpudf[col])\n",
    "#     # 时间数据标准化-\n",
    "#     for col in time_col_names:\n",
    "#         inpudf[col] = pd.to_datetime(\n",
    "#             inpudf[col] * 1e9\n",
    "#         )  # 默认pandas的datetime64[ns]转换为Unix时间戳（秒）\n",
    "#     return inpudf"
   ]
  },
  {
   "cell_type": "code",
   "execution_count": 1593,
   "metadata": {},
   "outputs": [],
   "source": [
    "from sklearn.preprocessing import OneHotEncoder\n",
    "\n",
    "\n",
    "def normalize(\n",
    "    inpudf: pd.DataFrame,\n",
    "    numeric_col_names: list[str]\n",
    ") -> np.ndarray: \n",
    "    # 使用 StandardScaler 或者 MinMaxScaler 进行标准化处理。\n",
    "    # 创建标准化器对象\n",
    "    scaler = MinMaxScaler()\n",
    "    return   scaler.fit_transform(inpudf)\n",
    "    # for col in numeric_col_names :        \n",
    "    #     result[col]=scaler.fit_transform(np.asarray(inpudf[col] ))\n",
    " \n",
    "\n",
    "# def normalizeY(y: pd.DataFrame):\n",
    "#     \"\"\"对df中的数值列进行反标准化处理\"\"\"\n",
    "#     # 定义一个字典，将标签映射到整数值\n",
    "#     custom_label_dict = {    '-': 0, '卸': 1, '装': 2, }\n",
    "#     le = OneHotEncoder(categories='auto', sparse=False)\n",
    "#     print('mapping ---->',custom_label_dict)\n",
    "#     # 现在我们可以将ydata转换为数值\n",
    "#     ydata_numeric = y.apply(lambda x: custom_label_dict[x['label']],axis=1)\n",
    "#     return ydata_numeric\n",
    "def normalizeY(y: pd.DataFrame):\n",
    "    \"\"\"对df中的数值列进行反标准化处理\"\"\"\n",
    "    # 定义一个字典，将标签映射到整数值\n",
    "    ydata =np.asarray(y[label_col_names])\n",
    "    le = OneHotEncoder()\n",
    "    le.fit(ydata) \n",
    "\n",
    "    return le.transform(ydata),le\n",
    "\n"
   ]
  },
  {
   "cell_type": "code",
   "execution_count": null,
   "metadata": {
    "ExecuteTime": {
     "end_time": "2024-03-09T12:44:31.900408Z",
     "start_time": "2024-03-09T12:44:31.889028Z"
    },
    "notebookRunGroups": {
     "groupValue": "1"
    }
   },
   "outputs": [],
   "source": []
  },
  {
   "cell_type": "code",
   "execution_count": 1594,
   "metadata": {},
   "outputs": [
    {
     "data": {
      "text/html": [
       "<div>\n",
       "<style scoped>\n",
       "    .dataframe tbody tr th:only-of-type {\n",
       "        vertical-align: middle;\n",
       "    }\n",
       "\n",
       "    .dataframe tbody tr th {\n",
       "        vertical-align: top;\n",
       "    }\n",
       "\n",
       "    .dataframe thead th {\n",
       "        text-align: right;\n",
       "    }\n",
       "</style>\n",
       "<table border=\"1\" class=\"dataframe\">\n",
       "  <thead>\n",
       "    <tr style=\"text-align: right;\">\n",
       "      <th></th>\n",
       "      <th>原始重量</th>\n",
       "      <th>label</th>\n",
       "      <th>时间</th>\n",
       "    </tr>\n",
       "  </thead>\n",
       "  <tbody>\n",
       "    <tr>\n",
       "      <th>1231</th>\n",
       "      <td>-9307</td>\n",
       "      <td>-</td>\n",
       "      <td>2023-12-17 10:43:45</td>\n",
       "    </tr>\n",
       "    <tr>\n",
       "      <th>1232</th>\n",
       "      <td>-10766</td>\n",
       "      <td>-</td>\n",
       "      <td>2023-12-17 10:43:47</td>\n",
       "    </tr>\n",
       "    <tr>\n",
       "      <th>1233</th>\n",
       "      <td>-10654</td>\n",
       "      <td>-</td>\n",
       "      <td>2023-12-17 10:43:51</td>\n",
       "    </tr>\n",
       "    <tr>\n",
       "      <th>1234</th>\n",
       "      <td>-10632</td>\n",
       "      <td>-</td>\n",
       "      <td>2023-12-17 10:43:54</td>\n",
       "    </tr>\n",
       "    <tr>\n",
       "      <th>1235</th>\n",
       "      <td>-16595</td>\n",
       "      <td>-</td>\n",
       "      <td>2023-12-17 10:43:57</td>\n",
       "    </tr>\n",
       "  </tbody>\n",
       "</table>\n",
       "</div>"
      ],
      "text/plain": [
       "       原始重量 label                  时间\n",
       "1231  -9307     - 2023-12-17 10:43:45\n",
       "1232 -10766     - 2023-12-17 10:43:47\n",
       "1233 -10654     - 2023-12-17 10:43:51\n",
       "1234 -10632     - 2023-12-17 10:43:54\n",
       "1235 -16595     - 2023-12-17 10:43:57"
      ]
     },
     "execution_count": 1594,
     "metadata": {},
     "output_type": "execute_result"
    }
   ],
   "source": [
    "data=df_selected\n",
    "data.head()"
   ]
  },
  {
   "cell_type": "code",
   "execution_count": 1595,
   "metadata": {},
   "outputs": [],
   "source": [
    "import numpy as np\n",
    "from sklearn.utils.class_weight import compute_class_weight\n",
    "from sklearn.preprocessing import MultiLabelBinarizer\n",
    "\n",
    "\n",
    "def generate_class_weights(class_series:np.ndarray, multi_class=True, one_hot_encoded=False):\n",
    "  \"\"\"\n",
    "  Method to generate class weights given a set of multi-class or multi-label labels, both one-hot-encoded or not.\n",
    "  Some examples of different formats of class_series and their outputs are:\n",
    "    - generate_class_weights(['mango', 'lemon', 'banana', 'mango'], multi_class=True, one_hot_encoded=False)\n",
    "    {'banana': 1.3333333333333333, 'lemon': 1.3333333333333333, 'mango': 0.6666666666666666}\n",
    "    - generate_class_weights([[1, 0, 0], [0, 1, 0], [0, 0, 1], [1, 0, 0]], multi_class=True, one_hot_encoded=True)\n",
    "    {0: 0.6666666666666666, 1: 1.3333333333333333, 2: 1.3333333333333333}\n",
    "    - generate_class_weights([['mango', 'lemon'], ['mango'], ['lemon', 'banana'], ['lemon']], multi_class=False, one_hot_encoded=False)\n",
    "    {'banana': 1.3333333333333333, 'lemon': 0.4444444444444444, 'mango': 0.6666666666666666}\n",
    "    - generate_class_weights([[0, 1, 1], [0, 0, 1], [1, 1, 0], [0, 1, 0]], multi_class=False, one_hot_encoded=True)\n",
    "    {0: 1.3333333333333333, 1: 0.4444444444444444, 2: 0.6666666666666666}\n",
    "  The output is a dictionary in the format { class_label: class_weight }. In case the input is one hot encoded, the class_label would be index\n",
    "  of appareance of the label when the dataset was processed. \n",
    "  In multi_class this is np.unique(class_series) and in multi-label np.unique(np.concatenate(class_series)).\n",
    "  Author: Angel Igareta (angel@igareta.com)\n",
    "  \"\"\"\n",
    "  if multi_class:\n",
    "    # If class is one hot encoded, transform to categorical labels to use compute_class_weight   \n",
    "    if one_hot_encoded:\n",
    "      class_series = np.argmax(class_series, axis=1)\n",
    "  \n",
    "    # Compute class weights with sklearn method\n",
    "    class_labels = np.unique(class_series)\n",
    "    class_weights = compute_class_weight(class_weight='balanced', classes=class_labels, y=class_series)\n",
    "    return dict(zip(class_labels, class_weights))\n",
    "  else:\n",
    "    # It is neccessary that the multi-label values are one-hot encoded\n",
    "    mlb = None\n",
    "    if not one_hot_encoded:\n",
    "      mlb = MultiLabelBinarizer()\n",
    "      class_series = mlb.fit_transform(class_series)\n",
    "\n",
    "    n_samples = len(class_series)\n",
    "    n_classes = len(class_series[0])\n",
    "\n",
    "    # Count each class frequency\n",
    "    # class_count = [0] * n_classes\n",
    "    # for classes in class_series:\n",
    "    #     for index in range(n_classes):\n",
    "    #         if classes[index] != 0:\n",
    "    #             class_count[index] += 1\n",
    "    \n",
    "    class_count = np.array(class_series).sum(axis=0)\n",
    "    \n",
    "    # Compute class weights using balanced method\n",
    "    class_weights = [n_samples / (n_classes * freq) if freq > 0 else 1 for freq in class_count]\n",
    "    class_labels = range(len(class_weights)) if mlb is None else mlb.classes_\n",
    "    return dict(zip(class_labels, class_weights))"
   ]
  },
  {
   "cell_type": "code",
   "execution_count": 1596,
   "metadata": {},
   "outputs": [
    {
     "data": {
      "text/html": [
       "<div>\n",
       "<style scoped>\n",
       "    .dataframe tbody tr th:only-of-type {\n",
       "        vertical-align: middle;\n",
       "    }\n",
       "\n",
       "    .dataframe tbody tr th {\n",
       "        vertical-align: top;\n",
       "    }\n",
       "\n",
       "    .dataframe thead th {\n",
       "        text-align: right;\n",
       "    }\n",
       "</style>\n",
       "<table border=\"1\" class=\"dataframe\">\n",
       "  <thead>\n",
       "    <tr style=\"text-align: right;\">\n",
       "      <th></th>\n",
       "      <th>原始重量</th>\n",
       "      <th>label</th>\n",
       "      <th>时间</th>\n",
       "    </tr>\n",
       "  </thead>\n",
       "  <tbody>\n",
       "    <tr>\n",
       "      <th>1231</th>\n",
       "      <td>-9307</td>\n",
       "      <td>-</td>\n",
       "      <td>2023-12-17 10:43:45</td>\n",
       "    </tr>\n",
       "    <tr>\n",
       "      <th>1232</th>\n",
       "      <td>-10766</td>\n",
       "      <td>-</td>\n",
       "      <td>2023-12-17 10:43:47</td>\n",
       "    </tr>\n",
       "    <tr>\n",
       "      <th>1233</th>\n",
       "      <td>-10654</td>\n",
       "      <td>-</td>\n",
       "      <td>2023-12-17 10:43:51</td>\n",
       "    </tr>\n",
       "    <tr>\n",
       "      <th>1234</th>\n",
       "      <td>-10632</td>\n",
       "      <td>-</td>\n",
       "      <td>2023-12-17 10:43:54</td>\n",
       "    </tr>\n",
       "    <tr>\n",
       "      <th>1235</th>\n",
       "      <td>-16595</td>\n",
       "      <td>-</td>\n",
       "      <td>2023-12-17 10:43:57</td>\n",
       "    </tr>\n",
       "    <tr>\n",
       "      <th>...</th>\n",
       "      <td>...</td>\n",
       "      <td>...</td>\n",
       "      <td>...</td>\n",
       "    </tr>\n",
       "    <tr>\n",
       "      <th>60318</th>\n",
       "      <td>12347</td>\n",
       "      <td>-</td>\n",
       "      <td>2023-12-22 16:08:34</td>\n",
       "    </tr>\n",
       "    <tr>\n",
       "      <th>60319</th>\n",
       "      <td>-1157</td>\n",
       "      <td>-</td>\n",
       "      <td>2023-12-22 16:08:36</td>\n",
       "    </tr>\n",
       "    <tr>\n",
       "      <th>60320</th>\n",
       "      <td>15531</td>\n",
       "      <td>-</td>\n",
       "      <td>2023-12-22 16:08:39</td>\n",
       "    </tr>\n",
       "    <tr>\n",
       "      <th>60321</th>\n",
       "      <td>11367</td>\n",
       "      <td>-</td>\n",
       "      <td>2023-12-22 16:08:42</td>\n",
       "    </tr>\n",
       "    <tr>\n",
       "      <th>60322</th>\n",
       "      <td>-29971</td>\n",
       "      <td>-</td>\n",
       "      <td>2023-12-22 16:08:46</td>\n",
       "    </tr>\n",
       "  </tbody>\n",
       "</table>\n",
       "<p>2942 rows × 3 columns</p>\n",
       "</div>"
      ],
      "text/plain": [
       "        原始重量 label                  时间\n",
       "1231   -9307     - 2023-12-17 10:43:45\n",
       "1232  -10766     - 2023-12-17 10:43:47\n",
       "1233  -10654     - 2023-12-17 10:43:51\n",
       "1234  -10632     - 2023-12-17 10:43:54\n",
       "1235  -16595     - 2023-12-17 10:43:57\n",
       "...      ...   ...                 ...\n",
       "60318  12347     - 2023-12-22 16:08:34\n",
       "60319  -1157     - 2023-12-22 16:08:36\n",
       "60320  15531     - 2023-12-22 16:08:39\n",
       "60321  11367     - 2023-12-22 16:08:42\n",
       "60322 -29971     - 2023-12-22 16:08:46\n",
       "\n",
       "[2942 rows x 3 columns]"
      ]
     },
     "execution_count": 1596,
     "metadata": {},
     "output_type": "execute_result"
    }
   ],
   "source": [
    "data"
   ]
  },
  {
   "cell_type": "markdown",
   "metadata": {},
   "source": [
    "## feature归一化"
   ]
  },
  {
   "cell_type": "code",
   "execution_count": 1597,
   "metadata": {},
   "outputs": [
    {
     "name": "stdout",
     "output_type": "stream",
     "text": [
      "参与训练的x data ： (2942, 1)\n",
      "x列数: 1\n"
     ]
    },
    {
     "data": {
      "text/plain": [
       "array([0.41294592])"
      ]
     },
     "metadata": {},
     "output_type": "display_data"
    },
    {
     "data": {
      "text/plain": [
       "array([0.39961064])"
      ]
     },
     "metadata": {},
     "output_type": "display_data"
    },
    {
     "data": {
      "text/plain": [
       "array([[0.41294592],\n",
       "       [0.39961064],\n",
       "       [0.40063432],\n",
       "       ...,\n",
       "       [0.63996563],\n",
       "       [0.60190661],\n",
       "       [0.22407663]])"
      ]
     },
     "execution_count": 1597,
     "metadata": {},
     "output_type": "execute_result"
    }
   ],
   "source": [
    "# Normalized\n",
    "# feature_col_names = numeric_col_names +  time_col_names\n",
    "from numpy import float64\n",
    "\n",
    "\n",
    "feature_col_names = numeric_col_names  # 暂时去掉 时间\n",
    "feature_col_num = len(feature_col_names)\n",
    "\n",
    "scaler = MinMaxScaler()\n",
    "xTrain=scaler.fit_transform(data[feature_col_names].astype(float64))\n",
    "\n",
    "\n",
    "print('参与训练的x data ：',xTrain.shape)\n",
    "print(\"x列数:\",feature_col_num)\n",
    "display(xTrain[0])\n",
    "display(xTrain[1])\n",
    "xTrain"
   ]
  },
  {
   "cell_type": "markdown",
   "metadata": {},
   "source": [
    "## label归一化"
   ]
  },
  {
   "cell_type": "code",
   "execution_count": 1598,
   "metadata": {},
   "outputs": [
    {
     "name": "stdout",
     "output_type": "stream",
     "text": [
      "y data: (2942, 3)\n",
      "y sample:\n",
      "  (0, 0)\t1.0\n"
     ]
    }
   ],
   "source": [
    "categories=['-', '装', '卸']\n",
    "class_num=len(categories) \n",
    "\n",
    "def convert_to_int(data):\n",
    "    \n",
    "    return categories.index(data)\n",
    "# convert to int\n",
    "ydata = data['label'].apply(convert_to_int).to_frame()\n",
    "\n",
    "le = OneHotEncoder()\n",
    "yTrain = le.fit_transform(ydata)\n",
    "\n",
    "\n",
    "print(\"y data:\",yTrain.shape)\n",
    "print('y sample:')\n",
    "print(yTrain[0])\n",
    "\n",
    "\n",
    "\n"
   ]
  },
  {
   "cell_type": "code",
   "execution_count": 1599,
   "metadata": {},
   "outputs": [],
   "source": [
    "\n",
    "\n",
    "# aa =np.asarray(xTrain)\n",
    "# aa =aa.reshape(-1, feature_col_num)\n",
    "# print(\"参与训练的x data 数据维度：转换后:\",aa.shape)\n",
    "# print('yyyyy-----------------------------')\n",
    "# print(\"yyyyy encoded data \",class_num,'xxx',np.unique(ynormalizeD.reshape(-1,class_num)))\n",
    "# original_categories = encoder.categories_\n",
    "# print('xxxxxx', original_categories)\n",
    "# # recovered_categories = [original_categories[i] for i in enumerate(ynormalizeD)]\n",
    "# # print(recovered_categories)\n",
    "# print(ynormalizeD.shape[1])"
   ]
  },
  {
   "cell_type": "markdown",
   "metadata": {},
   "source": [
    "## 划分训练集和测试集"
   ]
  },
  {
   "cell_type": "code",
   "execution_count": 1600,
   "metadata": {
    "ExecuteTime": {
     "end_time": "2024-03-09T12:44:32.021243Z",
     "start_time": "2024-03-09T12:44:31.988031Z"
    },
    "notebookRunGroups": {
     "groupValue": "1"
    }
   },
   "outputs": [
    {
     "name": "stdout",
     "output_type": "stream",
     "text": [
      "---X--shape: (2942, 1)\n",
      "[[0.41294593]\n",
      " [0.39961064]\n",
      " [0.40063432]\n",
      " [0.4008354 ]\n",
      " [0.34633347]]\n",
      "---Y--shape: (2942, 3)\n",
      "x train: (1765, 1) y train data: (1765, 3)\n",
      "x vaild: (1177, 1) y vaild: (1177, 3)\n"
     ]
    }
   ],
   "source": [
    " \n",
    "# tf_encoded_data = tf.convert_to_tensor(encoded_data_dense, dtype=tf.float32)\n",
    "\n",
    "_y=yTrain.reshape((-1,class_num))\n",
    "\n",
    "\n",
    "TIME_STEPS=-1\n",
    "INPUT_DIMS_COlUMNS=feature_col_num\n",
    "_x = xTrain.reshape(-1,).reshape(-1,feature_col_num).astype(\"float32\") \n",
    "\n",
    "\n",
    "print('---X--shape:',_x.shape)\n",
    "print(_x[0:5])\n",
    "print('---Y--shape:',_y.shape)\n",
    "\n",
    "xInput, xTest, yInput, yTest = train_test_split(_x,_y,\n",
    "                                        test_size=0.4,                                       \n",
    "                                        random_state=1\n",
    ")\n",
    "\n",
    "# xInput,xTest=xInput.flatten(),xTest.flatten()\n",
    "\n",
    "# for i in [10,27,54,59,83,91]:\n",
    "#     _xtrain, _xv, _ytrain, _yv = train_test_split(_x,_y,\n",
    "#                                             test_size=0.4, \n",
    "#                                             shuffle=True,\n",
    "#                                             random_state=i)\n",
    "#     print('data shape:',_xtrain.shape, _xv.shape, _ytrain.shape, _yv.shape)\n",
    "#     xtrain = np.concatenate((xtrain, _xtrain), axis=0)\n",
    "#     ytrain = np.concatenate((ytrain, _ytrain), axis=0)\n",
    "#     xv = np.concatenate((xv, _xv), axis=0)\n",
    "#     yv = np.concatenate((yv, _yv), axis=0)\n",
    "    \n",
    "\n",
    "# print(\"ytrain value counts:\",pd.Series(ytrain).value_counts())\n",
    "\n",
    "\n",
    "# testWeight =generate_class_weights(ytrain,multi_class=True, one_hot_encoded=True)\n",
    "\n",
    "# print(testWeight)\n",
    "# print(xtrain)\n",
    "# print(ytrain)\n",
    "print('x train:',xInput.shape, 'y train data:',yInput.shape)\n",
    "\n",
    "print('x vaild:',xTest.shape, 'y vaild:',yTest.shape)"
   ]
  },
  {
   "cell_type": "code",
   "execution_count": 1601,
   "metadata": {},
   "outputs": [],
   "source": [
    "\n",
    "\n",
    "def xxxxattention_model_(TIME_STEPS=None,INPUT_DIMS=None)-> Model:\n",
    "    drop, lstm_units=0.25,5\n",
    "    # inputs = Input(((data.shape[1],1)))\n",
    "    inputs = Input(shape=(TIME_STEPS, INPUT_DIMS))\n",
    "    # x = layers.Conv1D(\n",
    "    #     filters=64, kernel_size=32, dilation_rate=2, padding=\"same\", activation=\"relu\"\n",
    "    # )(inputs)\n",
    "    x = Dense(32, activation=\"relu\")(inputs)\n",
    "    # x = layers.BatchNormalization()(inputs)\n",
    "    # x = Conv1D(filters = 64, kernel_size = 1, activation = 'relu')(inputs)  #, padding = 'same'\n",
    "    # x = layers.Dropout(drop)(x)\n",
    "    # x = layers.AlphaDropout(drop)(x)\n",
    "    x = Dense(254, activation=\"relu\")(x)\n",
    "    x = Dense(128, activation=\"relu\")(x)\n",
    "    # x = Bidirectional(LSTM(lstm_units, activation='relu'), name='bilstm')(x)\n",
    "    # For GPU you can use CuDNNLSTM\n",
    "    # x = layers.Bidirectional(\n",
    "    #     layers.LSTM(lstm_units, return_sequences=True, name=\"bilstm\")\n",
    "    # )(x)\n",
    "    # x = layers.Dropout(drop)(x)\n",
    "\n",
    "    # attention_mul = attention_3d_block(lstm_out)\n",
    "    attention_mul = keras.layers.Flatten()(x)\n",
    "\n",
    "    # output = Dense(1, activation='sigmoid')(attention_mul)\n",
    "    output = Dense(1, activation=\"linear\")(attention_mul)\n",
    "    return Model(inputs=[inputs], outputs=output)\n",
    "     "
   ]
  },
  {
   "cell_type": "code",
   "execution_count": 1602,
   "metadata": {
    "ExecuteTime": {
     "end_time": "2024-03-09T12:44:32.027226Z",
     "start_time": "2024-03-09T12:44:32.022450Z"
    },
    "notebookRunGroups": {
     "groupValue": "1"
    }
   },
   "outputs": [],
   "source": [
    "\n",
    "\n",
    "\n",
    "def create_dataset(dataset: pd.DataFrame, look_back: int):\n",
    "    \"\"\"\n",
    "    Processing the data\n",
    "    \"\"\"\n",
    "    dataX, dataY = [], []\n",
    "    for i in range(len(dataset) - look_back - 1):\n",
    "        a = dataset.iloc[i : (i + look_back), 1:]\n",
    "        dataX.append(a)\n",
    "        dataY.append(dataset.iloc[i + look_back, :])\n",
    "    TrainX = np.array(dataX)\n",
    "    Train_Y = np.array(dataY)\n",
    "    return TrainX, Train_Y\n",
    "\n",
    "\n",
    "\n",
    "\n",
    "\n"
   ]
  },
  {
   "cell_type": "markdown",
   "metadata": {},
   "source": [
    "\n",
    "# （Embedding）的一些关键点\n",
    "\n",
    "Embedding是一种在深度学习中常用的技术，它将输入数据（如单词、图像、句子等）映射到低维度的向量空间中。这种映射使得原始数据可以被模型更好地处理和理解。在自然语言处理（NLP）中，嵌入通常用于将单词或字符转换为固定大小的向量，这些向量可以捕捉词汇的语义和上下文信息\n",
    "\n",
    "1.  **维度 reduction**: 嵌入将高维数据（如词汇表中的单词）映射到低维空间，使得模型可以更容易地处理。\n",
    "    \n",
    "2.  **固定大小**: 嵌入向量通常是固定大小的，这使得它们可以被矩阵操作，便于模型处理。\n",
    "    \n",
    "3.  **非线性**: 嵌入通常是通过对输入数据进行非线性变换来生成的，这有助于模型捕捉复杂的关系。\n",
    "    \n",
    "4.  **预训练和微调**: 在NLP中，单词嵌入通常预先训练然后在特定任务上微调。预训练可以捕获通用语义信息，而微调可以捕捉任务特定的信息。\n",
    "    \n",
    "5.  **神经网络**: 嵌入经常与神经网络一起使用，特别是卷积神经网络（CNN）和循环神经网络（RNN），以处理复杂的输入数据。\n",
    "    \n",
    "6.  **应用**: 除了NLP，嵌入技术还广泛应用于计算机视觉（如图像嵌入）、音频处理和其他领域。\n"
   ]
  },
  {
   "cell_type": "markdown",
   "metadata": {},
   "source": [
    "## 模型创建"
   ]
  },
  {
   "cell_type": "code",
   "execution_count": 1603,
   "metadata": {},
   "outputs": [],
   "source": [
    "\n",
    "SINGLE_ATTENTION_VECTOR = True\n",
    "\n",
    "\n",
    "def attention_3d_block(inputs):\n",
    "    # inputs.shape = (batch_size, time_steps, input_dim)\n",
    "    input_dim = int(inputs.shape[2])\n",
    "    a = inputs\n",
    "    # a = Permute((2, 1))(inputs)\n",
    "    # a = Reshape((input_dim, TIME_STEPS))(a) # this line is not useful. It's just to know which dimension is what.\n",
    "    a = Dense(input_dim, activation='softmax')(a)\n",
    "\n",
    "    if SINGLE_ATTENTION_VECTOR:\n",
    "        a = Lambda(lambda x: keras.ops.mean(\n",
    "            x, axis=1), name='dim_reduction')(a)\n",
    "        a = RepeatVector(input_dim)(a)\n",
    "    a_probs = Permute((1, 2), name='attention_vec')(a)\n",
    "\n",
    "    # output_attention_mul = merge([inputs, a_probs], name='attention_mul', mode='mul')\n",
    "    output_attention_mul = Multiply()([inputs, a_probs])\n",
    "    return output_attention_mul\n",
    "\n",
    "\n",
    "def attention_model(TIME_STEPS=5, INPUT_DIMS_COlUMNS=1) -> models.Model:\n",
    "    drop, lstm_units = 0.5, 32\n",
    "    # inputs = Input(((data.shape[1],1)))\n",
    "    # inputs = Input(shape=(NONE,INPUT_DIMS_COlUMNS),name='input')\n",
    "    # x = Flatten()(inputs)\n",
    "    x = Dense(254, input_shape=(TIME_STEPS, INPUT_DIMS_COlUMNS), activation=\"relu\",\n",
    "\t\t\tkernel_initializer='RandomNormal', name='dense1')\n",
    "    # x = Conv1D(\n",
    "    #     filters=32, kernel_size=3, dilation_rate=2, padding=\"same\", activation=\"relu\",\n",
    "    #     kernel_regularizer= keras.regularizers.l2(0.001),name = 'conv1d1'\n",
    "    # )(x)\n",
    "    # x = MaxPooling1D(pool_size=3,name = 'maxpool1')(x)\n",
    "    # x = Dropout(drop)(x)\n",
    "    # x = Conv1D(filters = 64, kernel_size = 1, activation = 'relu')(x)  #, padding = 'same'\n",
    "    # x = MaxPooling1D(pool_size=2)(x)\n",
    "    # x = Dropout(drop)(x)\n",
    "    # x = Bidirectional(LSTM(lstm_units, activation='relu'), name='bilstm')(x)\n",
    "\n",
    "    # x = Bidirectional(\n",
    "    #     LSTM(lstm_units, return_sequences=True, name=\"bilstm\",\n",
    "\t# \t\tkernel_regularizer=keras.regularizers.l2(0.001)),\n",
    "    #     name=\"bilstm\",\n",
    "    #     merge_mode=\"concat\"\n",
    "    # )(x)\n",
    "    # x = Flatten()(x)\n",
    "    # x =LSTM(lstm_units, return_sequences=True, name=\"bilstm\",kernel_regularizer=keras.regularizers.l2(0.001))(x)\n",
    "    # x = Dropout(drop)(x)\n",
    "    # x = Dense(64, activation='relu')(x)\n",
    "    # x = attention_3d_block(x)\n",
    "    # x = Flatten()(x)\n",
    "    # x = Dropout(drop)(x)\n",
    "    x = Dense(64, activation='relu')(x)\n",
    "    # x = BatchNormalization()(x)\n",
    "\n",
    "    # x = Dropout(drop)(x)\n",
    "    output = Dense(class_num, activation=\"softmax\")(x)\n",
    "\n",
    "\n",
    "    return models.Model(inputs, outputs=output)"
   ]
  },
  {
   "cell_type": "code",
   "execution_count": 1604,
   "metadata": {},
   "outputs": [],
   "source": [
    "# model = models.Sequential(\n",
    "#     [\n",
    "#         keras.layers.Input(\n",
    "#             batch_input_shape=(\n",
    "#                 None,\n",
    "#                 feature_col_num,\n",
    "#             ),\n",
    "#             name=\"input\",\n",
    "#         ),\n",
    "#         layers.Dense(units=5,activation='relu'),\n",
    "#         # layers.Conv1D(5, (3), activation=tf.nn.relu),\n",
    "#         # layers.MaxPooling1D(pool_size=2),\n",
    "#         layers.Dropout(drop),\n",
    "#         # layers.Flatten(),\n",
    "#         # layers.Dense(units=8, activation=tf.nn.relu, kernel_regularizer=keras.regularizers.l2(0.001)),\n",
    "#         layers.Dense(\n",
    "#             units=4,\n",
    "#             activation=tf.nn.relu,\n",
    "#             kernel_regularizer=keras.regularizers.l2(0.001),\n",
    "#         ),\n",
    "#         layers.Dense(units=1, activation=\"linear\"),\n",
    "#     ]\n",
    "# ) "
   ]
  },
  {
   "cell_type": "markdown",
   "metadata": {},
   "source": [
    "## 编译模型"
   ]
  },
  {
   "cell_type": "code",
   "execution_count": 1605,
   "metadata": {
    "ExecuteTime": {
     "end_time": "2024-03-09T12:44:32.114370Z",
     "start_time": "2024-03-09T12:44:32.028758Z"
    },
    "notebookRunGroups": {
     "groupValue": "1"
    }
   },
   "outputs": [
    {
     "name": "stdout",
     "output_type": "stream",
     "text": [
      "xTrain.shape: (2942, 1)\n",
      "TIME_STEPS: -1\n",
      "INPUT_DIMS_COlUMNS: 1\n"
     ]
    },
    {
     "data": {
      "text/html": [
       "<pre style=\"white-space:pre;overflow-x:auto;line-height:normal;font-family:Menlo,'DejaVu Sans Mono',consolas,'Courier New',monospace\"><span style=\"font-weight: bold\">Model: \"functional_79\"</span>\n",
       "</pre>\n"
      ],
      "text/plain": [
       "\u001b[1mModel: \"functional_79\"\u001b[0m\n"
      ]
     },
     "metadata": {},
     "output_type": "display_data"
    },
    {
     "data": {
      "text/html": [
       "<pre style=\"white-space:pre;overflow-x:auto;line-height:normal;font-family:Menlo,'DejaVu Sans Mono',consolas,'Courier New',monospace\">┏━━━━━━━━━━━━━━━━━━━━━━━━━━━━━━━━━┳━━━━━━━━━━━━━━━━━━━━━━━━┳━━━━━━━━━━━━━━━┓\n",
       "┃<span style=\"font-weight: bold\"> Layer (type)                    </span>┃<span style=\"font-weight: bold\"> Output Shape           </span>┃<span style=\"font-weight: bold\">       Param # </span>┃\n",
       "┡━━━━━━━━━━━━━━━━━━━━━━━━━━━━━━━━━╇━━━━━━━━━━━━━━━━━━━━━━━━╇━━━━━━━━━━━━━━━┩\n",
       "│ input_layer_17 (<span style=\"color: #0087ff; text-decoration-color: #0087ff\">InputLayer</span>)     │ (<span style=\"color: #00d7ff; text-decoration-color: #00d7ff\">None</span>, <span style=\"color: #00af00; text-decoration-color: #00af00\">1</span>)              │             <span style=\"color: #00af00; text-decoration-color: #00af00\">0</span> │\n",
       "├─────────────────────────────────┼────────────────────────┼───────────────┤\n",
       "│ dense_84 (<span style=\"color: #0087ff; text-decoration-color: #0087ff\">Dense</span>)                │ (<span style=\"color: #00d7ff; text-decoration-color: #00d7ff\">None</span>, <span style=\"color: #00af00; text-decoration-color: #00af00\">4</span>)              │             <span style=\"color: #00af00; text-decoration-color: #00af00\">8</span> │\n",
       "├─────────────────────────────────┼────────────────────────┼───────────────┤\n",
       "│ dense_85 (<span style=\"color: #0087ff; text-decoration-color: #0087ff\">Dense</span>)                │ (<span style=\"color: #00d7ff; text-decoration-color: #00d7ff\">None</span>, <span style=\"color: #00af00; text-decoration-color: #00af00\">4</span>)              │            <span style=\"color: #00af00; text-decoration-color: #00af00\">20</span> │\n",
       "├─────────────────────────────────┼────────────────────────┼───────────────┤\n",
       "│ dense_86 (<span style=\"color: #0087ff; text-decoration-color: #0087ff\">Dense</span>)                │ (<span style=\"color: #00d7ff; text-decoration-color: #00d7ff\">None</span>, <span style=\"color: #00af00; text-decoration-color: #00af00\">3</span>)              │            <span style=\"color: #00af00; text-decoration-color: #00af00\">15</span> │\n",
       "└─────────────────────────────────┴────────────────────────┴───────────────┘\n",
       "</pre>\n"
      ],
      "text/plain": [
       "┏━━━━━━━━━━━━━━━━━━━━━━━━━━━━━━━━━┳━━━━━━━━━━━━━━━━━━━━━━━━┳━━━━━━━━━━━━━━━┓\n",
       "┃\u001b[1m \u001b[0m\u001b[1mLayer (type)                   \u001b[0m\u001b[1m \u001b[0m┃\u001b[1m \u001b[0m\u001b[1mOutput Shape          \u001b[0m\u001b[1m \u001b[0m┃\u001b[1m \u001b[0m\u001b[1m      Param #\u001b[0m\u001b[1m \u001b[0m┃\n",
       "┡━━━━━━━━━━━━━━━━━━━━━━━━━━━━━━━━━╇━━━━━━━━━━━━━━━━━━━━━━━━╇━━━━━━━━━━━━━━━┩\n",
       "│ input_layer_17 (\u001b[38;5;33mInputLayer\u001b[0m)     │ (\u001b[38;5;45mNone\u001b[0m, \u001b[38;5;34m1\u001b[0m)              │             \u001b[38;5;34m0\u001b[0m │\n",
       "├─────────────────────────────────┼────────────────────────┼───────────────┤\n",
       "│ dense_84 (\u001b[38;5;33mDense\u001b[0m)                │ (\u001b[38;5;45mNone\u001b[0m, \u001b[38;5;34m4\u001b[0m)              │             \u001b[38;5;34m8\u001b[0m │\n",
       "├─────────────────────────────────┼────────────────────────┼───────────────┤\n",
       "│ dense_85 (\u001b[38;5;33mDense\u001b[0m)                │ (\u001b[38;5;45mNone\u001b[0m, \u001b[38;5;34m4\u001b[0m)              │            \u001b[38;5;34m20\u001b[0m │\n",
       "├─────────────────────────────────┼────────────────────────┼───────────────┤\n",
       "│ dense_86 (\u001b[38;5;33mDense\u001b[0m)                │ (\u001b[38;5;45mNone\u001b[0m, \u001b[38;5;34m3\u001b[0m)              │            \u001b[38;5;34m15\u001b[0m │\n",
       "└─────────────────────────────────┴────────────────────────┴───────────────┘\n"
      ]
     },
     "metadata": {},
     "output_type": "display_data"
    },
    {
     "data": {
      "text/html": [
       "<pre style=\"white-space:pre;overflow-x:auto;line-height:normal;font-family:Menlo,'DejaVu Sans Mono',consolas,'Courier New',monospace\"><span style=\"font-weight: bold\"> Total params: </span><span style=\"color: #00af00; text-decoration-color: #00af00\">43</span> (172.00 B)\n",
       "</pre>\n"
      ],
      "text/plain": [
       "\u001b[1m Total params: \u001b[0m\u001b[38;5;34m43\u001b[0m (172.00 B)\n"
      ]
     },
     "metadata": {},
     "output_type": "display_data"
    },
    {
     "data": {
      "text/html": [
       "<pre style=\"white-space:pre;overflow-x:auto;line-height:normal;font-family:Menlo,'DejaVu Sans Mono',consolas,'Courier New',monospace\"><span style=\"font-weight: bold\"> Trainable params: </span><span style=\"color: #00af00; text-decoration-color: #00af00\">43</span> (172.00 B)\n",
       "</pre>\n"
      ],
      "text/plain": [
       "\u001b[1m Trainable params: \u001b[0m\u001b[38;5;34m43\u001b[0m (172.00 B)\n"
      ]
     },
     "metadata": {},
     "output_type": "display_data"
    },
    {
     "data": {
      "text/html": [
       "<pre style=\"white-space:pre;overflow-x:auto;line-height:normal;font-family:Menlo,'DejaVu Sans Mono',consolas,'Courier New',monospace\"><span style=\"font-weight: bold\"> Non-trainable params: </span><span style=\"color: #00af00; text-decoration-color: #00af00\">0</span> (0.00 B)\n",
       "</pre>\n"
      ],
      "text/plain": [
       "\u001b[1m Non-trainable params: \u001b[0m\u001b[38;5;34m0\u001b[0m (0.00 B)\n"
      ]
     },
     "metadata": {},
     "output_type": "display_data"
    }
   ],
   "source": [
    "\n",
    "drop = 0.2\n",
    "\n",
    "# 调整学习率\n",
    "optimizer = keras.optimizers.Adam(learning_rate=0.2)  # 学习率设置为0.001\n",
    "# model.compile(optimizer=optimizer, loss='categorical_crossentropy',metrics=['accuracy'])\n",
    "\n",
    "\n",
    "print('xTrain.shape:',xTrain.shape)\n",
    "print('TIME_STEPS:',TIME_STEPS)\n",
    "print('INPUT_DIMS_COlUMNS:',INPUT_DIMS_COlUMNS)\n",
    "# model:models.Model =attention_model(TIME_STEPS,INPUT_DIMS_COlUMNS)\n",
    "\n",
    "#loss=keras.losses.mean_squared_error,\n",
    "\n",
    "# model.compile(\n",
    "#     optimizer=keras.optimizers.Adadelta(lr=0.002), \n",
    "#     #loss=keras.losses.categorical_hinge,\n",
    "#     loss=keras.losses.sparse_categorical_crossentropy(from_logits=True),\n",
    "#     metrics=[\"AUC\"]\n",
    "    \n",
    "# )\n",
    "# loss = keras.losses.SparseCategoricalCrossentropy(from_logits=True)\n",
    "# 损失函数, 优化器, 评价指标\n",
    "# model.compile(loss=loss,\n",
    "#             optimizer='adam',\n",
    "#             metrics=['accuracy'])\n",
    "\n",
    "inputs = keras.Input(shape=(INPUT_DIMS_COlUMNS,))\n",
    "x = keras.layers.Dense(4, activation=tf.nn.relu)(inputs)\n",
    "x = keras.layers.Dense(4, activation=tf.nn.sigmoid)(x)\n",
    "outputs = keras.layers.Dense(3, activation=tf.nn.softmax)(x)\n",
    "model = keras.Model(inputs=inputs, outputs=outputs)\n",
    "model.compile(optimizer=keras.optimizers.Adam(learning_rate=0.001),\n",
    "        loss='sparse_categorical_crossentropy', # 直接填api，后面会报错\n",
    "        metrics=['accuracy'])\n",
    "# model.build()\n",
    "model.summary()"
   ]
  },
  {
   "cell_type": "markdown",
   "metadata": {},
   "source": [
    "## 训练"
   ]
  },
  {
   "cell_type": "code",
   "execution_count": 1608,
   "metadata": {
    "ExecuteTime": {
     "end_time": "2024-03-09T12:48:52.680124Z",
     "start_time": "2024-03-09T12:44:32.117720Z"
    },
    "notebookRunGroups": {
     "groupValue": "1"
    }
   },
   "outputs": [
    {
     "ename": "NameError",
     "evalue": "name 'inpulayer' is not defined",
     "output_type": "error",
     "traceback": [
      "\u001b[0;31m---------------------------------------------------------------------------\u001b[0m",
      "\u001b[0;31mNameError\u001b[0m                                 Traceback (most recent call last)",
      "Cell \u001b[0;32mIn[1608], line 6\u001b[0m\n\u001b[1;32m      3\u001b[0m epochs \u001b[38;5;241m=\u001b[39m \u001b[38;5;241m50\u001b[39m\n\u001b[1;32m      4\u001b[0m iputlayer \u001b[38;5;241m=\u001b[39m model\u001b[38;5;241m.\u001b[39minput\n\u001b[0;32m----> 6\u001b[0m \u001b[38;5;28mprint\u001b[39m ( \u001b[43minpulayer\u001b[49m\u001b[38;5;241m.\u001b[39minput_shape )\n\u001b[1;32m      8\u001b[0m tf_callback \u001b[38;5;241m=\u001b[39m keras\u001b[38;5;241m.\u001b[39mcallbacks\u001b[38;5;241m.\u001b[39mTensorBoard(log_dir\u001b[38;5;241m=\u001b[39m\u001b[38;5;124m\"\u001b[39m\u001b[38;5;124m./logs\u001b[39m\u001b[38;5;124m\"\u001b[39m)\n\u001b[1;32m      9\u001b[0m \u001b[38;5;66;03m# print(testWeight)\u001b[39;00m\n",
      "\u001b[0;31mNameError\u001b[0m: name 'inpulayer' is not defined"
     ]
    }
   ],
   "source": [
    "\n",
    "\n",
    "\n",
    "batch_size = feature_col_num * 1\n",
    "batch_size=1\n",
    "epochs = 50\n",
    "iputlayer = model.input\n",
    "\n",
    "\n",
    "tf_callback = keras.callbacks.TensorBoard(log_dir=\"./logs\")\n",
    "# print(testWeight)\n",
    "history = model.fit(\n",
    "    xInput,\n",
    "    yInput,\n",
    "    batch_size=batch_size,\n",
    "    epochs=epochs,\n",
    "    verbose=1,\n",
    "    validation_data=(xTest, yTest),\n",
    "    # callbacks=[tf_callback],\n",
    "    # class_weight=testWeight,\n",
    "    # workers=10\n",
    ")"
   ]
  },
  {
   "cell_type": "code",
   "execution_count": null,
   "metadata": {
    "ExecuteTime": {
     "end_time": "2024-03-09T12:48:52.686067Z",
     "start_time": "2024-03-09T12:48:52.683765Z"
    }
   },
   "outputs": [],
   "source": [
    "# %load_ext tensorboard\n",
    "# %tensorboard --logdir \"./logs\"\n",
    "# cmd 当前环境，当前目录 运行   tensorboard --logdir=logs --host=127.0.0.1\n",
    "# 网页中可以查看模型训练过程"
   ]
  },
  {
   "cell_type": "code",
   "execution_count": null,
   "metadata": {
    "ExecuteTime": {
     "end_time": "2024-03-09T12:52:24.669134Z",
     "start_time": "2024-03-09T12:52:24.626718Z"
    }
   },
   "outputs": [],
   "source": [
    "import datetime\n",
    "import os\n",
    "\n",
    "# 获取当前时间\n",
    "current_time = datetime.datetime.now()\n",
    "\n",
    "# 将时间戳格式化为便于文件命名的形式\n",
    "timestamp_str = current_time.strftime(\"%Y%m%d_%H%M%S\")\n",
    "file_name = f\"./model_C_L_A_{timestamp_str}.h5\"\n",
    "\n",
    "if os.path.exists(file_name):\n",
    "    # 以时间戳为序号命名文件，并保存模型\n",
    "    model.save(file_name)\n",
    "\n",
    "# # 如果你希望保存为txt、csv等其他格式的文件，可以这样操作\n",
    "# with open(f'data_{timestamp_str}.txt', 'w') as f:\n",
    "#     f.write('...')  # 写入你的数据或文本内容\n"
   ]
  },
  {
   "cell_type": "code",
   "execution_count": null,
   "metadata": {},
   "outputs": [],
   "source": [
    "data22, scaler22 = normalize(\n",
    "    df22, numeric_col_names\n",
    ")\n",
    "\n",
    "X22 = data22[feature_col_names]\n",
    "Y22 =normalizeY( df22[label_col_names])\n",
    "x_train22, y_train22 = np.asarray(X22), np.asarray(Y22)\n",
    "\n",
    "xInput = x_train22.reshape(-1, feature_col_num)\n",
    "\n",
    "# display(y_train22.shape )\n",
    "\n",
    "# y_train22 = y_train22.reshape(-1, )\n",
    "\n",
    "predY = model.predict(xInput, batch_size=batch_size)\n",
    "\n",
    "# predY=predY.reshape(-1, )\n"
   ]
  },
  {
   "cell_type": "code",
   "execution_count": null,
   "metadata": {},
   "outputs": [],
   "source": [
    "\n",
    "print(\"y_train22.shape\", y_train22.shape)\n",
    "print(\"predY.shape\", predY.shape,predY.reshape(-1,))"
   ]
  },
  {
   "cell_type": "code",
   "execution_count": null,
   "metadata": {},
   "outputs": [],
   "source": [
    "# data.plot(legend=True, subplots=True, figsize=(30,30),  xlabel=\"steps\")\n",
    "# ax = plt.gca()\n",
    "# ax.set_xlim(left=0, right=19000)\n",
    "\n",
    "\n",
    "\n",
    "# # 或者直接指定字体文件路径\n",
    "# plt.rcParams['font.sans-serif'] = ['SimHei']  # 系统自带的黑体\n",
    "# plt.rcParams['font.serif'] = ['SimSun']  # 系统自带的宋体\n",
    "# plt.rcParams['font.family'] = ['SimSun','SimHei','Source Han Sans CN']\n",
    "\n",
    "\n",
    "\n",
    "# plt.show()\n",
    "times = df22[time_col_names].index.to_numpy()\n",
    "display(times)\n",
    "plt.plot(times, y_train22, label=\"Actual\", marker=\"o\")\n",
    "plt.plot(times, predY, label=\"Predicted\", linestyle=\"--\", marker=\"x\")\n",
    "\n",
    "\n",
    "\n",
    "ax = plt.gca()\n",
    "ax.set_xlim(left=12000, right=18000)\n",
    "# 添加标题和标签\n",
    "plt.title(\"Actual vs. Predicted Values\")\n",
    "plt.xlabel(\"Sample Index\")\n",
    "plt.ylabel(\"Value\")\n",
    "\n",
    "\n",
    "\n",
    "# 添加图例\n",
    "plt.legend()\n",
    "\n",
    "\n",
    "\n",
    "# 显示图形\n",
    "plt.show()"
   ]
  },
  {
   "cell_type": "code",
   "execution_count": null,
   "metadata": {},
   "outputs": [],
   "source": [
    "# display(history.history)\n",
    "plt.plot(history.history[\"loss\"])\n",
    "plt.plot(history.history[\"val_loss\"])\n",
    "plt.plot(history.history[\"val_accuracy\"])\n",
    "plt.title(\"model train vs validation loss\")\n",
    "plt.ylabel(\"loss\")\n",
    "plt.xlabel(\"epoch\")\n",
    "plt.legend([\"loss\", \"epoch\", \"accuracy\"], loc=\"upper right\")\n",
    "plt.show()\n",
    "plt.plot(history.history[\"accuracy\"])\n",
    "plt.plot(history.history[\"val_accuracy\"])\n",
    "plt.title(\"model train vs validation accuracy\")\n",
    "plt.ylabel(\"accuracy\")\n",
    "plt.xlabel(\"epoch\")\n",
    "plt.legend([\"accuracy\", \"val_accuracy\"], loc=\"upper left\")\n",
    "plt.show()"
   ]
  },
  {
   "cell_type": "code",
   "execution_count": null,
   "metadata": {},
   "outputs": [],
   "source": [
    "display(df22.columns)"
   ]
  },
  {
   "cell_type": "code",
   "execution_count": null,
   "metadata": {},
   "outputs": [],
   "source": [
    "data22, scaler22 = normalize(df22, numeric_col_names)\n",
    "X22 = data22[feature_col_names]\n",
    "y_test22 =normalizeY( df22[label_col_names])\n",
    "x_train22  = np.asarray(X22) .reshape(-1, feature_col_num) \n",
    "predY22 = model.predict(x_train22, batch_size=batch_size)\n",
    "\n",
    "\n",
    "data23, scaler23 = normalize(df23, numeric_col_names) \n",
    "X23 = data23[feature_col_names]\n",
    "y_test23 =normalizeY( df23[label_col_names])\n",
    "x_train23  = np.asarray(X23) .reshape(-1, feature_col_num) \n",
    "predY23 = model.predict(x_train23, batch_size=batch_size)\n",
    "\n",
    "\n",
    "\n",
    "\n",
    "\n",
    "\n",
    "display(predY22,predY23)"
   ]
  },
  {
   "cell_type": "code",
   "execution_count": null,
   "metadata": {},
   "outputs": [],
   "source": [
    "fig_acc = plt.figure(figsize=(9, 9))\n",
    "plt.plot(predY23[0:27000])\n",
    "plt.plot(y_test23[0:27000])\n",
    "plt.title(\"real vs pred\")\n",
    "plt.ylabel(\"value\")\n",
    "plt.xlabel(\"epoch\")\n",
    "plt.xlim((19000, 23000))\n",
    "plt.legend([\"pred\", \"real\"], loc=\"upper left\")\n",
    "plt.show()"
   ]
  },
  {
   "cell_type": "code",
   "execution_count": null,
   "metadata": {},
   "outputs": [],
   "source": []
  },
  {
   "cell_type": "code",
   "execution_count": null,
   "metadata": {},
   "outputs": [],
   "source": []
  }
 ],
 "metadata": {
  "kernelspec": {
   "display_name": "py310",
   "language": "python",
   "name": "python3"
  },
  "language_info": {
   "codemirror_mode": {
    "name": "ipython",
    "version": 3
   },
   "file_extension": ".py",
   "mimetype": "text/x-python",
   "name": "python",
   "nbconvert_exporter": "python",
   "pygments_lexer": "ipython3",
   "version": "3.11.8"
  },
  "orig_nbformat": 4
 },
 "nbformat": 4,
 "nbformat_minor": 2
}
