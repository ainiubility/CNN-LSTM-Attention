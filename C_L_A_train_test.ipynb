{
 "cells": [
  {
   "cell_type": "markdown",
   "metadata": {},
   "source": [
    "借助 Intel(R) Extension for Scikit-learn，您可以加速您的 Scikit-learn 应用程序，并且仍然完全符合所有 Scikit-Learn API 和算法。这是一款免费软件 AI 加速器，可为各种应用带来超过10-100 倍的加速。而且您甚至不需要更改现有代码！"
   ]
  },
  {
   "cell_type": "code",
   "execution_count": 86,
   "metadata": {},
   "outputs": [
    {
     "name": "stderr",
     "output_type": "stream",
     "text": [
      "Intel(R) Extension for Scikit-learn* enabled (https://github.com/intel/scikit-learn-intelex)\n"
     ]
    }
   ],
   "source": [
    "# pip install scikit-learn-intelex\n",
    "from sklearnex import patch_sklearn\n",
    "patch_sklearn()\n",
    "# from attention_utils import get_activations\n",
    "import  pandas as pd\n",
    "import  numpy as np\n",
    "\n",
    "from matplotlib import pyplot as plt\n",
    "from sklearn.preprocessing import StandardScaler, LabelEncoder,MinMaxScaler\n",
    "from sklearn import datasets\n",
    "from sklearn.model_selection import train_test_split\n",
    "from sklearn.ensemble import RandomForestRegressor\n",
    "from sklearn.metrics import mean_squared_error\n",
    "from sklearn.metrics import median_absolute_error\n",
    "from sklearn.metrics import mean_squared_log_error\n",
    "from sklearn.metrics import mean_absolute_percentage_error\n",
    "from sklearn.metrics import explained_variance_score\n",
    "from sklearn.metrics import r2_score\n",
    "from typing import Tuple \n",
    "from __future__ import print_function\n",
    "import tensorflow as tf\n",
    "from tensorflow.keras import models\n",
    "from tensorflow.keras import layers\n",
    "from keras.callbacks import ModelCheckpoint\n",
    "from keras.models import model_from_json\n",
    "from keras import backend as K\n",
    "from tensorflow.keras.callbacks import TensorBoard"
   ]
  },
  {
   "cell_type": "code",
   "execution_count": null,
   "metadata": {},
   "outputs": [],
   "source": []
  },
  {
   "cell_type": "code",
   "execution_count": 87,
   "metadata": {},
   "outputs": [],
   "source": [
    "\n",
    "\n",
    "def get_activations(model, inputs, print_shape_only=False, layer_name=None):\n",
    "    # Documentation is available online on Github at the address below.\n",
    "    # From: https://github.com/philipperemy/keras-visualize-activations\n",
    "    print('----- activations -----')\n",
    "    activations = []\n",
    "    inp = model.input\n",
    "    if layer_name is None:\n",
    "        outputs = [layer.output for layer in model.layers]\n",
    "    else:\n",
    "        outputs = [layer.output for layer in model.layers if layer.name == layer_name]  # all layer outputs\n",
    "    funcs = [K.function([inp] + [K.learning_phase()], [out]) for out in outputs]  # evaluation functions\n",
    "    layer_outputs = [func([inputs, 1.])[0] for func in funcs]\n",
    "    for layer_activations in layer_outputs:\n",
    "        activations.append(layer_activations)\n",
    "        if print_shape_only:\n",
    "            print(layer_activations.shape)\n",
    "        else:\n",
    "            print('shape为',layer_activations.shape)\n",
    "            print(layer_activations)\n",
    "    return activations\n",
    "\n",
    "\n",
    "def get_data(n, input_dim, attention_column=1):\n",
    "    \"\"\"\n",
    "    Data generation. x is purely random except that it's first value equals the target y.\n",
    "    In practice, the network should learn that the target = x[attention_column].\n",
    "    Therefore, most of its attention should be focused on the value addressed by attention_column.\n",
    "    :param n: the number of samples to retrieve.\n",
    "    :param input_dim: the number of dimensions of each element in the series.\n",
    "    :param attention_column: the column linked to the target. Everything else is purely random.\n",
    "    :return: x: model inputs, y: model targets\n",
    "    \"\"\"\n",
    "    x = np.random.standard_normal(size=(n, input_dim))\n",
    "    y = np.random.randint(low=0, high=2, size=(n, 1))\n",
    "    x[:, attention_column] = y[:, 0]\n",
    "    return x, y\n",
    "\n",
    "\n",
    "def get_data_recurrent(n, time_steps, input_dim, attention_column=10):\n",
    "    \"\"\"\n",
    "    Data generation. x is purely random except that it's first value equals the target y.\n",
    "    In practice, the network    should learn that the target = x[attention_column].\n",
    "    Therefore, most of its attention should be focused on the value addressed by attention_column.\n",
    "    :param n: the number of samples to retrieve.\n",
    "    :param time_steps: the number of time steps of your series.\n",
    "    :param input_dim: the number of dimensions of each element in the series.\n",
    "    :param attention_column: the column linked to the target. Everything else is purely random.\n",
    "    :return: x: model inputs, y: model targets\n",
    "    \"\"\"\n",
    "    x = np.random.standard_normal(size=(n, time_steps, input_dim))\n",
    "    y = np.random.randint(low=0, high=2, size=(n, 1))\n",
    "    x[:, attention_column, :] = np.tile(y[:], (1, input_dim))\n",
    "    return x, y\n",
    "\n",
    "\n",
    "def get_data_recurrent2(n, time_steps, input_dim, attention_dim=5):\n",
    "    \"\"\"\n",
    "    Suppose input_dim = 10  time_steps = 6\n",
    "    formed one  x 6 x 10 The data of each step 6 dimension is the same as y\n",
    "    \"\"\"\n",
    "    x = np.random.standard_normal(size=(n, time_steps, input_dim))\n",
    "    y = np.random.randint(low=0, high=2, size=(n, 1))\n",
    "    x[:,:,attention_dim] =  np.tile(y[:], (1, time_steps))\n",
    "\n",
    "\n",
    "    return x,y\n",
    "     "
   ]
  },
  {
   "cell_type": "code",
   "execution_count": null,
   "metadata": {},
   "outputs": [],
   "source": []
  },
  {
   "cell_type": "code",
   "execution_count": 88,
   "metadata": {},
   "outputs": [],
   "source": [
    "\n",
    "\n",
    "\n",
    "# keras.layers.Activation('linear')"
   ]
  },
  {
   "cell_type": "code",
   "execution_count": 89,
   "metadata": {},
   "outputs": [
    {
     "name": "stdout",
     "output_type": "stream",
     "text": [
      "         date start_time  end_time               start                 end  \\\n",
      "0  2023-12-17   10:44:49  10:48:59 2023-12-17 10:44:49 2023-12-17 10:48:59   \n",
      "1  2023-12-17   11:29:45  11:31:55 2023-12-17 11:29:45 2023-12-17 11:31:55   \n",
      "2  2023-12-17   12:23:56  12:29:44 2023-12-17 12:23:56 2023-12-17 12:29:44   \n",
      "3  2023-12-17   12:55:08  12:56:28 2023-12-17 12:55:08 2023-12-17 12:56:28   \n",
      "4  2023-12-17   13:45:02  13:45:42 2023-12-17 13:45:02 2023-12-17 13:45:42   \n",
      "\n",
      "  label  \n",
      "0     装  \n",
      "1     卸  \n",
      "2     装  \n",
      "3     卸  \n",
      "4     装   (56, 6)\n"
     ]
    }
   ],
   "source": [
    "\n",
    "\n",
    "dfstate = pd.read_csv(\"./data/states.txt\")\n",
    "dfstate[\"start\"] = dfstate.apply(\n",
    "    lambda row: row[\"date\"] + \" \" + row[\"start_time\"], axis=1\n",
    ")\n",
    "dfstate[\"end\"] = dfstate.apply(lambda row: row[\"date\"] + \" \" + row[\"end_time\"], axis=1)\n",
    "dfstate[\"label\"] = dfstate.pop(\"state\").str.strip()\n",
    "# 转为时间类型\n",
    "dfstate[[\"start\", \"end\"]] = dfstate[[\"start\", \"end\"]].apply(pd.to_datetime)\n",
    "# dfstate[\"statev\"] = dfstate.apply(label_to_number, axis=1)\n",
    "# dfstate['label'] = dfstate.apply(number_to_label,axis=1)\n",
    "dfstate.to_csv(\"./data/states.csv\")\n",
    "print(dfstate.head(), dfstate.shape)\n",
    " "
   ]
  },
  {
   "cell_type": "code",
   "execution_count": 90,
   "metadata": {},
   "outputs": [],
   "source": [
    "# 定义读取，处理数据函数\n",
    "def fix_data(inputDF: pd.DataFrame) -> pd.DataFrame:\n",
    "    # 创建一个新的空列用于存储结果\n",
    "\n",
    "    inputDF.insert(0, \"label\", \"-\")\n",
    "\n",
    "    # 对df1中的每一行遍历，并查找df2中符合条件的记录\n",
    "    for index, row in inputDF.iterrows():\n",
    "        condition = (dfstate[\"start\"] <= row[\"时间\"]) & (row[\"时间\"] <= dfstate[\"end\"])\n",
    "        match = dfstate[condition]\n",
    "\n",
    "        if not match.empty:\n",
    "            # 如果找到了匹配项，则将df2的'state'赋值给df1的新列\n",
    "            inputDF.at[index, \"label\"] = match[\"label\"].values[0]\n",
    "        else:\n",
    "            # 如果没有找到匹配项，则保持原样（这里已经初始化为-）\n",
    "            pass\n",
    "\n",
    "    # inputDF.insert(1,'state',0)\n",
    "    # inputDF[\"state\"] = inputDF[\"label\"].astype(\"category\").cat.codes\n",
    "    return inputDF\n",
    "\n",
    "\n",
    "def read_data(file_path: str) -> pd.DataFrame:\n",
    "    return fix_data(\n",
    "        pd.read_excel(file_path, engine=\"openpyxl\", parse_dates=[\"时间\", \"轨迹时间\"])\n",
    "    )\n",
    "\n",
    "\n",
    "# 读取数据\n",
    "df17 = read_data(\"./data/data_17.xlsx\")\n",
    "df21 = read_data(\"./data/data_21.xlsx\")\n",
    "df22 = read_data(\"./data/data_22.xlsx\")\n",
    "df23 = read_data(\"./data/data_23.xlsx\")\n"
   ]
  },
  {
   "cell_type": "code",
   "execution_count": 91,
   "metadata": {},
   "outputs": [
    {
     "name": "stdout",
     "output_type": "stream",
     "text": [
      "['原始重量', '稳定重量', '轴重', 'su_ad', 'wpu_x', 'wpu_y', 'wpu_z', 'su_x', 'su_y', 'su_z', '原始重量_diff', '稳定重量_diff', '轴重_diff', 'su_ad_diff', 'wpu_x_diff', 'wpu_y_diff', 'wpu_z_diff', 'su_x_diff', 'su_y_diff', 'su_z_diff', '速度', '估计重量', '原始重量加速度', '稳定重量加速度', '原始重量加速度_二阶', '稳定重量加速度_二阶'] ['label'] ['时间']\n",
      "Index(['label', '时间', '原始重量', '稳定重量', '轴重', 'su_ad', 'wpu_x', 'wpu_y', 'wpu_z',\n",
      "       'su_x', 'su_y', 'su_z', '原始重量_diff', '稳定重量_diff', '轴重_diff',\n",
      "       'su_ad_diff', 'wpu_x_diff', 'wpu_y_diff', 'wpu_z_diff', 'su_x_diff',\n",
      "       'su_y_diff', 'su_z_diff', '速度', '估计重量', '原始重量加速度', '稳定重量加速度',\n",
      "       '原始重量加速度_二阶', '稳定重量加速度_二阶'],\n",
      "      dtype='object')\n",
      "(41494, 28)\n"
     ]
    }
   ],
   "source": [
    "\n",
    "data = pd.concat([df17, df21], axis=0, ignore_index=True).drop([ \"轨迹时间\"], axis = 1)\n",
    "number_types = [np.number]\n",
    "label_types = [\"object\"]\n",
    "time_types = [\"datetime64[ns]\"]\n",
    "numeric_col_names = data.select_dtypes(include=number_types).columns.tolist()\n",
    "label_col_names = data.select_dtypes(include=label_types).columns.tolist()\n",
    "time_col_names = data.select_dtypes(include=time_types).columns.tolist()\n",
    "print(numeric_col_names,label_col_names,time_col_names)\n",
    "print(data.columns)\n",
    "print(data.shape)\n",
    "\n",
    "df22= df22.drop([ \"轨迹时间\"], axis = 1)\n",
    "df23= df23.drop([ \"轨迹时间\"], axis = 1)\n"
   ]
  },
  {
   "cell_type": "code",
   "execution_count": 92,
   "metadata": {},
   "outputs": [],
   "source": [
    "\n",
    "\n",
    "# data.plot(legend=True, subplots=True, figsize=(30,30),  xlabel=\"steps\")\n",
    "# ax = plt.gca()\n",
    "# ax.set_xlim(left=0, right=19000)\n",
    "\n",
    "# # 或者直接指定字体文件路径\n",
    "# plt.rcParams['font.sans-serif'] = ['SimHei']  # 系统自带的黑体\n",
    "# plt.rcParams['font.serif'] = ['SimSun']  # 系统自带的宋体\n",
    "# plt.rcParams['font.family'] = ['SimSun','SimHei','Source Han Sans CN'] \n",
    "\n",
    "# plt.show()\n"
   ]
  },
  {
   "cell_type": "code",
   "execution_count": 93,
   "metadata": {},
   "outputs": [
    {
     "name": "stdout",
     "output_type": "stream",
     "text": [
      "类别映射: {'apple': 0, 'banana': 1, 'grape': 2, 'orange': 3}\n",
      "编码后的类别: [0 1 0 3 1 2]\n"
     ]
    }
   ],
   "source": [
    " \n",
    "\n",
    "# 假设我们有一个包含字符串类别的列表或数组\n",
    "categories = [\"apple\", \"banana\", \"apple\", \"orange\", \"banana\", \"grape\"]\n",
    "\n",
    "# 创建LabelEncoder实例\n",
    "le = LabelEncoder()\n",
    "\n",
    "# 拟合数据以获取类别到整数的映射\n",
    "le.fit(categories)\n",
    "\n",
    "# 显示已学习到的类别及其对应的整数标签\n",
    "print('类别映射:', dict(zip(le.classes_, le.transform(le.classes_))))\n",
    "\n",
    "# 将原始数据转化为整数编码\n",
    "encoded_categories = le.transform(categories)\n",
    "print('编码后的类别:', encoded_categories)\n",
    "\n",
    "# 如果需要，还可以通过inverse_transform还原原始类别\n",
    "decoded_categories = le.inverse_transform(encoded_categories)"
   ]
  },
  {
   "attachments": {},
   "cell_type": "markdown",
   "metadata": {},
   "source": [
    "### 改各自层数！"
   ]
  },
  {
   "cell_type": "code",
   "execution_count": 189,
   "metadata": {
    "notebookRunGroups": {
     "groupValue": "1"
    }
   },
   "outputs": [],
   "source": [
    "\n",
    "\n",
    "def normalize(inpudf: pd.DataFrame,numeric_col_names:list,label_col_names:list,time_col_names:list) -> Tuple[pd.DataFrame , MinMaxScaler,LabelEncoder]:\n",
    "    inpudf=inpudf.copy()\n",
    "    # 使用 StandardScaler 或者 MinMaxScaler 进行标准化处理。\n",
    "    # 创建标准化器对象\n",
    "    scaler = MinMaxScaler(feature_range=(-10, 10))\n",
    "    scaler.fit(inpudf[numeric_col_names])\n",
    "\n",
    "    # （label）标准化\n",
    "    le = LabelEncoder()\n",
    "    #[\"装\", \"卸\",'-']\n",
    "    le.fit(inpudf[label_col_names])\n",
    "\n",
    "    # newdata=np.array(inpudf)\n",
    "    # 数值型数据标准化： 使用StandardScaler或者MinMaxScaler进行标准化处理。\n",
    "    for col in numeric_col_names:\n",
    "        inpudf[col] = le.fit_transform(inpudf[col])\n",
    "\n",
    "    # 类别数据（label）标准化： 类别数据通常不做标准化，而是进行编码，比如One-Hot编码或者Label Encoding。\n",
    "    for col in label_col_names:\n",
    "        inpudf[col] = le.fit_transform(inpudf[col])\n",
    "    # 时间数据标准化： 时间数据通常不进行标准化，而是转换成可以比较的形式，如Unix时间戳或时间段差。\n",
    "    # 将所有时间列转换为Unix时间戳（单位为秒）\n",
    "    for col in time_col_names:\n",
    "        print(inpudf[col].astype(np.int64),inpudf[col].astype(np.int64)/1e9)\n",
    "        inpudf[col] = (            \n",
    "            inpudf[col].astype(np.int64) / 1e9\n",
    "        )  # 默认pandas的datetime64[ns]转换为Unix时间戳（秒）\n",
    "\n",
    "    return inpudf,scaler,le\n",
    "\n",
    "\n",
    "# 反标准化\n",
    "\n",
    "\n",
    "def denormalize(inpudf: pd.DataFrame,scaler:MinMaxScaler,le:LabelEncoder) -> pd.DataFrame:\n",
    "    \"\"\"对df中的数值列进行反标准化处理\"\"\"\n",
    "\n",
    "    # 数值型数据标准化-\n",
    "    inpudf[numeric_col_names] = scaler.inverse_transform(inpudf[numeric_col_names])\n",
    "\n",
    "    # 类别数据（label）标准化-\n",
    "    for col in label_col_names:\n",
    "        inpudf[col] = le.inverse_transform(inpudf[col])\n",
    "\n",
    "    # 时间数据标准化-\n",
    "    for col in time_col_names:\n",
    "        inpudf[col] = pd.to_datetime(\n",
    "            inpudf[col] * 1e9\n",
    "        )  # 默认pandas的datetime64[ns]转换为Unix时间戳（秒）\n",
    "\n",
    "    return inpudf "
   ]
  },
  {
   "cell_type": "code",
   "execution_count": null,
   "metadata": {},
   "outputs": [],
   "source": [
    "\n"
   ]
  },
  {
   "cell_type": "code",
   "execution_count": null,
   "metadata": {},
   "outputs": [],
   "source": []
  },
  {
   "cell_type": "code",
   "execution_count": 190,
   "metadata": {
    "notebookRunGroups": {
     "groupValue": "1"
    }
   },
   "outputs": [
    {
     "data": {
      "text/html": [
       "<div>\n",
       "<style scoped>\n",
       "    .dataframe tbody tr th:only-of-type {\n",
       "        vertical-align: middle;\n",
       "    }\n",
       "\n",
       "    .dataframe tbody tr th {\n",
       "        vertical-align: top;\n",
       "    }\n",
       "\n",
       "    .dataframe thead th {\n",
       "        text-align: right;\n",
       "    }\n",
       "</style>\n",
       "<table border=\"1\" class=\"dataframe\">\n",
       "  <thead>\n",
       "    <tr style=\"text-align: right;\">\n",
       "      <th></th>\n",
       "      <th>原始重量</th>\n",
       "      <th>稳定重量</th>\n",
       "      <th>轴重</th>\n",
       "      <th>wpu_z</th>\n",
       "      <th>su_z</th>\n",
       "      <th>速度</th>\n",
       "      <th>label</th>\n",
       "      <th>时间</th>\n",
       "    </tr>\n",
       "  </thead>\n",
       "  <tbody>\n",
       "    <tr>\n",
       "      <th>0</th>\n",
       "      <td>2115</td>\n",
       "      <td>1</td>\n",
       "      <td>1240</td>\n",
       "      <td>2542</td>\n",
       "      <td>1384</td>\n",
       "      <td>0</td>\n",
       "      <td>0</td>\n",
       "      <td>0.0</td>\n",
       "    </tr>\n",
       "    <tr>\n",
       "      <th>1</th>\n",
       "      <td>2099</td>\n",
       "      <td>1</td>\n",
       "      <td>1241</td>\n",
       "      <td>2569</td>\n",
       "      <td>1384</td>\n",
       "      <td>0</td>\n",
       "      <td>0</td>\n",
       "      <td>0.0</td>\n",
       "    </tr>\n",
       "    <tr>\n",
       "      <th>2</th>\n",
       "      <td>2032</td>\n",
       "      <td>1</td>\n",
       "      <td>1230</td>\n",
       "      <td>2556</td>\n",
       "      <td>1385</td>\n",
       "      <td>0</td>\n",
       "      <td>0</td>\n",
       "      <td>0.0</td>\n",
       "    </tr>\n",
       "    <tr>\n",
       "      <th>3</th>\n",
       "      <td>2074</td>\n",
       "      <td>1</td>\n",
       "      <td>1238</td>\n",
       "      <td>2556</td>\n",
       "      <td>1386</td>\n",
       "      <td>0</td>\n",
       "      <td>0</td>\n",
       "      <td>0.0</td>\n",
       "    </tr>\n",
       "    <tr>\n",
       "      <th>4</th>\n",
       "      <td>2055</td>\n",
       "      <td>1</td>\n",
       "      <td>1231</td>\n",
       "      <td>2557</td>\n",
       "      <td>1384</td>\n",
       "      <td>0</td>\n",
       "      <td>0</td>\n",
       "      <td>0.0</td>\n",
       "    </tr>\n",
       "    <tr>\n",
       "      <th>...</th>\n",
       "      <td>...</td>\n",
       "      <td>...</td>\n",
       "      <td>...</td>\n",
       "      <td>...</td>\n",
       "      <td>...</td>\n",
       "      <td>...</td>\n",
       "      <td>...</td>\n",
       "      <td>...</td>\n",
       "    </tr>\n",
       "    <tr>\n",
       "      <th>41489</th>\n",
       "      <td>543</td>\n",
       "      <td>0</td>\n",
       "      <td>475</td>\n",
       "      <td>3963</td>\n",
       "      <td>1171</td>\n",
       "      <td>0</td>\n",
       "      <td>0</td>\n",
       "      <td>0.0</td>\n",
       "    </tr>\n",
       "    <tr>\n",
       "      <th>41490</th>\n",
       "      <td>536</td>\n",
       "      <td>0</td>\n",
       "      <td>472</td>\n",
       "      <td>3949</td>\n",
       "      <td>1171</td>\n",
       "      <td>0</td>\n",
       "      <td>0</td>\n",
       "      <td>0.0</td>\n",
       "    </tr>\n",
       "    <tr>\n",
       "      <th>41491</th>\n",
       "      <td>498</td>\n",
       "      <td>0</td>\n",
       "      <td>467</td>\n",
       "      <td>3959</td>\n",
       "      <td>1168</td>\n",
       "      <td>0</td>\n",
       "      <td>0</td>\n",
       "      <td>0.0</td>\n",
       "    </tr>\n",
       "    <tr>\n",
       "      <th>41492</th>\n",
       "      <td>521</td>\n",
       "      <td>0</td>\n",
       "      <td>465</td>\n",
       "      <td>3958</td>\n",
       "      <td>1170</td>\n",
       "      <td>0</td>\n",
       "      <td>0</td>\n",
       "      <td>0.0</td>\n",
       "    </tr>\n",
       "    <tr>\n",
       "      <th>41493</th>\n",
       "      <td>526</td>\n",
       "      <td>0</td>\n",
       "      <td>464</td>\n",
       "      <td>3955</td>\n",
       "      <td>1172</td>\n",
       "      <td>0</td>\n",
       "      <td>0</td>\n",
       "      <td>0.0</td>\n",
       "    </tr>\n",
       "  </tbody>\n",
       "</table>\n",
       "<p>41494 rows × 8 columns</p>\n",
       "</div>"
      ],
      "text/plain": [
       "       原始重量  稳定重量    轴重  wpu_z  su_z  速度  label   时间\n",
       "0      2115     1  1240   2542  1384   0      0  0.0\n",
       "1      2099     1  1241   2569  1384   0      0  0.0\n",
       "2      2032     1  1230   2556  1385   0      0  0.0\n",
       "3      2074     1  1238   2556  1386   0      0  0.0\n",
       "4      2055     1  1231   2557  1384   0      0  0.0\n",
       "...     ...   ...   ...    ...   ...  ..    ...  ...\n",
       "41489   543     0   475   3963  1171   0      0  0.0\n",
       "41490   536     0   472   3949  1171   0      0  0.0\n",
       "41491   498     0   467   3959  1168   0      0  0.0\n",
       "41492   521     0   465   3958  1170   0      0  0.0\n",
       "41493   526     0   464   3955  1172   0      0  0.0\n",
       "\n",
       "[41494 rows x 8 columns]"
      ]
     },
     "metadata": {},
     "output_type": "display_data"
    },
    {
     "name": "stdout",
     "output_type": "stream",
     "text": [
      "0        0\n",
      "1        0\n",
      "2        0\n",
      "3        0\n",
      "4        0\n",
      "        ..\n",
      "41489    0\n",
      "41490    0\n",
      "41491    0\n",
      "41492    0\n",
      "41493    0\n",
      "Name: 时间, Length: 41494, dtype: int64 0        0.0\n",
      "1        0.0\n",
      "2        0.0\n",
      "3        0.0\n",
      "4        0.0\n",
      "        ... \n",
      "41489    0.0\n",
      "41490    0.0\n",
      "41491    0.0\n",
      "41492    0.0\n",
      "41493    0.0\n",
      "Name: 时间, Length: 41494, dtype: float64\n"
     ]
    },
    {
     "name": "stderr",
     "output_type": "stream",
     "text": [
      "g:\\dev\\.anaconda\\Miniconda\\envs\\py39_tf26\\lib\\site-packages\\sklearn\\preprocessing\\_label.py:97: DataConversionWarning: A column-vector y was passed when a 1d array was expected. Please change the shape of y to (n_samples, ), for example using ravel().\n",
      "  y = column_or_1d(y, warn=True)\n"
     ]
    },
    {
     "data": {
      "text/html": [
       "<div>\n",
       "<style scoped>\n",
       "    .dataframe tbody tr th:only-of-type {\n",
       "        vertical-align: middle;\n",
       "    }\n",
       "\n",
       "    .dataframe tbody tr th {\n",
       "        vertical-align: top;\n",
       "    }\n",
       "\n",
       "    .dataframe thead th {\n",
       "        text-align: right;\n",
       "    }\n",
       "</style>\n",
       "<table border=\"1\" class=\"dataframe\">\n",
       "  <thead>\n",
       "    <tr style=\"text-align: right;\">\n",
       "      <th></th>\n",
       "      <th>原始重量</th>\n",
       "      <th>稳定重量</th>\n",
       "      <th>轴重</th>\n",
       "      <th>wpu_z</th>\n",
       "      <th>su_z</th>\n",
       "      <th>速度</th>\n",
       "      <th>label</th>\n",
       "      <th>时间</th>\n",
       "    </tr>\n",
       "  </thead>\n",
       "  <tbody>\n",
       "    <tr>\n",
       "      <th>0</th>\n",
       "      <td>2115</td>\n",
       "      <td>1</td>\n",
       "      <td>1240</td>\n",
       "      <td>2542</td>\n",
       "      <td>1384</td>\n",
       "      <td>0</td>\n",
       "      <td>0</td>\n",
       "      <td>0.0</td>\n",
       "    </tr>\n",
       "    <tr>\n",
       "      <th>1</th>\n",
       "      <td>2099</td>\n",
       "      <td>1</td>\n",
       "      <td>1241</td>\n",
       "      <td>2569</td>\n",
       "      <td>1384</td>\n",
       "      <td>0</td>\n",
       "      <td>0</td>\n",
       "      <td>0.0</td>\n",
       "    </tr>\n",
       "    <tr>\n",
       "      <th>2</th>\n",
       "      <td>2032</td>\n",
       "      <td>1</td>\n",
       "      <td>1230</td>\n",
       "      <td>2556</td>\n",
       "      <td>1385</td>\n",
       "      <td>0</td>\n",
       "      <td>0</td>\n",
       "      <td>0.0</td>\n",
       "    </tr>\n",
       "    <tr>\n",
       "      <th>3</th>\n",
       "      <td>2074</td>\n",
       "      <td>1</td>\n",
       "      <td>1238</td>\n",
       "      <td>2556</td>\n",
       "      <td>1386</td>\n",
       "      <td>0</td>\n",
       "      <td>0</td>\n",
       "      <td>0.0</td>\n",
       "    </tr>\n",
       "    <tr>\n",
       "      <th>4</th>\n",
       "      <td>2055</td>\n",
       "      <td>1</td>\n",
       "      <td>1231</td>\n",
       "      <td>2557</td>\n",
       "      <td>1384</td>\n",
       "      <td>0</td>\n",
       "      <td>0</td>\n",
       "      <td>0.0</td>\n",
       "    </tr>\n",
       "    <tr>\n",
       "      <th>...</th>\n",
       "      <td>...</td>\n",
       "      <td>...</td>\n",
       "      <td>...</td>\n",
       "      <td>...</td>\n",
       "      <td>...</td>\n",
       "      <td>...</td>\n",
       "      <td>...</td>\n",
       "      <td>...</td>\n",
       "    </tr>\n",
       "    <tr>\n",
       "      <th>41489</th>\n",
       "      <td>543</td>\n",
       "      <td>0</td>\n",
       "      <td>475</td>\n",
       "      <td>3963</td>\n",
       "      <td>1171</td>\n",
       "      <td>0</td>\n",
       "      <td>0</td>\n",
       "      <td>0.0</td>\n",
       "    </tr>\n",
       "    <tr>\n",
       "      <th>41490</th>\n",
       "      <td>536</td>\n",
       "      <td>0</td>\n",
       "      <td>472</td>\n",
       "      <td>3949</td>\n",
       "      <td>1171</td>\n",
       "      <td>0</td>\n",
       "      <td>0</td>\n",
       "      <td>0.0</td>\n",
       "    </tr>\n",
       "    <tr>\n",
       "      <th>41491</th>\n",
       "      <td>498</td>\n",
       "      <td>0</td>\n",
       "      <td>467</td>\n",
       "      <td>3959</td>\n",
       "      <td>1168</td>\n",
       "      <td>0</td>\n",
       "      <td>0</td>\n",
       "      <td>0.0</td>\n",
       "    </tr>\n",
       "    <tr>\n",
       "      <th>41492</th>\n",
       "      <td>521</td>\n",
       "      <td>0</td>\n",
       "      <td>465</td>\n",
       "      <td>3958</td>\n",
       "      <td>1170</td>\n",
       "      <td>0</td>\n",
       "      <td>0</td>\n",
       "      <td>0.0</td>\n",
       "    </tr>\n",
       "    <tr>\n",
       "      <th>41493</th>\n",
       "      <td>526</td>\n",
       "      <td>0</td>\n",
       "      <td>464</td>\n",
       "      <td>3955</td>\n",
       "      <td>1172</td>\n",
       "      <td>0</td>\n",
       "      <td>0</td>\n",
       "      <td>0.0</td>\n",
       "    </tr>\n",
       "  </tbody>\n",
       "</table>\n",
       "<p>41494 rows × 8 columns</p>\n",
       "</div>"
      ],
      "text/plain": [
       "       原始重量  稳定重量    轴重  wpu_z  su_z  速度  label   时间\n",
       "0      2115     1  1240   2542  1384   0      0  0.0\n",
       "1      2099     1  1241   2569  1384   0      0  0.0\n",
       "2      2032     1  1230   2556  1385   0      0  0.0\n",
       "3      2074     1  1238   2556  1386   0      0  0.0\n",
       "4      2055     1  1231   2557  1384   0      0  0.0\n",
       "...     ...   ...   ...    ...   ...  ..    ...  ...\n",
       "41489   543     0   475   3963  1171   0      0  0.0\n",
       "41490   536     0   472   3949  1171   0      0  0.0\n",
       "41491   498     0   467   3959  1168   0      0  0.0\n",
       "41492   521     0   465   3958  1170   0      0  0.0\n",
       "41493   526     0   464   3955  1172   0      0  0.0\n",
       "\n",
       "[41494 rows x 8 columns]"
      ]
     },
     "metadata": {},
     "output_type": "display_data"
    },
    {
     "data": {
      "text/plain": [
       "(27800, 1)"
      ]
     },
     "metadata": {},
     "output_type": "display_data"
    },
    {
     "data": {
      "text/plain": [
       "(13694, 1)"
      ]
     },
     "metadata": {},
     "output_type": "display_data"
    },
    {
     "data": {
      "text/plain": [
       "array([0, 0, 0, ..., 0, 0, 0], dtype=int64)"
      ]
     },
     "metadata": {},
     "output_type": "display_data"
    },
    {
     "data": {
      "text/plain": [
       "array([0, 0, 0, ..., 0, 0, 0], dtype=int64)"
      ]
     },
     "metadata": {},
     "output_type": "display_data"
    }
   ],
   "source": [
    "\n",
    " \n",
    "\n",
    "numeric_col_names = [ '原始重量', '稳定重量', '轴重',\n",
    "                'wpu_z',\n",
    "                'su_z',            \n",
    "                '速度']\n",
    "# delete some \n",
    "#  '原始重量_diff', '稳定重量_diff', '轴重_diff','su_ad_diff', 'wpu_x_diff', 'wpu_y_diff', 'wpu_z_diff','估计重量',    'su_x_diff','su_y_diff', 'su_z_diff',  'su_ad', ,'wpu_x', 'wpu_y', 'su_x', 'su_y',\n",
    "\n",
    "\n",
    "# ['原始重量', '稳定重量', '轴重', 'su_ad', \n",
    "#                 'wpu_x', 'wpu_y', 'wpu_z', \n",
    "#                 'su_x', 'su_y', 'su_z', \n",
    "#                 '原始重量_diff', '稳定重量_diff', '轴重_diff', \n",
    "#                 'su_ad_diff', 'wpu_x_diff', 'wpu_y_diff', 'wpu_z_diff',\n",
    "#                 'su_x_diff', 'su_y_diff', 'su_z_diff', \n",
    "#                 '速度', '估计重量', '原始重量加速度', '稳定重量加速度', '原始重量加速度_二阶', '稳定重量加速度_二阶'] \n",
    "label_col_names = ['label']\n",
    "time_col_names = ['时间']\n",
    "\n",
    "data=data[numeric_col_names+label_col_names+time_col_names] # 去掉无用列\n",
    "display(data)\n",
    "#Normalized\n",
    "data,scaler,le = normalize(data,numeric_col_names,label_col_names,time_col_names)\n",
    "display(data)\n",
    "# feature_col_names = numeric_col_names +  time_col_names\n",
    "feature_col_names = numeric_col_names  # 暂时去掉 时间\n",
    "X = data[feature_col_names]\n",
    "Y = data[label_col_names]\n",
    "\n",
    "x_train, x_test, y_train, y_test = train_test_split(np.asarray(X), np.asarray(Y), test_size=0.33, shuffle= False)\n",
    "\n",
    "\n",
    "feature_col_num =  len(feature_col_names)\n",
    " \n",
    "# Input image dimensions\n",
    " \n",
    "\n",
    "# Convert class vectors to binary class matrices. This uses 1 hot encoding.\n",
    "# y_train_binary = keras.utils.to_categorical(y_train,num_classes)\n",
    "# y_test_binary = keras.utils.to_categorical(y_test,num_classes)\n",
    " \n",
    "x_train = x_train.reshape(-1, feature_col_num)\n",
    "x_test = x_test.reshape(-1, feature_col_num)\n",
    "\n",
    "display(y_train.shape,y_test.shape)\n",
    "y_train = y_train.reshape(-1, )\n",
    "y_test = y_test.reshape(-1, )\n",
    "display(y_train,y_test)"
   ]
  },
  {
   "cell_type": "code",
   "execution_count": 96,
   "metadata": {},
   "outputs": [],
   "source": [
    "\n",
    " \n",
    "\n",
    "SINGLE_ATTENTION_VECTOR = False\n",
    "def attention_3d_block(inputs):\n",
    "    # inputs.shape = (batch_size, time_steps, input_dim)\n",
    "    input_dim = int(inputs.shape[2])\n",
    "    a = inputs\n",
    "    #a = Permute((2, 1))(inputs)\n",
    "    #a = Reshape((input_dim, TIME_STEPS))(a) # this line is not useful. It's just to know which dimension is what.\n",
    "    a = Dense(input_dim, activation='softmax')(a)\n",
    "    if SINGLE_ATTENTION_VECTOR:\n",
    "        a = Lambda(lambda x: K.mean(x, axis=1), name='dim_reduction')(a)\n",
    "        a = RepeatVector(input_dim)(a)\n",
    "    a_probs = Permute((1, 2), name='attention_vec')(a)\n",
    "\n",
    "    #output_attention_mul = merge([inputs, a_probs], name='attention_mul', mode='mul')\n",
    "    output_attention_mul = Multiply()([inputs, a_probs])\n",
    "    return output_attention_mul\n",
    "\n",
    "# Another way of writing the attention mechanism is suitable for the use of the above error source:https://blog.csdn.net/uhauha2929/article/details/80733255\n",
    "def attention_3d_block2(inputs, single_attention_vector=False):\n",
    "    # If the upper layer is LSTM, you need return_sequences=True\n",
    "    # inputs.shape = (batch_size, time_steps, input_dim)\n",
    "    time_steps = K.int_shape(inputs)[1]\n",
    "    input_dim = K.int_shape(inputs)[2]\n",
    "    a = Permute((2, 1))(inputs)\n",
    "    a = Dense(time_steps, activation='softmax')(a)\n",
    "    if single_attention_vector:\n",
    "        a = Lambda(lambda x: K.mean(x, axis=1))(a)\n",
    "        a = RepeatVector(input_dim)(a)\n",
    "\n",
    "    a_probs = Permute((2, 1))(a)\n",
    "    # Multiplied by the attention weight, but there is no summation, it seems to have little effect\n",
    "    # If you classify tasks, you can do Flatten expansion\n",
    "    # element-wise\n",
    "    output_attention_mul = Multiply()([inputs, a_probs])\n",
    "    return output_attention_mul\n",
    "\n",
    "\n",
    "\n",
    "def create_dataset(dataset:pd.DataFrame, look_back:int):\n",
    "    '''\n",
    "    Processing the data\n",
    "    '''\n",
    "    dataX, dataY = [], []\n",
    "    for i in range(len(dataset)-look_back-1):\n",
    "        a = dataset.iloc[i:(i+look_back),1:]\n",
    "        dataX.append(a)\n",
    "        dataY.append(dataset.iloc[i + look_back,:])\n",
    "    TrainX = np.array(dataX)\n",
    "    Train_Y = np.array(dataY)\n",
    "\n",
    "    return TrainX, Train_Y\n",
    "\n",
    "\n",
    "\n",
    "def attention_model():\n",
    "    # inputs = Input(((data.shape[1],1)))\n",
    "    inputs = Input(shape=(TIME_STEPS, INPUT_DIMS))\n",
    "    x = Conv1D(filters = 64,kernel_size =32,dilation_rate=2,padding=\"same\", activation=\"relu\")(inputs)\n",
    "    # x = Conv1D(filters = 64, kernel_size = 1, activation = 'relu')(inputs)  #, padding = 'same'\n",
    "    x = Dropout(drop)(x)\n",
    "\n",
    "    #lstm_out = Bidirectional(LSTM(lstm_units, activation='relu'), name='bilstm')(x)\n",
    "    #For GPU you can use CuDNNLSTM\n",
    "    lstm_out = Bidirectional(LSTM(lstm_units, return_sequences=True,name='bilstm'))(x)\n",
    "    lstm_out = Dropout(drop)(lstm_out)\n",
    "\n",
    "    #attention_mul = attention_3d_block(lstm_out)\n",
    "    attention_mul = Flatten()(lstm_out)\n",
    "\n",
    "    #output = Dense(1, activation='sigmoid')(attention_mul)\n",
    "    output = Dense(1, activation='linear')(attention_mul)\n",
    "    model = Model(inputs=[inputs], outputs=output)\n",
    "    return model\n",
    "     "
   ]
  },
  {
   "cell_type": "code",
   "execution_count": 97,
   "metadata": {},
   "outputs": [
    {
     "name": "stdout",
     "output_type": "stream",
     "text": [
      "2.10.0\n",
      "[]\n",
      "Available GPU devices: []\n"
     ]
    }
   ],
   "source": [
    "print(tf.__version__)\n",
    "gpus = tf.config.experimental.list_physical_devices('GPU')\n",
    "\n",
    "print(gpus)\n",
    "\n",
    "# 查看系统中可见的GPU设备\n",
    "print(\"Available GPU devices:\", tf.config.list_physical_devices('GPU'))\n",
    "\n"
   ]
  },
  {
   "cell_type": "code",
   "execution_count": 191,
   "metadata": {
    "notebookRunGroups": {
     "groupValue": "1"
    }
   },
   "outputs": [
    {
     "name": "stdout",
     "output_type": "stream",
     "text": [
      "Model: \"sequential_20\"\n",
      "_________________________________________________________________\n",
      " Layer (type)                Output Shape              Param #   \n",
      "=================================================================\n",
      " dense_71 (Dense)            (None, 5)                 35        \n"
     ]
    },
    {
     "name": "stdout",
     "output_type": "stream",
     "text": [
      "                                                                 \n",
      " dropout_21 (Dropout)        (None, 5)                 0         \n",
      "                                                                 \n",
      " flatten_20 (Flatten)        (None, 5)                 0         \n",
      "                                                                 \n",
      " dense_72 (Dense)            (None, 4)                 24        \n",
      "                                                                 \n",
      " dense_73 (Dense)            (None, 1)                 5         \n",
      "                                                                 \n",
      "=================================================================\n",
      "Total params: 64\n",
      "Trainable params: 64\n",
      "Non-trainable params: 0\n",
      "_________________________________________________________________\n"
     ]
    }
   ],
   "source": [
    "\n",
    "\n",
    "batch_size = feature_col_num\n",
    "epochs = 50\n",
    "drop=0.2\n",
    "\n",
    "model =models.Sequential([\n",
    "    tf.keras.layers.Input( batch_input_shape=(None,feature_col_num,),batch_size=batch_size, name='input'), \n",
    "    layers.Dense(units=5),\n",
    "    # layers.Conv1D(5, (3), activation=tf.nn.relu),\n",
    "    # layers.MaxPooling1D(pool_size=2),\n",
    "    layers.Dropout(drop),\n",
    "    layers.Flatten(),\n",
    "    # layers.Dense(units=8, activation=tf.nn.relu, kernel_regularizer=tf.keras.regularizers.l2(0.001)),\n",
    "    layers.Dense(units=4, activation=tf.nn.relu, kernel_regularizer=tf.keras.regularizers.l2(0.001)),\n",
    "    layers.Dense(units=1, activation='linear')\n",
    "])\n",
    "\n",
    "model.compile(\n",
    "    loss=tf.keras.losses.mean_squared_error,\n",
    "    optimizer=\"sgd\",\n",
    "    metrics=['accuracy'],\n",
    ")\n",
    "# model.build()\n",
    "model.summary()"
   ]
  },
  {
   "cell_type": "code",
   "execution_count": 192,
   "metadata": {
    "notebookRunGroups": {
     "groupValue": "1"
    }
   },
   "outputs": [],
   "source": [
    "tf_callback = tf.keras.callbacks.TensorBoard(log_dir=\"./logs\")"
   ]
  },
  {
   "cell_type": "code",
   "execution_count": 193,
   "metadata": {
    "notebookRunGroups": {
     "groupValue": "1"
    }
   },
   "outputs": [
    {
     "name": "stdout",
     "output_type": "stream",
     "text": [
      "Epoch 1/50\n",
      "4634/4634 [==============================] - 5s 977us/step - loss: nan - accuracy: 0.9797 - val_loss: nan - val_accuracy: 0.9752\n",
      "Epoch 2/50\n",
      "4634/4634 [==============================] - 4s 939us/step - loss: nan - accuracy: 0.9800 - val_loss: nan - val_accuracy: 0.9752\n",
      "Epoch 3/50\n",
      "4634/4634 [==============================] - 4s 927us/step - loss: nan - accuracy: 0.9800 - val_loss: nan - val_accuracy: 0.9752\n",
      "Epoch 4/50\n",
      "4634/4634 [==============================] - 4s 937us/step - loss: nan - accuracy: 0.9800 - val_loss: nan - val_accuracy: 0.9752\n",
      "Epoch 5/50\n",
      "4634/4634 [==============================] - 4s 940us/step - loss: nan - accuracy: 0.9800 - val_loss: nan - val_accuracy: 0.9752\n",
      "Epoch 6/50\n",
      "4634/4634 [==============================] - 4s 957us/step - loss: nan - accuracy: 0.9800 - val_loss: nan - val_accuracy: 0.9752\n",
      "Epoch 7/50\n",
      "4634/4634 [==============================] - 4s 941us/step - loss: nan - accuracy: 0.9800 - val_loss: nan - val_accuracy: 0.9752\n",
      "Epoch 8/50\n",
      "4634/4634 [==============================] - 4s 959us/step - loss: nan - accuracy: 0.9800 - val_loss: nan - val_accuracy: 0.9752\n",
      "Epoch 9/50\n",
      "4634/4634 [==============================] - 4s 941us/step - loss: nan - accuracy: 0.9800 - val_loss: nan - val_accuracy: 0.9752\n",
      "Epoch 10/50\n",
      "4634/4634 [==============================] - 4s 944us/step - loss: nan - accuracy: 0.9800 - val_loss: nan - val_accuracy: 0.9752\n",
      "Epoch 11/50\n",
      "2169/4634 [=============>................] - ETA: 1s - loss: nan - accuracy: 0.9788"
     ]
    },
    {
     "ename": "KeyboardInterrupt",
     "evalue": "",
     "output_type": "error",
     "traceback": [
      "\u001b[1;31m---------------------------------------------------------------------------\u001b[0m",
      "\u001b[1;31mKeyboardInterrupt\u001b[0m                         Traceback (most recent call last)",
      "Cell \u001b[1;32mIn[193], line 1\u001b[0m\n\u001b[1;32m----> 1\u001b[0m history \u001b[38;5;241m=\u001b[39m \u001b[43mmodel\u001b[49m\u001b[38;5;241;43m.\u001b[39;49m\u001b[43mfit\u001b[49m\u001b[43m(\u001b[49m\u001b[43mx_train\u001b[49m\u001b[43m,\u001b[49m\u001b[43m \u001b[49m\u001b[43my_train\u001b[49m\u001b[43m,\u001b[49m\n\u001b[0;32m      2\u001b[0m \u001b[43m          \u001b[49m\u001b[43mbatch_size\u001b[49m\u001b[38;5;241;43m=\u001b[39;49m\u001b[43mbatch_size\u001b[49m\u001b[43m,\u001b[49m\n\u001b[0;32m      3\u001b[0m \u001b[43m          \u001b[49m\u001b[43mepochs\u001b[49m\u001b[38;5;241;43m=\u001b[39;49m\u001b[43mepochs\u001b[49m\u001b[43m,\u001b[49m\n\u001b[0;32m      4\u001b[0m \u001b[43m          \u001b[49m\u001b[43mverbose\u001b[49m\u001b[38;5;241;43m=\u001b[39;49m\u001b[38;5;241;43m1\u001b[39;49m\u001b[43m,\u001b[49m\n\u001b[0;32m      5\u001b[0m \u001b[43m          \u001b[49m\u001b[43mvalidation_data\u001b[49m\u001b[38;5;241;43m=\u001b[39;49m\u001b[43m(\u001b[49m\u001b[43mx_test\u001b[49m\u001b[43m,\u001b[49m\u001b[43m \u001b[49m\u001b[43my_test\u001b[49m\u001b[43m)\u001b[49m\u001b[43m,\u001b[49m\n\u001b[0;32m      6\u001b[0m \u001b[43m          \u001b[49m\u001b[43mcallbacks\u001b[49m\u001b[38;5;241;43m=\u001b[39;49m\u001b[43m[\u001b[49m\u001b[43mtf_callback\u001b[49m\u001b[43m]\u001b[49m\u001b[43m)\u001b[49m\n",
      "File \u001b[1;32mg:\\dev\\.anaconda\\Miniconda\\envs\\py39_tf26\\lib\\site-packages\\keras\\utils\\traceback_utils.py:65\u001b[0m, in \u001b[0;36mfilter_traceback.<locals>.error_handler\u001b[1;34m(*args, **kwargs)\u001b[0m\n\u001b[0;32m     63\u001b[0m filtered_tb \u001b[38;5;241m=\u001b[39m \u001b[38;5;28;01mNone\u001b[39;00m\n\u001b[0;32m     64\u001b[0m \u001b[38;5;28;01mtry\u001b[39;00m:\n\u001b[1;32m---> 65\u001b[0m     \u001b[38;5;28;01mreturn\u001b[39;00m fn(\u001b[38;5;241m*\u001b[39margs, \u001b[38;5;241m*\u001b[39m\u001b[38;5;241m*\u001b[39mkwargs)\n\u001b[0;32m     66\u001b[0m \u001b[38;5;28;01mexcept\u001b[39;00m \u001b[38;5;167;01mException\u001b[39;00m \u001b[38;5;28;01mas\u001b[39;00m e:\n\u001b[0;32m     67\u001b[0m     filtered_tb \u001b[38;5;241m=\u001b[39m _process_traceback_frames(e\u001b[38;5;241m.\u001b[39m__traceback__)\n",
      "File \u001b[1;32mg:\\dev\\.anaconda\\Miniconda\\envs\\py39_tf26\\lib\\site-packages\\keras\\engine\\training.py:1564\u001b[0m, in \u001b[0;36mModel.fit\u001b[1;34m(self, x, y, batch_size, epochs, verbose, callbacks, validation_split, validation_data, shuffle, class_weight, sample_weight, initial_epoch, steps_per_epoch, validation_steps, validation_batch_size, validation_freq, max_queue_size, workers, use_multiprocessing)\u001b[0m\n\u001b[0;32m   1556\u001b[0m \u001b[38;5;28;01mwith\u001b[39;00m tf\u001b[38;5;241m.\u001b[39mprofiler\u001b[38;5;241m.\u001b[39mexperimental\u001b[38;5;241m.\u001b[39mTrace(\n\u001b[0;32m   1557\u001b[0m     \u001b[38;5;124m\"\u001b[39m\u001b[38;5;124mtrain\u001b[39m\u001b[38;5;124m\"\u001b[39m,\n\u001b[0;32m   1558\u001b[0m     epoch_num\u001b[38;5;241m=\u001b[39mepoch,\n\u001b[1;32m   (...)\u001b[0m\n\u001b[0;32m   1561\u001b[0m     _r\u001b[38;5;241m=\u001b[39m\u001b[38;5;241m1\u001b[39m,\n\u001b[0;32m   1562\u001b[0m ):\n\u001b[0;32m   1563\u001b[0m     callbacks\u001b[38;5;241m.\u001b[39mon_train_batch_begin(step)\n\u001b[1;32m-> 1564\u001b[0m     tmp_logs \u001b[38;5;241m=\u001b[39m \u001b[38;5;28;43mself\u001b[39;49m\u001b[38;5;241;43m.\u001b[39;49m\u001b[43mtrain_function\u001b[49m\u001b[43m(\u001b[49m\u001b[43miterator\u001b[49m\u001b[43m)\u001b[49m\n\u001b[0;32m   1565\u001b[0m     \u001b[38;5;28;01mif\u001b[39;00m data_handler\u001b[38;5;241m.\u001b[39mshould_sync:\n\u001b[0;32m   1566\u001b[0m         context\u001b[38;5;241m.\u001b[39masync_wait()\n",
      "File \u001b[1;32mg:\\dev\\.anaconda\\Miniconda\\envs\\py39_tf26\\lib\\site-packages\\tensorflow\\python\\util\\traceback_utils.py:150\u001b[0m, in \u001b[0;36mfilter_traceback.<locals>.error_handler\u001b[1;34m(*args, **kwargs)\u001b[0m\n\u001b[0;32m    148\u001b[0m filtered_tb \u001b[38;5;241m=\u001b[39m \u001b[38;5;28;01mNone\u001b[39;00m\n\u001b[0;32m    149\u001b[0m \u001b[38;5;28;01mtry\u001b[39;00m:\n\u001b[1;32m--> 150\u001b[0m   \u001b[38;5;28;01mreturn\u001b[39;00m fn(\u001b[38;5;241m*\u001b[39margs, \u001b[38;5;241m*\u001b[39m\u001b[38;5;241m*\u001b[39mkwargs)\n\u001b[0;32m    151\u001b[0m \u001b[38;5;28;01mexcept\u001b[39;00m \u001b[38;5;167;01mException\u001b[39;00m \u001b[38;5;28;01mas\u001b[39;00m e:\n\u001b[0;32m    152\u001b[0m   filtered_tb \u001b[38;5;241m=\u001b[39m _process_traceback_frames(e\u001b[38;5;241m.\u001b[39m__traceback__)\n",
      "File \u001b[1;32mg:\\dev\\.anaconda\\Miniconda\\envs\\py39_tf26\\lib\\site-packages\\tensorflow\\python\\eager\\def_function.py:915\u001b[0m, in \u001b[0;36mFunction.__call__\u001b[1;34m(self, *args, **kwds)\u001b[0m\n\u001b[0;32m    912\u001b[0m compiler \u001b[38;5;241m=\u001b[39m \u001b[38;5;124m\"\u001b[39m\u001b[38;5;124mxla\u001b[39m\u001b[38;5;124m\"\u001b[39m \u001b[38;5;28;01mif\u001b[39;00m \u001b[38;5;28mself\u001b[39m\u001b[38;5;241m.\u001b[39m_jit_compile \u001b[38;5;28;01melse\u001b[39;00m \u001b[38;5;124m\"\u001b[39m\u001b[38;5;124mnonXla\u001b[39m\u001b[38;5;124m\"\u001b[39m\n\u001b[0;32m    914\u001b[0m \u001b[38;5;28;01mwith\u001b[39;00m OptionalXlaContext(\u001b[38;5;28mself\u001b[39m\u001b[38;5;241m.\u001b[39m_jit_compile):\n\u001b[1;32m--> 915\u001b[0m   result \u001b[38;5;241m=\u001b[39m \u001b[38;5;28mself\u001b[39m\u001b[38;5;241m.\u001b[39m_call(\u001b[38;5;241m*\u001b[39margs, \u001b[38;5;241m*\u001b[39m\u001b[38;5;241m*\u001b[39mkwds)\n\u001b[0;32m    917\u001b[0m new_tracing_count \u001b[38;5;241m=\u001b[39m \u001b[38;5;28mself\u001b[39m\u001b[38;5;241m.\u001b[39mexperimental_get_tracing_count()\n\u001b[0;32m    918\u001b[0m without_tracing \u001b[38;5;241m=\u001b[39m (tracing_count \u001b[38;5;241m==\u001b[39m new_tracing_count)\n",
      "File \u001b[1;32mg:\\dev\\.anaconda\\Miniconda\\envs\\py39_tf26\\lib\\site-packages\\tensorflow\\python\\eager\\def_function.py:947\u001b[0m, in \u001b[0;36mFunction._call\u001b[1;34m(self, *args, **kwds)\u001b[0m\n\u001b[0;32m    944\u001b[0m   \u001b[38;5;28mself\u001b[39m\u001b[38;5;241m.\u001b[39m_lock\u001b[38;5;241m.\u001b[39mrelease()\n\u001b[0;32m    945\u001b[0m   \u001b[38;5;66;03m# In this case we have created variables on the first call, so we run the\u001b[39;00m\n\u001b[0;32m    946\u001b[0m   \u001b[38;5;66;03m# defunned version which is guaranteed to never create variables.\u001b[39;00m\n\u001b[1;32m--> 947\u001b[0m   \u001b[38;5;28;01mreturn\u001b[39;00m \u001b[38;5;28mself\u001b[39m\u001b[38;5;241m.\u001b[39m_stateless_fn(\u001b[38;5;241m*\u001b[39margs, \u001b[38;5;241m*\u001b[39m\u001b[38;5;241m*\u001b[39mkwds)  \u001b[38;5;66;03m# pylint: disable=not-callable\u001b[39;00m\n\u001b[0;32m    948\u001b[0m \u001b[38;5;28;01melif\u001b[39;00m \u001b[38;5;28mself\u001b[39m\u001b[38;5;241m.\u001b[39m_stateful_fn \u001b[38;5;129;01mis\u001b[39;00m \u001b[38;5;129;01mnot\u001b[39;00m \u001b[38;5;28;01mNone\u001b[39;00m:\n\u001b[0;32m    949\u001b[0m   \u001b[38;5;66;03m# Release the lock early so that multiple threads can perform the call\u001b[39;00m\n\u001b[0;32m    950\u001b[0m   \u001b[38;5;66;03m# in parallel.\u001b[39;00m\n\u001b[0;32m    951\u001b[0m   \u001b[38;5;28mself\u001b[39m\u001b[38;5;241m.\u001b[39m_lock\u001b[38;5;241m.\u001b[39mrelease()\n",
      "File \u001b[1;32mg:\\dev\\.anaconda\\Miniconda\\envs\\py39_tf26\\lib\\site-packages\\tensorflow\\python\\eager\\function.py:2496\u001b[0m, in \u001b[0;36mFunction.__call__\u001b[1;34m(self, *args, **kwargs)\u001b[0m\n\u001b[0;32m   2493\u001b[0m \u001b[38;5;28;01mwith\u001b[39;00m \u001b[38;5;28mself\u001b[39m\u001b[38;5;241m.\u001b[39m_lock:\n\u001b[0;32m   2494\u001b[0m   (graph_function,\n\u001b[0;32m   2495\u001b[0m    filtered_flat_args) \u001b[38;5;241m=\u001b[39m \u001b[38;5;28mself\u001b[39m\u001b[38;5;241m.\u001b[39m_maybe_define_function(args, kwargs)\n\u001b[1;32m-> 2496\u001b[0m \u001b[38;5;28;01mreturn\u001b[39;00m \u001b[43mgraph_function\u001b[49m\u001b[38;5;241;43m.\u001b[39;49m\u001b[43m_call_flat\u001b[49m\u001b[43m(\u001b[49m\n\u001b[0;32m   2497\u001b[0m \u001b[43m    \u001b[49m\u001b[43mfiltered_flat_args\u001b[49m\u001b[43m,\u001b[49m\u001b[43m \u001b[49m\u001b[43mcaptured_inputs\u001b[49m\u001b[38;5;241;43m=\u001b[39;49m\u001b[43mgraph_function\u001b[49m\u001b[38;5;241;43m.\u001b[39;49m\u001b[43mcaptured_inputs\u001b[49m\u001b[43m)\u001b[49m\n",
      "File \u001b[1;32mg:\\dev\\.anaconda\\Miniconda\\envs\\py39_tf26\\lib\\site-packages\\tensorflow\\python\\eager\\function.py:1862\u001b[0m, in \u001b[0;36mConcreteFunction._call_flat\u001b[1;34m(self, args, captured_inputs, cancellation_manager)\u001b[0m\n\u001b[0;32m   1858\u001b[0m possible_gradient_type \u001b[38;5;241m=\u001b[39m gradients_util\u001b[38;5;241m.\u001b[39mPossibleTapeGradientTypes(args)\n\u001b[0;32m   1859\u001b[0m \u001b[38;5;28;01mif\u001b[39;00m (possible_gradient_type \u001b[38;5;241m==\u001b[39m gradients_util\u001b[38;5;241m.\u001b[39mPOSSIBLE_GRADIENT_TYPES_NONE\n\u001b[0;32m   1860\u001b[0m     \u001b[38;5;129;01mand\u001b[39;00m executing_eagerly):\n\u001b[0;32m   1861\u001b[0m   \u001b[38;5;66;03m# No tape is watching; skip to running the function.\u001b[39;00m\n\u001b[1;32m-> 1862\u001b[0m   \u001b[38;5;28;01mreturn\u001b[39;00m \u001b[38;5;28mself\u001b[39m\u001b[38;5;241m.\u001b[39m_build_call_outputs(\u001b[38;5;28;43mself\u001b[39;49m\u001b[38;5;241;43m.\u001b[39;49m\u001b[43m_inference_function\u001b[49m\u001b[38;5;241;43m.\u001b[39;49m\u001b[43mcall\u001b[49m\u001b[43m(\u001b[49m\n\u001b[0;32m   1863\u001b[0m \u001b[43m      \u001b[49m\u001b[43mctx\u001b[49m\u001b[43m,\u001b[49m\u001b[43m \u001b[49m\u001b[43margs\u001b[49m\u001b[43m,\u001b[49m\u001b[43m \u001b[49m\u001b[43mcancellation_manager\u001b[49m\u001b[38;5;241;43m=\u001b[39;49m\u001b[43mcancellation_manager\u001b[49m\u001b[43m)\u001b[49m)\n\u001b[0;32m   1864\u001b[0m forward_backward \u001b[38;5;241m=\u001b[39m \u001b[38;5;28mself\u001b[39m\u001b[38;5;241m.\u001b[39m_select_forward_and_backward_functions(\n\u001b[0;32m   1865\u001b[0m     args,\n\u001b[0;32m   1866\u001b[0m     possible_gradient_type,\n\u001b[0;32m   1867\u001b[0m     executing_eagerly)\n\u001b[0;32m   1868\u001b[0m forward_function, args_with_tangents \u001b[38;5;241m=\u001b[39m forward_backward\u001b[38;5;241m.\u001b[39mforward()\n",
      "File \u001b[1;32mg:\\dev\\.anaconda\\Miniconda\\envs\\py39_tf26\\lib\\site-packages\\tensorflow\\python\\eager\\function.py:499\u001b[0m, in \u001b[0;36m_EagerDefinedFunction.call\u001b[1;34m(self, ctx, args, cancellation_manager)\u001b[0m\n\u001b[0;32m    497\u001b[0m \u001b[38;5;28;01mwith\u001b[39;00m _InterpolateFunctionError(\u001b[38;5;28mself\u001b[39m):\n\u001b[0;32m    498\u001b[0m   \u001b[38;5;28;01mif\u001b[39;00m cancellation_manager \u001b[38;5;129;01mis\u001b[39;00m \u001b[38;5;28;01mNone\u001b[39;00m:\n\u001b[1;32m--> 499\u001b[0m     outputs \u001b[38;5;241m=\u001b[39m \u001b[43mexecute\u001b[49m\u001b[38;5;241;43m.\u001b[39;49m\u001b[43mexecute\u001b[49m\u001b[43m(\u001b[49m\n\u001b[0;32m    500\u001b[0m \u001b[43m        \u001b[49m\u001b[38;5;28;43mstr\u001b[39;49m\u001b[43m(\u001b[49m\u001b[38;5;28;43mself\u001b[39;49m\u001b[38;5;241;43m.\u001b[39;49m\u001b[43msignature\u001b[49m\u001b[38;5;241;43m.\u001b[39;49m\u001b[43mname\u001b[49m\u001b[43m)\u001b[49m\u001b[43m,\u001b[49m\n\u001b[0;32m    501\u001b[0m \u001b[43m        \u001b[49m\u001b[43mnum_outputs\u001b[49m\u001b[38;5;241;43m=\u001b[39;49m\u001b[38;5;28;43mself\u001b[39;49m\u001b[38;5;241;43m.\u001b[39;49m\u001b[43m_num_outputs\u001b[49m\u001b[43m,\u001b[49m\n\u001b[0;32m    502\u001b[0m \u001b[43m        \u001b[49m\u001b[43minputs\u001b[49m\u001b[38;5;241;43m=\u001b[39;49m\u001b[43margs\u001b[49m\u001b[43m,\u001b[49m\n\u001b[0;32m    503\u001b[0m \u001b[43m        \u001b[49m\u001b[43mattrs\u001b[49m\u001b[38;5;241;43m=\u001b[39;49m\u001b[43mattrs\u001b[49m\u001b[43m,\u001b[49m\n\u001b[0;32m    504\u001b[0m \u001b[43m        \u001b[49m\u001b[43mctx\u001b[49m\u001b[38;5;241;43m=\u001b[39;49m\u001b[43mctx\u001b[49m\u001b[43m)\u001b[49m\n\u001b[0;32m    505\u001b[0m   \u001b[38;5;28;01melse\u001b[39;00m:\n\u001b[0;32m    506\u001b[0m     outputs \u001b[38;5;241m=\u001b[39m execute\u001b[38;5;241m.\u001b[39mexecute_with_cancellation(\n\u001b[0;32m    507\u001b[0m         \u001b[38;5;28mstr\u001b[39m(\u001b[38;5;28mself\u001b[39m\u001b[38;5;241m.\u001b[39msignature\u001b[38;5;241m.\u001b[39mname),\n\u001b[0;32m    508\u001b[0m         num_outputs\u001b[38;5;241m=\u001b[39m\u001b[38;5;28mself\u001b[39m\u001b[38;5;241m.\u001b[39m_num_outputs,\n\u001b[1;32m   (...)\u001b[0m\n\u001b[0;32m    511\u001b[0m         ctx\u001b[38;5;241m=\u001b[39mctx,\n\u001b[0;32m    512\u001b[0m         cancellation_manager\u001b[38;5;241m=\u001b[39mcancellation_manager)\n",
      "File \u001b[1;32mg:\\dev\\.anaconda\\Miniconda\\envs\\py39_tf26\\lib\\site-packages\\tensorflow\\python\\eager\\execute.py:54\u001b[0m, in \u001b[0;36mquick_execute\u001b[1;34m(op_name, num_outputs, inputs, attrs, ctx, name)\u001b[0m\n\u001b[0;32m     52\u001b[0m \u001b[38;5;28;01mtry\u001b[39;00m:\n\u001b[0;32m     53\u001b[0m   ctx\u001b[38;5;241m.\u001b[39mensure_initialized()\n\u001b[1;32m---> 54\u001b[0m   tensors \u001b[38;5;241m=\u001b[39m \u001b[43mpywrap_tfe\u001b[49m\u001b[38;5;241;43m.\u001b[39;49m\u001b[43mTFE_Py_Execute\u001b[49m\u001b[43m(\u001b[49m\u001b[43mctx\u001b[49m\u001b[38;5;241;43m.\u001b[39;49m\u001b[43m_handle\u001b[49m\u001b[43m,\u001b[49m\u001b[43m \u001b[49m\u001b[43mdevice_name\u001b[49m\u001b[43m,\u001b[49m\u001b[43m \u001b[49m\u001b[43mop_name\u001b[49m\u001b[43m,\u001b[49m\n\u001b[0;32m     55\u001b[0m \u001b[43m                                      \u001b[49m\u001b[43minputs\u001b[49m\u001b[43m,\u001b[49m\u001b[43m \u001b[49m\u001b[43mattrs\u001b[49m\u001b[43m,\u001b[49m\u001b[43m \u001b[49m\u001b[43mnum_outputs\u001b[49m\u001b[43m)\u001b[49m\n\u001b[0;32m     56\u001b[0m \u001b[38;5;28;01mexcept\u001b[39;00m core\u001b[38;5;241m.\u001b[39m_NotOkStatusException \u001b[38;5;28;01mas\u001b[39;00m e:\n\u001b[0;32m     57\u001b[0m   \u001b[38;5;28;01mif\u001b[39;00m name \u001b[38;5;129;01mis\u001b[39;00m \u001b[38;5;129;01mnot\u001b[39;00m \u001b[38;5;28;01mNone\u001b[39;00m:\n",
      "\u001b[1;31mKeyboardInterrupt\u001b[0m: "
     ]
    }
   ],
   "source": [
    "\n",
    "history = model.fit(x_train, y_train,\n",
    "          batch_size=batch_size,\n",
    "          epochs=epochs,\n",
    "          verbose=1,\n",
    "          validation_data=(x_test, y_test),\n",
    "          callbacks=[tf_callback])"
   ]
  },
  {
   "cell_type": "code",
   "execution_count": 101,
   "metadata": {},
   "outputs": [],
   "source": [
    "\n",
    "# %load_ext tensorboard\n",
    "# %tensorboard --logdir \"./logs\"\n",
    "# cmd 当前环境，当前目录 运行   tensorboard --logdir=logs --host=127.0.0.1 \n",
    "# 网页中可以查看模型训练过程"
   ]
  },
  {
   "cell_type": "code",
   "execution_count": 102,
   "metadata": {},
   "outputs": [],
   "source": [
    "model.save(\"./C_L_A.h5\")"
   ]
  },
  {
   "cell_type": "code",
   "execution_count": 103,
   "metadata": {},
   "outputs": [
    {
     "name": "stdout",
     "output_type": "stream",
     "text": [
      "  71/1214 [>.............................] - ETA: 1s  "
     ]
    },
    {
     "name": "stderr",
     "output_type": "stream",
     "text": [
      "g:\\dev\\.anaconda\\Miniconda\\envs\\py39_tf26\\lib\\site-packages\\sklearn\\preprocessing\\_label.py:97: DataConversionWarning: A column-vector y was passed when a 1d array was expected. Please change the shape of y to (n_samples, ), for example using ravel().\n",
      "  y = column_or_1d(y, warn=True)\n"
     ]
    },
    {
     "name": "stdout",
     "output_type": "stream",
     "text": [
      "1214/1214 [==============================] - 1s 665us/step\n",
      "y_train22.shape (27913, 1)\n",
      "predY.shape (27913, 1)\n"
     ]
    }
   ],
   "source": [
    "\n",
    "data22,scaler22,le22 = normalize(df22,numeric_col_names,label_col_names,time_col_names)\n",
    "\n",
    "\n",
    "X22 = data22[feature_col_names]\n",
    "Y22 = data22[label_col_names]\n",
    "\n",
    "\n",
    "x_train22,  y_train22 = np.asarray(X22), np.asarray(Y22)\n",
    "\n",
    "\n",
    " \n",
    "x_train = x_train22.reshape(-1, feature_col_num) \n",
    "\n",
    "# display(y_train22.shape )\n",
    "# y_train22 = y_train22.reshape(-1, ) \n",
    " \n",
    "\n",
    "predY=model.predict(x_train,batch_size=batch_size)\n",
    "# predY=predY.reshape(-1, )\n",
    "\n",
    "print('y_train22.shape',y_train22.shape)\n",
    "print (\"predY.shape\", predY.shape)\n"
   ]
  },
  {
   "cell_type": "code",
   "execution_count": 104,
   "metadata": {},
   "outputs": [
    {
     "data": {
      "text/plain": [
       "array([    0,     1,     2, ..., 27910, 27911, 27912], dtype=int64)"
      ]
     },
     "metadata": {},
     "output_type": "display_data"
    },
    {
     "data": {
      "image/png": "[encoded data removed]",
      "text/plain": [
       "<Figure size 640x480 with 1 Axes>"
      ]
     },
     "metadata": {},
     "output_type": "display_data"
    }
   ],
   "source": [
    "# data.plot(legend=True, subplots=True, figsize=(30,30),  xlabel=\"steps\")\n",
    "# ax = plt.gca()\n",
    "# ax.set_xlim(left=0, right=19000)\n",
    "\n",
    "# # 或者直接指定字体文件路径\n",
    "# plt.rcParams['font.sans-serif'] = ['SimHei']  # 系统自带的黑体\n",
    "# plt.rcParams['font.serif'] = ['SimSun']  # 系统自带的宋体\n",
    "# plt.rcParams['font.family'] = ['SimSun','SimHei','Source Han Sans CN'] \n",
    "\n",
    "# plt.show()\n",
    "times=df22[time_col_names].index.to_numpy()\n",
    "display(times)\n",
    "plt.plot(times,y_train22, label='Actual', marker='o')\n",
    "plt.plot(times,predY, label='Predicted', linestyle='--', marker='x')\n",
    "\n",
    "ax = plt.gca()\n",
    "ax.set_xlim(left=12000, right=18000)\n",
    "# 添加标题和标签\n",
    "plt.title('Actual vs. Predicted Values')\n",
    "plt.xlabel('Sample Index')\n",
    "plt.ylabel('Value')\n",
    "\n",
    "# 添加图例\n",
    "plt.legend()\n",
    "\n",
    "# 显示图形\n",
    "plt.show()"
   ]
  },
  {
   "cell_type": "code",
   "execution_count": 105,
   "metadata": {},
   "outputs": [
    {
     "data": {
      "image/png": "[encoded data removed]",
      "text/plain": [
       "<Figure size 640x480 with 1 Axes>"
      ]
     },
     "metadata": {},
     "output_type": "display_data"
    },
    {
     "data": {
      "image/png": "[encoded data removed]",
      "text/plain": [
       "<Figure size 640x480 with 1 Axes>"
      ]
     },
     "metadata": {},
     "output_type": "display_data"
    }
   ],
   "source": [
    "#display(history.history)\n",
    "plt.plot( history.history['loss'])\n",
    "plt.plot( history.history['val_loss'])\n",
    "plt.plot( history.history['val_accuracy'])\n",
    "plt.title('model train vs validation loss')\n",
    "plt.ylabel('loss')\n",
    "plt.xlabel('epoch')\n",
    "plt.legend(['loss', 'epoch','accuracy'], loc='upper right')\n",
    "plt.show()\n",
    "plt.plot( history.history['accuracy'])\n",
    "plt.plot( history.history['val_accuracy'])\n",
    "plt.title('model train vs validation accuracy')\n",
    "plt.ylabel('accuracy')\n",
    "plt.xlabel('epoch')\n",
    "plt.legend(['accuracy', 'val_accuracy'], loc='upper left')\n",
    "plt.show()\n",
    " "
   ]
  },
  {
   "cell_type": "code",
   "execution_count": 106,
   "metadata": {},
   "outputs": [
    {
     "data": {
      "text/plain": [
       "Index(['label', '时间', '原始重量', '稳定重量', '轴重', 'su_ad', 'wpu_x', 'wpu_y', 'wpu_z',\n",
       "       'su_x', 'su_y', 'su_z', '原始重量_diff', '稳定重量_diff', '轴重_diff',\n",
       "       'su_ad_diff', 'wpu_x_diff', 'wpu_y_diff', 'wpu_z_diff', 'su_x_diff',\n",
       "       'su_y_diff', 'su_z_diff', '速度', '估计重量'],\n",
       "      dtype='object')"
      ]
     },
     "metadata": {},
     "output_type": "display_data"
    }
   ],
   "source": [
    "display(df22.columns)"
   ]
  },
  {
   "cell_type": "code",
   "execution_count": 107,
   "metadata": {},
   "outputs": [
    {
     "name": "stderr",
     "output_type": "stream",
     "text": [
      "g:\\dev\\.anaconda\\Miniconda\\envs\\py39_tf26\\lib\\site-packages\\sklearn\\preprocessing\\_label.py:97: DataConversionWarning: A column-vector y was passed when a 1d array was expected. Please change the shape of y to (n_samples, ), for example using ravel().\n",
      "  y = column_or_1d(y, warn=True)\n",
      "g:\\dev\\.anaconda\\Miniconda\\envs\\py39_tf26\\lib\\site-packages\\sklearn\\preprocessing\\_label.py:97: DataConversionWarning: A column-vector y was passed when a 1d array was expected. Please change the shape of y to (n_samples, ), for example using ravel().\n",
      "  y = column_or_1d(y, warn=True)\n"
     ]
    },
    {
     "ename": "NameError",
     "evalue": "name 'keras' is not defined",
     "output_type": "error",
     "traceback": [
      "\u001b[1;31m---------------------------------------------------------------------------\u001b[0m",
      "\u001b[1;31mNameError\u001b[0m                                 Traceback (most recent call last)",
      "Cell \u001b[1;32mIn[107], line 6\u001b[0m\n\u001b[0;32m      4\u001b[0m x_df22 \u001b[38;5;241m=\u001b[39m df22[numeric_col_names]\n\u001b[0;32m      5\u001b[0m y_df22 \u001b[38;5;241m=\u001b[39m df22[\u001b[38;5;124m'\u001b[39m\u001b[38;5;124mlabel\u001b[39m\u001b[38;5;124m'\u001b[39m]\n\u001b[1;32m----> 6\u001b[0m y_df22 \u001b[38;5;241m=\u001b[39m \u001b[43mkeras\u001b[49m\u001b[38;5;241m.\u001b[39mutils\u001b[38;5;241m.\u001b[39mto_categorical(np\u001b[38;5;241m.\u001b[39masfarray(y_df22),num_classes) \n\u001b[0;32m      7\u001b[0m x_df22\u001b[38;5;241m=\u001b[39mnp\u001b[38;5;241m.\u001b[39masfarray(x_df22)\n\u001b[0;32m      8\u001b[0m x_df22 \u001b[38;5;241m=\u001b[39m x_df22\u001b[38;5;241m.\u001b[39mreshape(\u001b[38;5;28mlen\u001b[39m(x_df22), feature_col_num,\u001b[38;5;241m1\u001b[39m)\n",
      "\u001b[1;31mNameError\u001b[0m: name 'keras' is not defined"
     ]
    }
   ],
   "source": [
    "\n",
    "df22,scaler22,le22 = normalize(df22,numeric_col_names,label_col_names,time_col_names)\n",
    "df23,scaler23,le23 = normalize(df23,numeric_col_names,label_col_names,time_col_names)\n",
    "\n",
    "x_df22 = df22[numeric_col_names]\n",
    "y_df22 = df22['label']\n",
    "y_df22 = keras.utils.to_categorical(np.asfarray(y_df22),num_classes) \n",
    "x_df22=np.asfarray(x_df22)\n",
    "x_df22 = x_df22.reshape(len(x_df22), feature_col_num,1)\n",
    "results22 = model.predict(x_df22)\n",
    "display(results22)"
   ]
  },
  {
   "cell_type": "code",
   "execution_count": null,
   "metadata": {},
   "outputs": [],
   "source": [
    "\n",
    "fig_acc = plt.figure(figsize=(9, 9))\n",
    "plt.plot(results22[0:27000])\n",
    "plt.plot(y_df22[0:27000])\n",
    "plt.title('real vs pred')\n",
    "plt.ylabel('value')\n",
    "plt.xlabel('epoch')\n",
    "plt.xlim((19000, 23000))\n",
    "plt.legend(['pred', 'real'], loc='upper left')\n",
    "plt.show()"
   ]
  },
  {
   "cell_type": "code",
   "execution_count": null,
   "metadata": {},
   "outputs": [],
   "source": [
    "\n",
    "\n",
    "print('以下是CNN_biLSTM_Attention误差')\n",
    "print('R^2决定系数：',r2_score(test_Y[000:14000],results[00:14000]))\n",
    "print('RMSE为：',np.sqrt(mean_squared_error(test_Y[2500:18000],results[2500:18000])))\n",
    "print('MAPE为：',(abs(results[9000:15000] -test_Y[9000:15000])/ test_Y[9000:15000]).mean())"
   ]
  },
  {
   "cell_type": "code",
   "execution_count": null,
   "metadata": {},
   "outputs": [],
   "source": [
    "test_new=[]\n",
    "predict_new=[] \n",
    "\n",
    "for k in range(len(results)):\n",
    "    if test_Y[k]!=0:\n",
    "        test_new.append(test_Y[k])\n",
    "        predict_new.append(results[k])\n",
    "\n",
    "def MAPE(y_true, y_pred):\n",
    "    y_true, y_pred = np.array(y_true), np.array(y_pred)\n",
    "    return np.mean(np.fabs((y_true - y_pred) / y_true))\n",
    "mape = format(MAPE(test_new, predict_new), '.4f') \n",
    "mape"
   ]
  }
 ],
 "metadata": {
  "kernelspec": {
   "display_name": "base",
   "language": "python",
   "name": "python3"
  },
  "language_info": {
   "codemirror_mode": {
    "name": "ipython",
    "version": 3
   },
   "file_extension": ".py",
   "mimetype": "text/x-python",
   "name": "python",
   "nbconvert_exporter": "python",
   "pygments_lexer": "ipython3",
   "version": "3.9.18"
  },
  "orig_nbformat": 4
 },
 "nbformat": 4,
 "nbformat_minor": 2
}
