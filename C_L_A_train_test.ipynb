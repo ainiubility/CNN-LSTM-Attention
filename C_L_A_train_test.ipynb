{
 "cells": [
  {
   "cell_type": "markdown",
   "metadata": {},
   "source": [
    "借助 Intel(R) Extension for Scikit-learn，您可以加速您的 Scikit-learn 应用程序，并且仍然完全符合所有 Scikit-Learn API 和算法。这是一款免费软件 AI 加速器，可为各种应用带来超过10-100 倍的加速。而且您甚至不需要更改现有代码！"
   ]
  },
  {
   "cell_type": "code",
   "execution_count": 7,
   "metadata": {},
   "outputs": [
    {
     "name": "stderr",
     "output_type": "stream",
     "text": [
      "Intel(R) Extension for Scikit-learn* enabled (https://github.com/intel/scikit-learn-intelex)\n"
     ]
    }
   ],
   "source": [
    "from __future__ import print_function\n",
    "\n",
    "# pip install scikit-learn-intelex\n",
    "\n",
    "from sklearnex import patch_sklearn\n",
    "\n",
    "patch_sklearn()\n",
    "# from attention_utils import get_activations\n",
    "import pandas as pd\n",
    "\n",
    "import numpy as np\n",
    "\n",
    "from matplotlib import pyplot as plt\n",
    "\n",
    "from sklearn.preprocessing import StandardScaler, LabelEncoder, MinMaxScaler\n",
    "from sklearn import datasets\n",
    "from sklearn.model_selection import train_test_split\n",
    "from sklearn.ensemble import RandomForestRegressor\n",
    "from sklearn.metrics import mean_squared_error\n",
    "from sklearn.metrics import median_absolute_error\n",
    "from sklearn.metrics import mean_squared_log_error\n",
    "from sklearn.metrics import mean_absolute_percentage_error\n",
    "from sklearn.metrics import explained_variance_score\n",
    "from sklearn.metrics import r2_score\n",
    "from typing import Tuple\n",
    "\n",
    "import tensorflow as tf\n",
    "import keras.layers as layers\n",
    "from keras.models import  models\n",
    "from keras.callbacks import TensorBoard\n",
    "from keras.callbacks import ModelCheckpoint\n",
    "from keras.models import model_from_json\n",
    "from keras import backend as K\n",
    "from tensorflow.python.lib.io import file_io\n",
    "from tensorflow.core.example import example_pb2\n",
    "\n"
   ]
  },
  {
   "cell_type": "code",
   "execution_count": 33,
   "metadata": {},
   "outputs": [],
   "source": []
  },
  {
   "cell_type": "code",
   "execution_count": 8,
   "metadata": {},
   "outputs": [],
   "source": [
    "def get_activations(model, inputs, print_shape_only=False, layer_name=None):\n",
    "    # Documentation is available online on Github at the address below.\n",
    "    # From: https://github.com/philipperemy/keras-visualize-activations\n",
    "    print(\"----- activations -----\")\n",
    "    activations = []\n",
    "    inp = model.input\n",
    "    if layer_name is None:\n",
    "        outputs = [layer.output for layer in model.layers]\n",
    "    else:\n",
    "        outputs = [\n",
    "            layer.output for layer in model.layers if layer.name == layer_name\n",
    "        ]  # all layer outputs\n",
    "    funcs = [\n",
    "        K.function([inp] + [K.learning_phase()], [out]) for out in outputs\n",
    "    ]  # evaluation functions\n",
    "    layer_outputs = [func([inputs, 1.0])[0] for func in funcs]\n",
    "    for layer_activations in layer_outputs:\n",
    "        activations.append(layer_activations)\n",
    "        if print_shape_only:\n",
    "            print(layer_activations.shape)\n",
    "        else:\n",
    "            print(\"shape为\", layer_activations.shape)\n",
    "            print(layer_activations)\n",
    "    return activations\n",
    "def get_data(n, input_dim, attention_column=1):\n",
    "    \"\"\"\n",
    "    Data generation. x is purely random except that it's first value equals the target y.\n",
    "    In practice, the network should learn that the target = x[attention_column].\n",
    "    Therefore, most of its attention should be focused on the value addressed by attention_column.\n",
    "    :param n: the number of samples to retrieve.\n",
    "    :param input_dim: the number of dimensions of each element in the series.\n",
    "    :param attention_column: the column linked to the target. Everything else is purely random.\n",
    "    :return: x: model inputs, y: model targets\n",
    "    \"\"\"\n",
    "    x = np.random.standard_normal(size=(n, input_dim))\n",
    "    y = np.random.randint(low=0, high=2, size=(n, 1))\n",
    "    x[:, attention_column] = y[:, 0]\n",
    "    return x, y\n",
    "def get_data_recurrent(n, time_steps, input_dim, attention_column=10):\n",
    "    \"\"\"\n",
    "    Data generation. x is purely random except that it's first value equals the target y.\n",
    "    In practice, the network    should learn that the target = x[attention_column].\n",
    "    Therefore, most of its attention should be focused on the value addressed by attention_column.\n",
    "    :param n: the number of samples to retrieve.\n",
    "    :param time_steps: the number of time steps of your series.\n",
    "    :param input_dim: the number of dimensions of each element in the series.\n",
    "    :param attention_column: the column linked to the target. Everything else is purely random.\n",
    "    :return: x: model inputs, y: model targets\n",
    "    \"\"\"\n",
    "    x = np.random.standard_normal(size=(n, time_steps, input_dim))\n",
    "    y = np.random.randint(low=0, high=2, size=(n, 1))\n",
    "    x[:, attention_column, :] = np.tile(y[:], (1, input_dim))\n",
    "    return x, y\n",
    "def get_data_recurrent2(n, time_steps, input_dim, attention_dim=5):\n",
    "    \"\"\"\n",
    "    Suppose input_dim = 10  time_steps = 6\n",
    "    formed one  x 6 x 10 The data of each step 6 dimension is the same as y\n",
    "    \"\"\"\n",
    "    x = np.random.standard_normal(size=(n, time_steps, input_dim))\n",
    "    y = np.random.randint(low=0, high=2, size=(n, 1))\n",
    "    x[:, :, attention_dim] = np.tile(y[:], (1, time_steps))\n",
    "    return x, y"
   ]
  },
  {
   "cell_type": "code",
   "execution_count": null,
   "metadata": {},
   "outputs": [],
   "source": []
  },
  {
   "cell_type": "code",
   "execution_count": 9,
   "metadata": {},
   "outputs": [],
   "source": [
    "# keras.layers.Activation('linear')"
   ]
  },
  {
   "cell_type": "code",
   "execution_count": 10,
   "metadata": {},
   "outputs": [
    {
     "name": "stdout",
     "output_type": "stream",
     "text": [
      "         date start_time  end_time               start                 end  \\\n",
      "0  2023-12-17   10:44:49  10:48:59 2023-12-17 10:44:49 2023-12-17 10:48:59   \n",
      "1  2023-12-17   11:29:45  11:31:55 2023-12-17 11:29:45 2023-12-17 11:31:55   \n",
      "2  2023-12-17   12:23:56  12:29:44 2023-12-17 12:23:56 2023-12-17 12:29:44   \n",
      "3  2023-12-17   12:55:08  12:56:28 2023-12-17 12:55:08 2023-12-17 12:56:28   \n",
      "4  2023-12-17   13:45:02  13:45:42 2023-12-17 13:45:02 2023-12-17 13:45:42   \n",
      "\n",
      "  label  \n",
      "0     装  \n",
      "1     卸  \n",
      "2     装  \n",
      "3     卸  \n",
      "4     装   (56, 6)\n"
     ]
    }
   ],
   "source": [
    "dfstate = pd.read_csv(\"./data/states.txt\")\n",
    "dfstate[\"start\"] = dfstate.apply(\n",
    "    lambda row: row[\"date\"] + \" \" + row[\"start_time\"], axis=1\n",
    ")\n",
    "dfstate[\"end\"] = dfstate.apply(lambda row: row[\"date\"] + \" \" + row[\"end_time\"], axis=1)\n",
    "dfstate[\"label\"] = dfstate.pop(\"state\").str.strip()\n",
    "# 转为时间类型\n",
    "dfstate[[\"start\", \"end\"]] = dfstate[[\"start\", \"end\"]].apply(pd.to_datetime)\n",
    "# dfstate[\"statev\"] = dfstate.apply(label_to_number, axis=1)\n",
    "# dfstate['label'] = dfstate.apply(number_to_label,axis=1)\n",
    "dfstate.to_csv(\"./data/states.csv\")\n",
    "print(dfstate.head(), dfstate.shape)"
   ]
  },
  {
   "cell_type": "code",
   "execution_count": 11,
   "metadata": {},
   "outputs": [],
   "source": [
    "# 定义读取数据函数\n",
    "def fix_data(inputDF: pd.DataFrame) -> pd.DataFrame:\n",
    "    # 创建一个新的空列用于存储结果\n",
    "    inputDF.insert(0, \"label\", \"-\")\n",
    "    # 对df1中的每一行遍历，并查找df2中符合条件的记录\n",
    "    for index, row in inputDF.iterrows():\n",
    "        condition = (dfstate[\"start\"] <= row[\"时间\"]) & (row[\"时间\"] <= dfstate[\"end\"])\n",
    "        match = dfstate[condition]\n",
    "        if not match.empty:\n",
    "            # 如果找到了匹配项，则将df2的'state'赋值给df1的新列\n",
    "            inputDF.at[index, \"label\"] = match[\"label\"].values[0]\n",
    "        else:\n",
    "            # 如果没有找到匹配项，则保持原样（这里已经初始化为-）\n",
    "            pass\n",
    "    # inputDF.insert(1,'state',0)\n",
    "    # inputDF[\"state\"] = inputDF[\"label\"].astype(\"category\").cat.codes\n",
    "    return inputDF\n",
    "def read_data(file_path: str) -> pd.DataFrame:\n",
    "    return fix_data(\n",
    "        pd.read_excel(file_path, engine=\"openpyxl\", parse_dates=[\"时间\", \"轨迹时间\"])\n",
    "    )\n",
    "# 读取数据\n",
    "df17 = read_data(\"./data/data_17.xlsx\")\n",
    "df21 = read_data(\"./data/data_21.xlsx\")\n",
    "df22 = read_data(\"./data/data_22.xlsx\")\n",
    "df23 = read_data(\"./data/data_23.xlsx\")"
   ]
  },
  {
   "cell_type": "code",
   "execution_count": 14,
   "metadata": {},
   "outputs": [],
   "source": [
    "# 假设你有一个Pandas DataFrame\n",
    "# df = pd.DataFrame({\n",
    "#     'feature1': [...],  # 假设是一列数值列表\n",
    "#     'feature2': [...],  # 另一列数值列表\n",
    "#     'label': [...]      # 假设是一列标签\n",
    "# })\n",
    "\n",
    "def _bytes_feature(value):\n",
    "    return tf.train.Feature(bytes_list=tf.train.BytesList(value=[value.encode('utf-8')]))\n",
    "\n",
    "def _float_feature(value):\n",
    "    return tf.train.Feature(float_list=tf.train.FloatList(value=value))\n",
    "\n",
    "def dataframe_to_tfrecord(df, filename):\n",
    "    writer = tf.io.TFRecordWriter(filename)\n",
    "\n",
    "    for _, row in df.iterrows():\n",
    "        feature = {\n",
    "            'feature1': _float_feature(row['feature1']),\n",
    "            'feature2': _float_feature(row['feature2']),\n",
    "            'label': _float_feature(row['label'])\n",
    "            # 更改此部分以适应你的数据类型和列名\n",
    "        }\n",
    "\n",
    "        example = tf.train.Example(features=tf.train.Features(feature=feature))\n",
    "        serialized_example = example.SerializeToString()\n",
    "\n",
    "        writer.write(serialized_example)\n",
    "\n",
    "    writer.close()\n",
    "\n",
    "# 调用函数将DataFrame写入TFRecords文件\n",
    "# dataframe_to_tfrecord(df, 'my_data.tfrecords') \n",
    "\n"
   ]
  },
  {
   "cell_type": "code",
   "execution_count": 15,
   "metadata": {},
   "outputs": [],
   "source": [
    "# data.plot(legend=True, subplots=True, figsize=(30,30),  xlabel=\"steps\")\n",
    "# ax = plt.gca()\n",
    "# ax.set_xlim(left=0, right=19000)\n",
    "# # 或者直接指定字体文件路径\n",
    "# plt.rcParams['font.sans-serif'] = ['SimHei']  # 系统自带的黑体\n",
    "# plt.rcParams['font.serif'] = ['SimSun']  # 系统自带的宋体\n",
    "# plt.rcParams['font.family'] = ['SimSun','SimHei','Source Han Sans CN']\n",
    "# plt.show()"
   ]
  },
  {
   "attachments": {},
   "cell_type": "markdown",
   "metadata": {},
   "source": [
    "### 改各自层数！"
   ]
  },
  {
   "cell_type": "code",
   "execution_count": 49,
   "metadata": {
    "notebookRunGroups": {
     "groupValue": "1"
    }
   },
   "outputs": [],
   "source": [
    "def normalize(\n",
    "    inpudf: pd.DataFrame,\n",
    "    numeric_col_names: list[str],\n",
    "    label_col_names: list[str],\n",
    "    time_col_names: list[str],\n",
    ") -> Tuple[pd.DataFrame, MinMaxScaler, LabelEncoder]:\n",
    "    inpudf = inpudf.copy()\n",
    "    # 使用 StandardScaler 或者 MinMaxScaler 进行标准化处理。\n",
    "    # 创建标准化器对象\n",
    "    scaler = MinMaxScaler(feature_range=(-10, 10))\n",
    "    scaler.fit(inpudf[numeric_col_names])\n",
    "    # （label）标准化\n",
    "    le = LabelEncoder()\n",
    "    # [\"装\", \"卸\",'-']\n",
    "    le.fit(inpudf[label_col_names])\n",
    "    # newdata=np.array(inpudf)\n",
    "    # 数值型数据标准化： 使用StandardScaler或者MinMaxScaler进行标准化处理。\n",
    "    for col in numeric_col_names:\n",
    "        inpudf[col] = le.fit_transform(inpudf[col])\n",
    "    # 类别数据（label）标准化： 类别数据通常不做标准化，而是进行编码，比如One-Hot编码或者Label Encoding。\n",
    "    for col in label_col_names:\n",
    "        inpudf[col] = le.fit_transform(inpudf[col])\n",
    "    # 时间数据标准化： 时间数据通常不进行标准化，而是转换成可以比较的形式，如Unix时间戳或时间段差。\n",
    "    # 将所有时间列转换为Unix时间戳（单位为秒）\n",
    "    for col in time_col_names:\n",
    "        print(inpudf[col].astype(np.int64), inpudf[col].astype(np.int64) / 1e9)\n",
    "        inpudf[col] = (\n",
    "            inpudf[col].astype(np.int64) / 1e9\n",
    "        )  # 默认pandas的datetime64[ns]转换为Unix时间戳（秒）\n",
    "    return inpudf, scaler, le\n",
    "# 反标准化\n",
    "def denormalize(\n",
    "    inpudf: pd.DataFrame,\n",
    "    scaler: MinMaxScaler,\n",
    "    le: LabelEncoder,\n",
    "    numeric_col_names: list[str],\n",
    "    label_col_names: list[str],\n",
    "    time_col_names: list[str],\n",
    ") -> pd.DataFrame:\n",
    "    \"\"\"对df中的数值列进行反标准化处理\"\"\"\n",
    "    # 数值型数据标准化-\n",
    "    inpudf[numeric_col_names] = scaler.inverse_transform(inpudf[numeric_col_names])\n",
    "    # 类别数据（label）标准化-\n",
    "    for col in label_col_names:\n",
    "        inpudf[col] = le.inverse_transform(inpudf[col])\n",
    "    # 时间数据标准化-\n",
    "    for col in time_col_names:\n",
    "        inpudf[col] = pd.to_datetime(\n",
    "            inpudf[col] * 1e9\n",
    "        )  # 默认pandas的datetime64[ns]转换为Unix时间戳（秒）\n",
    "    return inpudf"
   ]
  },
  {
   "cell_type": "code",
   "execution_count": null,
   "metadata": {},
   "outputs": [],
   "source": []
  },
  {
   "cell_type": "code",
   "execution_count": 17,
   "metadata": {},
   "outputs": [
    {
     "name": "stdout",
     "output_type": "stream",
     "text": [
      "Index(['label', '时间', '原始重量', '稳定重量', '轴重', 'su_ad', 'wpu_x', 'wpu_y', 'wpu_z',\n",
      "       'su_x', 'su_y', 'su_z', '原始重量_diff', '稳定重量_diff', '轴重_diff',\n",
      "       'su_ad_diff', 'wpu_x_diff', 'wpu_y_diff', 'wpu_z_diff', 'su_x_diff',\n",
      "       'su_y_diff', 'su_z_diff', '轨迹时间', '速度', '估计重量', '原始重量加速度', '稳定重量加速度',\n",
      "       '原始重量加速度_二阶', '稳定重量加速度_二阶'],\n",
      "      dtype='object')\n",
      "(41494, 29)\n"
     ]
    }
   ],
   "source": [
    "numeric_col_names = [\"原始重量\", \"稳定重量\", \"轴重\", \"wpu_z\", \"su_z\", \"速度\"]\n",
    "# delete some\n",
    "#  \"轨迹时间\",'原始重量_diff', '稳定重量_diff', '轴重_diff','su_ad_diff', 'wpu_x_diff', 'wpu_y_diff', 'wpu_z_diff','估计重量',    'su_x_diff','su_y_diff', 'su_z_diff',  'su_ad', ,'wpu_x', 'wpu_y', 'su_x', 'su_y',\n",
    "\n",
    "# ['原始重量', '稳定重量', '轴重', 'su_ad',\n",
    "#                 'wpu_x', 'wpu_y', 'wpu_z',\n",
    "#                 'su_x', 'su_y', 'su_z',\n",
    "#                 '原始重量_diff', '稳定重量_diff', '轴重_diff',\n",
    "#                 'su_ad_diff', 'wpu_x_diff', 'wpu_y_diff', 'wpu_z_diff',\n",
    "#                 'su_x_diff', 'su_y_diff', 'su_z_diff',\n",
    "#                 '速度', '估计重量', '原始重量加速度', '稳定重量加速度', '原始重量加速度_二阶', '稳定重量加速度_二阶']\n",
    "label_col_names = [\"label\"]\n",
    "time_col_names = [\"时间\"]\n",
    "\n",
    "data = pd.concat([df17, df21], axis=0, ignore_index=True)\n",
    "\n",
    "print(data.columns)\n",
    "print(data.shape)\n",
    "\n",
    "df22 = df22\n",
    "df23 = df23"
   ]
  },
  {
   "cell_type": "code",
   "execution_count": 50,
   "metadata": {
    "notebookRunGroups": {
     "groupValue": "1"
    }
   },
   "outputs": [
    {
     "data": {
      "text/html": [
       "<div>\n",
       "<style scoped>\n",
       "    .dataframe tbody tr th:only-of-type {\n",
       "        vertical-align: middle;\n",
       "    }\n",
       "\n",
       "    .dataframe tbody tr th {\n",
       "        vertical-align: top;\n",
       "    }\n",
       "\n",
       "    .dataframe thead th {\n",
       "        text-align: right;\n",
       "    }\n",
       "</style>\n",
       "<table border=\"1\" class=\"dataframe\">\n",
       "  <thead>\n",
       "    <tr style=\"text-align: right;\">\n",
       "      <th></th>\n",
       "      <th>原始重量</th>\n",
       "      <th>稳定重量</th>\n",
       "      <th>轴重</th>\n",
       "      <th>wpu_z</th>\n",
       "      <th>su_z</th>\n",
       "      <th>速度</th>\n",
       "      <th>label</th>\n",
       "      <th>时间</th>\n",
       "    </tr>\n",
       "  </thead>\n",
       "  <tbody>\n",
       "    <tr>\n",
       "      <th>0</th>\n",
       "      <td>2115</td>\n",
       "      <td>1</td>\n",
       "      <td>1240</td>\n",
       "      <td>2542</td>\n",
       "      <td>1384</td>\n",
       "      <td>0</td>\n",
       "      <td>0</td>\n",
       "      <td>1.000000e-09</td>\n",
       "    </tr>\n",
       "    <tr>\n",
       "      <th>1</th>\n",
       "      <td>2099</td>\n",
       "      <td>1</td>\n",
       "      <td>1241</td>\n",
       "      <td>2569</td>\n",
       "      <td>1384</td>\n",
       "      <td>0</td>\n",
       "      <td>0</td>\n",
       "      <td>1.000000e-09</td>\n",
       "    </tr>\n",
       "    <tr>\n",
       "      <th>2</th>\n",
       "      <td>2032</td>\n",
       "      <td>1</td>\n",
       "      <td>1230</td>\n",
       "      <td>2556</td>\n",
       "      <td>1385</td>\n",
       "      <td>0</td>\n",
       "      <td>0</td>\n",
       "      <td>1.000000e-09</td>\n",
       "    </tr>\n",
       "    <tr>\n",
       "      <th>3</th>\n",
       "      <td>2074</td>\n",
       "      <td>1</td>\n",
       "      <td>1238</td>\n",
       "      <td>2556</td>\n",
       "      <td>1386</td>\n",
       "      <td>0</td>\n",
       "      <td>0</td>\n",
       "      <td>1.000000e-09</td>\n",
       "    </tr>\n",
       "    <tr>\n",
       "      <th>4</th>\n",
       "      <td>2055</td>\n",
       "      <td>1</td>\n",
       "      <td>1231</td>\n",
       "      <td>2557</td>\n",
       "      <td>1384</td>\n",
       "      <td>0</td>\n",
       "      <td>0</td>\n",
       "      <td>1.000000e-09</td>\n",
       "    </tr>\n",
       "    <tr>\n",
       "      <th>...</th>\n",
       "      <td>...</td>\n",
       "      <td>...</td>\n",
       "      <td>...</td>\n",
       "      <td>...</td>\n",
       "      <td>...</td>\n",
       "      <td>...</td>\n",
       "      <td>...</td>\n",
       "      <td>...</td>\n",
       "    </tr>\n",
       "    <tr>\n",
       "      <th>41489</th>\n",
       "      <td>543</td>\n",
       "      <td>0</td>\n",
       "      <td>475</td>\n",
       "      <td>3963</td>\n",
       "      <td>1171</td>\n",
       "      <td>0</td>\n",
       "      <td>0</td>\n",
       "      <td>1.000000e-09</td>\n",
       "    </tr>\n",
       "    <tr>\n",
       "      <th>41490</th>\n",
       "      <td>536</td>\n",
       "      <td>0</td>\n",
       "      <td>472</td>\n",
       "      <td>3949</td>\n",
       "      <td>1171</td>\n",
       "      <td>0</td>\n",
       "      <td>0</td>\n",
       "      <td>1.000000e-09</td>\n",
       "    </tr>\n",
       "    <tr>\n",
       "      <th>41491</th>\n",
       "      <td>498</td>\n",
       "      <td>0</td>\n",
       "      <td>467</td>\n",
       "      <td>3959</td>\n",
       "      <td>1168</td>\n",
       "      <td>0</td>\n",
       "      <td>0</td>\n",
       "      <td>1.000000e-09</td>\n",
       "    </tr>\n",
       "    <tr>\n",
       "      <th>41492</th>\n",
       "      <td>521</td>\n",
       "      <td>0</td>\n",
       "      <td>465</td>\n",
       "      <td>3958</td>\n",
       "      <td>1170</td>\n",
       "      <td>0</td>\n",
       "      <td>0</td>\n",
       "      <td>1.000000e-09</td>\n",
       "    </tr>\n",
       "    <tr>\n",
       "      <th>41493</th>\n",
       "      <td>526</td>\n",
       "      <td>0</td>\n",
       "      <td>464</td>\n",
       "      <td>3955</td>\n",
       "      <td>1172</td>\n",
       "      <td>0</td>\n",
       "      <td>0</td>\n",
       "      <td>1.000000e-09</td>\n",
       "    </tr>\n",
       "  </tbody>\n",
       "</table>\n",
       "<p>41494 rows × 8 columns</p>\n",
       "</div>"
      ],
      "text/plain": [
       "       原始重量  稳定重量    轴重  wpu_z  su_z  速度  label            时间\n",
       "0      2115     1  1240   2542  1384   0      0  1.000000e-09\n",
       "1      2099     1  1241   2569  1384   0      0  1.000000e-09\n",
       "2      2032     1  1230   2556  1385   0      0  1.000000e-09\n",
       "3      2074     1  1238   2556  1386   0      0  1.000000e-09\n",
       "4      2055     1  1231   2557  1384   0      0  1.000000e-09\n",
       "...     ...   ...   ...    ...   ...  ..    ...           ...\n",
       "41489   543     0   475   3963  1171   0      0  1.000000e-09\n",
       "41490   536     0   472   3949  1171   0      0  1.000000e-09\n",
       "41491   498     0   467   3959  1168   0      0  1.000000e-09\n",
       "41492   521     0   465   3958  1170   0      0  1.000000e-09\n",
       "41493   526     0   464   3955  1172   0      0  1.000000e-09\n",
       "\n",
       "[41494 rows x 8 columns]"
      ]
     },
     "metadata": {},
     "output_type": "display_data"
    },
    {
     "name": "stdout",
     "output_type": "stream",
     "text": [
      "0        0\n",
      "1        0\n",
      "2        0\n",
      "3        0\n",
      "4        0\n",
      "        ..\n",
      "41489    0\n",
      "41490    0\n",
      "41491    0\n",
      "41492    0\n",
      "41493    0\n",
      "Name: 时间, Length: 41494, dtype: int64 0        0.0\n",
      "1        0.0\n",
      "2        0.0\n",
      "3        0.0\n",
      "4        0.0\n",
      "        ... \n",
      "41489    0.0\n",
      "41490    0.0\n",
      "41491    0.0\n",
      "41492    0.0\n",
      "41493    0.0\n",
      "Name: 时间, Length: 41494, dtype: float64\n"
     ]
    },
    {
     "name": "stderr",
     "output_type": "stream",
     "text": [
      "c:\\ScriptsApplications\\.devhome\\conda\\envs\\py310_tf26\\lib\\site-packages\\sklearn\\preprocessing\\_label.py:97: DataConversionWarning: A column-vector y was passed when a 1d array was expected. Please change the shape of y to (n_samples, ), for example using ravel().\n",
      "  y = column_or_1d(y, warn=True)\n"
     ]
    },
    {
     "data": {
      "text/plain": [
       "(41494, 8)"
      ]
     },
     "metadata": {},
     "output_type": "display_data"
    },
    {
     "data": {
      "text/plain": [
       "(27800, 1)"
      ]
     },
     "metadata": {},
     "output_type": "display_data"
    },
    {
     "data": {
      "text/plain": [
       "(13694, 1)"
      ]
     },
     "metadata": {},
     "output_type": "display_data"
    },
    {
     "data": {
      "text/plain": [
       "(27800,)"
      ]
     },
     "metadata": {},
     "output_type": "display_data"
    },
    {
     "data": {
      "text/plain": [
       "(13694,)"
      ]
     },
     "metadata": {},
     "output_type": "display_data"
    }
   ],
   "source": [
    "\n",
    "data = data[numeric_col_names + label_col_names + time_col_names]  # 去掉无用列\n",
    "display(data)\n",
    "# Normalized\n",
    "data, scaler, le = normalize(data, numeric_col_names, label_col_names, time_col_names)\n",
    "display(data.shape)\n",
    "# feature_col_names = numeric_col_names +  time_col_names\n",
    "feature_col_names = numeric_col_names  # 暂时去掉 时间\n",
    "X = data[feature_col_names]\n",
    "Y = data[label_col_names]\n",
    "\n",
    "x_train, x_test, y_train, y_test = train_test_split(\n",
    "    np.asarray(X), np.asarray(Y), test_size=0.33, shuffle=False\n",
    ")\n",
    "\n",
    "feature_col_num = len(feature_col_names)\n",
    "\n",
    "# Input image dimensions\n",
    "\n",
    "# Convert class vectors to binary class matrices. This uses 1 hot encoding.\n",
    "# y_train_binary = keras.utils.to_categorical(y_train,num_classes)\n",
    "# y_test_binary = keras.utils.to_categorical(y_test,num_classes)\n",
    "\n",
    "x_train = x_train.reshape(-1, feature_col_num)\n",
    "x_test = x_test.reshape(-1, feature_col_num)\n",
    "\n",
    "display(y_train.shape, y_test.shape)\n",
    "y_train = y_train.reshape(\n",
    "    -1,\n",
    ")\n",
    "y_test = y_test.reshape(\n",
    "    -1,\n",
    ")\n",
    "display(y_train.shape, y_test.shape)"
   ]
  },
  {
   "cell_type": "code",
   "execution_count": 51,
   "metadata": {
    "notebookRunGroups": {
     "groupValue": "1"
    }
   },
   "outputs": [],
   "source": [
    "\n",
    "SINGLE_ATTENTION_VECTOR = False\n",
    "\n",
    "\n",
    "\n",
    "\n",
    "\n",
    "def attention_3d_block(inputs):\n",
    "    # inputs.shape = (batch_size, time_steps, input_dim)\n",
    "    input_dim = int(inputs.shape[2])\n",
    "    a = inputs\n",
    "    # a = Permute((2, 1))(inputs)\n",
    "    # a = Reshape((input_dim, TIME_STEPS))(a) # this line is not useful. It's just to know which dimension is what.\n",
    "    a = layers.Dense(input_dim, activation=\"softmax\")(a)\n",
    "    if SINGLE_ATTENTION_VECTOR:\n",
    "        a = layers.Lambda(lambda x: K.mean(x, axis=1), name=\"dim_reduction\")(a)\n",
    "        a = layers.RepeatVector(input_dim)(a)\n",
    "    a_probs = layers.Permute((1, 2), name=\"attention_vec\")(a)\n",
    "\n",
    "\n",
    "\n",
    "    # output_attention_mul = merge([inputs, a_probs], name='attention_mul', mode='mul')\n",
    "    output_attention_mul = layers.Multiply()([inputs, a_probs])\n",
    "    return output_attention_mul\n",
    "\n",
    "\n",
    "\n",
    "\n",
    "\n",
    "# Another way of writing the attention mechanism is suitable for the use of the above error source:https://blog.csdn.net/uhauha2929/article/details/80733255\n",
    "def attention_3d_block2(inputs, single_attention_vector=False):\n",
    "    # If the upper layer is LSTM, you need return_sequences=True\n",
    "    # inputs.shape = (batch_size, time_steps, input_dim)\n",
    "    time_steps = K.int_shape(inputs)[1]\n",
    "    input_dim = K.int_shape(inputs)[2]\n",
    "    a = layers.Permute((2, 1))(inputs)\n",
    "    a = layers.Dense(time_steps, activation=\"softmax\")(a)\n",
    "    if single_attention_vector:\n",
    "        a = layers.Lambda(lambda x: K.mean(x, axis=1))(a)\n",
    "        a = layers.RepeatVector(input_dim)(a)\n",
    "\n",
    "\n",
    "\n",
    "    a_probs = layers.Permute((2, 1))(a)\n",
    "    # Multiplied by the attention weight, but there is no summation, it seems to have little effect\n",
    "    # If you classify tasks, you can do Flatten expansion\n",
    "    # element-wise\n",
    "    output_attention_mul = layers.Multiply()([inputs, a_probs])\n",
    "    return output_attention_mul\n",
    "\n",
    "\n",
    "\n",
    "\n",
    "\n",
    "def create_dataset(dataset: pd.DataFrame, look_back: int):\n",
    "    \"\"\"\n",
    "    Processing the data\n",
    "    \"\"\"\n",
    "    dataX, dataY = [], []\n",
    "    for i in range(len(dataset) - look_back - 1):\n",
    "        a = dataset.iloc[i : (i + look_back), 1:]\n",
    "        dataX.append(a)\n",
    "        dataY.append(dataset.iloc[i + look_back, :])\n",
    "    TrainX = np.array(dataX)\n",
    "    Train_Y = np.array(dataY)\n",
    "\n",
    "\n",
    "\n",
    "    return TrainX, Train_Y\n",
    "\n",
    "\n",
    "\n",
    "\n",
    "\n",
    "def attention_model(TIME_STEPS=5,INPUT_DIMS=1)-> models.Model:\n",
    "    drop, lstm_units=0.25,32\n",
    "    # inputs = Input(((data.shape[1],1)))\n",
    "    inputs = tf.keras.layers.Input(shape=(TIME_STEPS, INPUT_DIMS))\n",
    "    x = layers.Conv1D(\n",
    "        filters=64, kernel_size=32, dilation_rate=2, padding=\"same\", activation=\"relu\"\n",
    "    )(inputs)\n",
    "    # x = Conv1D(filters = 64, kernel_size = 1, activation = 'relu')(inputs)  #, padding = 'same'\n",
    "    x = layers.Dropout(drop)(x)\n",
    "\n",
    "    # lstm_out = Bidirectional(LSTM(lstm_units, activation='relu'), name='bilstm')(x)\n",
    "    # For GPU you can use CuDNNLSTM\n",
    "    lstm_out = layers.Bidirectional(\n",
    "        layers.LSTM(lstm_units, return_sequences=True, name=\"bilstm\")\n",
    "    )(x)\n",
    "    lstm_out = layers.Dropout(drop)(lstm_out)\n",
    "\n",
    "    # attention_mul = attention_3d_block(lstm_out)\n",
    "    attention_mul = layers.Flatten()(lstm_out)\n",
    "\n",
    "    # output = Dense(1, activation='sigmoid')(attention_mul)\n",
    "    output = layers.Dense(1, activation=\"linear\")(attention_mul)\n",
    "    model = models.Model(inputs=[inputs], outputs=output)\n",
    "    return model"
   ]
  },
  {
   "cell_type": "code",
   "execution_count": 20,
   "metadata": {},
   "outputs": [
    {
     "name": "stdout",
     "output_type": "stream",
     "text": [
      "Index(['A', 'B', 'C', 'D'], dtype='object')\n"
     ]
    }
   ],
   "source": [
    "# 假设这是您的DataFrame\n",
    "df = pd.DataFrame(\n",
    "    {\n",
    "        \"A\": [1, 2, 3],\n",
    "        \"B\": [4.5, 5.5, 6.5],\n",
    "        \"C\": [\"foo\", \"bar\", \"baz\"],\n",
    "        \"D\": [True, False, True],\n",
    "    }\n",
    ")\n",
    "# 使用apply方法和to_numeric函数选择数值类型的列\n",
    "numeric_columns = df.apply(pd.to_numeric, errors=\"coerce\").columns\n",
    "# 打印结果\n",
    "print(numeric_columns)\n",
    "# numeric_columns_clean = numeric_columns[numeric_columns.apply(pd.to_numeric).notna()]"
   ]
  },
  {
   "cell_type": "code",
   "execution_count": 21,
   "metadata": {},
   "outputs": [
    {
     "name": "stdout",
     "output_type": "stream",
     "text": [
      "2.15.0\n",
      "[]\n",
      "Available GPU devices: []\n"
     ]
    }
   ],
   "source": [
    "print(tf.__version__)\n",
    "gpus = tf.config.experimental.list_physical_devices(\"GPU\")\n",
    "\n",
    "\n",
    "\n",
    "print(gpus)\n",
    "\n",
    "\n",
    "\n",
    "# 查看系统中可见的GPU设备\n",
    "print(\"Available GPU devices:\", tf.config.list_physical_devices(\"GPU\"))"
   ]
  },
  {
   "cell_type": "code",
   "execution_count": 52,
   "metadata": {
    "notebookRunGroups": {
     "groupValue": "1"
    }
   },
   "outputs": [
    {
     "name": "stdout",
     "output_type": "stream",
     "text": [
      "Model: \"model_3\"\n",
      "_________________________________________________________________\n",
      " Layer (type)                Output Shape              Param #   \n",
      "=================================================================\n",
      " input_4 (InputLayer)        [(None, 6, 1)]            0         \n",
      "                                                                 \n",
      " conv1d_3 (Conv1D)           (None, 6, 64)             2112      \n",
      "                                                                 \n",
      " dropout_9 (Dropout)         (None, 6, 64)             0         \n",
      "                                                                 \n",
      " bidirectional_3 (Bidirecti  (None, 6, 64)             24832     \n",
      " onal)                                                           \n",
      "                                                                 \n",
      " dropout_10 (Dropout)        (None, 6, 64)             0         \n",
      "                                                                 \n",
      " flatten_6 (Flatten)         (None, 384)               0         \n",
      "                                                                 \n",
      " dense_12 (Dense)            (None, 1)                 385       \n",
      "                                                                 \n",
      "=================================================================\n",
      "Total params: 27329 (106.75 KB)\n",
      "Trainable params: 27329 (106.75 KB)\n",
      "Non-trainable params: 0 (0.00 Byte)\n",
      "_________________________________________________________________\n"
     ]
    }
   ],
   "source": [
    "\n",
    "batch_size = feature_col_num * 1\n",
    "epochs = 10\n",
    "drop = 0.2\n",
    "\n",
    "\n",
    "\n",
    "# model = models.Sequential(\n",
    "#     [\n",
    "#         tf.keras.layers.Input(\n",
    "#             batch_input_shape=(\n",
    "#                 None,\n",
    "#                 feature_col_num,\n",
    "#             ),\n",
    "#             batch_size=batch_size,\n",
    "#             name=\"input\",\n",
    "#         ),\n",
    "#         layers.Dense(units=5),\n",
    "#         # layers.Conv1D(5, (3), activation=tf.nn.relu),\n",
    "#         # layers.MaxPooling1D(pool_size=2),\n",
    "#         layers.Dropout(drop),\n",
    "#         layers.Flatten(),\n",
    "#         # layers.Dense(units=8, activation=tf.nn.relu, kernel_regularizer=tf.keras.regularizers.l2(0.001)),\n",
    "#         layers.Dense(\n",
    "#             units=4,\n",
    "#             activation=tf.nn.relu,\n",
    "#             kernel_regularizer=tf.keras.regularizers.l2(0.001),\n",
    "#         ),\n",
    "#         layers.Dense(units=1, activation=\"linear\"),\n",
    "#     ]\n",
    "# ) \n",
    "model =attention_model(feature_col_num)\n",
    "\n",
    "model.compile(\n",
    "    loss=tf.keras.losses.mean_squared_error,\n",
    "    optimizer=\"sgd\",\n",
    "    metrics=[\"accuracy\"],\n",
    ")\n",
    "# model.build()\n",
    "model.summary()"
   ]
  },
  {
   "cell_type": "code",
   "execution_count": 53,
   "metadata": {
    "notebookRunGroups": {
     "groupValue": "1"
    }
   },
   "outputs": [],
   "source": [
    "tf_callback = tf.keras.callbacks.TensorBoard(log_dir=\"./logs\")"
   ]
  },
  {
   "cell_type": "code",
   "execution_count": 54,
   "metadata": {
    "notebookRunGroups": {
     "groupValue": "1"
    }
   },
   "outputs": [
    {
     "name": "stdout",
     "output_type": "stream",
     "text": [
      "Epoch 1/10\n",
      "4634/4634 [==============================] - 30s 6ms/step - loss: 0.0754 - accuracy: 0.9741 - val_loss: 0.0659 - val_accuracy: 0.9752\n",
      "Epoch 2/10\n",
      "4634/4634 [==============================] - 27s 6ms/step - loss: 0.0644 - accuracy: 0.9798 - val_loss: 0.0616 - val_accuracy: 0.9752\n",
      "Epoch 3/10\n",
      "4634/4634 [==============================] - 26s 6ms/step - loss: 0.0631 - accuracy: 0.9797 - val_loss: 0.0601 - val_accuracy: 0.9752\n",
      "Epoch 4/10\n",
      "4634/4634 [==============================] - 26s 6ms/step - loss: 0.0643 - accuracy: 0.9796 - val_loss: 0.1251 - val_accuracy: 0.9752\n",
      "Epoch 5/10\n",
      "4634/4634 [==============================] - 27s 6ms/step - loss: 0.0640 - accuracy: 0.9793 - val_loss: 0.0618 - val_accuracy: 0.9752\n",
      "Epoch 6/10\n",
      "4634/4634 [==============================] - 26s 6ms/step - loss: 0.0628 - accuracy: 0.9796 - val_loss: 0.0593 - val_accuracy: 0.9752\n",
      "Epoch 7/10\n",
      "4634/4634 [==============================] - 26s 6ms/step - loss: 0.0616 - accuracy: 0.9800 - val_loss: 0.0631 - val_accuracy: 0.9752\n",
      "Epoch 8/10\n",
      "4634/4634 [==============================] - 27s 6ms/step - loss: 0.0614 - accuracy: 0.9800 - val_loss: 0.0591 - val_accuracy: 0.9752\n",
      "Epoch 9/10\n",
      "4634/4634 [==============================] - 30s 7ms/step - loss: 0.0612 - accuracy: 0.9799 - val_loss: 0.0629 - val_accuracy: 0.9752\n",
      "Epoch 10/10\n",
      "4634/4634 [==============================] - 27s 6ms/step - loss: 0.0616 - accuracy: 0.9797 - val_loss: 0.0597 - val_accuracy: 0.9752\n"
     ]
    }
   ],
   "source": [
    "history = model.fit(\n",
    "    x_train,\n",
    "    y_train,\n",
    "    batch_size=batch_size,\n",
    "    epochs=epochs,\n",
    "    verbose=1,\n",
    "    validation_data=(x_test, y_test),\n",
    "    callbacks=[tf_callback],\n",
    ")"
   ]
  },
  {
   "cell_type": "code",
   "execution_count": 25,
   "metadata": {},
   "outputs": [],
   "source": [
    "# %load_ext tensorboard\n",
    "# %tensorboard --logdir \"./logs\"\n",
    "# cmd 当前环境，当前目录 运行   tensorboard --logdir=logs --host=127.0.0.1\n",
    "# 网页中可以查看模型训练过程"
   ]
  },
  {
   "cell_type": "code",
   "execution_count": 26,
   "metadata": {},
   "outputs": [
    {
     "name": "stderr",
     "output_type": "stream",
     "text": [
      "c:\\ScriptsApplications\\.devhome\\conda\\envs\\py310_tf26\\lib\\site-packages\\keras\\src\\engine\\training.py:3103: UserWarning: You are saving your model as an HDF5 file via `model.save()`. This file format is considered legacy. We recommend using instead the native Keras format, e.g. `model.save('my_model.keras')`.\n",
      "  saving_api.save_model(\n"
     ]
    }
   ],
   "source": [
    "model.save(\"./C_L_A.h5\")"
   ]
  },
  {
   "cell_type": "code",
   "execution_count": 27,
   "metadata": {},
   "outputs": [
    {
     "name": "stderr",
     "output_type": "stream",
     "text": [
      "c:\\ScriptsApplications\\.devhome\\conda\\envs\\py310_tf26\\lib\\site-packages\\sklearn\\preprocessing\\_label.py:97: DataConversionWarning: A column-vector y was passed when a 1d array was expected. Please change the shape of y to (n_samples, ), for example using ravel().\n",
      "  y = column_or_1d(y, warn=True)\n"
     ]
    },
    {
     "name": "stdout",
     "output_type": "stream",
     "text": [
      "0        1703203280000000000\n",
      "1        1703203283000000000\n",
      "2        1703203285000000000\n",
      "3        1703203288000000000\n",
      "4        1703203291000000000\n",
      "                ...         \n",
      "27908    1703289599000000000\n",
      "27909    1703289602000000000\n",
      "27910    1703289605000000000\n",
      "27911    1703289608000000000\n",
      "27912    1703289611000000000\n",
      "Name: 时间, Length: 27913, dtype: int64 0        1.703203e+09\n",
      "1        1.703203e+09\n",
      "2        1.703203e+09\n",
      "3        1.703203e+09\n",
      "4        1.703203e+09\n",
      "             ...     \n",
      "27908    1.703290e+09\n",
      "27909    1.703290e+09\n",
      "27910    1.703290e+09\n",
      "27911    1.703290e+09\n",
      "27912    1.703290e+09\n",
      "Name: 时间, Length: 27913, dtype: float64\n",
      "4653/4653 [==============================] - 5s 985us/step\n",
      "y_train22.shape (27913, 1)\n",
      "predY.shape (27913, 1)\n"
     ]
    }
   ],
   "source": [
    "data22, scaler22, le22 = normalize(\n",
    "    df22, numeric_col_names, label_col_names, time_col_names\n",
    ")\n",
    "\n",
    "\n",
    "\n",
    "\n",
    "\n",
    "\n",
    "\n",
    "X22 = data22[feature_col_names]\n",
    "\n",
    "\n",
    "\n",
    "Y22 = data22[label_col_names]\n",
    "\n",
    "\n",
    "\n",
    "\n",
    "\n",
    "\n",
    "\n",
    "x_train22, y_train22 = np.asarray(X22), np.asarray(Y22)\n",
    "\n",
    "\n",
    "\n",
    "\n",
    "\n",
    "\n",
    "\n",
    "x_train = x_train22.reshape(-1, feature_col_num)\n",
    "\n",
    "\n",
    "\n",
    "\n",
    "\n",
    "# display(y_train22.shape )\n",
    "\n",
    "\n",
    "\n",
    "# y_train22 = y_train22.reshape(-1, )\n",
    "\n",
    "\n",
    "\n",
    "\n",
    "\n",
    "\n",
    "\n",
    "predY = model.predict(x_train, batch_size=batch_size)\n",
    "\n",
    "\n",
    "\n",
    "# predY=predY.reshape(-1, )\n",
    "\n",
    "\n",
    "\n",
    "\n",
    "\n",
    "print(\"y_train22.shape\", y_train22.shape)\n",
    "print(\"predY.shape\", predY.shape)"
   ]
  },
  {
   "cell_type": "code",
   "execution_count": 28,
   "metadata": {},
   "outputs": [
    {
     "data": {
      "text/plain": [
       "array([    0,     1,     2, ..., 27910, 27911, 27912], dtype=int64)"
      ]
     },
     "metadata": {},
     "output_type": "display_data"
    },
    {
     "data": {
      "image/png": "[encoded data removed]",
      "text/plain": [
       "<Figure size 640x480 with 1 Axes>"
      ]
     },
     "metadata": {},
     "output_type": "display_data"
    }
   ],
   "source": [
    "# data.plot(legend=True, subplots=True, figsize=(30,30),  xlabel=\"steps\")\n",
    "# ax = plt.gca()\n",
    "# ax.set_xlim(left=0, right=19000)\n",
    "\n",
    "\n",
    "\n",
    "# # 或者直接指定字体文件路径\n",
    "# plt.rcParams['font.sans-serif'] = ['SimHei']  # 系统自带的黑体\n",
    "# plt.rcParams['font.serif'] = ['SimSun']  # 系统自带的宋体\n",
    "# plt.rcParams['font.family'] = ['SimSun','SimHei','Source Han Sans CN']\n",
    "\n",
    "\n",
    "\n",
    "# plt.show()\n",
    "times = df22[time_col_names].index.to_numpy()\n",
    "display(times)\n",
    "plt.plot(times, y_train22, label=\"Actual\", marker=\"o\")\n",
    "plt.plot(times, predY, label=\"Predicted\", linestyle=\"--\", marker=\"x\")\n",
    "\n",
    "\n",
    "\n",
    "ax = plt.gca()\n",
    "ax.set_xlim(left=12000, right=18000)\n",
    "# 添加标题和标签\n",
    "plt.title(\"Actual vs. Predicted Values\")\n",
    "plt.xlabel(\"Sample Index\")\n",
    "plt.ylabel(\"Value\")\n",
    "\n",
    "\n",
    "\n",
    "# 添加图例\n",
    "plt.legend()\n",
    "\n",
    "\n",
    "\n",
    "# 显示图形\n",
    "plt.show()"
   ]
  },
  {
   "cell_type": "code",
   "execution_count": 29,
   "metadata": {},
   "outputs": [
    {
     "data": {
      "image/png": "[encoded data removed]",
      "text/plain": [
       "<Figure size 640x480 with 1 Axes>"
      ]
     },
     "metadata": {},
     "output_type": "display_data"
    },
    {
     "data": {
      "image/png": "[encoded data removed]",
      "text/plain": [
       "<Figure size 640x480 with 1 Axes>"
      ]
     },
     "metadata": {},
     "output_type": "display_data"
    }
   ],
   "source": [
    "# display(history.history)\n",
    "plt.plot(history.history[\"loss\"])\n",
    "plt.plot(history.history[\"val_loss\"])\n",
    "plt.plot(history.history[\"val_accuracy\"])\n",
    "plt.title(\"model train vs validation loss\")\n",
    "plt.ylabel(\"loss\")\n",
    "plt.xlabel(\"epoch\")\n",
    "plt.legend([\"loss\", \"epoch\", \"accuracy\"], loc=\"upper right\")\n",
    "plt.show()\n",
    "plt.plot(history.history[\"accuracy\"])\n",
    "plt.plot(history.history[\"val_accuracy\"])\n",
    "plt.title(\"model train vs validation accuracy\")\n",
    "plt.ylabel(\"accuracy\")\n",
    "plt.xlabel(\"epoch\")\n",
    "plt.legend([\"accuracy\", \"val_accuracy\"], loc=\"upper left\")\n",
    "plt.show()"
   ]
  },
  {
   "cell_type": "code",
   "execution_count": 30,
   "metadata": {},
   "outputs": [
    {
     "data": {
      "text/plain": [
       "Index(['label', '时间', '原始重量', '稳定重量', '轴重', 'su_ad', 'wpu_x', 'wpu_y', 'wpu_z',\n",
       "       'su_x', 'su_y', 'su_z', '原始重量_diff', '稳定重量_diff', '轴重_diff',\n",
       "       'su_ad_diff', 'wpu_x_diff', 'wpu_y_diff', 'wpu_z_diff', 'su_x_diff',\n",
       "       'su_y_diff', 'su_z_diff', '轨迹时间', '速度', '估计重量'],\n",
       "      dtype='object')"
      ]
     },
     "metadata": {},
     "output_type": "display_data"
    }
   ],
   "source": [
    "display(df22.columns)"
   ]
  },
  {
   "cell_type": "code",
   "execution_count": 31,
   "metadata": {},
   "outputs": [
    {
     "name": "stdout",
     "output_type": "stream",
     "text": [
      "0        1703203280000000000\n",
      "1        1703203283000000000\n",
      "2        1703203285000000000\n",
      "3        1703203288000000000\n",
      "4        1703203291000000000\n",
      "                ...         \n",
      "27908    1703289599000000000\n",
      "27909    1703289602000000000\n",
      "27910    1703289605000000000\n",
      "27911    1703289608000000000\n",
      "27912    1703289611000000000\n",
      "Name: 时间, Length: 27913, dtype: int64 0        1.703203e+09\n",
      "1        1.703203e+09\n",
      "2        1.703203e+09\n",
      "3        1.703203e+09\n",
      "4        1.703203e+09\n",
      "             ...     \n",
      "27908    1.703290e+09\n",
      "27909    1.703290e+09\n",
      "27910    1.703290e+09\n",
      "27911    1.703290e+09\n",
      "27912    1.703290e+09\n",
      "Name: 时间, Length: 27913, dtype: float64\n",
      "0        1703289614000000000\n",
      "1        1703289617000000000\n",
      "2        1703289620000000000\n",
      "3        1703289623000000000\n",
      "4        1703289626000000000\n",
      "                ...         \n",
      "27937    1703375985000000000\n",
      "27938    1703375989000000000\n",
      "27939    1703375992000000000\n",
      "27940    1703375995000000000\n",
      "27941    1703375998000000000\n",
      "Name: 时间, Length: 27942, dtype: int64 0        1.703290e+09\n",
      "1        1.703290e+09\n",
      "2        1.703290e+09\n",
      "3        1.703290e+09\n",
      "4        1.703290e+09\n",
      "             ...     \n",
      "27937    1.703376e+09\n",
      "27938    1.703376e+09\n",
      "27939    1.703376e+09\n",
      "27940    1.703376e+09\n",
      "27941    1.703376e+09\n",
      "Name: 时间, Length: 27942, dtype: float64\n",
      "  1/873 [..............................] - ETA: 52s"
     ]
    },
    {
     "name": "stderr",
     "output_type": "stream",
     "text": [
      "c:\\ScriptsApplications\\.devhome\\conda\\envs\\py310_tf26\\lib\\site-packages\\sklearn\\preprocessing\\_label.py:97: DataConversionWarning: A column-vector y was passed when a 1d array was expected. Please change the shape of y to (n_samples, ), for example using ravel().\n",
      "  y = column_or_1d(y, warn=True)\n",
      "c:\\ScriptsApplications\\.devhome\\conda\\envs\\py310_tf26\\lib\\site-packages\\sklearn\\preprocessing\\_label.py:97: DataConversionWarning: A column-vector y was passed when a 1d array was expected. Please change the shape of y to (n_samples, ), for example using ravel().\n",
      "  y = column_or_1d(y, warn=True)\n"
     ]
    },
    {
     "name": "stdout",
     "output_type": "stream",
     "text": [
      "873/873 [==============================] - 1s 1ms/step\n"
     ]
    },
    {
     "data": {
      "text/plain": [
       "array([[nan],\n",
       "       [nan],\n",
       "       [nan],\n",
       "       ...,\n",
       "       [nan],\n",
       "       [nan],\n",
       "       [nan]], dtype=float32)"
      ]
     },
     "metadata": {},
     "output_type": "display_data"
    }
   ],
   "source": [
    "df22, scaler22, le22 = normalize(\n",
    "    df22, numeric_col_names, label_col_names, time_col_names\n",
    ")\n",
    "\n",
    "df23, scaler23, le23 = normalize(\n",
    "    df23, numeric_col_names, label_col_names, time_col_names\n",
    ")\n",
    "\n",
    "x_df22 = df22[numeric_col_names]\n",
    "\n",
    "y_df22 = df22[\"label\"]\n",
    "\n",
    "y_df22 = np.asfarray(y_df22)\n",
    "\n",
    "x_df22 = np.asfarray(x_df22)\n",
    "\n",
    "x_df22 = x_df22.reshape(len(x_df22), feature_col_num, 1)\n",
    "\n",
    "results22 = model.predict(x_df22)\n",
    "\n",
    "display(results22)"
   ]
  },
  {
   "cell_type": "code",
   "execution_count": 32,
   "metadata": {},
   "outputs": [
    {
     "data": {
      "image/png": "[encoded data removed]",
      "text/plain": [
       "<Figure size 900x900 with 1 Axes>"
      ]
     },
     "metadata": {},
     "output_type": "display_data"
    }
   ],
   "source": [
    "fig_acc = plt.figure(figsize=(9, 9))\n",
    "plt.plot(results22[0:27000])\n",
    "plt.plot(y_df22[0:27000])\n",
    "plt.title(\"real vs pred\")\n",
    "plt.ylabel(\"value\")\n",
    "plt.xlabel(\"epoch\")\n",
    "plt.xlim((19000, 23000))\n",
    "plt.legend([\"pred\", \"real\"], loc=\"upper left\")\n",
    "plt.show()"
   ]
  },
  {
   "cell_type": "code",
   "execution_count": null,
   "metadata": {},
   "outputs": [],
   "source": []
  },
  {
   "cell_type": "code",
   "execution_count": null,
   "metadata": {},
   "outputs": [],
   "source": []
  }
 ],
 "metadata": {
  "kernelspec": {
   "display_name": "base",
   "language": "python",
   "name": "python3"
  },
  "language_info": {
   "codemirror_mode": {
    "name": "ipython",
    "version": 3
   },
   "file_extension": ".py",
   "mimetype": "text/x-python",
   "name": "python",
   "nbconvert_exporter": "python",
   "pygments_lexer": "ipython3",
   "version": "3.10.13"
  },
  "orig_nbformat": 4
 },
 "nbformat": 4,
 "nbformat_minor": 2
}
