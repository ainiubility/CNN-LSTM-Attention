{
 "cells": [
  {
   "cell_type": "code",
   "execution_count": 82,
   "metadata": {},
   "outputs": [],
   "source": [
    "import tensorflow as tf\n",
    "\n",
    "\n",
    "def windowed_dataset(dataset: tf.data.Dataset, window_size=5, shift=1, stride=1):\n",
    "    windows = dataset.window(window_size, shift=shift, stride=stride, drop_remainder=True)\n",
    "\n",
    "    def sub_to_batch(t1, t2=None):\n",
    "        t1_batches = t1.batch(window_size, drop_remainder=True)\n",
    "\n",
    "        if t2 is not None:\n",
    "            t2_batches = t2.batch(window_size, drop_remainder=True)\n",
    "            return tf.data.Dataset.zip(t1_batches, t2_batches)\n",
    "        else:\n",
    "            return t1_batches\n",
    "\n",
    "    windows = windows.flat_map(sub_to_batch)\n",
    "    return windows\n",
    "\n",
    "\n",
    "\n"
   ]
  },
  {
   "cell_type": "code",
   "execution_count": 83,
   "metadata": {},
   "outputs": [
    {
     "name": "stdout",
     "output_type": "stream",
     "text": [
      "===============\n",
      "tf.Tensor([0 0], shape=(2,), dtype=int32)\n",
      "===============\n",
      "tf.Tensor([1 1], shape=(2,), dtype=int32)\n",
      "===============\n",
      "tf.Tensor([2 2], shape=(2,), dtype=int32)\n",
      "===============\n",
      "tf.Tensor([3 3], shape=(2,), dtype=int32)\n",
      "===============\n",
      "tf.Tensor([4 4], shape=(2,), dtype=int32)\n",
      "===============\n",
      "tf.Tensor([5 5], shape=(2,), dtype=int32)\n",
      "===============\n",
      "tf.Tensor([6 6], shape=(2,), dtype=int32)\n",
      "===============\n",
      "tf.Tensor([7 7], shape=(2,), dtype=int32)\n",
      "===============\n",
      "tf.Tensor([8 8], shape=(2,), dtype=int32)\n",
      "===============\n",
      "tf.Tensor([9 9], shape=(2,), dtype=int32)\n"
     ]
    }
   ],
   "source": [
    "def custom_generator():\n",
    "    for i in tf.range(10):\n",
    "        yield [i,i]\n",
    "\n",
    "\n",
    "dataset = tf.data.Dataset.from_generator(\n",
    "    custom_generator,\n",
    "    output_signature=tf.TensorSpec(shape=((2)), dtype=tf.int32)  # x 的类型和形状\n",
    "    # y 的类型和形状\n",
    ")\n",
    " \n",
    "for x in dataset:\n",
    "    print('===============')\n",
    "    print(x)\n",
    "    \n",
    "    # for y in x:\n",
    "    #     print(y)\n",
    "    # print(x)\n"
   ]
  },
  {
   "cell_type": "code",
   "execution_count": 84,
   "metadata": {},
   "outputs": [],
   "source": [
    "\n",
    "\n",
    "def windowed_dataset(dataset: tf.data.Dataset, window_size=5, shift=1, stride=1):\n",
    "    windows = dataset.window(window_size, shift=shift, stride=stride, drop_remainder=True)\n",
    "\n",
    "    def sub_to_batch(t1, t2=None):\n",
    "        t1_batches = t1.batch(window_size, drop_remainder=True)\n",
    "\n",
    "        if t2 is not None:\n",
    "            t2_batches = t2.batch(window_size, drop_remainder=True)\n",
    "            return tf.data.Dataset.zip(t1_batches, t2_batches)\n",
    "        else:\n",
    "            return t1_batches\n",
    "\n",
    "    windows = windows.flat_map(sub_to_batch)\n",
    "    return windows\n",
    "\n",
    "dataset=windowed_dataset(dataset,5)"
   ]
  },
  {
   "cell_type": "code",
   "execution_count": 91,
   "metadata": {},
   "outputs": [
    {
     "name": "stdout",
     "output_type": "stream",
     "text": [
      "--------\n",
      "tf.Tensor(\n",
      "[[5 5]\n",
      " [6 6]\n",
      " [7 7]\n",
      " [8 8]\n",
      " [9 9]], shape=(5, 2), dtype=int32)\n",
      "1\n"
     ]
    }
   ],
   "source": [
    "l = 0\n",
    "for x in dataset.skip(5):\n",
    "    l += 1\n",
    "    print('--------')\n",
    "    print(x)\n",
    "    # for y in x:\n",
    "    #     print(y.numpy())\n",
    "        \n",
    "print(l)"
   ]
  }
 ],
 "metadata": {
  "kernelspec": {
   "display_name": "py311tf2.16",
   "language": "python",
   "name": "python3"
  },
  "language_info": {
   "codemirror_mode": {
    "name": "ipython",
    "version": 3
   },
   "file_extension": ".py",
   "mimetype": "text/x-python",
   "name": "python",
   "nbconvert_exporter": "python",
   "pygments_lexer": "ipython3",
   "version": "3.11.8"
  }
 },
 "nbformat": 4,
 "nbformat_minor": 2
}
