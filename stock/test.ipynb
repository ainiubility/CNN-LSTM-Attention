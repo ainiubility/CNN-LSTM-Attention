{
 "cells": [
  {
   "cell_type": "code",
   "execution_count": null,
   "metadata": {},
   "outputs": [],
   "source": [
    "!python -i run.py\n",
    "\n",
    "#运行run.bat将清空数据并重新加载最新的数据,以今天为目标预测目标时间(今天+dalay)的结果,并储存>0.9的结果到results.txt文件夹中."
   ]
  },
  {
   "cell_type": "code",
   "execution_count": null,
   "metadata": {},
   "outputs": [],
   "source": [
    "# 衡量对所有股票的准确率\n",
    "evaluate_total()"
   ]
  },
  {
   "cell_type": "code",
   "execution_count": null,
   "metadata": {},
   "outputs": [],
   "source": [
    " evaluate_total(model)"
   ]
  },
  {
   "cell_type": "code",
   "execution_count": null,
   "metadata": {},
   "outputs": [],
   "source": [
    "evaluate_all_delta()"
   ]
  },
  {
   "cell_type": "code",
   "execution_count": null,
   "metadata": {},
   "outputs": [],
   "source": [
    " evaluate_total_time(model, date_step=61, steps=3, start_date=20170103, end_date='', lookback=61, delay=1, uprate=0.0)"
   ]
  },
  {
   "cell_type": "code",
   "execution_count": null,
   "metadata": {},
   "outputs": [],
   "source": [
    "history_predict(model, ts_code='600004.SH', date=20191128, delay=1, during=244, mod='simple')"
   ]
  },
  {
   "cell_type": "code",
   "execution_count": null,
   "metadata": {},
   "outputs": [],
   "source": [
    "results=search_predict(model, date=20191108, market='SSE', duiring=1, baseline=0.9, verbose=0)"
   ]
  },
  {
   "cell_type": "code",
   "execution_count": null,
   "metadata": {},
   "outputs": [],
   "source": [
    "#衡量总体准确率\n",
    "evaluate_total(model, market='ALL', steps=10, shape=5, start_date='', end_date='', lookback=61, delay=1, uprate=0.0)"
   ]
  },
  {
   "cell_type": "code",
   "execution_count": null,
   "metadata": {},
   "outputs": [],
   "source": [
    "#交叉验证集数据\n",
    "evaluate_total(model, market='ALL', steps=10, shape=5, start_date=20180102, end_date=20191108, lookback=61, delay=1, uprate=0.0)"
   ]
  },
  {
   "cell_type": "code",
   "execution_count": null,
   "metadata": {},
   "outputs": [],
   "source": [
    "#测试集数据\n",
    "evaluate_total(model, market='ALL', steps=10, shape=5, start_date=20191108, end_date=\"\", lookback=61, delay=1, uprate=0.0)"
   ]
  },
  {
   "cell_type": "code",
   "execution_count": null,
   "metadata": {},
   "outputs": [],
   "source": [
    "#衡量模型对每只股票的准确率\n",
    "evaluate_all(model, market='ALL', start_date='', end_date='', lookback=61, delay=1)"
   ]
  },
  {
   "cell_type": "code",
   "execution_count": null,
   "metadata": {},
   "outputs": [],
   "source": [
    "#交叉验证集\n",
    "evaluate_all(model, market='ALL', start_date=20180102, end_date=20191108, lookback=61, delay=1)"
   ]
  },
  {
   "cell_type": "code",
   "execution_count": null,
   "metadata": {},
   "outputs": [],
   "source": [
    "# 按时间衡量模型准确度\n",
    "# 2003-2019,按年衡量\n",
    "evaluate_total_time(model, date_step=244, steps=3, start_date='', end_date='', lookback=61, delay=1, uprate=0.0)"
   ]
  },
  {
   "cell_type": "code",
   "execution_count": null,
   "metadata": {},
   "outputs": [],
   "source": [
    "#2016-2019年,按月衡量\n",
    "evaluate_total_time(model, date_step=20, steps=3, start_date=20160104, end_date='', lookback=61, delay=1, uprate=0.0)"
   ]
  },
  {
   "cell_type": "code",
   "execution_count": null,
   "metadata": {},
   "outputs": [],
   "source": [
    "#2019年,按天衡量\n",
    "evaluate_total_time(model, date_step=1, steps=3, start_date=20190102, end_date='', lookback=61, delay=1, uprate=0.0)"
   ]
  },
  {
   "cell_type": "code",
   "execution_count": null,
   "metadata": {},
   "outputs": [],
   "source": [
    "# 历史预测曲线\n",
    "# 2017六月到2018六月.\n",
    "history_predict(model, ts_code='600004.SH', date=20180601, delay=1, during=244, mod='simple')"
   ]
  }
 ],
 "metadata": {
  "language_info": {
   "name": "python"
  }
 },
 "nbformat": 4,
 "nbformat_minor": 2
}
