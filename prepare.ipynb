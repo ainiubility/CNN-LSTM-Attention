{
 "cells": [
  {
   "cell_type": "code",
   "execution_count": 52,
   "metadata": {},
   "outputs": [
    {
     "name": "stderr",
     "output_type": "stream",
     "text": [
      "Intel(R) Extension for Scikit-learn* enabled (https://github.com/intel/scikit-learn-intelex)\n"
     ]
    }
   ],
   "source": [
    "import pandas as pd \n",
    "from sklearnex import patch_sklearn\n",
    "patch_sklearn()"
   ]
  },
  {
   "cell_type": "code",
   "execution_count": 53,
   "metadata": {},
   "outputs": [
    {
     "data": {
      "text/html": [
       "<div>\n",
       "<style scoped>\n",
       "    .dataframe tbody tr th:only-of-type {\n",
       "        vertical-align: middle;\n",
       "    }\n",
       "\n",
       "    .dataframe tbody tr th {\n",
       "        vertical-align: top;\n",
       "    }\n",
       "\n",
       "    .dataframe thead th {\n",
       "        text-align: right;\n",
       "    }\n",
       "</style>\n",
       "<table border=\"1\" class=\"dataframe\">\n",
       "  <thead>\n",
       "    <tr style=\"text-align: right;\">\n",
       "      <th></th>\n",
       "      <th>date</th>\n",
       "      <th>start_time</th>\n",
       "      <th>end_time</th>\n",
       "      <th>state</th>\n",
       "      <th>start</th>\n",
       "      <th>end</th>\n",
       "      <th>statev</th>\n",
       "    </tr>\n",
       "  </thead>\n",
       "  <tbody>\n",
       "    <tr>\n",
       "      <th>0</th>\n",
       "      <td>2023-12-17</td>\n",
       "      <td>10:44:49</td>\n",
       "      <td>10:48:59</td>\n",
       "      <td>装</td>\n",
       "      <td>2023-12-17 10:44:49</td>\n",
       "      <td>2023-12-17 10:48:59</td>\n",
       "      <td>1</td>\n",
       "    </tr>\n",
       "    <tr>\n",
       "      <th>1</th>\n",
       "      <td>2023-12-17</td>\n",
       "      <td>11:29:45</td>\n",
       "      <td>11:31:55</td>\n",
       "      <td>卸</td>\n",
       "      <td>2023-12-17 11:29:45</td>\n",
       "      <td>2023-12-17 11:31:55</td>\n",
       "      <td>-1</td>\n",
       "    </tr>\n",
       "    <tr>\n",
       "      <th>2</th>\n",
       "      <td>2023-12-17</td>\n",
       "      <td>12:23:56</td>\n",
       "      <td>12:29:44</td>\n",
       "      <td>装</td>\n",
       "      <td>2023-12-17 12:23:56</td>\n",
       "      <td>2023-12-17 12:29:44</td>\n",
       "      <td>1</td>\n",
       "    </tr>\n",
       "    <tr>\n",
       "      <th>3</th>\n",
       "      <td>2023-12-17</td>\n",
       "      <td>12:55:08</td>\n",
       "      <td>12:56:28</td>\n",
       "      <td>卸</td>\n",
       "      <td>2023-12-17 12:55:08</td>\n",
       "      <td>2023-12-17 12:56:28</td>\n",
       "      <td>-1</td>\n",
       "    </tr>\n",
       "    <tr>\n",
       "      <th>4</th>\n",
       "      <td>2023-12-17</td>\n",
       "      <td>13:45:02</td>\n",
       "      <td>13:45:42</td>\n",
       "      <td>装</td>\n",
       "      <td>2023-12-17 13:45:02</td>\n",
       "      <td>2023-12-17 13:45:42</td>\n",
       "      <td>1</td>\n",
       "    </tr>\n",
       "  </tbody>\n",
       "</table>\n",
       "</div>"
      ],
      "text/plain": [
       "         date start_time  end_time state               start  \\\n",
       "0  2023-12-17   10:44:49  10:48:59     装 2023-12-17 10:44:49   \n",
       "1  2023-12-17   11:29:45  11:31:55     卸 2023-12-17 11:29:45   \n",
       "2  2023-12-17   12:23:56  12:29:44     装 2023-12-17 12:23:56   \n",
       "3  2023-12-17   12:55:08  12:56:28    卸  2023-12-17 12:55:08   \n",
       "4  2023-12-17   13:45:02  13:45:42     装 2023-12-17 13:45:02   \n",
       "\n",
       "                  end  statev  \n",
       "0 2023-12-17 10:48:59       1  \n",
       "1 2023-12-17 11:31:55      -1  \n",
       "2 2023-12-17 12:29:44       1  \n",
       "3 2023-12-17 12:56:28      -1  \n",
       "4 2023-12-17 13:45:42       1  "
      ]
     },
     "execution_count": 53,
     "metadata": {},
     "output_type": "execute_result"
    }
   ],
   "source": [
    "\n",
    "# 创建映射字典\n",
    "category_to_number = {'装': 1, '卸': -1, 'other': 0}\n",
    "\n",
    "# 定义一个函数，用于将Category列的文本转换为对应数值\n",
    "def convert_category(row):\n",
    "    v=row['state'].strip()\n",
    "    if v not in category_to_number:\n",
    "        return 0\n",
    "    return category_to_number[v]\n",
    "\n",
    "df =pd.read_csv('./data/states.txt')\n",
    "df['start'] =df.apply(lambda row:row['date']+' '+row['start_time'],axis=1)\n",
    "df['end'] = df.apply(lambda row:row['date']+' '+row['end_time'],axis=1)\n",
    "df[['start','end']]=df[['start','end']].apply(pd.to_datetime)\n",
    "df['statev'] = df.apply(convert_category,axis=1)\n",
    "df.to_csv('./data/states.csv')\n",
    "df.head()"
   ]
  },
  {
   "cell_type": "code",
   "execution_count": null,
   "metadata": {},
   "outputs": [],
   "source": [
    "# 定义读取，处理数据函数\n",
    "def fix_data(inputDF:pd.DataFrame)->pd.DataFrame:\n",
    "    # 创建一个新的空列用于存储结果\n",
    "    inputDF.insert(0,'state',0)\n",
    "    \n",
    "    # 对df1中的每一行遍历，并查找df2中符合条件的记录\n",
    "    for index, row in inputDF.iterrows():\n",
    "        condition = (df['start'] <= row['时间']) & (row['时间'] <= df['end'])\n",
    "        match = df[condition]\n",
    "        \n",
    "        if not match.empty:\n",
    "            # 如果找到了匹配项，则将df2的'state'赋值给df1的新列\n",
    "            inputDF.at[index, 'state'] = match['statev'].values[0]\n",
    "        else:\n",
    "            # 如果没有找到匹配项，则保持原样（这里已经初始化为0）\n",
    "            pass    \n",
    "    return inputDF\n",
    "\n",
    "def read_data(file_path:str)->pd.DataFrame:\n",
    "    return fix_data( pd.read_excel(file_path,engine='openpyxl',parse_dates=['时间','轨迹时间']))"
   ]
  },
  {
   "cell_type": "code",
   "execution_count": 55,
   "metadata": {},
   "outputs": [
    {
     "data": {
      "text/plain": [
       "557"
      ]
     },
     "metadata": {},
     "output_type": "display_data"
    },
    {
     "data": {
      "text/plain": [
       "340"
      ]
     },
     "metadata": {},
     "output_type": "display_data"
    },
    {
     "data": {
      "text/plain": [
       "845"
      ]
     },
     "metadata": {},
     "output_type": "display_data"
    },
    {
     "data": {
      "text/plain": [
       "1420"
      ]
     },
     "metadata": {},
     "output_type": "display_data"
    }
   ],
   "source": [
    "\n",
    "\n",
    "\n",
    "\n",
    "df17 =read_data(\"./data/data_17.xlsx\")\n",
    "df21 =read_data(\"./data/data_21.xlsx\")\n",
    "df22 =read_data(\"./data/data_22.xlsx\")\n",
    "df23 =read_data(\"./data/data_23.xlsx\")\n",
    "display(len(df17.query('state != 0')),len(df21.query('state != 0')),len(df22.query('state != 0')),len(df23.query('state != 0')))\n"
   ]
  },
  {
   "cell_type": "code",
   "execution_count": null,
   "metadata": {},
   "outputs": [],
   "source": []
  }
 ],
 "metadata": {
  "kernelspec": {
   "display_name": "py36_tf19",
   "language": "python",
   "name": "python3"
  },
  "language_info": {
   "codemirror_mode": {
    "name": "ipython",
    "version": 3
   },
   "file_extension": ".py",
   "mimetype": "text/x-python",
   "name": "python",
   "nbconvert_exporter": "python",
   "pygments_lexer": "ipython3",
   "version": "3.6.13"
  }
 },
 "nbformat": 4,
 "nbformat_minor": 2
}
