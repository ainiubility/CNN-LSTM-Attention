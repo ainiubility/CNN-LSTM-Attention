{
 "cells": [
  {
   "cell_type": "code",
   "execution_count": 2,
   "metadata": {},
   "outputs": [
    {
     "name": "stderr",
     "output_type": "stream",
     "text": [
      "Intel(R) Extension for Scikit-learn* enabled (https://github.com/intel/scikit-learn-intelex)\n"
     ]
    }
   ],
   "source": [
    "import pandas as pd \n",
    "from sklearnex import patch_sklearn\n",
    "patch_sklearn()\n",
    "\n",
    "import tensorflow as tf"
   ]
  },
  {
   "cell_type": "code",
   "execution_count": 5,
   "metadata": {},
   "outputs": [
    {
     "ename": "InvalidArgumentError",
     "evalue": "cannot compute ConcatV2 as input #1(zero-based) was expected to be a int32 tensor but is a string tensor [Op:ConcatV2] name: concat",
     "output_type": "error",
     "traceback": [
      "\u001b[1;31m---------------------------------------------------------------------------\u001b[0m",
      "\u001b[1;31mInvalidArgumentError\u001b[0m                      Traceback (most recent call last)",
      "Cell \u001b[1;32mIn[5], line 25\u001b[0m\n\u001b[0;32m     23\u001b[0m labels \u001b[38;5;241m=\u001b[39m tf\u001b[38;5;241m.\u001b[39mexpand_dims(labels, \u001b[38;5;241m1\u001b[39m) \u001b[38;5;66;03m# 增加一个维度\u001b[39;00m\n\u001b[0;32m     24\u001b[0m indices \u001b[38;5;241m=\u001b[39m tf\u001b[38;5;241m.\u001b[39mexpand_dims(tf\u001b[38;5;241m.\u001b[39mrange(\u001b[38;5;241m0\u001b[39m, batch_size,\u001b[38;5;241m1\u001b[39m), \u001b[38;5;241m1\u001b[39m) \u001b[38;5;66;03m#生成索引\u001b[39;00m\n\u001b[1;32m---> 25\u001b[0m concated \u001b[38;5;241m=\u001b[39m \u001b[43mtf\u001b[49m\u001b[38;5;241;43m.\u001b[39;49m\u001b[43mconcat\u001b[49m\u001b[43m(\u001b[49m\u001b[43m[\u001b[49m\u001b[43mindices\u001b[49m\u001b[43m,\u001b[49m\u001b[43m \u001b[49m\u001b[43mlabels\u001b[49m\u001b[43m]\u001b[49m\u001b[43m \u001b[49m\u001b[43m,\u001b[49m\u001b[43m \u001b[49m\u001b[38;5;241;43m1\u001b[39;49m\u001b[43m)\u001b[49m \u001b[38;5;66;03m#作为拼接\u001b[39;00m\n\u001b[0;32m     26\u001b[0m \u001b[38;5;66;03m# onehot_labels = tf.one_hot(concated, tf.stack([batch_size, NUM_CLASSES]), 1.0, 0.0) # 生成one-hot编码的标签\u001b[39;00m\n\u001b[0;32m     27\u001b[0m \n\u001b[0;32m     28\u001b[0m \u001b[38;5;66;03m# 使用tf.one_hot直接将稀疏标签转换为one-hot编码\u001b[39;00m\n\u001b[0;32m     29\u001b[0m onehot_labels \u001b[38;5;241m=\u001b[39m tf\u001b[38;5;241m.\u001b[39mone_hot(labels, depth\u001b[38;5;241m=\u001b[39mNUM_CLASSES)\n",
      "File \u001b[1;32mc:\\ScriptsApplications\\.devhome\\conda\\envs\\py311tf2.16\\Lib\\site-packages\\tensorflow\\python\\util\\traceback_utils.py:153\u001b[0m, in \u001b[0;36mfilter_traceback.<locals>.error_handler\u001b[1;34m(*args, **kwargs)\u001b[0m\n\u001b[0;32m    151\u001b[0m \u001b[38;5;28;01mexcept\u001b[39;00m \u001b[38;5;167;01mException\u001b[39;00m \u001b[38;5;28;01mas\u001b[39;00m e:\n\u001b[0;32m    152\u001b[0m   filtered_tb \u001b[38;5;241m=\u001b[39m _process_traceback_frames(e\u001b[38;5;241m.\u001b[39m__traceback__)\n\u001b[1;32m--> 153\u001b[0m   \u001b[38;5;28;01mraise\u001b[39;00m e\u001b[38;5;241m.\u001b[39mwith_traceback(filtered_tb) \u001b[38;5;28;01mfrom\u001b[39;00m \u001b[38;5;28;01mNone\u001b[39;00m\n\u001b[0;32m    154\u001b[0m \u001b[38;5;28;01mfinally\u001b[39;00m:\n\u001b[0;32m    155\u001b[0m   \u001b[38;5;28;01mdel\u001b[39;00m filtered_tb\n",
      "File \u001b[1;32mc:\\ScriptsApplications\\.devhome\\conda\\envs\\py311tf2.16\\Lib\\site-packages\\tensorflow\\python\\framework\\ops.py:5983\u001b[0m, in \u001b[0;36mraise_from_not_ok_status\u001b[1;34m(e, name)\u001b[0m\n\u001b[0;32m   5981\u001b[0m \u001b[38;5;28;01mdef\u001b[39;00m \u001b[38;5;21mraise_from_not_ok_status\u001b[39m(e, name) \u001b[38;5;241m-\u001b[39m\u001b[38;5;241m>\u001b[39m NoReturn:\n\u001b[0;32m   5982\u001b[0m   e\u001b[38;5;241m.\u001b[39mmessage \u001b[38;5;241m+\u001b[39m\u001b[38;5;241m=\u001b[39m (\u001b[38;5;124m\"\u001b[39m\u001b[38;5;124m name: \u001b[39m\u001b[38;5;124m\"\u001b[39m \u001b[38;5;241m+\u001b[39m \u001b[38;5;28mstr\u001b[39m(name \u001b[38;5;28;01mif\u001b[39;00m name \u001b[38;5;129;01mis\u001b[39;00m \u001b[38;5;129;01mnot\u001b[39;00m \u001b[38;5;28;01mNone\u001b[39;00m \u001b[38;5;28;01melse\u001b[39;00m \u001b[38;5;124m\"\u001b[39m\u001b[38;5;124m\"\u001b[39m))\n\u001b[1;32m-> 5983\u001b[0m   \u001b[38;5;28;01mraise\u001b[39;00m core\u001b[38;5;241m.\u001b[39m_status_to_exception(e) \u001b[38;5;28;01mfrom\u001b[39;00m \u001b[38;5;28;01mNone\u001b[39;00m\n",
      "\u001b[1;31mInvalidArgumentError\u001b[0m: cannot compute ConcatV2 as input #1(zero-based) was expected to be a int32 tensor but is a string tensor [Op:ConcatV2] name: concat"
     ]
    }
   ],
   "source": [
    "\n",
    "# 创建映射字典\n",
    "category_to_number = {'装': 1, '卸': -1, 'other': 0}\n",
    "\n",
    "# 定义一个函数，用于将Category列的文本转换为对应数值\n",
    "def convert_category(row):\n",
    "    v=row['state']\n",
    "    if v not in category_to_number:\n",
    "        return 0\n",
    "    return category_to_number[v]\n",
    "\n",
    "df =pd.read_csv('./data/states.txt')\n",
    "df['start'] =df.apply(lambda row:row['date']+' '+row['start_time'],axis=1)\n",
    "df['end'] = df.apply(lambda row:row['date']+' '+row['end_time'],axis=1)\n",
    "df['state'] = df.apply(lambda row: row['state'].strip(),axis=1)\n",
    "df[['start','end']]=df[['start','end']].apply(pd.to_datetime)\n",
    "df['statev'] = df.apply(convert_category,axis=1)\n",
    "df.to_csv('./data/states.csv')\n",
    "df.head()\n",
    "\n",
    "NUM_CLASSES = 3 # 10分类\n",
    "labels = df['state'] # sample label\n",
    "batch_size = tf.size(labels) # get size of labels : 4\n",
    "labels = tf.expand_dims(labels, 1) # 增加一个维度\n",
    "indices = tf.expand_dims(tf.range(0, batch_size,1), 1) #生成索引\n",
    "concated = tf.concat([indices, labels] , 1) #作为拼接\n",
    "# onehot_labels = tf.one_hot(concated, tf.stack([batch_size, NUM_CLASSES]), 1.0, 0.0) # 生成one-hot编码的标签\n",
    "\n",
    "# 使用tf.one_hot直接将稀疏标签转换为one-hot编码\n",
    "onehot_labels = tf.one_hot(labels, depth=NUM_CLASSES)\n"
   ]
  },
  {
   "cell_type": "code",
   "execution_count": null,
   "metadata": {},
   "outputs": [],
   "source": [
    "# 定义读取，处理数据函数\n",
    "def fix_data(inputDF:pd.DataFrame)->pd.DataFrame:\n",
    "    # 创建一个新的空列用于存储结果\n",
    "    inputDF.insert(0,'state',0)\n",
    "    \n",
    "    # 对df1中的每一行遍历，并查找df2中符合条件的记录\n",
    "    for index, row in inputDF.iterrows():\n",
    "        condition = (df['start'] <= row['时间']) & (row['时间'] <= df['end'])\n",
    "        match = df[condition]\n",
    "        \n",
    "        if not match.empty:\n",
    "            # 如果找到了匹配项，则将df2的'state'赋值给df1的新列\n",
    "            inputDF.at[index, 'state'] = match['statev'].values[0]\n",
    "        else:\n",
    "            # 如果没有找到匹配项，则保持原样（这里已经初始化为0）\n",
    "            pass    \n",
    "    return inputDF\n",
    "\n",
    "def read_data(file_path:str)->pd.DataFrame:\n",
    "    return fix_data( pd.read_excel(file_path,engine='openpyxl',parse_dates=['时间','轨迹时间']))"
   ]
  },
  {
   "cell_type": "code",
   "execution_count": 55,
   "metadata": {},
   "outputs": [
    {
     "data": {
      "text/plain": [
       "557"
      ]
     },
     "metadata": {},
     "output_type": "display_data"
    },
    {
     "data": {
      "text/plain": [
       "340"
      ]
     },
     "metadata": {},
     "output_type": "display_data"
    },
    {
     "data": {
      "text/plain": [
       "845"
      ]
     },
     "metadata": {},
     "output_type": "display_data"
    },
    {
     "data": {
      "text/plain": [
       "1420"
      ]
     },
     "metadata": {},
     "output_type": "display_data"
    }
   ],
   "source": [
    "\n",
    "\n",
    "\n",
    "\n",
    "df17 =read_data(\"./data/data_17.xlsx\")\n",
    "df21 =read_data(\"./data/data_21.xlsx\")\n",
    "df22 =read_data(\"./data/data_22.xlsx\")\n",
    "df23 =read_data(\"./data/data_23.xlsx\")\n",
    "display(len(df17.query('state != 0')),len(df21.query('state != 0')),len(df22.query('state != 0')),len(df23.query('state != 0')))\n"
   ]
  },
  {
   "cell_type": "code",
   "execution_count": null,
   "metadata": {},
   "outputs": [],
   "source": []
  }
 ],
 "metadata": {
  "kernelspec": {
   "display_name": "py36_tf19",
   "language": "python",
   "name": "python3"
  },
  "language_info": {
   "codemirror_mode": {
    "name": "ipython",
    "version": 3
   },
   "file_extension": ".py",
   "mimetype": "text/x-python",
   "name": "python",
   "nbconvert_exporter": "python",
   "pygments_lexer": "ipython3",
   "version": "3.11.8"
  }
 },
 "nbformat": 4,
 "nbformat_minor": 2
}
