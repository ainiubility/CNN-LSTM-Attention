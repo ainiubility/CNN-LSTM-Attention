{
 "cells": [
  {
   "cell_type": "markdown",
   "metadata": {
    "colab_type": "text"
   },
   "source": [
    "This notebook depends on Keras 3, Temporian, and a few other libraries. You can\n",
    "install them as follow:\n",
    "\n",
    "```shell\n",
    "pip install temporian keras pandas tf-nightly scikit-learn -U\n",
    "```"
   ]
  },
  {
   "cell_type": "code",
   "execution_count": 7,
   "metadata": {},
   "outputs": [
    {
     "name": "stdout",
     "output_type": "stream",
     "text": [
      "Note: you may need to restart the kernel to use updated packages.\n"
     ]
    }
   ],
   "source": [
    " %pip install temporian -q # not supported on windows"
   ]
  },
  {
   "cell_type": "code",
   "execution_count": 8,
   "metadata": {
    "colab_type": "code"
   },
   "outputs": [],
   "source": [
    "import keras  # To train the Machine Learning model\n",
    "import temporian as tp  # To convert transactions into tabular data\n",
    "\n",
    "import numpy as np\n",
    "import os\n",
    "import pandas as pd\n",
    "import datetime\n",
    "import math\n",
    "import tensorflow as tf\n",
    "from sklearn.metrics import RocCurveDisplay"
   ]
  },
  {
   "cell_type": "markdown",
   "metadata": {
    "colab_type": "text"
   },
   "source": [
    "## Introduction\n",
    "\n",
    "Payment fraud detection is critical for banks, businesses, and consumers. In\n",
    "Europe alone, fraudulent transactions were estimated at\n",
    "[€1.89 billion in 2019](https://www.ecb.europa.eu/pub/pdf/cardfraud/ecb.cardfraudreport202110~cac4c418e8.en.pdf).\n",
    "Worldwide, approximately\n",
    "[3.6%](https://www.cybersource.com/content/dam/documents/campaign/fraud-report/global-fraud-report-2022.pdf)\n",
    "of commerce revenue is lost to fraud. In this notebook, we train and evaluate a\n",
    "model to detect fraudulent transactions using the synthetic dataset attached to\n",
    "the book\n",
    "[Reproducible Machine Learning for Credit Card Fraud Detection](https://fraud-detection-handbook.github.io/fraud-detection-handbook/Foreword.html)\n",
    "by Le Borgne et al.\n",
    "\n",
    "Fraudulent transactions often cannot be detected by looking at transactions in\n",
    "isolation. Instead, fraudulent transactions are detected by looking at patterns\n",
    "across multiple transactions from the same user, to the same merchant, or with\n",
    "other types of relationships. To express these relationships in a way that is\n",
    "understandable by a machine learning model, and to augment features with feature\n",
    " engineering, we We use the\n",
    " [Temporian](https://temporian.readthedocs.io/en/latest) preprocessing library.\n",
    "\n",
    "We preprocess a transaction dataset into a tabular dataset and use a\n",
    "feed-forward neural network to learn the patterns of fraud and make predictions.\n",
    "\n",
    "## Loading the dataset\n",
    "\n",
    "The dataset contains payment transactions sampled between April 1, 2018 and\n",
    "September 30, 2018. The transactions are stored in CSV files, one for each day.\n",
    "\n",
    "**Note:** Downloading the dataset takes ~1 minute."
   ]
  },
  {
   "cell_type": "code",
   "execution_count": 9,
   "metadata": {
    "colab_type": "code"
   },
   "outputs": [
    {
     "name": "stdout",
     "output_type": "stream",
     "text": [
      "Load dataset from cache\n"
     ]
    },
    {
     "name": "stdout",
     "output_type": "stream",
     "text": [
      "Found 1754155 transactions\n"
     ]
    }
   ],
   "source": [
    "start_date = datetime.date(2018, 4, 1)\n",
    "end_date = datetime.date(2018, 9, 30)\n",
    "\n",
    "# Load the dataset as a Pandas dataframe.\n",
    "cache_path = \"fraud_detection_cache.csv\"\n",
    "if not os.path.exists(cache_path):\n",
    "    print(\"Download dataset\")\n",
    "    dataframes = []\n",
    "    num_files = (end_date - start_date).days\n",
    "    counter = 0\n",
    "    while start_date <= end_date:\n",
    "        if counter % (num_files // 10) == 0:\n",
    "            print(f\"[{100 * (counter+1) // num_files}%]\", end=\"\", flush=True)\n",
    "        print(\".\", end=\"\", flush=True)\n",
    "        url = f\"https://github.com/Fraud-Detection-Handbook/simulated-data-raw/raw/6e67dbd0a3bfe0d7ec33abc4bce5f37cd4ff0d6a/data/{start_date}.pkl\"\n",
    "        dataframes.append(pd.read_pickle(url))\n",
    "        start_date += datetime.timedelta(days=1)\n",
    "        counter += 1\n",
    "    print(\"done\", flush=True)\n",
    "    transactions_dataframe = pd.concat(dataframes)\n",
    "    transactions_dataframe.to_csv(cache_path, index=False)\n",
    "else:\n",
    "    print(\"Load dataset from cache\")\n",
    "    transactions_dataframe = pd.read_csv(\n",
    "        cache_path, dtype={\"CUSTOMER_ID\": bytes, \"TERMINAL_ID\": bytes}\n",
    "    )\n",
    "\n",
    "print(f\"Found {len(transactions_dataframe)} transactions\")"
   ]
  },
  {
   "cell_type": "markdown",
   "metadata": {
    "colab_type": "text"
   },
   "source": [
    "Each transaction is represented by a single row, with the following columns of\n",
    "interest:\n",
    "\n",
    "- **TX_DATETIME**: The date and time of the transaction.\n",
    "- **CUSTOMER_ID**: The unique identifier of the customer.\n",
    "- **TERMINAL_ID**: The identifier of the terminal where the transaction was\n",
    "    made.\n",
    "- **TX_AMOUNT**: The amount of the transaction.\n",
    "- **TX_FRAUD**: Whether the transaction is fraudulent (1) or not (0)."
   ]
  },
  {
   "cell_type": "code",
   "execution_count": 10,
   "metadata": {
    "colab_type": "code"
   },
   "outputs": [
    {
     "data": {
      "text/html": [
       "<div>\n",
       "<style scoped>\n",
       "    .dataframe tbody tr th:only-of-type {\n",
       "        vertical-align: middle;\n",
       "    }\n",
       "\n",
       "    .dataframe tbody tr th {\n",
       "        vertical-align: top;\n",
       "    }\n",
       "\n",
       "    .dataframe thead th {\n",
       "        text-align: right;\n",
       "    }\n",
       "</style>\n",
       "<table border=\"1\" class=\"dataframe\">\n",
       "  <thead>\n",
       "    <tr style=\"text-align: right;\">\n",
       "      <th></th>\n",
       "      <th>TX_DATETIME</th>\n",
       "      <th>CUSTOMER_ID</th>\n",
       "      <th>TERMINAL_ID</th>\n",
       "      <th>TX_AMOUNT</th>\n",
       "      <th>TX_FRAUD</th>\n",
       "    </tr>\n",
       "  </thead>\n",
       "  <tbody>\n",
       "    <tr>\n",
       "      <th>0</th>\n",
       "      <td>2018-04-01 00:00:31</td>\n",
       "      <td>596</td>\n",
       "      <td>3156</td>\n",
       "      <td>57.16</td>\n",
       "      <td>0</td>\n",
       "    </tr>\n",
       "    <tr>\n",
       "      <th>1</th>\n",
       "      <td>2018-04-01 00:02:10</td>\n",
       "      <td>4961</td>\n",
       "      <td>3412</td>\n",
       "      <td>81.51</td>\n",
       "      <td>0</td>\n",
       "    </tr>\n",
       "    <tr>\n",
       "      <th>2</th>\n",
       "      <td>2018-04-01 00:07:56</td>\n",
       "      <td>2</td>\n",
       "      <td>1365</td>\n",
       "      <td>146.00</td>\n",
       "      <td>0</td>\n",
       "    </tr>\n",
       "    <tr>\n",
       "      <th>3</th>\n",
       "      <td>2018-04-01 00:09:29</td>\n",
       "      <td>4128</td>\n",
       "      <td>8737</td>\n",
       "      <td>64.49</td>\n",
       "      <td>0</td>\n",
       "    </tr>\n",
       "  </tbody>\n",
       "</table>\n",
       "</div>"
      ],
      "text/plain": [
       "           TX_DATETIME CUSTOMER_ID TERMINAL_ID  TX_AMOUNT  TX_FRAUD\n",
       "0  2018-04-01 00:00:31         596        3156      57.16         0\n",
       "1  2018-04-01 00:02:10        4961        3412      81.51         0\n",
       "2  2018-04-01 00:07:56           2        1365     146.00         0\n",
       "3  2018-04-01 00:09:29        4128        8737      64.49         0"
      ]
     },
     "execution_count": 10,
     "metadata": {},
     "output_type": "execute_result"
    }
   ],
   "source": [
    "transactions_dataframe = transactions_dataframe[\n",
    "    [\"TX_DATETIME\", \"CUSTOMER_ID\", \"TERMINAL_ID\", \"TX_AMOUNT\", \"TX_FRAUD\"]\n",
    "]\n",
    "\n",
    "transactions_dataframe.head(4)"
   ]
  },
  {
   "cell_type": "markdown",
   "metadata": {
    "colab_type": "text"
   },
   "source": [
    "The dataset is highly imbalanced, with the majority of transactions being\n",
    "legitimate."
   ]
  },
  {
   "cell_type": "code",
   "execution_count": 11,
   "metadata": {
    "colab_type": "code"
   },
   "outputs": [
    {
     "name": "stdout",
     "output_type": "stream",
     "text": [
      "Rate of fraudulent transactions: 0.008369271814634397\n"
     ]
    }
   ],
   "source": [
    "fraudulent_rate = transactions_dataframe[\"TX_FRAUD\"].mean()\n",
    "print(\"Rate of fraudulent transactions:\", fraudulent_rate)"
   ]
  },
  {
   "cell_type": "markdown",
   "metadata": {
    "colab_type": "text"
   },
   "source": [
    "The\n",
    "[pandas dataframe](https://pandas.pydata.org/docs/reference/api/pandas.DataFrame.html)\n",
    "is converted into a\n",
    "[Temporian EventSet](https://temporian.readthedocs.io/en/latest/reference/temporian/EventSet/),\n",
    "which is better suited for the data exploration and feature preprocessing of the\n",
    " next steps."
   ]
  },
  {
   "cell_type": "code",
   "execution_count": 12,
   "metadata": {
    "colab_type": "code"
   },
   "outputs": [
    {
     "name": "stderr",
     "output_type": "stream",
     "text": [
      "WARNING:root:Feature \"CUSTOMER_ID\" is an array of numpy.object_ and will be casted to numpy.string_ (Note: numpy.string_ is equivalent to numpy.bytes_).\n",
      "WARNING:root:Feature \"TERMINAL_ID\" is an array of numpy.object_ and will be casted to numpy.string_ (Note: numpy.string_ is equivalent to numpy.bytes_).\n"
     ]
    },
    {
     "data": {
      "text/html": [
       "<div>\n",
       "  <div style=\"display: table; margin-bottom:11px; padding:5px; font-size:small; line-height:120%; border:1px solid rgba(127, 127, 127, 0.2)\">\n",
       "    <div style=\"display: table\">\n",
       "      <span>\n",
       "        <span style=\"font-weight:bold\">features</span>\n",
       "        <span style=\"\"> [4]:</span>\n",
       "      </span>\n",
       "      <span style=\"color:#0077BB; font-weight:bold\">CUSTOMER_ID</span>\n",
       "      <span style=\"color:#009988\"> (str_)</span>\n",
       "      <span style=\"\">, </span>\n",
       "      <span style=\"color:#0077BB; font-weight:bold\">TERMINAL_ID</span>\n",
       "      <span style=\"color:#009988\"> (str_)</span>\n",
       "      <span style=\"\">, </span>\n",
       "      <span style=\"color:#0077BB; font-weight:bold\">TX_AMOUNT</span>\n",
       "      <span style=\"color:#009988\"> (float64)</span>\n",
       "      <span style=\"\">, </span>\n",
       "      <span style=\"color:#0077BB; font-weight:bold\">TX_FRAUD</span>\n",
       "      <span style=\"color:#009988\"> (int64)</span>\n",
       "    </div>\n",
       "    <div style=\"display: table\">\n",
       "      <span>\n",
       "        <span style=\"font-weight:bold\">indexes</span>\n",
       "        <span style=\"\"> [0]:</span>\n",
       "      </span>\n",
       "      <span style=\"font-style:italic\">none</span>\n",
       "    </div>\n",
       "    <div style=\"display: table\">\n",
       "      <span style=\"font-weight:bold\">events: </span>\n",
       "      <span style=\"\">1754155</span>\n",
       "    </div>\n",
       "    <div style=\"display: table\">\n",
       "      <span style=\"font-weight:bold\">index values: </span>\n",
       "      <span style=\"\">1</span>\n",
       "    </div>\n",
       "    <div style=\"display: table\">\n",
       "      <span style=\"font-weight:bold\">memory usage: </span>\n",
       "      <span style=\"\">28.1 MB</span>\n",
       "    </div>\n",
       "  </div>\n",
       "  <div style=\"display: table\">\n",
       "    <span style=\"font-weight:bold\">index</span>\n",
       "    <span style=\"\"> (</span>\n",
       "    <span style=\"\">) with 1754155 events</span>\n",
       "  </div>\n",
       "  <table style=\"margin-left:20px; border:1px solid rgba(127, 127, 127, 0.2)\">\n",
       "    <tr>\n",
       "      <th>\n",
       "        <b>\n",
       "          <span style=\"\">timestamp</span>\n",
       "        </b>\n",
       "      </th>\n",
       "      <th>\n",
       "        <b>\n",
       "          <span style=\"color:#0077BB; font-weight:bold; \">CUSTOMER_ID</span>\n",
       "        </b>\n",
       "      </th>\n",
       "      <th>\n",
       "        <b>\n",
       "          <span style=\"color:#0077BB; font-weight:bold; \">TERMINAL_ID</span>\n",
       "        </b>\n",
       "      </th>\n",
       "      <th>\n",
       "        <b>\n",
       "          <span style=\"color:#0077BB; font-weight:bold; \">TX_AMOUNT</span>\n",
       "        </b>\n",
       "      </th>\n",
       "      <th>\n",
       "        <b>\n",
       "          <span style=\"color:#0077BB; font-weight:bold; \">TX_FRAUD</span>\n",
       "        </b>\n",
       "      </th>\n",
       "    </tr>\n",
       "    <tr>\n",
       "      <td>\n",
       "        <span style=\"\">2018-04-01 00:00:31+00:00</span>\n",
       "      </td>\n",
       "      <td>\n",
       "        <span style=\"\">596</span>\n",
       "      </td>\n",
       "      <td>\n",
       "        <span style=\"\">3156</span>\n",
       "      </td>\n",
       "      <td>\n",
       "        <span style=\"\">57.16</span>\n",
       "      </td>\n",
       "      <td>\n",
       "        <span style=\"\">0</span>\n",
       "      </td>\n",
       "    </tr>\n",
       "    <tr>\n",
       "      <td>\n",
       "        <span style=\"\">2018-04-01 00:02:10+00:00</span>\n",
       "      </td>\n",
       "      <td>\n",
       "        <span style=\"\">4961</span>\n",
       "      </td>\n",
       "      <td>\n",
       "        <span style=\"\">3412</span>\n",
       "      </td>\n",
       "      <td>\n",
       "        <span style=\"\">81.51</span>\n",
       "      </td>\n",
       "      <td>\n",
       "        <span style=\"\">0</span>\n",
       "      </td>\n",
       "    </tr>\n",
       "    <tr>\n",
       "      <td>\n",
       "        <span style=\"\">2018-04-01 00:07:56+00:00</span>\n",
       "      </td>\n",
       "      <td>\n",
       "        <span style=\"\">2</span>\n",
       "      </td>\n",
       "      <td>\n",
       "        <span style=\"\">1365</span>\n",
       "      </td>\n",
       "      <td>\n",
       "        <span style=\"\">146</span>\n",
       "      </td>\n",
       "      <td>\n",
       "        <span style=\"\">0</span>\n",
       "      </td>\n",
       "    </tr>\n",
       "    <tr>\n",
       "      <td>\n",
       "        <span style=\"\">…</span>\n",
       "      </td>\n",
       "      <td>\n",
       "        <span style=\"\">…</span>\n",
       "      </td>\n",
       "      <td>\n",
       "        <span style=\"\">…</span>\n",
       "      </td>\n",
       "      <td>\n",
       "        <span style=\"\">…</span>\n",
       "      </td>\n",
       "      <td>\n",
       "        <span style=\"\">…</span>\n",
       "      </td>\n",
       "    </tr>\n",
       "    <tr>\n",
       "      <td>\n",
       "        <span style=\"\">2018-09-30 23:58:21+00:00</span>\n",
       "      </td>\n",
       "      <td>\n",
       "        <span style=\"\">618</span>\n",
       "      </td>\n",
       "      <td>\n",
       "        <span style=\"\">1502</span>\n",
       "      </td>\n",
       "      <td>\n",
       "        <span style=\"\">6.62</span>\n",
       "      </td>\n",
       "      <td>\n",
       "        <span style=\"\">0</span>\n",
       "      </td>\n",
       "    </tr>\n",
       "    <tr>\n",
       "      <td>\n",
       "        <span style=\"\">2018-09-30 23:59:52+00:00</span>\n",
       "      </td>\n",
       "      <td>\n",
       "        <span style=\"\">4056</span>\n",
       "      </td>\n",
       "      <td>\n",
       "        <span style=\"\">3067</span>\n",
       "      </td>\n",
       "      <td>\n",
       "        <span style=\"\">55.4</span>\n",
       "      </td>\n",
       "      <td>\n",
       "        <span style=\"\">0</span>\n",
       "      </td>\n",
       "    </tr>\n",
       "    <tr>\n",
       "      <td>\n",
       "        <span style=\"\">2018-09-30 23:59:57+00:00</span>\n",
       "      </td>\n",
       "      <td>\n",
       "        <span style=\"\">3542</span>\n",
       "      </td>\n",
       "      <td>\n",
       "        <span style=\"\">9849</span>\n",
       "      </td>\n",
       "      <td>\n",
       "        <span style=\"\">23.59</span>\n",
       "      </td>\n",
       "      <td>\n",
       "        <span style=\"\">0</span>\n",
       "      </td>\n",
       "    </tr>\n",
       "  </table>\n",
       "</div>\n"
      ],
      "text/plain": [
       "indexes: []\n",
       "features: [('CUSTOMER_ID', str_), ('TERMINAL_ID', str_), ('TX_AMOUNT', float64), ('TX_FRAUD', int64)]\n",
       "events:\n",
       "     (1754155 events):\n",
       "        timestamps: ['2018-04-01T00:00:31' '2018-04-01T00:02:10' '2018-04-01T00:07:56' ...\n",
       "     '2018-09-30T23:58:21' '2018-09-30T23:59:52' '2018-09-30T23:59:57']\n",
       "        'CUSTOMER_ID': [b'596' b'4961' b'2' ... b'618' b'4056' b'3542']\n",
       "        'TERMINAL_ID': [b'3156' b'3412' b'1365' ... b'1502' b'3067' b'9849']\n",
       "        'TX_AMOUNT': [ 57.16  81.51 146.   ...   6.62  55.4   23.59]\n",
       "        'TX_FRAUD': [0 0 0 ... 0 0 0]\n",
       "memory usage: 28.1 MB"
      ]
     },
     "execution_count": 12,
     "metadata": {},
     "output_type": "execute_result"
    }
   ],
   "source": [
    "transactions_evset = tp.from_pandas(transactions_dataframe, timestamps=\"TX_DATETIME\")\n",
    "\n",
    "transactions_evset"
   ]
  },
  {
   "cell_type": "markdown",
   "metadata": {
    "colab_type": "text"
   },
   "source": [
    "It is possible to plot the entire dataset, but the resulting plot will be\n",
    "difficult to read. Instead, we can group the transactions per client."
   ]
  },
  {
   "cell_type": "code",
   "execution_count": 13,
   "metadata": {
    "colab_type": "code"
   },
   "outputs": [
    {
     "data": {
      "image/png": "[encoded data removed]",
      "text/plain": [
       "<Figure size 1024x450 with 3 Axes>"
      ]
     },
     "metadata": {},
     "output_type": "display_data"
    }
   ],
   "source": [
    "transactions_evset.add_index(\"CUSTOMER_ID\").plot(indexes=\"3774\")"
   ]
  },
  {
   "cell_type": "markdown",
   "metadata": {
    "colab_type": "text"
   },
   "source": [
    "Note the few fraudulent transactions for this client.\n",
    "\n",
    "## Preparing the training data\n",
    "\n",
    "Fraudulent transactions in isolation cannot be detected. Instead, we need to\n",
    "connect related transactions. For each transaction, we compute the sum and count\n",
    "of transactions for the same terminal in the last `n` days. Because we don't\n",
    "know the correct value for `n`, we use multiple values for `n` and compute a\n",
    "set of features for each of them."
   ]
  },
  {
   "cell_type": "code",
   "execution_count": 14,
   "metadata": {
    "colab_type": "code"
   },
   "outputs": [
    {
     "data": {
      "text/html": [
       "<div>\n",
       "  <div style=\"display: table; margin-bottom:11px; padding:5px; font-size:small; line-height:120%; border:1px solid rgba(127, 127, 127, 0.2)\">\n",
       "    <div style=\"display: table\">\n",
       "      <span>\n",
       "        <span style=\"font-weight:bold\">features</span>\n",
       "        <span style=\"\"> [6]:</span>\n",
       "      </span>\n",
       "      <span style=\"color:#0077BB; font-weight:bold\">sum_transactions_7_days</span>\n",
       "      <span style=\"color:#009988\"> (float64)</span>\n",
       "      <span style=\"\">, </span>\n",
       "      <span style=\"color:#0077BB; font-weight:bold\">count_transactions_7_days</span>\n",
       "      <span style=\"color:#009988\"> (int32)</span>\n",
       "      <span style=\"\">, </span>\n",
       "      <span style=\"color:#0077BB; font-weight:bold\">sum_transactions_14_days</span>\n",
       "      <span style=\"color:#009988\"> (float64)</span>\n",
       "      <span style=\"\">, </span>\n",
       "      <span style=\"color:#0077BB; font-weight:bold\">count_transactions_14_days</span>\n",
       "      <span style=\"color:#009988\"> (int32)</span>\n",
       "      <span style=\"\">, </span>\n",
       "      <span style=\"color:#0077BB; font-weight:bold\">sum_transactions_28_days</span>\n",
       "      <span style=\"color:#009988\"> (float64)</span>\n",
       "      <span style=\"\">, </span>\n",
       "      <span style=\"color:#0077BB; font-weight:bold\">count_transactions_28_days</span>\n",
       "      <span style=\"color:#009988\"> (int32)</span>\n",
       "    </div>\n",
       "    <div style=\"display: table\">\n",
       "      <span>\n",
       "        <span style=\"font-weight:bold\">indexes</span>\n",
       "        <span style=\"\"> [1]:</span>\n",
       "      </span>\n",
       "      <span style=\"color:#EE7733; font-weight:bold\">TERMINAL_ID</span>\n",
       "      <span style=\"color:#009988\"> (str_)</span>\n",
       "    </div>\n",
       "    <div style=\"display: table\">\n",
       "      <span style=\"font-weight:bold\">events: </span>\n",
       "      <span style=\"\">1754155</span>\n",
       "    </div>\n",
       "    <div style=\"display: table\">\n",
       "      <span style=\"font-weight:bold\">index values: </span>\n",
       "      <span style=\"\">10000</span>\n",
       "    </div>\n",
       "    <div style=\"display: table\">\n",
       "      <span style=\"font-weight:bold\">memory usage: </span>\n",
       "      <span style=\"\">85.8 MB</span>\n",
       "    </div>\n",
       "  </div>\n",
       "  <div style=\"display: table\">\n",
       "    <span style=\"font-weight:bold\">index</span>\n",
       "    <span style=\"\"> (</span>\n",
       "    <span style=\"color:#EE7733; font-weight:bold\">TERMINAL_ID: </span>\n",
       "    <span style=\"color:#EE3377\">0</span>\n",
       "    <span style=\"\">) with 178 events</span>\n",
       "  </div>\n",
       "  <table style=\"margin-left:20px; border:1px solid rgba(127, 127, 127, 0.2)\">\n",
       "    <tr>\n",
       "      <th>\n",
       "        <b>\n",
       "          <span style=\"\">timestamp</span>\n",
       "        </b>\n",
       "      </th>\n",
       "      <th>\n",
       "        <b>\n",
       "          <span style=\"color:#0077BB; font-weight:bold; \">sum_transactions_7_days</span>\n",
       "        </b>\n",
       "      </th>\n",
       "      <th>\n",
       "        <b>\n",
       "          <span style=\"color:#0077BB; font-weight:bold; \">count_transactions_7_days</span>\n",
       "        </b>\n",
       "      </th>\n",
       "      <th>\n",
       "        <b>\n",
       "          <span style=\"color:#0077BB; font-weight:bold; \">sum_transactions_14_days</span>\n",
       "        </b>\n",
       "      </th>\n",
       "      <th>\n",
       "        <b>\n",
       "          <span style=\"color:#0077BB; font-weight:bold; \">count_transactions_14_days</span>\n",
       "        </b>\n",
       "      </th>\n",
       "      <th>\n",
       "        <b>\n",
       "          <span style=\"color:#0077BB; font-weight:bold; \">sum_transactions_28_days</span>\n",
       "        </b>\n",
       "      </th>\n",
       "      <th>\n",
       "        <b>\n",
       "          <span style=\"color:#0077BB; font-weight:bold; \">count_transactions_28_days</span>\n",
       "        </b>\n",
       "      </th>\n",
       "    </tr>\n",
       "    <tr>\n",
       "      <td>\n",
       "        <span style=\"\">2018-04-02 01:00:01+00:00</span>\n",
       "      </td>\n",
       "      <td>\n",
       "        <span style=\"\">16.07</span>\n",
       "      </td>\n",
       "      <td>\n",
       "        <span style=\"\">1</span>\n",
       "      </td>\n",
       "      <td>\n",
       "        <span style=\"\">16.07</span>\n",
       "      </td>\n",
       "      <td>\n",
       "        <span style=\"\">1</span>\n",
       "      </td>\n",
       "      <td>\n",
       "        <span style=\"\">16.07</span>\n",
       "      </td>\n",
       "      <td>\n",
       "        <span style=\"\">1</span>\n",
       "      </td>\n",
       "    </tr>\n",
       "    <tr>\n",
       "      <td>\n",
       "        <span style=\"\">2018-04-02 09:49:55+00:00</span>\n",
       "      </td>\n",
       "      <td>\n",
       "        <span style=\"\">83.9</span>\n",
       "      </td>\n",
       "      <td>\n",
       "        <span style=\"\">2</span>\n",
       "      </td>\n",
       "      <td>\n",
       "        <span style=\"\">83.9</span>\n",
       "      </td>\n",
       "      <td>\n",
       "        <span style=\"\">2</span>\n",
       "      </td>\n",
       "      <td>\n",
       "        <span style=\"\">83.9</span>\n",
       "      </td>\n",
       "      <td>\n",
       "        <span style=\"\">2</span>\n",
       "      </td>\n",
       "    </tr>\n",
       "    <tr>\n",
       "      <td>\n",
       "        <span style=\"\">2018-04-03 12:14:41+00:00</span>\n",
       "      </td>\n",
       "      <td>\n",
       "        <span style=\"\">110.7</span>\n",
       "      </td>\n",
       "      <td>\n",
       "        <span style=\"\">3</span>\n",
       "      </td>\n",
       "      <td>\n",
       "        <span style=\"\">110.7</span>\n",
       "      </td>\n",
       "      <td>\n",
       "        <span style=\"\">3</span>\n",
       "      </td>\n",
       "      <td>\n",
       "        <span style=\"\">110.7</span>\n",
       "      </td>\n",
       "      <td>\n",
       "        <span style=\"\">3</span>\n",
       "      </td>\n",
       "    </tr>\n",
       "    <tr>\n",
       "      <td>\n",
       "        <span style=\"\">…</span>\n",
       "      </td>\n",
       "      <td>\n",
       "        <span style=\"\">…</span>\n",
       "      </td>\n",
       "      <td>\n",
       "        <span style=\"\">…</span>\n",
       "      </td>\n",
       "      <td>\n",
       "        <span style=\"\">…</span>\n",
       "      </td>\n",
       "      <td>\n",
       "        <span style=\"\">…</span>\n",
       "      </td>\n",
       "      <td>\n",
       "        <span style=\"\">…</span>\n",
       "      </td>\n",
       "      <td>\n",
       "        <span style=\"\">…</span>\n",
       "      </td>\n",
       "    </tr>\n",
       "    <tr>\n",
       "      <td>\n",
       "        <span style=\"\">2018-09-29 05:49:27+00:00</span>\n",
       "      </td>\n",
       "      <td>\n",
       "        <span style=\"\">871.6</span>\n",
       "      </td>\n",
       "      <td>\n",
       "        <span style=\"\">11</span>\n",
       "      </td>\n",
       "      <td>\n",
       "        <span style=\"\">1392</span>\n",
       "      </td>\n",
       "      <td>\n",
       "        <span style=\"\">19</span>\n",
       "      </td>\n",
       "      <td>\n",
       "        <span style=\"\">2345</span>\n",
       "      </td>\n",
       "      <td>\n",
       "        <span style=\"\">36</span>\n",
       "      </td>\n",
       "    </tr>\n",
       "    <tr>\n",
       "      <td>\n",
       "        <span style=\"\">2018-09-29 11:12:46+00:00</span>\n",
       "      </td>\n",
       "      <td>\n",
       "        <span style=\"\">910.4</span>\n",
       "      </td>\n",
       "      <td>\n",
       "        <span style=\"\">12</span>\n",
       "      </td>\n",
       "      <td>\n",
       "        <span style=\"\">1431</span>\n",
       "      </td>\n",
       "      <td>\n",
       "        <span style=\"\">20</span>\n",
       "      </td>\n",
       "      <td>\n",
       "        <span style=\"\">2383</span>\n",
       "      </td>\n",
       "      <td>\n",
       "        <span style=\"\">37</span>\n",
       "      </td>\n",
       "    </tr>\n",
       "    <tr>\n",
       "      <td>\n",
       "        <span style=\"\">2018-09-30 06:29:54+00:00</span>\n",
       "      </td>\n",
       "      <td>\n",
       "        <span style=\"\">799.3</span>\n",
       "      </td>\n",
       "      <td>\n",
       "        <span style=\"\">12</span>\n",
       "      </td>\n",
       "      <td>\n",
       "        <span style=\"\">1479</span>\n",
       "      </td>\n",
       "      <td>\n",
       "        <span style=\"\">21</span>\n",
       "      </td>\n",
       "      <td>\n",
       "        <span style=\"\">2418</span>\n",
       "      </td>\n",
       "      <td>\n",
       "        <span style=\"\">37</span>\n",
       "      </td>\n",
       "    </tr>\n",
       "  </table>\n",
       "  <div style=\"display: table\">\n",
       "    <span style=\"font-weight:bold\">index</span>\n",
       "    <span style=\"\"> (</span>\n",
       "    <span style=\"color:#EE7733; font-weight:bold\">TERMINAL_ID: </span>\n",
       "    <span style=\"color:#EE3377\">1</span>\n",
       "    <span style=\"\">) with 139 events</span>\n",
       "  </div>\n",
       "  <table style=\"margin-left:20px; border:1px solid rgba(127, 127, 127, 0.2)\">\n",
       "    <tr>\n",
       "      <th>\n",
       "        <b>\n",
       "          <span style=\"\">timestamp</span>\n",
       "        </b>\n",
       "      </th>\n",
       "      <th>\n",
       "        <b>\n",
       "          <span style=\"color:#0077BB; font-weight:bold; \">sum_transactions_7_days</span>\n",
       "        </b>\n",
       "      </th>\n",
       "      <th>\n",
       "        <b>\n",
       "          <span style=\"color:#0077BB; font-weight:bold; \">count_transactions_7_days</span>\n",
       "        </b>\n",
       "      </th>\n",
       "      <th>\n",
       "        <b>\n",
       "          <span style=\"color:#0077BB; font-weight:bold; \">sum_transactions_14_days</span>\n",
       "        </b>\n",
       "      </th>\n",
       "      <th>\n",
       "        <b>\n",
       "          <span style=\"color:#0077BB; font-weight:bold; \">count_transactions_14_days</span>\n",
       "        </b>\n",
       "      </th>\n",
       "      <th>\n",
       "        <b>\n",
       "          <span style=\"color:#0077BB; font-weight:bold; \">sum_transactions_28_days</span>\n",
       "        </b>\n",
       "      </th>\n",
       "      <th>\n",
       "        <b>\n",
       "          <span style=\"color:#0077BB; font-weight:bold; \">count_transactions_28_days</span>\n",
       "        </b>\n",
       "      </th>\n",
       "    </tr>\n",
       "    <tr>\n",
       "      <td>\n",
       "        <span style=\"\">2018-04-01 16:24:39+00:00</span>\n",
       "      </td>\n",
       "      <td>\n",
       "        <span style=\"\">70.36</span>\n",
       "      </td>\n",
       "      <td>\n",
       "        <span style=\"\">1</span>\n",
       "      </td>\n",
       "      <td>\n",
       "        <span style=\"\">70.36</span>\n",
       "      </td>\n",
       "      <td>\n",
       "        <span style=\"\">1</span>\n",
       "      </td>\n",
       "      <td>\n",
       "        <span style=\"\">70.36</span>\n",
       "      </td>\n",
       "      <td>\n",
       "        <span style=\"\">1</span>\n",
       "      </td>\n",
       "    </tr>\n",
       "    <tr>\n",
       "      <td>\n",
       "        <span style=\"\">2018-04-02 11:25:03+00:00</span>\n",
       "      </td>\n",
       "      <td>\n",
       "        <span style=\"\">87.79</span>\n",
       "      </td>\n",
       "      <td>\n",
       "        <span style=\"\">2</span>\n",
       "      </td>\n",
       "      <td>\n",
       "        <span style=\"\">87.79</span>\n",
       "      </td>\n",
       "      <td>\n",
       "        <span style=\"\">2</span>\n",
       "      </td>\n",
       "      <td>\n",
       "        <span style=\"\">87.79</span>\n",
       "      </td>\n",
       "      <td>\n",
       "        <span style=\"\">2</span>\n",
       "      </td>\n",
       "    </tr>\n",
       "    <tr>\n",
       "      <td>\n",
       "        <span style=\"\">2018-04-04 08:31:48+00:00</span>\n",
       "      </td>\n",
       "      <td>\n",
       "        <span style=\"\">211.6</span>\n",
       "      </td>\n",
       "      <td>\n",
       "        <span style=\"\">3</span>\n",
       "      </td>\n",
       "      <td>\n",
       "        <span style=\"\">211.6</span>\n",
       "      </td>\n",
       "      <td>\n",
       "        <span style=\"\">3</span>\n",
       "      </td>\n",
       "      <td>\n",
       "        <span style=\"\">211.6</span>\n",
       "      </td>\n",
       "      <td>\n",
       "        <span style=\"\">3</span>\n",
       "      </td>\n",
       "    </tr>\n",
       "    <tr>\n",
       "      <td>\n",
       "        <span style=\"\">…</span>\n",
       "      </td>\n",
       "      <td>\n",
       "        <span style=\"\">…</span>\n",
       "      </td>\n",
       "      <td>\n",
       "        <span style=\"\">…</span>\n",
       "      </td>\n",
       "      <td>\n",
       "        <span style=\"\">…</span>\n",
       "      </td>\n",
       "      <td>\n",
       "        <span style=\"\">…</span>\n",
       "      </td>\n",
       "      <td>\n",
       "        <span style=\"\">…</span>\n",
       "      </td>\n",
       "      <td>\n",
       "        <span style=\"\">…</span>\n",
       "      </td>\n",
       "    </tr>\n",
       "    <tr>\n",
       "      <td>\n",
       "        <span style=\"\">2018-09-25 09:13:17+00:00</span>\n",
       "      </td>\n",
       "      <td>\n",
       "        <span style=\"\">237.2</span>\n",
       "      </td>\n",
       "      <td>\n",
       "        <span style=\"\">4</span>\n",
       "      </td>\n",
       "      <td>\n",
       "        <span style=\"\">464.6</span>\n",
       "      </td>\n",
       "      <td>\n",
       "        <span style=\"\">11</span>\n",
       "      </td>\n",
       "      <td>\n",
       "        <span style=\"\">1136</span>\n",
       "      </td>\n",
       "      <td>\n",
       "        <span style=\"\">20</span>\n",
       "      </td>\n",
       "    </tr>\n",
       "    <tr>\n",
       "      <td>\n",
       "        <span style=\"\">2018-09-26 19:08:41+00:00</span>\n",
       "      </td>\n",
       "      <td>\n",
       "        <span style=\"\">276.5</span>\n",
       "      </td>\n",
       "      <td>\n",
       "        <span style=\"\">5</span>\n",
       "      </td>\n",
       "      <td>\n",
       "        <span style=\"\">490.3</span>\n",
       "      </td>\n",
       "      <td>\n",
       "        <span style=\"\">11</span>\n",
       "      </td>\n",
       "      <td>\n",
       "        <span style=\"\">1113</span>\n",
       "      </td>\n",
       "      <td>\n",
       "        <span style=\"\">20</span>\n",
       "      </td>\n",
       "    </tr>\n",
       "    <tr>\n",
       "      <td>\n",
       "        <span style=\"\">2018-09-30 13:41:36+00:00</span>\n",
       "      </td>\n",
       "      <td>\n",
       "        <span style=\"\">367.1</span>\n",
       "      </td>\n",
       "      <td>\n",
       "        <span style=\"\">6</span>\n",
       "      </td>\n",
       "      <td>\n",
       "        <span style=\"\">405.8</span>\n",
       "      </td>\n",
       "      <td>\n",
       "        <span style=\"\">8</span>\n",
       "      </td>\n",
       "      <td>\n",
       "        <span style=\"\">1203</span>\n",
       "      </td>\n",
       "      <td>\n",
       "        <span style=\"\">21</span>\n",
       "      </td>\n",
       "    </tr>\n",
       "  </table>\n",
       "  <div style=\"display: table\">\n",
       "    <span style=\"font-weight:bold\">index</span>\n",
       "    <span style=\"\"> (</span>\n",
       "    <span style=\"color:#EE7733; font-weight:bold\">TERMINAL_ID: </span>\n",
       "    <span style=\"color:#EE3377\">10</span>\n",
       "    <span style=\"\">) with 151 events</span>\n",
       "  </div>\n",
       "  <table style=\"margin-left:20px; border:1px solid rgba(127, 127, 127, 0.2)\">\n",
       "    <tr>\n",
       "      <th>\n",
       "        <b>\n",
       "          <span style=\"\">timestamp</span>\n",
       "        </b>\n",
       "      </th>\n",
       "      <th>\n",
       "        <b>\n",
       "          <span style=\"color:#0077BB; font-weight:bold; \">sum_transactions_7_days</span>\n",
       "        </b>\n",
       "      </th>\n",
       "      <th>\n",
       "        <b>\n",
       "          <span style=\"color:#0077BB; font-weight:bold; \">count_transactions_7_days</span>\n",
       "        </b>\n",
       "      </th>\n",
       "      <th>\n",
       "        <b>\n",
       "          <span style=\"color:#0077BB; font-weight:bold; \">sum_transactions_14_days</span>\n",
       "        </b>\n",
       "      </th>\n",
       "      <th>\n",
       "        <b>\n",
       "          <span style=\"color:#0077BB; font-weight:bold; \">count_transactions_14_days</span>\n",
       "        </b>\n",
       "      </th>\n",
       "      <th>\n",
       "        <b>\n",
       "          <span style=\"color:#0077BB; font-weight:bold; \">sum_transactions_28_days</span>\n",
       "        </b>\n",
       "      </th>\n",
       "      <th>\n",
       "        <b>\n",
       "          <span style=\"color:#0077BB; font-weight:bold; \">count_transactions_28_days</span>\n",
       "        </b>\n",
       "      </th>\n",
       "    </tr>\n",
       "    <tr>\n",
       "      <td>\n",
       "        <span style=\"\">2018-04-01 14:11:55+00:00</span>\n",
       "      </td>\n",
       "      <td>\n",
       "        <span style=\"\">2.9</span>\n",
       "      </td>\n",
       "      <td>\n",
       "        <span style=\"\">1</span>\n",
       "      </td>\n",
       "      <td>\n",
       "        <span style=\"\">2.9</span>\n",
       "      </td>\n",
       "      <td>\n",
       "        <span style=\"\">1</span>\n",
       "      </td>\n",
       "      <td>\n",
       "        <span style=\"\">2.9</span>\n",
       "      </td>\n",
       "      <td>\n",
       "        <span style=\"\">1</span>\n",
       "      </td>\n",
       "    </tr>\n",
       "    <tr>\n",
       "      <td>\n",
       "        <span style=\"\">2018-04-02 11:01:07+00:00</span>\n",
       "      </td>\n",
       "      <td>\n",
       "        <span style=\"\">17.04</span>\n",
       "      </td>\n",
       "      <td>\n",
       "        <span style=\"\">2</span>\n",
       "      </td>\n",
       "      <td>\n",
       "        <span style=\"\">17.04</span>\n",
       "      </td>\n",
       "      <td>\n",
       "        <span style=\"\">2</span>\n",
       "      </td>\n",
       "      <td>\n",
       "        <span style=\"\">17.04</span>\n",
       "      </td>\n",
       "      <td>\n",
       "        <span style=\"\">2</span>\n",
       "      </td>\n",
       "    </tr>\n",
       "    <tr>\n",
       "      <td>\n",
       "        <span style=\"\">2018-04-03 13:46:58+00:00</span>\n",
       "      </td>\n",
       "      <td>\n",
       "        <span style=\"\">118.2</span>\n",
       "      </td>\n",
       "      <td>\n",
       "        <span style=\"\">3</span>\n",
       "      </td>\n",
       "      <td>\n",
       "        <span style=\"\">118.2</span>\n",
       "      </td>\n",
       "      <td>\n",
       "        <span style=\"\">3</span>\n",
       "      </td>\n",
       "      <td>\n",
       "        <span style=\"\">118.2</span>\n",
       "      </td>\n",
       "      <td>\n",
       "        <span style=\"\">3</span>\n",
       "      </td>\n",
       "    </tr>\n",
       "    <tr>\n",
       "      <td>\n",
       "        <span style=\"\">…</span>\n",
       "      </td>\n",
       "      <td>\n",
       "        <span style=\"\">…</span>\n",
       "      </td>\n",
       "      <td>\n",
       "        <span style=\"\">…</span>\n",
       "      </td>\n",
       "      <td>\n",
       "        <span style=\"\">…</span>\n",
       "      </td>\n",
       "      <td>\n",
       "        <span style=\"\">…</span>\n",
       "      </td>\n",
       "      <td>\n",
       "        <span style=\"\">…</span>\n",
       "      </td>\n",
       "      <td>\n",
       "        <span style=\"\">…</span>\n",
       "      </td>\n",
       "    </tr>\n",
       "    <tr>\n",
       "      <td>\n",
       "        <span style=\"\">2018-09-27 07:06:25+00:00</span>\n",
       "      </td>\n",
       "      <td>\n",
       "        <span style=\"\">512.8</span>\n",
       "      </td>\n",
       "      <td>\n",
       "        <span style=\"\">12</span>\n",
       "      </td>\n",
       "      <td>\n",
       "        <span style=\"\">870.1</span>\n",
       "      </td>\n",
       "      <td>\n",
       "        <span style=\"\">21</span>\n",
       "      </td>\n",
       "      <td>\n",
       "        <span style=\"\">1263</span>\n",
       "      </td>\n",
       "      <td>\n",
       "        <span style=\"\">29</span>\n",
       "      </td>\n",
       "    </tr>\n",
       "    <tr>\n",
       "      <td>\n",
       "        <span style=\"\">2018-09-28 07:19:01+00:00</span>\n",
       "      </td>\n",
       "      <td>\n",
       "        <span style=\"\">604.3</span>\n",
       "      </td>\n",
       "      <td>\n",
       "        <span style=\"\">13</span>\n",
       "      </td>\n",
       "      <td>\n",
       "        <span style=\"\">936.2</span>\n",
       "      </td>\n",
       "      <td>\n",
       "        <span style=\"\">21</span>\n",
       "      </td>\n",
       "      <td>\n",
       "        <span style=\"\">1354</span>\n",
       "      </td>\n",
       "      <td>\n",
       "        <span style=\"\">30</span>\n",
       "      </td>\n",
       "    </tr>\n",
       "    <tr>\n",
       "      <td>\n",
       "        <span style=\"\">2018-09-29 06:40:23+00:00</span>\n",
       "      </td>\n",
       "      <td>\n",
       "        <span style=\"\">619.6</span>\n",
       "      </td>\n",
       "      <td>\n",
       "        <span style=\"\">14</span>\n",
       "      </td>\n",
       "      <td>\n",
       "        <span style=\"\">938.6</span>\n",
       "      </td>\n",
       "      <td>\n",
       "        <span style=\"\">21</span>\n",
       "      </td>\n",
       "      <td>\n",
       "        <span style=\"\">1369</span>\n",
       "      </td>\n",
       "      <td>\n",
       "        <span style=\"\">31</span>\n",
       "      </td>\n",
       "    </tr>\n",
       "  </table>\n",
       "  <div style=\"display: table\">\n",
       "    <span style=\"font-weight:bold\">index</span>\n",
       "    <span style=\"\"> (</span>\n",
       "    <span style=\"color:#EE7733; font-weight:bold\">TERMINAL_ID: </span>\n",
       "    <span style=\"color:#EE3377\">100</span>\n",
       "    <span style=\"\">) with 188 events</span>\n",
       "  </div>\n",
       "  <table style=\"margin-left:20px; border:1px solid rgba(127, 127, 127, 0.2)\">\n",
       "    <tr>\n",
       "      <th>\n",
       "        <b>\n",
       "          <span style=\"\">timestamp</span>\n",
       "        </b>\n",
       "      </th>\n",
       "      <th>\n",
       "        <b>\n",
       "          <span style=\"color:#0077BB; font-weight:bold; \">sum_transactions_7_days</span>\n",
       "        </b>\n",
       "      </th>\n",
       "      <th>\n",
       "        <b>\n",
       "          <span style=\"color:#0077BB; font-weight:bold; \">count_transactions_7_days</span>\n",
       "        </b>\n",
       "      </th>\n",
       "      <th>\n",
       "        <b>\n",
       "          <span style=\"color:#0077BB; font-weight:bold; \">sum_transactions_14_days</span>\n",
       "        </b>\n",
       "      </th>\n",
       "      <th>\n",
       "        <b>\n",
       "          <span style=\"color:#0077BB; font-weight:bold; \">count_transactions_14_days</span>\n",
       "        </b>\n",
       "      </th>\n",
       "      <th>\n",
       "        <b>\n",
       "          <span style=\"color:#0077BB; font-weight:bold; \">sum_transactions_28_days</span>\n",
       "        </b>\n",
       "      </th>\n",
       "      <th>\n",
       "        <b>\n",
       "          <span style=\"color:#0077BB; font-weight:bold; \">count_transactions_28_days</span>\n",
       "        </b>\n",
       "      </th>\n",
       "    </tr>\n",
       "    <tr>\n",
       "      <td>\n",
       "        <span style=\"\">2018-04-02 10:37:42+00:00</span>\n",
       "      </td>\n",
       "      <td>\n",
       "        <span style=\"\">6.31</span>\n",
       "      </td>\n",
       "      <td>\n",
       "        <span style=\"\">1</span>\n",
       "      </td>\n",
       "      <td>\n",
       "        <span style=\"\">6.31</span>\n",
       "      </td>\n",
       "      <td>\n",
       "        <span style=\"\">1</span>\n",
       "      </td>\n",
       "      <td>\n",
       "        <span style=\"\">6.31</span>\n",
       "      </td>\n",
       "      <td>\n",
       "        <span style=\"\">1</span>\n",
       "      </td>\n",
       "    </tr>\n",
       "    <tr>\n",
       "      <td>\n",
       "        <span style=\"\">2018-04-04 19:14:23+00:00</span>\n",
       "      </td>\n",
       "      <td>\n",
       "        <span style=\"\">12.26</span>\n",
       "      </td>\n",
       "      <td>\n",
       "        <span style=\"\">2</span>\n",
       "      </td>\n",
       "      <td>\n",
       "        <span style=\"\">12.26</span>\n",
       "      </td>\n",
       "      <td>\n",
       "        <span style=\"\">2</span>\n",
       "      </td>\n",
       "      <td>\n",
       "        <span style=\"\">12.26</span>\n",
       "      </td>\n",
       "      <td>\n",
       "        <span style=\"\">2</span>\n",
       "      </td>\n",
       "    </tr>\n",
       "    <tr>\n",
       "      <td>\n",
       "        <span style=\"\">2018-04-07 04:01:22+00:00</span>\n",
       "      </td>\n",
       "      <td>\n",
       "        <span style=\"\">65.12</span>\n",
       "      </td>\n",
       "      <td>\n",
       "        <span style=\"\">3</span>\n",
       "      </td>\n",
       "      <td>\n",
       "        <span style=\"\">65.12</span>\n",
       "      </td>\n",
       "      <td>\n",
       "        <span style=\"\">3</span>\n",
       "      </td>\n",
       "      <td>\n",
       "        <span style=\"\">65.12</span>\n",
       "      </td>\n",
       "      <td>\n",
       "        <span style=\"\">3</span>\n",
       "      </td>\n",
       "    </tr>\n",
       "    <tr>\n",
       "      <td>\n",
       "        <span style=\"\">…</span>\n",
       "      </td>\n",
       "      <td>\n",
       "        <span style=\"\">…</span>\n",
       "      </td>\n",
       "      <td>\n",
       "        <span style=\"\">…</span>\n",
       "      </td>\n",
       "      <td>\n",
       "        <span style=\"\">…</span>\n",
       "      </td>\n",
       "      <td>\n",
       "        <span style=\"\">…</span>\n",
       "      </td>\n",
       "      <td>\n",
       "        <span style=\"\">…</span>\n",
       "      </td>\n",
       "      <td>\n",
       "        <span style=\"\">…</span>\n",
       "      </td>\n",
       "    </tr>\n",
       "    <tr>\n",
       "      <td>\n",
       "        <span style=\"\">2018-09-29 07:29:50+00:00</span>\n",
       "      </td>\n",
       "      <td>\n",
       "        <span style=\"\">638.5</span>\n",
       "      </td>\n",
       "      <td>\n",
       "        <span style=\"\">11</span>\n",
       "      </td>\n",
       "      <td>\n",
       "        <span style=\"\">1037</span>\n",
       "      </td>\n",
       "      <td>\n",
       "        <span style=\"\">18</span>\n",
       "      </td>\n",
       "      <td>\n",
       "        <span style=\"\">1933</span>\n",
       "      </td>\n",
       "      <td>\n",
       "        <span style=\"\">37</span>\n",
       "      </td>\n",
       "    </tr>\n",
       "    <tr>\n",
       "      <td>\n",
       "        <span style=\"\">2018-09-29 10:50:07+00:00</span>\n",
       "      </td>\n",
       "      <td>\n",
       "        <span style=\"\">651.3</span>\n",
       "      </td>\n",
       "      <td>\n",
       "        <span style=\"\">12</span>\n",
       "      </td>\n",
       "      <td>\n",
       "        <span style=\"\">1050</span>\n",
       "      </td>\n",
       "      <td>\n",
       "        <span style=\"\">19</span>\n",
       "      </td>\n",
       "      <td>\n",
       "        <span style=\"\">1944</span>\n",
       "      </td>\n",
       "      <td>\n",
       "        <span style=\"\">37</span>\n",
       "      </td>\n",
       "    </tr>\n",
       "    <tr>\n",
       "      <td>\n",
       "        <span style=\"\">2018-09-29 12:29:01+00:00</span>\n",
       "      </td>\n",
       "      <td>\n",
       "        <span style=\"\">683.6</span>\n",
       "      </td>\n",
       "      <td>\n",
       "        <span style=\"\">13</span>\n",
       "      </td>\n",
       "      <td>\n",
       "        <span style=\"\">1030</span>\n",
       "      </td>\n",
       "      <td>\n",
       "        <span style=\"\">18</span>\n",
       "      </td>\n",
       "      <td>\n",
       "        <span style=\"\">1977</span>\n",
       "      </td>\n",
       "      <td>\n",
       "        <span style=\"\">38</span>\n",
       "      </td>\n",
       "    </tr>\n",
       "  </table>\n",
       "  <span style=\"\">… (9996 more indexes not shown)</span>\n",
       "</div>\n"
      ],
      "text/plain": [
       "indexes: [('TERMINAL_ID', str_)]\n",
       "features: [('sum_transactions_7_days', float64), ('count_transactions_7_days', int32), ('sum_transactions_14_days', float64), ('count_transactions_14_days', int32), ('sum_transactions_28_days', float64), ('count_transactions_28_days', int32)]\n",
       "events:\n",
       "    TERMINAL_ID=b'0' (178 events):\n",
       "        timestamps: ['2018-04-02T01:00:01' '2018-04-02T09:49:55' '2018-04-03T12:14:41' ...\n",
       "     '2018-09-29T05:49:27' '2018-09-29T11:12:46' '2018-09-30T06:29:54']\n",
       "        'sum_transactions_7_days': [ 16.07  83.9  110.72 ... 871.6  910.36 799.27]\n",
       "        'count_transactions_7_days': [ 1  2  3 ... 11 12 12]\n",
       "        'sum_transactions_14_days': [  16.07   83.9   110.72 ... 1392.01 1430.77 1479.48]\n",
       "        'count_transactions_14_days': [ 1  2  3 ... 19 20 21]\n",
       "        'sum_transactions_28_days': [  16.07   83.9   110.72 ... 2344.72 2383.48 2417.86]\n",
       "        'count_transactions_28_days': [ 1  2  3 ... 36 37 37]\n",
       "    TERMINAL_ID=b'1' (139 events):\n",
       "        timestamps: ['2018-04-01T16:24:39' '2018-04-02T11:25:03' '2018-04-04T08:31:48' ...\n",
       "     '2018-09-25T09:13:17' '2018-09-26T19:08:41' '2018-09-30T13:41:36']\n",
       "        'sum_transactions_7_days': [ 70.36  87.79 211.58 ... 237.2  276.51 367.09]\n",
       "        'count_transactions_7_days': [1 2 3 ... 4 5 6]\n",
       "        'sum_transactions_14_days': [ 70.36  87.79 211.58 ... 464.6  490.25 405.84]\n",
       "        'count_transactions_14_days': [ 1  2  3 ... 11 11  8]\n",
       "        'sum_transactions_28_days': [  70.36   87.79  211.58 ... 1135.72 1112.6  1203.18]\n",
       "        'count_transactions_28_days': [ 1  2  3 ... 20 20 21]\n",
       "    TERMINAL_ID=b'10' (151 events):\n",
       "        timestamps: ['2018-04-01T14:11:55' '2018-04-02T11:01:07' '2018-04-03T13:46:58' ...\n",
       "     '2018-09-27T07:06:25' '2018-09-28T07:19:01' '2018-09-29T06:40:23']\n",
       "        'sum_transactions_7_days': [  2.9   17.04 118.18 ... 512.83 604.33 619.6 ]\n",
       "        'count_transactions_7_days': [ 1  2  3 ... 12 13 14]\n",
       "        'sum_transactions_14_days': [  2.9   17.04 118.18 ... 870.14 936.23 938.6 ]\n",
       "        'count_transactions_14_days': [ 1  2  3 ... 21 21 21]\n",
       "        'sum_transactions_28_days': [   2.9    17.04  118.18 ... 1262.62 1354.12 1369.39]\n",
       "        'count_transactions_28_days': [ 1  2  3 ... 29 30 31]\n",
       "    TERMINAL_ID=b'100' (188 events):\n",
       "        timestamps: ['2018-04-02T10:37:42' '2018-04-04T19:14:23' '2018-04-07T04:01:22' ...\n",
       "     '2018-09-29T07:29:50' '2018-09-29T10:50:07' '2018-09-29T12:29:01']\n",
       "        'sum_transactions_7_days': [  6.31  12.26  65.12 ... 638.49 651.31 683.65]\n",
       "        'count_transactions_7_days': [ 1  2  3 ... 11 12 13]\n",
       "        'sum_transactions_14_days': [   6.31   12.26   65.12 ... 1037.27 1050.09 1030.11]\n",
       "        'count_transactions_14_days': [ 1  2  3 ... 18 19 18]\n",
       "        'sum_transactions_28_days': [   6.31   12.26   65.12 ... 1933.14 1944.24 1976.58]\n",
       "        'count_transactions_28_days': [ 1  2  3 ... 37 37 38]\n",
       "    ... (showing 4 of 10000 indexes)\n",
       "memory usage: 85.8 MB"
      ]
     },
     "execution_count": 14,
     "metadata": {},
     "output_type": "execute_result"
    }
   ],
   "source": [
    "# Group the transactions per terminal\n",
    "transactions_per_terminal = transactions_evset.add_index(\"TERMINAL_ID\")\n",
    "\n",
    "# Moving statistics per terminal\n",
    "tmp_features = []\n",
    "for n in [7, 14, 28]:\n",
    "    tmp_features.append(\n",
    "        transactions_per_terminal[\"TX_AMOUNT\"]\n",
    "        .moving_sum(tp.duration.days(n))\n",
    "        .rename(f\"sum_transactions_{n}_days\")\n",
    "    )\n",
    "\n",
    "    tmp_features.append(\n",
    "        transactions_per_terminal.moving_count(tp.duration.days(n)).rename(\n",
    "            f\"count_transactions_{n}_days\"\n",
    "        )\n",
    "    )\n",
    "\n",
    "feature_set_1 = tp.glue(*tmp_features)\n",
    "\n",
    "feature_set_1"
   ]
  },
  {
   "cell_type": "markdown",
   "metadata": {
    "colab_type": "text"
   },
   "source": [
    "Let's look at the features of terminal \"3774\"."
   ]
  },
  {
   "cell_type": "code",
   "execution_count": 15,
   "metadata": {
    "colab_type": "code"
   },
   "outputs": [
    {
     "data": {
      "image/png": "[encoded data removed]",
      "text/plain": [
       "<Figure size 1024x900 with 6 Axes>"
      ]
     },
     "metadata": {},
     "output_type": "display_data"
    }
   ],
   "source": [
    "feature_set_1.plot(indexes=\"3774\")"
   ]
  },
  {
   "cell_type": "markdown",
   "metadata": {
    "colab_type": "text"
   },
   "source": [
    "A transaction's fraudulent status is not known at the time of the transaction\n",
    "(otherwise, there would be no problem). However, the banks knows if a\n",
    "transacation is fraudulent one week after it is made. We create a set of\n",
    "features that indicate the number and ratio of fraudulent transactions in the\n",
    "last N days."
   ]
  },
  {
   "cell_type": "code",
   "execution_count": 16,
   "metadata": {
    "colab_type": "code"
   },
   "outputs": [],
   "source": [
    "# Lag the transactions by one week.\n",
    "lagged_transactions = transactions_per_terminal.lag(tp.duration.weeks(1))\n",
    "\n",
    "# Moving statistics per customer\n",
    "tmp_features = []\n",
    "for n in [7, 14, 28]:\n",
    "    tmp_features.append(\n",
    "        lagged_transactions[\"TX_FRAUD\"]\n",
    "        .moving_sum(tp.duration.days(n), sampling=transactions_per_terminal)\n",
    "        .rename(f\"count_fraud_transactions_{n}_days\")\n",
    "    )\n",
    "\n",
    "    tmp_features.append(\n",
    "        lagged_transactions[\"TX_FRAUD\"]\n",
    "        .cast(tp.float32)\n",
    "        .simple_moving_average(tp.duration.days(n), sampling=transactions_per_terminal)\n",
    "        .rename(f\"rate_fraud_transactions_{n}_days\")\n",
    "    )\n",
    "\n",
    "feature_set_2 = tp.glue(*tmp_features)"
   ]
  },
  {
   "cell_type": "markdown",
   "metadata": {
    "colab_type": "text"
   },
   "source": [
    "Transaction date and time can be correlated with fraud. While each transaction\n",
    "has a timestamp, a machine learning model might struggle to consume them\n",
    "directly. Instead, we extract various informative calendar features from the\n",
    "timestamps, such as hour, day of the week (e.g., Monday, Tuesday), and day of\n",
    "the month (1-31)."
   ]
  },
  {
   "cell_type": "code",
   "execution_count": 17,
   "metadata": {
    "colab_type": "code"
   },
   "outputs": [],
   "source": [
    "feature_set_3 = tp.glue(\n",
    "    transactions_per_terminal.calendar_hour(),\n",
    "    transactions_per_terminal.calendar_day_of_week(),\n",
    ")"
   ]
  },
  {
   "cell_type": "markdown",
   "metadata": {
    "colab_type": "text"
   },
   "source": [
    "Finally, we group together all the features and the label."
   ]
  },
  {
   "cell_type": "code",
   "execution_count": 18,
   "metadata": {
    "colab_type": "code"
   },
   "outputs": [
    {
     "name": "stdout",
     "output_type": "stream",
     "text": [
      "All the available features:\n"
     ]
    },
    {
     "data": {
      "text/plain": [
       "['CUSTOMER_ID',\n",
       " 'TX_AMOUNT',\n",
       " 'TX_FRAUD',\n",
       " 'sum_transactions_7_days',\n",
       " 'count_transactions_7_days',\n",
       " 'sum_transactions_14_days',\n",
       " 'count_transactions_14_days',\n",
       " 'sum_transactions_28_days',\n",
       " 'count_transactions_28_days',\n",
       " 'count_fraud_transactions_7_days',\n",
       " 'rate_fraud_transactions_7_days',\n",
       " 'count_fraud_transactions_14_days',\n",
       " 'rate_fraud_transactions_14_days',\n",
       " 'count_fraud_transactions_28_days',\n",
       " 'rate_fraud_transactions_28_days',\n",
       " 'calendar_hour',\n",
       " 'calendar_day_of_week',\n",
       " 'TERMINAL_ID']"
      ]
     },
     "execution_count": 18,
     "metadata": {},
     "output_type": "execute_result"
    }
   ],
   "source": [
    "all_data = tp.glue(\n",
    "    transactions_per_terminal, feature_set_1, feature_set_2, feature_set_3\n",
    ").drop_index()\n",
    "\n",
    "print(\"All the available features:\")\n",
    "all_data.schema.feature_names()"
   ]
  },
  {
   "cell_type": "markdown",
   "metadata": {
    "colab_type": "text"
   },
   "source": [
    "We extract the name of the input features."
   ]
  },
  {
   "cell_type": "code",
   "execution_count": 19,
   "metadata": {
    "colab_type": "code"
   },
   "outputs": [
    {
     "name": "stdout",
     "output_type": "stream",
     "text": [
      "The model's input features:\n"
     ]
    },
    {
     "data": {
      "text/plain": [
       "['sum_transactions_7_days',\n",
       " 'count_transactions_7_days',\n",
       " 'sum_transactions_14_days',\n",
       " 'count_transactions_14_days',\n",
       " 'sum_transactions_28_days',\n",
       " 'count_transactions_28_days',\n",
       " 'count_fraud_transactions_7_days',\n",
       " 'rate_fraud_transactions_7_days',\n",
       " 'count_fraud_transactions_14_days',\n",
       " 'rate_fraud_transactions_14_days',\n",
       " 'count_fraud_transactions_28_days',\n",
       " 'rate_fraud_transactions_28_days',\n",
       " 'calendar_hour',\n",
       " 'calendar_day_of_week']"
      ]
     },
     "execution_count": 19,
     "metadata": {},
     "output_type": "execute_result"
    }
   ],
   "source": [
    "input_feature_names = [k for k in all_data.schema.feature_names() if k.islower()]\n",
    "\n",
    "print(\"The model's input features:\")\n",
    "input_feature_names"
   ]
  },
  {
   "cell_type": "markdown",
   "metadata": {
    "colab_type": "text"
   },
   "source": [
    "For neural networks to work correctly, numerical inputs must be normalized. A\n",
    "common approach is to apply z-normalization, which involves subtracting the mean\n",
    "and dividing by the standard deviation estimated from the training data to each\n",
    "value. In forecasting, such z-normalization is not recommended as it would lead\n",
    "to future leakage. Specifically, to classify a transaction at time t, we cannot\n",
    "rely on data after time t since, at serving time when making a prediction at\n",
    "time t, no subsequent data is available yet. In short, at time t, we are limited\n",
    "to using data that precedes or is concurrent with time t.\n",
    "\n",
    "The solution is therefore to apply z-normalization **over time**, which means\n",
    "that we normalize each transaction using the mean and standard deviation\n",
    "computed from the past data **for that transaction**.\n",
    "\n",
    "Future leakage is pernicious. Luckily, Temporian is here to help: the only\n",
    "operator that can cause future leakage is `EventSet.leak()`. If you are not\n",
    "using `EventSet.leak()`, your preprocessing is **guaranteed** not to create\n",
    "future leakage.\n",
    "\n",
    "**Note:** For advanced pipelines, you can also check programatically that a\n",
    "feature does not depends on an `EventSet.leak()` operation."
   ]
  },
  {
   "cell_type": "code",
   "execution_count": 20,
   "metadata": {
    "colab_type": "code"
   },
   "outputs": [
    {
     "name": "stdout",
     "output_type": "stream",
     "text": [
      "indexes: []\n",
      "features: [('sum_transactions_7_days', float32), ('count_transactions_7_days', float32), ('sum_transactions_14_days', float32), ('count_transactions_14_days', float32), ('sum_transactions_28_days', float32), ('count_transactions_28_days', float32), ('count_fraud_transactions_7_days', float32), ('rate_fraud_transactions_7_days', float32), ('count_fraud_transactions_14_days', float32), ('rate_fraud_transactions_14_days', float32), ('count_fraud_transactions_28_days', float32), ('rate_fraud_transactions_28_days', float32), ('calendar_hour', float32), ('calendar_day_of_week', float32)]\n",
      "events:\n",
      "     (1754155 events):\n",
      "        timestamps: ['2018-04-01T00:00:31' '2018-04-01T00:02:10' '2018-04-01T00:07:56' ...\n",
      "     '2018-09-30T23:58:21' '2018-09-30T23:59:52' '2018-09-30T23:59:57']\n",
      "        'sum_transactions_7_days': [ 0.      1.      1.3636 ... -0.064  -0.2059  0.8428]\n",
      "        'count_transactions_7_days': [   nan    nan    nan ... 1.0128 0.6892 1.66  ]\n",
      "        'sum_transactions_14_days': [ 0.      1.      1.3636 ... -0.7811  0.156   1.379 ]\n",
      "        'count_transactions_14_days': [   nan    nan    nan ... 0.2969 0.2969 2.0532]\n",
      "        'sum_transactions_28_days': [ 0.      1.      1.3636 ... -0.7154 -0.2989  1.9396]\n",
      "        'count_transactions_28_days': [    nan     nan     nan ...  0.1172 -0.1958  1.8908]\n",
      "        'count_fraud_transactions_7_days': [    nan     nan     nan ... -0.1043 -0.1043 -0.1043]\n",
      "        'rate_fraud_transactions_7_days': [    nan     nan     nan ... -0.1137 -0.1137 -0.1137]\n",
      "        'count_fraud_transactions_14_days': [    nan     nan     nan ... -0.1133 -0.1133  0.9303]\n",
      "        'rate_fraud_transactions_14_days': [    nan     nan     nan ... -0.1216 -0.1216  0.5275]\n",
      "        ...\n",
      "memory usage: 112.3 MB\n",
      "\n"
     ]
    },
    {
     "name": "stderr",
     "output_type": "stream",
     "text": [
      "/home/cnjimbo/anaconda3/envs/p3.11tf2.16.1/lib/python3.11/site-packages/temporian/implementation/numpy/operators/binary/arithmetic.py:100: RuntimeWarning: invalid value encountered in divide\n",
      "  return evset_1_feature / evset_2_feature\n"
     ]
    }
   ],
   "source": [
    "# Cast all values (e.g. ints) to floats.\n",
    "values = all_data[input_feature_names].cast(tp.float32)\n",
    "\n",
    "# Apply z-normalization overtime.\n",
    "normalized_features = (\n",
    "    values - values.simple_moving_average(math.inf)\n",
    ") / values.moving_standard_deviation(math.inf)\n",
    "\n",
    "# Restore the original name of the features.\n",
    "normalized_features = normalized_features.rename(values.schema.feature_names())\n",
    "\n",
    "print(normalized_features)"
   ]
  },
  {
   "cell_type": "markdown",
   "metadata": {
    "colab_type": "text"
   },
   "source": [
    "The first transactions will be normalized using poor estimates of the mean and\n",
    "standard deviation since there are only a few transactions before them. To\n",
    "mitigate this issue, we remove the first week of data from the training dataset.\n",
    "\n",
    "Notice that the first values contain NaN. In Temporian, NaN represents missing\n",
    "values, and all operators handle them accordingly. For instance, when\n",
    "calculating a moving average, NaN values are not included in the calculation\n",
    "and do not generate a NaN result.\n",
    "\n",
    "However, neural networks cannot natively handle NaN values. So, we replace them\n",
    "with zeros."
   ]
  },
  {
   "cell_type": "code",
   "execution_count": 21,
   "metadata": {
    "colab_type": "code"
   },
   "outputs": [],
   "source": [
    "normalized_features = normalized_features.fillna(0.0)"
   ]
  },
  {
   "cell_type": "markdown",
   "metadata": {
    "colab_type": "text"
   },
   "source": [
    "Finally, we group together the features and the labels."
   ]
  },
  {
   "cell_type": "code",
   "execution_count": 22,
   "metadata": {
    "colab_type": "code"
   },
   "outputs": [],
   "source": [
    "normalized_all_data = tp.glue(normalized_features, all_data[\"TX_FRAUD\"])"
   ]
  },
  {
   "cell_type": "markdown",
   "metadata": {
    "colab_type": "text"
   },
   "source": [
    "## Split dataset into a train, validation and test set\n",
    "\n",
    "To evaluate the quality of our machine learning model, we need training,\n",
    "validation and test sets. Since the system is dynamic (new fraud patterns are\n",
    "being created all the time), it is important for the training set to come before\n",
    "the validation set, and the validation set come before the testing set:\n",
    "\n",
    "- **Training:** April 8, 2018 to July 31, 2018\n",
    "- **Validation:** August 1, 2018 to August 31, 2018\n",
    "- **Testing:** September 1, 2018 to September 30, 2018\n",
    "\n",
    "For the example to run faster, we will effectively reduce the size of the\n",
    "training set to:\n",
    "- **Training:** July 1, 2018 to July 31, 2018"
   ]
  },
  {
   "cell_type": "code",
   "execution_count": 23,
   "metadata": {
    "colab_type": "code"
   },
   "outputs": [],
   "source": [
    "# begin_train = datetime.datetime(2018, 4, 8).timestamp() # Full training dataset\n",
    "begin_train = datetime.datetime(2018, 7, 1).timestamp()  # Reduced training dataset\n",
    "begin_valid = datetime.datetime(2018, 8, 1).timestamp()\n",
    "begin_test = datetime.datetime(2018, 9, 1).timestamp()\n",
    "\n",
    "is_train = (normalized_all_data.timestamps() >= begin_train) & (\n",
    "    normalized_all_data.timestamps() < begin_valid\n",
    ")\n",
    "is_valid = (normalized_all_data.timestamps() >= begin_valid) & (\n",
    "    normalized_all_data.timestamps() < begin_test\n",
    ")\n",
    "is_test = normalized_all_data.timestamps() >= begin_test"
   ]
  },
  {
   "cell_type": "markdown",
   "metadata": {
    "colab_type": "text"
   },
   "source": [
    "`is_train`, `is_valid` and `is_test` are boolean features overtime that indicate\n",
    "the limit of the tree folds. Let's plot them."
   ]
  },
  {
   "cell_type": "code",
   "execution_count": 24,
   "metadata": {
    "colab_type": "code"
   },
   "outputs": [
    {
     "data": {
      "image/png": "[encoded data removed]",
      "text/plain": [
       "<Figure size 1024x450 with 3 Axes>"
      ]
     },
     "metadata": {},
     "output_type": "display_data"
    }
   ],
   "source": [
    "tp.plot(\n",
    "    [\n",
    "        is_train.rename(\"is_train\"),\n",
    "        is_valid.rename(\"is_valid\"),\n",
    "        is_test.rename(\"is_test\"),\n",
    "    ]\n",
    ")"
   ]
  },
  {
   "cell_type": "markdown",
   "metadata": {
    "colab_type": "text"
   },
   "source": [
    "We filter the input features and label in each fold."
   ]
  },
  {
   "cell_type": "code",
   "execution_count": 25,
   "metadata": {
    "colab_type": "code"
   },
   "outputs": [
    {
     "name": "stdout",
     "output_type": "stream",
     "text": [
      "Training examples: 297015\n",
      "Validation examples: 296590\n",
      "Testing examples: 290003\n"
     ]
    }
   ],
   "source": [
    "train_ds_evset = normalized_all_data.filter(is_train)\n",
    "valid_ds_evset = normalized_all_data.filter(is_valid)\n",
    "test_ds_evset = normalized_all_data.filter(is_test)\n",
    "\n",
    "print(f\"Training examples: {train_ds_evset.num_events()}\")\n",
    "print(f\"Validation examples: {valid_ds_evset.num_events()}\")\n",
    "print(f\"Testing examples: {test_ds_evset.num_events()}\")"
   ]
  },
  {
   "cell_type": "markdown",
   "metadata": {
    "colab_type": "text"
   },
   "source": [
    "It is important to split the dataset **after** the features have been computed\n",
    "because some of the features for the training dataset are computed from\n",
    "transactions during the training window.\n",
    "\n",
    "## Create TensorFlow datasets\n",
    "\n",
    "We convert the datasets from EventSets to TensorFlow Datasets as Keras consumes\n",
    "them natively."
   ]
  },
  {
   "cell_type": "code",
   "execution_count": 26,
   "metadata": {
    "colab_type": "code"
   },
   "outputs": [
    {
     "name": "stderr",
     "output_type": "stream",
     "text": [
      "2024-04-20 22:23:08.816875: I external/local_xla/xla/stream_executor/cuda/cuda_executor.cc:887] could not open file to read NUMA node: /sys/bus/pci/devices/0000:01:00.0/numa_node\n",
      "Your kernel may have been built without NUMA support.\n",
      "2024-04-20 22:23:08.909243: I external/local_xla/xla/stream_executor/cuda/cuda_executor.cc:887] could not open file to read NUMA node: /sys/bus/pci/devices/0000:01:00.0/numa_node\n",
      "Your kernel may have been built without NUMA support.\n",
      "2024-04-20 22:23:08.909278: I external/local_xla/xla/stream_executor/cuda/cuda_executor.cc:887] could not open file to read NUMA node: /sys/bus/pci/devices/0000:01:00.0/numa_node\n",
      "Your kernel may have been built without NUMA support.\n",
      "2024-04-20 22:23:08.911349: I external/local_xla/xla/stream_executor/cuda/cuda_executor.cc:887] could not open file to read NUMA node: /sys/bus/pci/devices/0000:01:00.0/numa_node\n",
      "Your kernel may have been built without NUMA support.\n",
      "2024-04-20 22:23:08.911378: I external/local_xla/xla/stream_executor/cuda/cuda_executor.cc:887] could not open file to read NUMA node: /sys/bus/pci/devices/0000:01:00.0/numa_node\n",
      "Your kernel may have been built without NUMA support.\n",
      "2024-04-20 22:23:08.911392: I external/local_xla/xla/stream_executor/cuda/cuda_executor.cc:887] could not open file to read NUMA node: /sys/bus/pci/devices/0000:01:00.0/numa_node\n",
      "Your kernel may have been built without NUMA support.\n",
      "2024-04-20 22:23:09.040558: I external/local_xla/xla/stream_executor/cuda/cuda_executor.cc:887] could not open file to read NUMA node: /sys/bus/pci/devices/0000:01:00.0/numa_node\n",
      "Your kernel may have been built without NUMA support.\n",
      "2024-04-20 22:23:09.040597: I external/local_xla/xla/stream_executor/cuda/cuda_executor.cc:887] could not open file to read NUMA node: /sys/bus/pci/devices/0000:01:00.0/numa_node\n",
      "Your kernel may have been built without NUMA support.\n",
      "2024-04-20 22:23:09.040601: I tensorflow/core/common_runtime/gpu/gpu_device.cc:2022] Could not identify NUMA node of platform GPU id 0, defaulting to 0.  Your kernel may not have been built with NUMA support.\n",
      "2024-04-20 22:23:09.040621: I external/local_xla/xla/stream_executor/cuda/cuda_executor.cc:887] could not open file to read NUMA node: /sys/bus/pci/devices/0000:01:00.0/numa_node\n",
      "Your kernel may have been built without NUMA support.\n",
      "2024-04-20 22:23:09.040632: I tensorflow/core/common_runtime/gpu/gpu_device.cc:1929] Created device /job:localhost/replica:0/task:0/device:GPU:0 with 9502 MB memory:  -> device: 0, name: NVIDIA GeForce RTX 4070 Ti, pci bus id: 0000:01:00.0, compute capability: 8.9\n"
     ]
    }
   ],
   "source": [
    "non_batched_train_ds = tp.to_tensorflow_dataset(train_ds_evset)\n",
    "non_batched_valid_ds = tp.to_tensorflow_dataset(valid_ds_evset)\n",
    "non_batched_test_ds = tp.to_tensorflow_dataset(test_ds_evset)"
   ]
  },
  {
   "cell_type": "markdown",
   "metadata": {
    "colab_type": "text"
   },
   "source": [
    "The following processing steps are applied using TensorFlow datasets:\n",
    "\n",
    "1. The features and labels are separated using `extract_features_and_label` in\n",
    "    the format that Keras expects.\n",
    "1. The dataset is batched, which means that the examples are grouped into\n",
    "    mini-batches.\n",
    "1. The training examples are shuffled to improve the quality of mini-batch\n",
    "    training.\n",
    "\n",
    "As we noted before, the dataset is imbalanced in the direction of legitimate\n",
    "transactions. While we want to evaluate our model on this original distribution,\n",
    "neural networks often train poorly on strongly imbalanced datasets. Therefore,\n",
    "we resample the training dataset to a ratio of 80% legitimate / 20% fraudulent\n",
    "using `rejection_resample`."
   ]
  },
  {
   "cell_type": "code",
   "execution_count": 27,
   "metadata": {
    "colab_type": "code"
   },
   "outputs": [
    {
     "name": "stdout",
     "output_type": "stream",
     "text": [
      "WARNING:tensorflow:From /home/cnjimbo/anaconda3/envs/p3.11tf2.16.1/lib/python3.11/site-packages/tensorflow/python/data/ops/dataset_ops.py:4963: Print (from tensorflow.python.ops.logging_ops) is deprecated and will be removed after 2018-08-20.\n",
      "Instructions for updating:\n",
      "Use tf.print instead of tf.Print. Note that tf.print returns a no-output operator that directly prints the output. Outside of defuns or eager mode, this operator will not be executed unless it is directly specified in session.run or used as a control dependency for other operators. This is only a concern in graph mode. Below is an example of how to ensure tf.print executes in graph mode:\n",
      "\n"
     ]
    },
    {
     "name": "stderr",
     "output_type": "stream",
     "text": [
      "WARNING:tensorflow:From /home/cnjimbo/anaconda3/envs/p3.11tf2.16.1/lib/python3.11/site-packages/tensorflow/python/data/ops/dataset_ops.py:4963: Print (from tensorflow.python.ops.logging_ops) is deprecated and will be removed after 2018-08-20.\n",
      "Instructions for updating:\n",
      "Use tf.print instead of tf.Print. Note that tf.print returns a no-output operator that directly prints the output. Outside of defuns or eager mode, this operator will not be executed unless it is directly specified in session.run or used as a control dependency for other operators. This is only a concern in graph mode. Below is an example of how to ensure tf.print executes in graph mode:\n",
      "\n"
     ]
    }
   ],
   "source": [
    "\n",
    "def extract_features_and_label(example):\n",
    "    features = {k: example[k] for k in input_feature_names}\n",
    "    labels = tf.cast(example[\"TX_FRAUD\"], tf.int32)\n",
    "    return features, labels\n",
    "\n",
    "\n",
    "# Target ratio of fraudulent transactions in the training dataset.\n",
    "target_rate = 0.2\n",
    "\n",
    "# Number of examples in a mini-batch.\n",
    "batch_size = 32\n",
    "\n",
    "train_ds = (\n",
    "    non_batched_train_ds.shuffle(10000)\n",
    "    .rejection_resample(\n",
    "        class_func=lambda x: tf.cast(x[\"TX_FRAUD\"], tf.int32),\n",
    "        target_dist=[1 - target_rate, target_rate],\n",
    "        initial_dist=[1 - fraudulent_rate, fraudulent_rate],\n",
    "    )\n",
    "    .map(lambda _, x: x)  # Remove the label copy added by \"rejection_resample\".\n",
    "    .batch(batch_size)\n",
    "    .map(extract_features_and_label)\n",
    "    .prefetch(tf.data.AUTOTUNE)\n",
    ")\n",
    "\n",
    "# The test and validation dataset does not need resampling or shuffling.\n",
    "valid_ds = (\n",
    "    non_batched_valid_ds.batch(batch_size)\n",
    "    .map(extract_features_and_label)\n",
    "    .prefetch(tf.data.AUTOTUNE)\n",
    ")\n",
    "test_ds = (\n",
    "    non_batched_test_ds.batch(batch_size)\n",
    "    .map(extract_features_and_label)\n",
    "    .prefetch(tf.data.AUTOTUNE)\n",
    ")"
   ]
  },
  {
   "cell_type": "markdown",
   "metadata": {
    "colab_type": "text"
   },
   "source": [
    "We print the first four examples of the training dataset. This is a simple way\n",
    "to identify some of the errors that could have been made above."
   ]
  },
  {
   "cell_type": "code",
   "execution_count": 28,
   "metadata": {
    "colab_type": "code"
   },
   "outputs": [
    {
     "name": "stdout",
     "output_type": "stream",
     "text": [
      "features\n",
      "\tsum_transactions_7_days: [ 0.38895243 -0.76999557  0.7894539  -0.4618612 ]\n",
      "\tcount_transactions_7_days: [ 0.7204467 -0.868739   1.038348   0.4025991]\n",
      "\tsum_transactions_14_days: [ 0.09577662  0.14392748  0.34659585 -0.18746626]\n",
      "\tcount_transactions_14_days: [0.19642453 0.75050867 0.3810031  0.9349545 ]\n",
      "\tsum_transactions_28_days: [0.6565639  0.12590574 0.48236468 0.31769824]\n",
      "\tcount_transactions_28_days: [0.7824436  1.5381955  0.3102972  0.68838805]\n",
      "\tcount_fraud_transactions_7_days: [-0.09767342 -0.09765809 -0.09768061 -0.09765264]\n",
      "\trate_fraud_transactions_7_days: [-0.10943333 -0.1094371  -0.10944162 -0.10942658]\n",
      "\tcount_fraud_transactions_14_days: [-0.10433437 -0.10431955 -0.10433486 -0.10431994]\n",
      "\trate_fraud_transactions_14_days: [-0.11556756 -0.11557366 -0.11556925 -0.11556821]\n",
      "\tcount_fraud_transactions_28_days: [-0.11271214 -0.11264833 -0.11271854 -0.11267947]\n",
      "\trate_fraud_transactions_28_days: [-0.12626772 -0.1262465  -0.1262709  -0.12625904]\n",
      "\tcalendar_hour: [1.8816448  0.89542174 2.27605    1.0927614 ]\n",
      "\tcalendar_day_of_week: [0.999735   1.0020165  0.99948764 1.0011722 ]\n",
      "labels: [1 0 0 0]\n"
     ]
    },
    {
     "name": "stderr",
     "output_type": "stream",
     "text": [
      "Proportion of examples rejected by sampler is high: [0.991630733][0.991630733 0.00836927164][0 1]\n",
      "Proportion of examples rejected by sampler is high: [0.991630733][0.991630733 0.00836927164][0 1]\n",
      "Proportion of examples rejected by sampler is high: [0.991630733][0.991630733 0.00836927164][0 1]\n",
      "Proportion of examples rejected by sampler is high: [0.991630733][0.991630733 0.00836927164][0 1]\n",
      "Proportion of examples rejected by sampler is high: [0.991630733][0.991630733 0.00836927164][0 1]\n",
      "Proportion of examples rejected by sampler is high: [0.991630733][0.991630733 0.00836927164][0 1]\n",
      "Proportion of examples rejected by sampler is high: [0.991630733][0.991630733 0.00836927164][0 1]\n",
      "Proportion of examples rejected by sampler is high: [0.991630733][0.991630733 0.00836927164][0 1]\n",
      "Proportion of examples rejected by sampler is high: [0.991630733][0.991630733 0.00836927164][0 1]\n",
      "Proportion of examples rejected by sampler is high: [0.991630733][0.991630733 0.00836927164][0 1]\n"
     ]
    }
   ],
   "source": [
    "for features, labels in train_ds.take(1):\n",
    "    print(\"features\")\n",
    "    for feature_name, feature_value in features.items():\n",
    "        print(f\"\\t{feature_name}: {feature_value[:4]}\")\n",
    "    print(f\"labels: {labels[:4]}\")"
   ]
  },
  {
   "cell_type": "markdown",
   "metadata": {
    "colab_type": "text"
   },
   "source": [
    "## Train the model\n",
    "\n",
    "The original dataset is transactional, but the processed data is tabular and\n",
    "only contains normalized numerical values. Therefore, we train a feed-forward\n",
    "neural network."
   ]
  },
  {
   "cell_type": "code",
   "execution_count": 29,
   "metadata": {
    "colab_type": "code"
   },
   "outputs": [],
   "source": [
    "inputs = [keras.Input(shape=(1,), name=name) for name in input_feature_names]\n",
    "x = keras.layers.concatenate(inputs)\n",
    "x = keras.layers.Dense(32, activation=\"sigmoid\")(x)\n",
    "x = keras.layers.Dense(16, activation=\"sigmoid\")(x)\n",
    "x = keras.layers.Dense(1, activation=\"sigmoid\")(x)\n",
    "model = keras.Model(inputs=inputs, outputs=x)"
   ]
  },
  {
   "cell_type": "markdown",
   "metadata": {
    "colab_type": "text"
   },
   "source": [
    "Our goal is to differentiate between the fraudulent and legitimate transactions,\n",
    "so we use a binary classification objective. Because the dataset is imbalanced,\n",
    "accuracy is not an informative metric. Instead, we evaluate the model using the\n",
    "[area under the curve](https://en.wikipedia.org/wiki/Receiver_operating_characteristic#Area_under_the_curve)\n",
    "(AUC)."
   ]
  },
  {
   "cell_type": "code",
   "execution_count": 30,
   "metadata": {
    "colab_type": "code"
   },
   "outputs": [
    {
     "name": "stderr",
     "output_type": "stream",
     "text": [
      "Proportion of examples rejected by sampler is high: [0.991630733][0.991630733 0.00836927164][0 1]\n",
      "Proportion of examples rejected by sampler is high: [0.991630733][0.991630733 0.00836927164][0 1]\n",
      "Proportion of examples rejected by sampler is high: [0.991630733][0.991630733 0.00836927164][0 1]\n",
      "Proportion of examples rejected by sampler is high: [0.991630733][0.991630733 0.00836927164][0 1]\n",
      "Proportion of examples rejected by sampler is high: [0.991630733][0.991630733 0.00836927164][0 1]\n",
      "Proportion of examples rejected by sampler is high: [0.991630733][0.991630733 0.00836927164][0 1]\n",
      "Proportion of examples rejected by sampler is high: [0.991630733][0.991630733 0.00836927164][0 1]\n",
      "Proportion of examples rejected by sampler is high: [0.991630733][0.991630733 0.00836927164][0 1]\n",
      "Proportion of examples rejected by sampler is high: [0.991630733][0.991630733 0.00836927164][0 1]\n",
      "Proportion of examples rejected by sampler is high: [0.991630733][0.991630733 0.00836927164][0 1]\n",
      "2024-04-20 22:23:11.537275: I external/local_xla/xla/service/service.cc:168] XLA service 0x7fb9e049e7f0 initialized for platform CUDA (this does not guarantee that XLA will be used). Devices:\n",
      "2024-04-20 22:23:11.537298: I external/local_xla/xla/service/service.cc:176]   StreamExecutor device (0): NVIDIA GeForce RTX 4070 Ti, Compute Capability 8.9\n",
      "2024-04-20 22:23:11.544698: I tensorflow/compiler/mlir/tensorflow/utils/dump_mlir_util.cc:269] disabling MLIR crash reproducer, set env var `MLIR_CRASH_REPRODUCER_DIRECTORY` to enable.\n",
      "2024-04-20 22:23:11.562621: I external/local_xla/xla/stream_executor/cuda/cuda_dnn.cc:454] Loaded cuDNN version 8904\n",
      "WARNING: All log messages before absl::InitializeLog() is called are written to STDERR\n",
      "I0000 00:00:1713622991.600670    2913 device_compiler.h:186] Compiled cluster using XLA!  This line is logged at most once for the lifetime of the process.\n"
     ]
    },
    {
     "name": "stdout",
     "output_type": "stream",
     "text": [
      "    430/Unknown - 20s 42ms/step - loss: 0.3114 - accuracy: 0.0000e+00 - auc: 0.8681"
     ]
    },
    {
     "name": "stderr",
     "output_type": "stream",
     "text": [
      "2024-04-20 22:23:30.014975: I tensorflow/core/framework/local_rendezvous.cc:421] Local rendezvous recv item cancelled. Key hash: 10748511615329104085\n",
      "2024-04-20 22:23:30.015002: I tensorflow/core/framework/local_rendezvous.cc:421] Local rendezvous recv item cancelled. Key hash: 12208261232660431069\n",
      "2024-04-20 22:23:30.015006: I tensorflow/core/framework/local_rendezvous.cc:421] Local rendezvous recv item cancelled. Key hash: 1284202762570605441\n",
      "2024-04-20 22:23:30.015008: I tensorflow/core/framework/local_rendezvous.cc:421] Local rendezvous recv item cancelled. Key hash: 4082531949162827433\n",
      "2024-04-20 22:23:30.015010: I tensorflow/core/framework/local_rendezvous.cc:421] Local rendezvous recv item cancelled. Key hash: 13623628775073103513\n",
      "2024-04-20 22:23:30.015013: I tensorflow/core/framework/local_rendezvous.cc:421] Local rendezvous recv item cancelled. Key hash: 6759609384822401638\n",
      "2024-04-20 22:23:30.015015: I tensorflow/core/framework/local_rendezvous.cc:421] Local rendezvous recv item cancelled. Key hash: 15907546072784186174\n",
      "2024-04-20 22:23:30.015017: I tensorflow/core/framework/local_rendezvous.cc:421] Local rendezvous recv item cancelled. Key hash: 13939120057246256392\n",
      "2024-04-20 22:23:30.015019: I tensorflow/core/framework/local_rendezvous.cc:421] Local rendezvous recv item cancelled. Key hash: 1768369125103928912\n",
      "2024-04-20 22:23:30.015032: I tensorflow/core/framework/local_rendezvous.cc:421] Local rendezvous recv item cancelled. Key hash: 1285744768765407062\n"
     ]
    },
    {
     "name": "stdout",
     "output_type": "stream",
     "text": [
      "430/430 [==============================] - 43s 97ms/step - loss: 0.3114 - accuracy: 0.0000e+00 - auc: 0.8681 - val_loss: 0.2491 - val_accuracy: 0.0000e+00 - val_auc: 0.8059\n"
     ]
    },
    {
     "data": {
      "text/plain": [
       "<keras.src.callbacks.History at 0x7fbb2b7f6890>"
      ]
     },
     "execution_count": 30,
     "metadata": {},
     "output_type": "execute_result"
    }
   ],
   "source": [
    "model.compile(\n",
    "    optimizer=keras.optimizers.Adam(0.01),\n",
    "    loss=keras.losses.BinaryCrossentropy(),\n",
    "    metrics=[keras.metrics.Accuracy(), keras.metrics.AUC()],\n",
    ")\n",
    "model.fit(train_ds, validation_data=valid_ds)"
   ]
  },
  {
   "cell_type": "markdown",
   "metadata": {
    "colab_type": "text"
   },
   "source": [
    "We evaluate the model on the test dataset."
   ]
  },
  {
   "cell_type": "code",
   "execution_count": 31,
   "metadata": {
    "colab_type": "code"
   },
   "outputs": [
    {
     "name": "stdout",
     "output_type": "stream",
     "text": [
      "   1/9063 [..............................] - ETA: 4:26 - loss: 0.3240 - accuracy: 0.0000e+00 - auc: 0.1452"
     ]
    },
    {
     "name": "stdout",
     "output_type": "stream",
     "text": [
      "9063/9063 [==============================] - 26s 3ms/step - loss: 0.2348 - accuracy: 0.0000e+00 - auc: 0.8067\n"
     ]
    },
    {
     "data": {
      "text/plain": [
       "[0.2347647100687027, 0.0, 0.8066697716712952]"
      ]
     },
     "execution_count": 31,
     "metadata": {},
     "output_type": "execute_result"
    }
   ],
   "source": [
    "model.evaluate(test_ds)"
   ]
  },
  {
   "cell_type": "markdown",
   "metadata": {
    "colab_type": "text"
   },
   "source": [
    "With and AUC of ~83%, our simple fraud detector is showing encouraging\n",
    "results.\n",
    "\n",
    "\n",
    "Plotting the ROC curve is a good solution to understand and select the operation\n",
    "point of the model i.e. the threshold applied on the model output to\n",
    "differentiate between fraudulent and legitimate transactions.\n",
    "\n",
    "Compute the test predictions:"
   ]
  },
  {
   "cell_type": "code",
   "execution_count": 32,
   "metadata": {
    "colab_type": "code"
   },
   "outputs": [
    {
     "name": "stdout",
     "output_type": "stream",
     "text": [
      "9063/9063 [==============================] - 14s 2ms/step\n"
     ]
    }
   ],
   "source": [
    "predictions = model.predict(test_ds)\n",
    "predictions = np.nan_to_num(predictions, nan=0)"
   ]
  },
  {
   "cell_type": "markdown",
   "metadata": {
    "colab_type": "text"
   },
   "source": [
    "Extract the labels from the test set:"
   ]
  },
  {
   "cell_type": "code",
   "execution_count": 33,
   "metadata": {
    "colab_type": "code"
   },
   "outputs": [],
   "source": [
    "labels = np.concatenate([label for _, label in test_ds])"
   ]
  },
  {
   "cell_type": "markdown",
   "metadata": {
    "colab_type": "text"
   },
   "source": [
    "Finaly, we plot the ROC curve."
   ]
  },
  {
   "cell_type": "code",
   "execution_count": 34,
   "metadata": {
    "colab_type": "code"
   },
   "outputs": [
    {
     "data": {
      "image/png": "[encoded data removed]",
      "text/plain": [
       "<Figure size 640x480 with 1 Axes>"
      ]
     },
     "metadata": {},
     "output_type": "display_data"
    }
   ],
   "source": [
    "_ = RocCurveDisplay.from_predictions(labels, predictions)\n"
   ]
  },
  {
   "cell_type": "markdown",
   "metadata": {
    "colab_type": "text"
   },
   "source": [
    "The Keras model is ready to be used on transactions with an unknown fraud\n",
    "status, a.k.a. serving. We save the model on disk for future use.\n",
    "\n",
    "**Note:** The model does not include the data preparation and preprocessing steps\n",
    "done in Pandas and Temporian. They have to be applied manually to the data fed\n",
    "into the model. While not demonstrated here, Temporian preprocessing can also be\n",
    "saved to disk with\n",
    "[tp.save](https://temporian.readthedocs.io/en/latest/reference/temporian/serialization/save/)."
   ]
  },
  {
   "cell_type": "code",
   "execution_count": 35,
   "metadata": {
    "colab_type": "code"
   },
   "outputs": [],
   "source": [
    "model.save(\"fraud_detection_model.keras\")"
   ]
  },
  {
   "cell_type": "markdown",
   "metadata": {
    "colab_type": "text"
   },
   "source": [
    "The model can be later reloaded with:"
   ]
  },
  {
   "cell_type": "code",
   "execution_count": 36,
   "metadata": {
    "colab_type": "code"
   },
   "outputs": [
    {
     "name": "stdout",
     "output_type": "stream",
     "text": [
      "1/1 [==============================] - 0s 57ms/step\n"
     ]
    },
    {
     "name": "stderr",
     "output_type": "stream",
     "text": [
      "2024-04-20 22:24:36.483189: I tensorflow/core/framework/local_rendezvous.cc:421] Local rendezvous recv item cancelled. Key hash: 7777057420835594459\n",
      "2024-04-20 22:24:36.483214: I tensorflow/core/framework/local_rendezvous.cc:421] Local rendezvous recv item cancelled. Key hash: 1284202762570605441\n",
      "2024-04-20 22:24:36.483219: I tensorflow/core/framework/local_rendezvous.cc:421] Local rendezvous recv item cancelled. Key hash: 6759609384822401638\n",
      "2024-04-20 22:24:36.483221: I tensorflow/core/framework/local_rendezvous.cc:421] Local rendezvous recv item cancelled. Key hash: 13939120057246256392\n",
      "2024-04-20 22:24:36.483233: I tensorflow/core/framework/local_rendezvous.cc:421] Local rendezvous recv item cancelled. Key hash: 1285744768765407062\n"
     ]
    },
    {
     "data": {
      "text/plain": [
       "array([[0.19543271],\n",
       "       [0.18989626],\n",
       "       [0.21834864],\n",
       "       [0.13116099],\n",
       "       [0.12151799]], dtype=float32)"
      ]
     },
     "execution_count": 36,
     "metadata": {},
     "output_type": "execute_result"
    }
   ],
   "source": [
    "loaded_model = keras.saving.load_model(\"fraud_detection_model.keras\")\n",
    "\n",
    "# Generate predictions with the loaded model on 5 test examples.\n",
    "loaded_model.predict(test_ds.rebatch(5).take(1))"
   ]
  },
  {
   "cell_type": "markdown",
   "metadata": {
    "colab_type": "text"
   },
   "source": [
    "## Conclusion\n",
    "\n",
    "We trained a feed-forward neural network to identify fraudulent transactions. To\n",
    "feed them into the model, the transactions were preprocessed and transformed\n",
    "into a tabular dataset using\n",
    "[Temporian](https://temporian.readthedocs.io/en/latest/). Now, a question to the\n",
    "reader: What could be done to further improve the model's performance?\n",
    "\n",
    "Here are some ideas:\n",
    "\n",
    "- Train the model on the entire dataset instead of a single month of data.\n",
    "- Train the model for more epochs and use early stopping to ensure that the\n",
    "    model is fully trained without overfitting.\n",
    "- Make the feed-forward network more powerful by increasing the number of layers\n",
    "    while ensuring that the model is regularized.\n",
    "- Compute additional preprocessing features. For example, in addition to\n",
    "    aggregating transactions by terminal, aggregate transactions by client.\n",
    "- Use the Keras Tuner to perform hyperparameter tuning on the model. Note that\n",
    "    the parameters of the preprocessing (e.g., the number of days of\n",
    "    aggregations) are also hyperparameters that can be tuned."
   ]
  }
 ],
 "metadata": {
  "accelerator": "GPU",
  "colab": {
   "collapsed_sections": [],
   "name": "event_classification_for_payment_card_fraud_detection",
   "private_outputs": false,
   "provenance": [],
   "toc_visible": true
  },
  "kernelspec": {
   "display_name": "Python 3",
   "language": "python",
   "name": "python3"
  },
  "language_info": {
   "codemirror_mode": {
    "name": "ipython",
    "version": 3
   },
   "file_extension": ".py",
   "mimetype": "text/x-python",
   "name": "python",
   "nbconvert_exporter": "python",
   "pygments_lexer": "ipython3",
   "version": "3.11.8"
  }
 },
 "nbformat": 4,
 "nbformat_minor": 0
}
