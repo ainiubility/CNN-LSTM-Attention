{
 "cells": [
  {
   "cell_type": "code",
   "execution_count": 75,
   "metadata": {},
   "outputs": [],
   "source": [
    "import tensorflow as tf\n",
    "import tensorflow as tf\n",
    "import numpy as np\n",
    "\n",
    "from turtle import up\n",
    "import pandas as pd\n",
    "import scipy\n",
    "from scipy.stats import iqr\n",
    "\n",
    "\n",
    "def fun1(df, ws=4):\n",
    "\n",
    "    def windowed_dataset(dataset: tf.data.Dataset, window_size=5, shift=1, stride=1, drop_remainder=False):\n",
    "        windows = dataset.window(window_size, shift=shift, stride=stride, drop_remainder=True)\n",
    "\n",
    "        def sub_to_batch(t1, t2=None):\n",
    "            t1_batches = t1.batch(window_size, drop_remainder=drop_remainder)\n",
    "\n",
    "            if t2 is not None:\n",
    "                t2_batches = t2.batch(window_size, drop_remainder=drop_remainder)\n",
    "                return tf.data.Dataset.zip(t1_batches, t2_batches)\n",
    "            else:\n",
    "                return t1_batches\n",
    "\n",
    "        windows = windows.flat_map(sub_to_batch)\n",
    "        return windows  #.batch(window_size, drop_remainder=drop_remainder)\n",
    "\n",
    "    dataset = windowed_dataset(tf.data.Dataset.from_tensor_slices(df.values), ws).batch(batch_size=ws)\n",
    "\n",
    "    return dataset\n",
    "\n",
    "\n",
    "def fun2(df, ws=4):\n",
    "\n",
    "    def windowed_dataset(dataset: tf.data.Dataset, window_size=5, shift=1, stride=1, drop_remainder=False):\n",
    "        windows = dataset.window(window_size, shift=shift, stride=stride, drop_remainder=True)\n",
    "\n",
    "        def sub_to_batch(t1, t2=None):\n",
    "            t1_batches = t1.batch(window_size, drop_remainder=drop_remainder)\n",
    "\n",
    "            if t2 is not None:\n",
    "                t2_batches = t2.batch(window_size, drop_remainder=drop_remainder)\n",
    "                return tf.data.Dataset.zip(t1_batches, t2_batches)\n",
    "            else:\n",
    "                return t1_batches\n",
    "\n",
    "        windows = windows.flat_map(sub_to_batch)\n",
    "        return windows.batch(window_size)\n",
    "\n",
    "    dataset = windowed_dataset(tf.data.Dataset.from_tensor_slices(df.values), ws)  #.batch(batch_size=window_size)\n",
    "\n",
    "    return dataset"
   ]
  },
  {
   "cell_type": "code",
   "execution_count": 76,
   "metadata": {},
   "outputs": [],
   "source": [
    "def covert_to_numpy(ds):\n",
    "    # 将 dataset 转换为 NumPy 数组\n",
    "    numpy_array = None\n",
    "    for data in ds.as_numpy_iterator():\n",
    "        if numpy_array is None:\n",
    "            numpy_array = np.array(data)\n",
    "        else:\n",
    "            numpy_array = np.vstack((numpy_array, data))\n",
    "\n",
    "    print(numpy_array.shape)\n",
    "    print(numpy_array)\n",
    "    return numpy_array"
   ]
  },
  {
   "cell_type": "code",
   "execution_count": 77,
   "metadata": {},
   "outputs": [],
   "source": [
    "rows = 10\n",
    "cols = 3\n",
    "\n",
    "data_np = np.array([[i + 1 for c in range(cols)] for i in range(rows)])\n",
    "\n",
    "df = pd.DataFrame(data_np, columns=['a', 'b', 'c'])\n",
    "# print(df.shape)\n",
    "# print(df)\n",
    "# 假设我们有一个tf.data.Dataset对象\n",
    "# 例如，一个包含随机数的 dataset\n",
    "\n",
    "# print(numpy_array)\n"
   ]
  },
  {
   "cell_type": "code",
   "execution_count": 78,
   "metadata": {},
   "outputs": [
    {
     "name": "stdout",
     "output_type": "stream",
     "text": [
      "(4, 7, 3)\n",
      "[[[ 1  1  1]\n",
      "  [ 2  2  2]\n",
      "  [ 3  3  3]\n",
      "  [ 4  4  4]\n",
      "  [ 5  5  5]\n",
      "  [ 6  6  6]\n",
      "  [ 7  7  7]]\n",
      "\n",
      " [[ 2  2  2]\n",
      "  [ 3  3  3]\n",
      "  [ 4  4  4]\n",
      "  [ 5  5  5]\n",
      "  [ 6  6  6]\n",
      "  [ 7  7  7]\n",
      "  [ 8  8  8]]\n",
      "\n",
      " [[ 3  3  3]\n",
      "  [ 4  4  4]\n",
      "  [ 5  5  5]\n",
      "  [ 6  6  6]\n",
      "  [ 7  7  7]\n",
      "  [ 8  8  8]\n",
      "  [ 9  9  9]]\n",
      "\n",
      " [[ 4  4  4]\n",
      "  [ 5  5  5]\n",
      "  [ 6  6  6]\n",
      "  [ 7  7  7]\n",
      "  [ 8  8  8]\n",
      "  [ 9  9  9]\n",
      "  [10 10 10]]]\n"
     ]
    }
   ],
   "source": [
    "from lib2to3.pytree import convert\n",
    "\n",
    "win_size = 7\n",
    "ds1 = fun1(df, win_size)\n",
    "_ = covert_to_numpy(ds1)\n"
   ]
  },
  {
   "cell_type": "code",
   "execution_count": 79,
   "metadata": {},
   "outputs": [
    {
     "name": "stdout",
     "output_type": "stream",
     "text": [
      "(4, 7, 3)\n",
      "[[[ 1  1  1]\n",
      "  [ 2  2  2]\n",
      "  [ 3  3  3]\n",
      "  [ 4  4  4]\n",
      "  [ 5  5  5]\n",
      "  [ 6  6  6]\n",
      "  [ 7  7  7]]\n",
      "\n",
      " [[ 2  2  2]\n",
      "  [ 3  3  3]\n",
      "  [ 4  4  4]\n",
      "  [ 5  5  5]\n",
      "  [ 6  6  6]\n",
      "  [ 7  7  7]\n",
      "  [ 8  8  8]]\n",
      "\n",
      " [[ 3  3  3]\n",
      "  [ 4  4  4]\n",
      "  [ 5  5  5]\n",
      "  [ 6  6  6]\n",
      "  [ 7  7  7]\n",
      "  [ 8  8  8]\n",
      "  [ 9  9  9]]\n",
      "\n",
      " [[ 4  4  4]\n",
      "  [ 5  5  5]\n",
      "  [ 6  6  6]\n",
      "  [ 7  7  7]\n",
      "  [ 8  8  8]\n",
      "  [ 9  9  9]\n",
      "  [10 10 10]]]\n"
     ]
    }
   ],
   "source": [
    "ds2 = fun2(df, win_size)\n",
    "_ = covert_to_numpy(ds2)\n"
   ]
  },
  {
   "cell_type": "markdown",
   "metadata": {},
   "source": []
  },
  {
   "cell_type": "markdown",
   "metadata": {},
   "source": []
  },
  {
   "cell_type": "markdown",
   "metadata": {},
   "source": []
  },
  {
   "cell_type": "markdown",
   "metadata": {},
   "source": []
  }
 ],
 "metadata": {
  "kernelspec": {
   "display_name": "py311tf216",
   "language": "python",
   "name": "python3"
  },
  "language_info": {
   "codemirror_mode": {
    "name": "ipython",
    "version": 3
   },
   "file_extension": ".py",
   "mimetype": "text/x-python",
   "name": "python",
   "nbconvert_exporter": "python",
   "pygments_lexer": "ipython3",
   "version": "3.11.8"
  }
 },
 "nbformat": 4,
 "nbformat_minor": 2
}
