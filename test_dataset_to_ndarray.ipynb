{
 "cells": [
  {
   "cell_type": "code",
   "execution_count": 70,
   "metadata": {
    "slideshow": {
     "slide_type": "slide"
    }
   },
   "outputs": [],
   "source": [
    "import tensorflow as tf\n",
    "import tensorflow as tf\n",
    "import numpy as np\n",
    "\n",
    "from turtle import up\n",
    "import pandas as pd\n",
    "import scipy\n",
    "from scipy.stats import iqr\n",
    "\n",
    "\n",
    "def windowed_dataset(dataset: tf.data.Dataset, window_size=5, shift=1, stride=1):\n",
    "    if window_size == None or window_size <= 0:\n",
    "        return dataset\n",
    "\n",
    "    def sub_to_batch(t1, t2=None):\n",
    "        t1_batches = t1.batch(window_size, drop_remainder=True)\n",
    "\n",
    "        if t2 is not None:\n",
    "            t2_batches = t2.batch(window_size, drop_remainder=True)\n",
    "            return tf.data.Dataset.zip(t1_batches, t2_batches)\n",
    "        else:\n",
    "            return t1_batches\n",
    "\n",
    "    return dataset.window(window_size, shift=shift, stride=stride, drop_remainder=True).flat_map(sub_to_batch).batch(window_size, drop_remainder=True)\n",
    "    return windows  #.batch(window_size, drop_remainder=drop_remainder)\n",
    "\n",
    "\n",
    "def window_batch_dataset(df: pd.DataFrame, window_size=4, batch_size=None):\n",
    "\n",
    "    if not batch_size == None and batch_size > 0:\n",
    "        dataset = windowed_dataset(tf.data.Dataset.from_tensor_slices(df.values), window_size).batch(batch_size=batch_size, drop_remainder=True)\n",
    "    else:\n",
    "        dataset = windowed_dataset(tf.data.Dataset.from_tensor_slices(df.values), window_size)\n",
    "    return dataset\n",
    "\n",
    "\n",
    "def convert_to_numpy(ds: tf.data.Dataset):\n",
    "    # 将 dataset 转换为 NumPy 数组\n",
    "    numpy_array = None\n",
    "    for data in ds.as_numpy_iterator():\n",
    "        # 确保数据是 NumPy 数组\n",
    "        data_np = np.array(data)\n",
    "\n",
    "        # 如果 numpy_array 还没有初始化，初始化它\n",
    "        if numpy_array is None:\n",
    "            numpy_array = data_np\n",
    "        else:\n",
    "            # # 确保数据的形状与 numpy_array 相同\n",
    "            # if data_np.shape[1:] != numpy_array.shape[1:]:\n",
    "            #     raise ValueError(\"All data items must have the same shape except for the first dimension.\")\n",
    "\n",
    "            # 垂直堆叠数据\n",
    "            numpy_array = np.vstack((numpy_array, data_np))\n",
    "\n",
    "    return numpy_array\n",
    "\n",
    "\n",
    "def get_shape(*args):\n",
    "    shapes = []\n",
    "    for arg in args:\n",
    "        shapes.append(arg.shape if arg is not None else None)\n",
    "    return shapes"
   ]
  },
  {
   "cell_type": "code",
   "execution_count": null,
   "metadata": {},
   "outputs": [],
   "source": []
  },
  {
   "cell_type": "code",
   "execution_count": 71,
   "metadata": {},
   "outputs": [
    {
     "name": "stdout",
     "output_type": "stream",
     "text": [
      "      a    b\n",
      "0     1    1\n",
      "1     2    2\n",
      "2     3    3\n",
      "3     4    4\n",
      "4     5    5\n",
      "..  ...  ...\n",
      "95   96   96\n",
      "96   97   97\n",
      "97   98   98\n",
      "98   99   99\n",
      "99  100  100\n",
      "\n",
      "[100 rows x 2 columns]\n"
     ]
    }
   ],
   "source": [
    "rows = 100\n",
    "columns = ['a', 'b']  #['a', 'b', 'c']\n",
    "cols = len(columns)\n",
    "data_x = np.array([[i for c in np.arange(1, cols + 1)] for i in np.arange(1, rows + 1)])\n",
    "\n",
    "xdf = pd.DataFrame(data_x, columns=columns)\n",
    "\n",
    "data_y = np.array([np.random.randint(0, high=2, size=None, dtype=int) for i in np.arange(1, rows + 1)])\n",
    "\n",
    "ydf = pd.DataFrame(data_y, columns=['label'])\n",
    "print(xdf)\n"
   ]
  },
  {
   "cell_type": "code",
   "execution_count": 72,
   "metadata": {},
   "outputs": [
    {
     "name": "stdout",
     "output_type": "stream",
     "text": [
      "[(24, 4, 4, 2)]\n",
      "---------------------\n"
     ]
    },
    {
     "ename": "AttributeError",
     "evalue": "'list' object has no attribute 'shape'",
     "output_type": "error",
     "traceback": [
      "\u001b[1;31m---------------------------------------------------------------------------\u001b[0m",
      "\u001b[1;31mAttributeError\u001b[0m                            Traceback (most recent call last)",
      "Cell \u001b[1;32mIn[72], line 18\u001b[0m\n\u001b[0;32m     16\u001b[0m numpy \u001b[38;5;241m=\u001b[39m dsy\u001b[38;5;241m.\u001b[39mvalues\n\u001b[0;32m     17\u001b[0m batches \u001b[38;5;241m=\u001b[39m [numpy[i:i\u001b[38;5;241m+\u001b[39mbatch_size] \u001b[38;5;28;01mfor\u001b[39;00m i \u001b[38;5;129;01min\u001b[39;00m \u001b[38;5;28mrange\u001b[39m(\u001b[38;5;241m0\u001b[39m, count, batch_size)]\n\u001b[1;32m---> 18\u001b[0m \u001b[38;5;28mprint\u001b[39m(\u001b[43mget_shape\u001b[49m\u001b[43m(\u001b[49m\u001b[43mbatches\u001b[49m\u001b[43m)\u001b[49m)\n\u001b[0;32m     19\u001b[0m \u001b[38;5;66;03m# print(numpy)\u001b[39;00m\n",
      "Cell \u001b[1;32mIn[70], line 61\u001b[0m, in \u001b[0;36mget_shape\u001b[1;34m(*args)\u001b[0m\n\u001b[0;32m     59\u001b[0m shapes \u001b[38;5;241m=\u001b[39m []\n\u001b[0;32m     60\u001b[0m \u001b[38;5;28;01mfor\u001b[39;00m arg \u001b[38;5;129;01min\u001b[39;00m args:\n\u001b[1;32m---> 61\u001b[0m     shapes\u001b[38;5;241m.\u001b[39mappend(\u001b[43marg\u001b[49m\u001b[38;5;241;43m.\u001b[39;49m\u001b[43mshape\u001b[49m \u001b[38;5;28;01mif\u001b[39;00m arg \u001b[38;5;129;01mis\u001b[39;00m \u001b[38;5;129;01mnot\u001b[39;00m \u001b[38;5;28;01mNone\u001b[39;00m \u001b[38;5;28;01melse\u001b[39;00m \u001b[38;5;28;01mNone\u001b[39;00m)\n\u001b[0;32m     62\u001b[0m \u001b[38;5;28;01mreturn\u001b[39;00m shapes\n",
      "\u001b[1;31mAttributeError\u001b[0m: 'list' object has no attribute 'shape'"
     ]
    }
   ],
   "source": [
    "win_size = 4\n",
    "batch_size = 2\n",
    "dsx = window_batch_dataset(xdf, win_size, batch_size)\n",
    "\n",
    "nump = convert_to_numpy(dsx)\n",
    "print(get_shape(nump))\n",
    "# print(nump)\n",
    "\n",
    "count = (len(ydf) - win_size + 1) // win_size * win_size\n",
    "\n",
    "dsy = ydf.iloc[\n",
    "    0:count,\n",
    "]\n",
    "\n",
    "print('---------------------')\n",
    "numpy = dsy.values\n",
    "\n",
    "# batches = [numpy[i:i + batch_size] for i in range(0, count, batch_size)]\n",
    "print(get_shape(batches))\n",
    "# print(numpy)"
   ]
  }
 ],
 "metadata": {
  "kernelspec": {
   "display_name": "py311tf216",
   "language": "python",
   "name": "python3"
  },
  "language_info": {
   "codemirror_mode": {
    "name": "ipython",
    "version": 3
   },
   "file_extension": ".py",
   "mimetype": "text/x-python",
   "name": "python",
   "nbconvert_exporter": "python",
   "pygments_lexer": "ipython3",
   "version": "3.11.8"
  }
 },
 "nbformat": 4,
 "nbformat_minor": 2
}
